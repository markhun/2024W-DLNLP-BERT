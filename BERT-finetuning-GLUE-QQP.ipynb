{
 "cells": [
  {
   "cell_type": "markdown",
   "metadata": {},
   "source": [
    "# Fine-Tuning BERT on GLUE - QQP"
   ]
  },
  {
   "cell_type": "markdown",
   "metadata": {},
   "source": [
    "From [GLUE: A Multi-Task Benchmark and Analysis Platform for Natural Language Understanding - Wang et al.](https://arxiv.org/pdf/1804.07461):\n",
    "\n",
    "The Quora Question Pairs dataset is a collection of question pairs from the community\n",
    "question-answering website Quora. The task is to determine whether a pair of questions are semantically equivalent. As in MRPC, the class distribution in QQP is unbalanced (63% negative), so we\n",
    "report both accuracy and F1 score. We use the standard test set, for which we obtained private labels\n",
    "from the authors. We observe that the test set has a different label distribution than the training set."
   ]
  },
  {
   "cell_type": "markdown",
   "metadata": {},
   "source": [
    "## Configuration"
   ]
  },
  {
   "cell_type": "code",
   "execution_count": 1,
   "metadata": {},
   "outputs": [],
   "source": [
    "import os\n",
    "\n",
    "# Where to store the huggingface data. On the provided Jupyterlab instance that should be within the shared group folder.\n",
    "os.environ['HF_HOME'] = '../groups/192.039-2024W/bert/huggingface/cache'"
   ]
  },
  {
   "cell_type": "code",
   "execution_count": 2,
   "metadata": {},
   "outputs": [],
   "source": [
    "from pathlib import Path\n",
    "\n",
    "from transformers import set_seed\n",
    "\n",
    "# RANDOMNESS SEED\n",
    "SEED = 42\n",
    "set_seed(SEED)\n",
    "\n",
    "# Which dataset to load\n",
    "DATASET_NAME = \"glue\"\n",
    "DATASET_TASK = \"qqp\"\n",
    "\n",
    "PRE_TRAINED_CHECKPOINT = \"google-bert/bert-base-uncased\"\n",
    "\n",
    "TRAIN_OUTPUT_DIR = (\n",
    "    Path(\"../groups/192.039-2024W/bert\") / \"training\" / f\"{DATASET_NAME}-{DATASET_TASK}\"\n",
    ")\n",
    "\n",
    "BATCH_SIZE = 32  # Original Paper claims to use 32 for GLUE tasks\n",
    "NUM_EPOCHS = 5  # Original Paper claims to use 3 fine-tuning epochs for GLUE tasks"
   ]
  },
  {
   "cell_type": "code",
   "execution_count": 3,
   "metadata": {},
   "outputs": [
    {
     "name": "stdout",
     "output_type": "stream",
     "text": [
      "There are 1 GPU(s) available.\n",
      "GPU used: NVIDIA GeForce RTX 4060 Ti\n",
      "\n",
      "==============NVSMI LOG==============\n",
      "\n",
      "Timestamp                                 : Sun Jan  5 16:12:32 2025\n",
      "Driver Version                            : 550.135\n",
      "CUDA Version                              : 12.4\n",
      "\n",
      "Attached GPUs                             : 1\n",
      "GPU 00000000:07:00.0\n",
      "    FB Memory Usage\n",
      "        Total                             : 16380 MiB\n",
      "        Reserved                          : 307 MiB\n",
      "        Used                              : 1633 MiB\n",
      "        Free                              : 14442 MiB\n",
      "    BAR1 Memory Usage\n",
      "        Total                             : 256 MiB\n",
      "        Used                              : 22 MiB\n",
      "        Free                              : 234 MiB\n",
      "    Conf Compute Protected Memory Usage\n",
      "        Total                             : 0 MiB\n",
      "        Used                              : 0 MiB\n",
      "        Free                              : 0 MiB\n",
      "    Compute Mode                          : Default\n",
      "\n"
     ]
    }
   ],
   "source": [
    "import torch\n",
    "\n",
    "if torch.cuda.is_available():\n",
    "  device = torch.device(\"cuda\")\n",
    "  device_count = torch.cuda.device_count()\n",
    "  device_name = torch.cuda.get_device_name(0)\n",
    "\n",
    "  print(f\"There are {device_count} GPU(s) available.\")\n",
    "  print(f\"GPU used: {device_name}\")\n",
    "  ! nvidia-smi -q --display=MEMORY,COMPUTE\n",
    "\n",
    "else:\n",
    "  print(\"No GPU available, using CPU.\")\n",
    "  device = torch.device(\"cpu\")"
   ]
  },
  {
   "cell_type": "markdown",
   "metadata": {},
   "source": [
    "## Dataset"
   ]
  },
  {
   "cell_type": "code",
   "execution_count": 4,
   "metadata": {},
   "outputs": [],
   "source": [
    "# In the GLUE dataset different tasks have different accessor keys\n",
    "_task_to_keys = {\n",
    "    \"cola\": (\"sentence\", None),\n",
    "    \"mnli\": (\"premise\", \"hypothesis\"),\n",
    "    \"mnli-mm\": (\"premise\", \"hypothesis\"),\n",
    "    \"mrpc\": (\"sentence1\", \"sentence2\"),\n",
    "    \"qnli\": (\"question\", \"sentence\"),\n",
    "    \"qqp\": (\"question1\", \"question2\"),\n",
    "    \"rte\": (\"sentence1\", \"sentence2\"),\n",
    "    \"sst2\": (\"sentence\", None),\n",
    "    \"stsb\": (\"sentence1\", \"sentence2\"),\n",
    "}"
   ]
  },
  {
   "cell_type": "code",
   "execution_count": 5,
   "metadata": {},
   "outputs": [
    {
     "data": {
      "text/plain": [
       "DatasetDict({\n",
       "    train: Dataset({\n",
       "        features: ['question1', 'question2', 'label', 'idx'],\n",
       "        num_rows: 363846\n",
       "    })\n",
       "    validation: Dataset({\n",
       "        features: ['question1', 'question2', 'label', 'idx'],\n",
       "        num_rows: 40430\n",
       "    })\n",
       "    test: Dataset({\n",
       "        features: ['question1', 'question2', 'label', 'idx'],\n",
       "        num_rows: 390965\n",
       "    })\n",
       "})"
      ]
     },
     "execution_count": 5,
     "metadata": {},
     "output_type": "execute_result"
    }
   ],
   "source": [
    "from datasets import load_dataset\n",
    "import pandas as pd\n",
    "\n",
    "dataset = load_dataset(DATASET_NAME, DATASET_TASK)\n",
    "dataset"
   ]
  },
  {
   "cell_type": "code",
   "execution_count": 6,
   "metadata": {},
   "outputs": [
    {
     "data": {
      "text/html": [
       "<div>\n",
       "<style scoped>\n",
       "    .dataframe tbody tr th:only-of-type {\n",
       "        vertical-align: middle;\n",
       "    }\n",
       "\n",
       "    .dataframe tbody tr th {\n",
       "        vertical-align: top;\n",
       "    }\n",
       "\n",
       "    .dataframe thead th {\n",
       "        text-align: right;\n",
       "    }\n",
       "</style>\n",
       "<table border=\"1\" class=\"dataframe\">\n",
       "  <thead>\n",
       "    <tr style=\"text-align: right;\">\n",
       "      <th></th>\n",
       "      <th>question1</th>\n",
       "      <th>question2</th>\n",
       "      <th>label</th>\n",
       "      <th>idx</th>\n",
       "    </tr>\n",
       "  </thead>\n",
       "  <tbody>\n",
       "    <tr>\n",
       "      <th>215130</th>\n",
       "      <td>Why do some people think that having a baby is...</td>\n",
       "      <td>Why is having a baby a blessing?</td>\n",
       "      <td>1</td>\n",
       "      <td>215130</td>\n",
       "    </tr>\n",
       "    <tr>\n",
       "      <th>234600</th>\n",
       "      <td>How vulnerable are paratroopers on their desce...</td>\n",
       "      <td>Are conventional paratroopers obsolete?</td>\n",
       "      <td>0</td>\n",
       "      <td>234600</td>\n",
       "    </tr>\n",
       "    <tr>\n",
       "      <th>118406</th>\n",
       "      <td>Examples of sole proprietorship? The</td>\n",
       "      <td>How are sole proprietorships started?</td>\n",
       "      <td>0</td>\n",
       "      <td>118406</td>\n",
       "    </tr>\n",
       "    <tr>\n",
       "      <th>284746</th>\n",
       "      <td>Why don't I get answers for some of my questio...</td>\n",
       "      <td>Why do some questions get more answers here in...</td>\n",
       "      <td>1</td>\n",
       "      <td>284746</td>\n",
       "    </tr>\n",
       "    <tr>\n",
       "      <th>300683</th>\n",
       "      <td>Do Kashmiris wants to join Pakistan?</td>\n",
       "      <td>Do the people of Kashmir want to join Pakistan...</td>\n",
       "      <td>0</td>\n",
       "      <td>300683</td>\n",
       "    </tr>\n",
       "    <tr>\n",
       "      <th>311541</th>\n",
       "      <td>I am bald on the right side above my ear becau...</td>\n",
       "      <td>I'm losing my hair from the front and sides an...</td>\n",
       "      <td>0</td>\n",
       "      <td>311541</td>\n",
       "    </tr>\n",
       "    <tr>\n",
       "      <th>335211</th>\n",
       "      <td>Which is the best and free small business acco...</td>\n",
       "      <td>Which is the best free accounting software for...</td>\n",
       "      <td>1</td>\n",
       "      <td>335211</td>\n",
       "    </tr>\n",
       "    <tr>\n",
       "      <th>124167</th>\n",
       "      <td>How do I calculate e^-0.4 without a calculator...</td>\n",
       "      <td>How do you find 75 percent of a number without...</td>\n",
       "      <td>0</td>\n",
       "      <td>124167</td>\n",
       "    </tr>\n",
       "    <tr>\n",
       "      <th>83077</th>\n",
       "      <td>Why do colors look more red in one eye and mor...</td>\n",
       "      <td>Why would one eye see different colors than th...</td>\n",
       "      <td>1</td>\n",
       "      <td>83077</td>\n",
       "    </tr>\n",
       "    <tr>\n",
       "      <th>79161</th>\n",
       "      <td>What are sound waves?</td>\n",
       "      <td>What are transverse and longitudinal sound waves?</td>\n",
       "      <td>0</td>\n",
       "      <td>79161</td>\n",
       "    </tr>\n",
       "  </tbody>\n",
       "</table>\n",
       "</div>"
      ],
      "text/plain": [
       "                                                question1  \\\n",
       "215130  Why do some people think that having a baby is...   \n",
       "234600  How vulnerable are paratroopers on their desce...   \n",
       "118406               Examples of sole proprietorship? The   \n",
       "284746  Why don't I get answers for some of my questio...   \n",
       "300683               Do Kashmiris wants to join Pakistan?   \n",
       "311541  I am bald on the right side above my ear becau...   \n",
       "335211  Which is the best and free small business acco...   \n",
       "124167  How do I calculate e^-0.4 without a calculator...   \n",
       "83077   Why do colors look more red in one eye and mor...   \n",
       "79161                               What are sound waves?   \n",
       "\n",
       "                                                question2  label     idx  \n",
       "215130                   Why is having a baby a blessing?      1  215130  \n",
       "234600            Are conventional paratroopers obsolete?      0  234600  \n",
       "118406              How are sole proprietorships started?      0  118406  \n",
       "284746  Why do some questions get more answers here in...      1  284746  \n",
       "300683  Do the people of Kashmir want to join Pakistan...      0  300683  \n",
       "311541  I'm losing my hair from the front and sides an...      0  311541  \n",
       "335211  Which is the best free accounting software for...      1  335211  \n",
       "124167  How do you find 75 percent of a number without...      0  124167  \n",
       "83077   Why would one eye see different colors than th...      1   83077  \n",
       "79161   What are transverse and longitudinal sound waves?      0   79161  "
      ]
     },
     "execution_count": 6,
     "metadata": {},
     "output_type": "execute_result"
    }
   ],
   "source": [
    "pd.DataFrame(dataset[\"train\"]).sample(10)"
   ]
  },
  {
   "cell_type": "code",
   "execution_count": 7,
   "metadata": {},
   "outputs": [
    {
     "name": "stdout",
     "output_type": "stream",
     "text": [
      "unique_lables_in_dataset=array([0, 1])\n",
      "num_labels=2\n"
     ]
    }
   ],
   "source": [
    "unique_lables_in_dataset = pd.DataFrame(dataset[\"train\"])[\"label\"].unique()\n",
    "num_labels = len(unique_lables_in_dataset)\n",
    "\n",
    "print(f\"{unique_lables_in_dataset=}\")\n",
    "print(f\"{num_labels=}\")"
   ]
  },
  {
   "cell_type": "markdown",
   "metadata": {},
   "source": [
    "## Tokenization"
   ]
  },
  {
   "cell_type": "code",
   "execution_count": 8,
   "metadata": {},
   "outputs": [],
   "source": [
    "from transformers import AutoTokenizer\n",
    "\n",
    "tokenizer = AutoTokenizer.from_pretrained(PRE_TRAINED_CHECKPOINT, do_lower_case=\"uncased\" in PRE_TRAINED_CHECKPOINT)"
   ]
  },
  {
   "cell_type": "markdown",
   "metadata": {},
   "source": [
    "BERT has a maximum sequence length of 512. We can check the sequence lengths resulting from tokenizing our dataset to see if our dataset exceeds this restriction of BERT:"
   ]
  },
  {
   "cell_type": "code",
   "execution_count": 9,
   "metadata": {},
   "outputs": [
    {
     "name": "stdout",
     "output_type": "stream",
     "text": [
      "Max length in split='train': 330\n",
      "Max length in split='validation': 199\n",
      "Max length in split='test': 319\n"
     ]
    }
   ],
   "source": [
    "first_sentence_key, second_sentence_key = _task_to_keys[DATASET_TASK]\n",
    "\n",
    "if second_sentence_key == None:  # Simply tokenize sentence\n",
    "\n",
    "    for split in dataset.keys():\n",
    "        max_len = 0\n",
    "        for sentence in dataset[split][first_sentence_key]:\n",
    "            # Tokenize the text and add `[CLS]` and `[SEP]` tokens.\n",
    "            input_ids = tokenizer.encode(sentence, add_special_tokens=True)\n",
    "            \n",
    "            max_len = max(max_len, len(input_ids))\n",
    "        \n",
    "\n",
    "        print(f\"Max length in {split=}: {max_len}\")\n",
    "\n",
    "else:  # Append both sentences via [SEP] and tokenize\n",
    "\n",
    "    for split in dataset.keys():\n",
    "        max_len = 0\n",
    "        for sentence1, sentence2 in zip(dataset[split][first_sentence_key], dataset[split][second_sentence_key]):\n",
    "            # Tokenize the text and add `[CLS]` and `[SEP]` tokens.\n",
    "            input_ids = tokenizer.encode(sentence1, sentence2,  add_special_tokens=True)\n",
    "            \n",
    "            max_len = max(max_len, len(input_ids))\n",
    "        \n",
    "\n",
    "        print(f\"Max length in {split=}: {max_len}\")\n"
   ]
  },
  {
   "cell_type": "code",
   "execution_count": 10,
   "metadata": {},
   "outputs": [
    {
     "data": {
      "application/vnd.jupyter.widget-view+json": {
       "model_id": "f05689b825874ab280cc10b2a545393e",
       "version_major": 2,
       "version_minor": 0
      },
      "text/plain": [
       "Map:   0%|          | 0/40430 [00:00<?, ? examples/s]"
      ]
     },
     "metadata": {},
     "output_type": "display_data"
    }
   ],
   "source": [
    "def tokenize_func(item):\n",
    "    \"\"\"Tokenize passed item. \n",
    "    \n",
    "    Depending on dataset task the passed item will either contain one sentence or two sentences.\n",
    "    In the last case the two sentences will be appended via a [SEP] token.\n",
    "    \"\"\"\n",
    "    if second_sentence_key is None:\n",
    "        return tokenizer(item[first_sentence_key], add_special_tokens=True, truncation=True)\n",
    "    else:\n",
    "        return tokenizer(item[first_sentence_key], item[second_sentence_key], add_special_tokens=True, truncation=True)\n",
    "\n",
    "tokenized_dataset = dataset.map(tokenize_func, batched=True)"
   ]
  },
  {
   "cell_type": "markdown",
   "metadata": {},
   "source": [
    "Here is an example of a tokenized dataset item:"
   ]
  },
  {
   "cell_type": "code",
   "execution_count": 11,
   "metadata": {},
   "outputs": [
    {
     "data": {
      "text/plain": [
       "{'question1': ['How is the life of a math student? Could you describe your own experiences?'],\n",
       " 'question2': ['Which level of prepration is enough for the exam jlpt5?'],\n",
       " 'label': [0],\n",
       " 'idx': [0]}"
      ]
     },
     "execution_count": 11,
     "metadata": {},
     "output_type": "execute_result"
    }
   ],
   "source": [
    "dataset[\"train\"][:1]"
   ]
  },
  {
   "cell_type": "code",
   "execution_count": 12,
   "metadata": {},
   "outputs": [
    {
     "data": {
      "text/plain": [
       "{'question1': ['How is the life of a math student? Could you describe your own experiences?'],\n",
       " 'question2': ['Which level of prepration is enough for the exam jlpt5?'],\n",
       " 'label': [0],\n",
       " 'idx': [0],\n",
       " 'input_ids': [[101,\n",
       "   2129,\n",
       "   2003,\n",
       "   1996,\n",
       "   2166,\n",
       "   1997,\n",
       "   1037,\n",
       "   8785,\n",
       "   3076,\n",
       "   1029,\n",
       "   2071,\n",
       "   2017,\n",
       "   6235,\n",
       "   2115,\n",
       "   2219,\n",
       "   6322,\n",
       "   1029,\n",
       "   102,\n",
       "   2029,\n",
       "   2504,\n",
       "   1997,\n",
       "   17463,\n",
       "   8156,\n",
       "   2003,\n",
       "   2438,\n",
       "   2005,\n",
       "   1996,\n",
       "   11360,\n",
       "   1046,\n",
       "   14277,\n",
       "   2102,\n",
       "   2629,\n",
       "   1029,\n",
       "   102]],\n",
       " 'token_type_ids': [[0,\n",
       "   0,\n",
       "   0,\n",
       "   0,\n",
       "   0,\n",
       "   0,\n",
       "   0,\n",
       "   0,\n",
       "   0,\n",
       "   0,\n",
       "   0,\n",
       "   0,\n",
       "   0,\n",
       "   0,\n",
       "   0,\n",
       "   0,\n",
       "   0,\n",
       "   0,\n",
       "   1,\n",
       "   1,\n",
       "   1,\n",
       "   1,\n",
       "   1,\n",
       "   1,\n",
       "   1,\n",
       "   1,\n",
       "   1,\n",
       "   1,\n",
       "   1,\n",
       "   1,\n",
       "   1,\n",
       "   1,\n",
       "   1,\n",
       "   1]],\n",
       " 'attention_mask': [[1,\n",
       "   1,\n",
       "   1,\n",
       "   1,\n",
       "   1,\n",
       "   1,\n",
       "   1,\n",
       "   1,\n",
       "   1,\n",
       "   1,\n",
       "   1,\n",
       "   1,\n",
       "   1,\n",
       "   1,\n",
       "   1,\n",
       "   1,\n",
       "   1,\n",
       "   1,\n",
       "   1,\n",
       "   1,\n",
       "   1,\n",
       "   1,\n",
       "   1,\n",
       "   1,\n",
       "   1,\n",
       "   1,\n",
       "   1,\n",
       "   1,\n",
       "   1,\n",
       "   1,\n",
       "   1,\n",
       "   1,\n",
       "   1,\n",
       "   1]]}"
      ]
     },
     "execution_count": 12,
     "metadata": {},
     "output_type": "execute_result"
    }
   ],
   "source": [
    "tokenized_dataset[\"train\"][:1]"
   ]
  },
  {
   "cell_type": "markdown",
   "metadata": {},
   "source": [
    "Tokenization added the `input_ids` field, which contains the tokenized sentence with a `[CLS]`(101) and two `[SEP]`(102) tokens added. A `token_type_ids` field which indicates first and second portion of the inputs, if necessary. And an `attention_mask` for the given input."
   ]
  },
  {
   "cell_type": "markdown",
   "metadata": {},
   "source": [
    "### Dealing with Padding"
   ]
  },
  {
   "cell_type": "markdown",
   "metadata": {},
   "source": [
    "Huggingface's `transformers` library provides a `DataCollatorWithPadding` class, which allows us to use dynamic padding.  \n",
    "Dynamic padding will add `[PAD]` tokens to the length of the longest sequence within a batch, instead of padding to the maximum sequence length within the entire dataset.  \n",
    "This will avoid unnecessary padding and therefore improve execution efficiency."
   ]
  },
  {
   "cell_type": "code",
   "execution_count": 13,
   "metadata": {},
   "outputs": [
    {
     "data": {
      "text/html": [
       "<div>\n",
       "<style scoped>\n",
       "    .dataframe tbody tr th:only-of-type {\n",
       "        vertical-align: middle;\n",
       "    }\n",
       "\n",
       "    .dataframe tbody tr th {\n",
       "        vertical-align: top;\n",
       "    }\n",
       "\n",
       "    .dataframe thead th {\n",
       "        text-align: right;\n",
       "    }\n",
       "</style>\n",
       "<table border=\"1\" class=\"dataframe\">\n",
       "  <thead>\n",
       "    <tr style=\"text-align: right;\">\n",
       "      <th></th>\n",
       "      <th>0</th>\n",
       "      <th>1</th>\n",
       "      <th>2</th>\n",
       "      <th>3</th>\n",
       "      <th>4</th>\n",
       "      <th>5</th>\n",
       "      <th>6</th>\n",
       "      <th>7</th>\n",
       "      <th>8</th>\n",
       "      <th>9</th>\n",
       "      <th>...</th>\n",
       "      <th>24</th>\n",
       "      <th>25</th>\n",
       "      <th>26</th>\n",
       "      <th>27</th>\n",
       "      <th>28</th>\n",
       "      <th>29</th>\n",
       "      <th>30</th>\n",
       "      <th>31</th>\n",
       "      <th>32</th>\n",
       "      <th>33</th>\n",
       "    </tr>\n",
       "  </thead>\n",
       "  <tbody>\n",
       "    <tr>\n",
       "      <th>0</th>\n",
       "      <td>101</td>\n",
       "      <td>2129</td>\n",
       "      <td>2003</td>\n",
       "      <td>1996</td>\n",
       "      <td>2166</td>\n",
       "      <td>1997</td>\n",
       "      <td>1037</td>\n",
       "      <td>8785</td>\n",
       "      <td>3076</td>\n",
       "      <td>1029</td>\n",
       "      <td>...</td>\n",
       "      <td>2438.0</td>\n",
       "      <td>2005.0</td>\n",
       "      <td>1996.0</td>\n",
       "      <td>11360.0</td>\n",
       "      <td>1046.0</td>\n",
       "      <td>14277.0</td>\n",
       "      <td>2102.0</td>\n",
       "      <td>2629.0</td>\n",
       "      <td>1029.0</td>\n",
       "      <td>102.0</td>\n",
       "    </tr>\n",
       "    <tr>\n",
       "      <th>1</th>\n",
       "      <td>101</td>\n",
       "      <td>2129</td>\n",
       "      <td>2079</td>\n",
       "      <td>1045</td>\n",
       "      <td>2491</td>\n",
       "      <td>2026</td>\n",
       "      <td>7109</td>\n",
       "      <td>2100</td>\n",
       "      <td>6699</td>\n",
       "      <td>1029</td>\n",
       "      <td>...</td>\n",
       "      <td>NaN</td>\n",
       "      <td>NaN</td>\n",
       "      <td>NaN</td>\n",
       "      <td>NaN</td>\n",
       "      <td>NaN</td>\n",
       "      <td>NaN</td>\n",
       "      <td>NaN</td>\n",
       "      <td>NaN</td>\n",
       "      <td>NaN</td>\n",
       "      <td>NaN</td>\n",
       "    </tr>\n",
       "    <tr>\n",
       "      <th>2</th>\n",
       "      <td>101</td>\n",
       "      <td>2054</td>\n",
       "      <td>5320</td>\n",
       "      <td>14708</td>\n",
       "      <td>3609</td>\n",
       "      <td>2000</td>\n",
       "      <td>2689</td>\n",
       "      <td>2000</td>\n",
       "      <td>3756</td>\n",
       "      <td>1029</td>\n",
       "      <td>...</td>\n",
       "      <td>NaN</td>\n",
       "      <td>NaN</td>\n",
       "      <td>NaN</td>\n",
       "      <td>NaN</td>\n",
       "      <td>NaN</td>\n",
       "      <td>NaN</td>\n",
       "      <td>NaN</td>\n",
       "      <td>NaN</td>\n",
       "      <td>NaN</td>\n",
       "      <td>NaN</td>\n",
       "    </tr>\n",
       "  </tbody>\n",
       "</table>\n",
       "<p>3 rows × 34 columns</p>\n",
       "</div>"
      ],
      "text/plain": [
       "    0     1     2      3     4     5     6     7     8     9   ...      24  \\\n",
       "0  101  2129  2003   1996  2166  1997  1037  8785  3076  1029  ...  2438.0   \n",
       "1  101  2129  2079   1045  2491  2026  7109  2100  6699  1029  ...     NaN   \n",
       "2  101  2054  5320  14708  3609  2000  2689  2000  3756  1029  ...     NaN   \n",
       "\n",
       "       25      26       27      28       29      30      31      32     33  \n",
       "0  2005.0  1996.0  11360.0  1046.0  14277.0  2102.0  2629.0  1029.0  102.0  \n",
       "1     NaN     NaN      NaN     NaN      NaN     NaN     NaN     NaN    NaN  \n",
       "2     NaN     NaN      NaN     NaN      NaN     NaN     NaN     NaN    NaN  \n",
       "\n",
       "[3 rows x 34 columns]"
      ]
     },
     "execution_count": 13,
     "metadata": {},
     "output_type": "execute_result"
    }
   ],
   "source": [
    "from transformers import DataCollatorWithPadding\n",
    "\n",
    "data_collator = DataCollatorWithPadding(tokenizer=tokenizer)\n",
    "\n",
    "# Example: Select a few samples from the training set\n",
    "samples = tokenized_dataset[\"train\"][:3]\n",
    "samples = {k: v for k, v in samples.items() if k not in [\"idx\", first_sentence_key, second_sentence_key]}  # Drop `idx` and `sentence` columns, as DataCollator can't process those.\n",
    "pd.DataFrame(samples[\"input_ids\"])"
   ]
  },
  {
   "cell_type": "code",
   "execution_count": 14,
   "metadata": {},
   "outputs": [
    {
     "data": {
      "text/html": [
       "<div>\n",
       "<style scoped>\n",
       "    .dataframe tbody tr th:only-of-type {\n",
       "        vertical-align: middle;\n",
       "    }\n",
       "\n",
       "    .dataframe tbody tr th {\n",
       "        vertical-align: top;\n",
       "    }\n",
       "\n",
       "    .dataframe thead th {\n",
       "        text-align: right;\n",
       "    }\n",
       "</style>\n",
       "<table border=\"1\" class=\"dataframe\">\n",
       "  <thead>\n",
       "    <tr style=\"text-align: right;\">\n",
       "      <th></th>\n",
       "      <th>0</th>\n",
       "      <th>1</th>\n",
       "      <th>2</th>\n",
       "      <th>3</th>\n",
       "      <th>4</th>\n",
       "      <th>5</th>\n",
       "      <th>6</th>\n",
       "      <th>7</th>\n",
       "      <th>8</th>\n",
       "      <th>9</th>\n",
       "      <th>...</th>\n",
       "      <th>24</th>\n",
       "      <th>25</th>\n",
       "      <th>26</th>\n",
       "      <th>27</th>\n",
       "      <th>28</th>\n",
       "      <th>29</th>\n",
       "      <th>30</th>\n",
       "      <th>31</th>\n",
       "      <th>32</th>\n",
       "      <th>33</th>\n",
       "    </tr>\n",
       "  </thead>\n",
       "  <tbody>\n",
       "    <tr>\n",
       "      <th>0</th>\n",
       "      <td>101</td>\n",
       "      <td>2129</td>\n",
       "      <td>2003</td>\n",
       "      <td>1996</td>\n",
       "      <td>2166</td>\n",
       "      <td>1997</td>\n",
       "      <td>1037</td>\n",
       "      <td>8785</td>\n",
       "      <td>3076</td>\n",
       "      <td>1029</td>\n",
       "      <td>...</td>\n",
       "      <td>2438</td>\n",
       "      <td>2005</td>\n",
       "      <td>1996</td>\n",
       "      <td>11360</td>\n",
       "      <td>1046</td>\n",
       "      <td>14277</td>\n",
       "      <td>2102</td>\n",
       "      <td>2629</td>\n",
       "      <td>1029</td>\n",
       "      <td>102</td>\n",
       "    </tr>\n",
       "    <tr>\n",
       "      <th>1</th>\n",
       "      <td>101</td>\n",
       "      <td>2129</td>\n",
       "      <td>2079</td>\n",
       "      <td>1045</td>\n",
       "      <td>2491</td>\n",
       "      <td>2026</td>\n",
       "      <td>7109</td>\n",
       "      <td>2100</td>\n",
       "      <td>6699</td>\n",
       "      <td>1029</td>\n",
       "      <td>...</td>\n",
       "      <td>0</td>\n",
       "      <td>0</td>\n",
       "      <td>0</td>\n",
       "      <td>0</td>\n",
       "      <td>0</td>\n",
       "      <td>0</td>\n",
       "      <td>0</td>\n",
       "      <td>0</td>\n",
       "      <td>0</td>\n",
       "      <td>0</td>\n",
       "    </tr>\n",
       "    <tr>\n",
       "      <th>2</th>\n",
       "      <td>101</td>\n",
       "      <td>2054</td>\n",
       "      <td>5320</td>\n",
       "      <td>14708</td>\n",
       "      <td>3609</td>\n",
       "      <td>2000</td>\n",
       "      <td>2689</td>\n",
       "      <td>2000</td>\n",
       "      <td>3756</td>\n",
       "      <td>1029</td>\n",
       "      <td>...</td>\n",
       "      <td>0</td>\n",
       "      <td>0</td>\n",
       "      <td>0</td>\n",
       "      <td>0</td>\n",
       "      <td>0</td>\n",
       "      <td>0</td>\n",
       "      <td>0</td>\n",
       "      <td>0</td>\n",
       "      <td>0</td>\n",
       "      <td>0</td>\n",
       "    </tr>\n",
       "  </tbody>\n",
       "</table>\n",
       "<p>3 rows × 34 columns</p>\n",
       "</div>"
      ],
      "text/plain": [
       "    0     1     2      3     4     5     6     7     8     9   ...    24  \\\n",
       "0  101  2129  2003   1996  2166  1997  1037  8785  3076  1029  ...  2438   \n",
       "1  101  2129  2079   1045  2491  2026  7109  2100  6699  1029  ...     0   \n",
       "2  101  2054  5320  14708  3609  2000  2689  2000  3756  1029  ...     0   \n",
       "\n",
       "     25    26     27    28     29    30    31    32   33  \n",
       "0  2005  1996  11360  1046  14277  2102  2629  1029  102  \n",
       "1     0     0      0     0      0     0     0     0    0  \n",
       "2     0     0      0     0      0     0     0     0    0  \n",
       "\n",
       "[3 rows x 34 columns]"
      ]
     },
     "execution_count": 14,
     "metadata": {},
     "output_type": "execute_result"
    }
   ],
   "source": [
    "# Apply padding using data_collator\n",
    "batch = data_collator(samples)\n",
    "pd.DataFrame(batch[\"input_ids\"])\n"
   ]
  },
  {
   "cell_type": "markdown",
   "metadata": {},
   "source": [
    "We can see that `data_collator` will insert `[PAD]` (0) tokens to the maximum length of the passed batch of data items."
   ]
  },
  {
   "cell_type": "markdown",
   "metadata": {},
   "source": [
    "## Evaluation"
   ]
  },
  {
   "cell_type": "markdown",
   "metadata": {},
   "source": [
    "The GLUE dataset specifies one or more evaluation metrics depending on the selected task."
   ]
  },
  {
   "cell_type": "code",
   "execution_count": 15,
   "metadata": {},
   "outputs": [
    {
     "data": {
      "text/plain": [
       "EvaluationModule(name: \"glue\", module_type: \"metric\", features: {'predictions': Value(dtype='int64', id=None), 'references': Value(dtype='int64', id=None)}, usage: \"\"\"\n",
       "Compute GLUE evaluation metric associated to each GLUE dataset.\n",
       "Args:\n",
       "    predictions: list of predictions to score.\n",
       "        Each translation should be tokenized into a list of tokens.\n",
       "    references: list of lists of references for each translation.\n",
       "        Each reference should be tokenized into a list of tokens.\n",
       "Returns: depending on the GLUE subset, one or several of:\n",
       "    \"accuracy\": Accuracy\n",
       "    \"f1\": F1 score\n",
       "    \"pearson\": Pearson Correlation\n",
       "    \"spearmanr\": Spearman Correlation\n",
       "    \"matthews_correlation\": Matthew Correlation\n",
       "Examples:\n",
       "\n",
       "    >>> glue_metric = evaluate.load('glue', 'sst2')  # 'sst2' or any of [\"mnli\", \"mnli_mismatched\", \"mnli_matched\", \"qnli\", \"rte\", \"wnli\", \"hans\"]\n",
       "    >>> references = [0, 1]\n",
       "    >>> predictions = [0, 1]\n",
       "    >>> results = glue_metric.compute(predictions=predictions, references=references)\n",
       "    >>> print(results)\n",
       "    {'accuracy': 1.0}\n",
       "\n",
       "    >>> glue_metric = evaluate.load('glue', 'mrpc')  # 'mrpc' or 'qqp'\n",
       "    >>> references = [0, 1]\n",
       "    >>> predictions = [0, 1]\n",
       "    >>> results = glue_metric.compute(predictions=predictions, references=references)\n",
       "    >>> print(results)\n",
       "    {'accuracy': 1.0, 'f1': 1.0}\n",
       "\n",
       "    >>> glue_metric = evaluate.load('glue', 'stsb')\n",
       "    >>> references = [0., 1., 2., 3., 4., 5.]\n",
       "    >>> predictions = [0., 1., 2., 3., 4., 5.]\n",
       "    >>> results = glue_metric.compute(predictions=predictions, references=references)\n",
       "    >>> print({\"pearson\": round(results[\"pearson\"], 2), \"spearmanr\": round(results[\"spearmanr\"], 2)})\n",
       "    {'pearson': 1.0, 'spearmanr': 1.0}\n",
       "\n",
       "    >>> glue_metric = evaluate.load('glue', 'cola')\n",
       "    >>> references = [0, 1]\n",
       "    >>> predictions = [0, 1]\n",
       "    >>> results = glue_metric.compute(predictions=predictions, references=references)\n",
       "    >>> print(results)\n",
       "    {'matthews_correlation': 1.0}\n",
       "\"\"\", stored examples: 0)"
      ]
     },
     "execution_count": 15,
     "metadata": {},
     "output_type": "execute_result"
    }
   ],
   "source": [
    "import numpy as np\n",
    "import evaluate\n",
    "\n",
    "metric = evaluate.load(DATASET_NAME, DATASET_TASK)\n",
    "metric"
   ]
  },
  {
   "cell_type": "markdown",
   "metadata": {},
   "source": [
    "Depending on the selected GLUE task we optimize for different evaluation metrics. See BERT paper p.6:\n",
    "\n",
    "> F1 scores are reported for QQP and MRPC, Spearman correlations are reported for STS-B, and accuracy scores are reported for the other tasks. We exclude entries that use BERT as one of their components."
   ]
  },
  {
   "cell_type": "code",
   "execution_count": 16,
   "metadata": {},
   "outputs": [],
   "source": [
    "_task_to_metric = {\n",
    "    \"cola\": \"matthews_correlation\",\n",
    "    \"mnli\": \"accuracy\",\n",
    "    \"mnli-mm\": \"accuracy\",\n",
    "    \"mrpc\": \"f1\",\n",
    "    \"qnli\": \"accuracy\",\n",
    "    \"qqp\": \"f1\",\n",
    "    \"rte\": \"accuracy\",\n",
    "    \"sst2\": \"accuracy\",\n",
    "    \"stsb\": \"spearmanr\",\n",
    "}\n",
    "\n",
    "metric_for_best_model = _task_to_metric[DATASET_TASK]"
   ]
  },
  {
   "cell_type": "code",
   "execution_count": 17,
   "metadata": {},
   "outputs": [
    {
     "name": "stdout",
     "output_type": "stream",
     "text": [
      "We will use \"['accuracy', 'f1']\" as an evaluation metric for the task qqp\n"
     ]
    }
   ],
   "source": [
    "def get_metric_name_for_specific_task():\n",
    "    \"\"\"Helper function to derive the evaluation metric name for the specified GLUE task.\n",
    "\n",
    "    The tasks specified by the GLUE benchmark use different evaluation metrics.\n",
    "    Unfortunatly there is no easy way to derive there name after loading the corresponding metric function via HuggingFace's `evaluate` library.\n",
    "    However we can simply do a \"trial run\" and expect the name key of its output.\n",
    "    \"\"\"\n",
    "    output = metric.compute(\n",
    "        predictions=[1, 0], references=[1, 1]\n",
    "    )  # dummy input - we just want to inspect the returned dictionary.\n",
    "    metric_names = output.keys()\n",
    "    \n",
    "    return list(metric_names)\n",
    "\n",
    "\n",
    "metric_names = get_metric_name_for_specific_task()\n",
    "print(f'We will use \"{metric_names}\" as an evaluation metric for the task {DATASET_TASK}')"
   ]
  },
  {
   "cell_type": "code",
   "execution_count": 18,
   "metadata": {},
   "outputs": [],
   "source": [
    "assert metric_for_best_model in metric_names, \"Metric to optimize for not found in evaluation metrics provided by GLUE\""
   ]
  },
  {
   "cell_type": "markdown",
   "metadata": {},
   "source": [
    "# Training"
   ]
  },
  {
   "cell_type": "code",
   "execution_count": 19,
   "metadata": {},
   "outputs": [
    {
     "name": "stderr",
     "output_type": "stream",
     "text": [
      "Some weights of BertForSequenceClassification were not initialized from the model checkpoint at google-bert/bert-base-uncased and are newly initialized: ['classifier.bias', 'classifier.weight']\n",
      "You should probably TRAIN this model on a down-stream task to be able to use it for predictions and inference.\n"
     ]
    }
   ],
   "source": [
    "from transformers import AutoModelForSequenceClassification\n",
    "\n",
    "model = AutoModelForSequenceClassification.from_pretrained(\n",
    "    PRE_TRAINED_CHECKPOINT,\n",
    "    num_labels=num_labels,\n",
    "    torch_dtype=\"auto\",\n",
    ")"
   ]
  },
  {
   "cell_type": "code",
   "execution_count": 20,
   "metadata": {},
   "outputs": [],
   "source": [
    "from transformers import TrainingArguments\n",
    "\n",
    "training_arguments = TrainingArguments(\n",
    "    output_dir=TRAIN_OUTPUT_DIR,\n",
    "    per_device_train_batch_size=BATCH_SIZE,\n",
    "    per_device_eval_batch_size=BATCH_SIZE,\n",
    "    eval_strategy=\"steps\",\n",
    "    eval_steps=5000,\n",
    "    save_strategy=\"steps\",\n",
    "    save_steps=5000,\n",
    "    logging_strategy=\"steps\",\n",
    "    logging_steps=5000,\n",
    "    num_train_epochs=NUM_EPOCHS,\n",
    "    learning_rate=2e-5,  # Original paper uses best out of  5e-5, 4e-5, 3e-5, and 2e-5\n",
    "    weight_decay=0.01,  # Original paper uses 0.01 on pre-training\n",
    "    save_total_limit = 3,  # Keep at most the three checkpoints (latest + best one)\n",
    "    load_best_model_at_end=True,\n",
    "    metric_for_best_model=metric_for_best_model,\n",
    ")"
   ]
  },
  {
   "cell_type": "code",
   "execution_count": 21,
   "metadata": {},
   "outputs": [],
   "source": [
    "def compute_metrics(eval_pred):\n",
    "    predictions, labels = eval_pred\n",
    "    if DATASET_TASK != \"stsb\":\n",
    "        predictions = np.argmax(predictions, axis=1)\n",
    "    else:\n",
    "        predictions = predictions[:, 0]\n",
    "    return metric.compute(predictions=predictions, references=labels)"
   ]
  },
  {
   "cell_type": "code",
   "execution_count": 22,
   "metadata": {},
   "outputs": [],
   "source": [
    "from transformers import Trainer\n",
    "\n",
    "validation_key = \"validation_mismatched\" if DATASET_TASK == \"mnli-mm\" else \"validation_matched\" if DATASET_TASK == \"mnli\" else \"validation\"\n",
    "\n",
    "trainer = Trainer(\n",
    "    model=model,\n",
    "    args=training_arguments,\n",
    "    train_dataset=tokenized_dataset[\"train\"],\n",
    "    eval_dataset=tokenized_dataset[validation_key],\n",
    "    data_collator=data_collator,\n",
    "    processing_class=tokenizer,\n",
    "    compute_metrics=compute_metrics\n",
    ")"
   ]
  },
  {
   "cell_type": "code",
   "execution_count": 23,
   "metadata": {},
   "outputs": [
    {
     "name": "stdout",
     "output_type": "stream",
     "text": [
      "--- training_arguments.output_dir='../groups/192.039-2024W/bert/training/glue-qqp'\n",
      "--- training_arguments.metric_for_best_model='f1'\n"
     ]
    },
    {
     "data": {
      "application/vnd.jupyter.widget-view+json": {
       "model_id": "a9f1146d37144fb4bb0553873229ad7c",
       "version_major": 2,
       "version_minor": 0
      },
      "text/plain": [
       "  0%|          | 0/56855 [00:00<?, ?it/s]"
      ]
     },
     "metadata": {},
     "output_type": "display_data"
    },
    {
     "name": "stdout",
     "output_type": "stream",
     "text": [
      "{'loss': 0.3253, 'grad_norm': 5.69278621673584, 'learning_rate': 1.8241139741447543e-05, 'epoch': 0.44}\n"
     ]
    },
    {
     "data": {
      "application/vnd.jupyter.widget-view+json": {
       "model_id": "7f6d3087dbaa4b88a8fe613b644171c5",
       "version_major": 2,
       "version_minor": 0
      },
      "text/plain": [
       "  0%|          | 0/1264 [00:00<?, ?it/s]"
      ]
     },
     "metadata": {},
     "output_type": "display_data"
    },
    {
     "name": "stdout",
     "output_type": "stream",
     "text": [
      "{'eval_loss': 0.275972455739975, 'eval_accuracy': 0.8792728172149394, 'eval_f1': 0.8458842474187743, 'eval_runtime': 76.0597, 'eval_samples_per_second': 531.556, 'eval_steps_per_second': 16.619, 'epoch': 0.44}\n",
      "{'loss': 0.2659, 'grad_norm': 5.863916397094727, 'learning_rate': 1.6482279482895085e-05, 'epoch': 0.88}\n"
     ]
    },
    {
     "data": {
      "application/vnd.jupyter.widget-view+json": {
       "model_id": "82c318715bc64334b690e8dc92597b22",
       "version_major": 2,
       "version_minor": 0
      },
      "text/plain": [
       "  0%|          | 0/1264 [00:00<?, ?it/s]"
      ]
     },
     "metadata": {},
     "output_type": "display_data"
    },
    {
     "name": "stdout",
     "output_type": "stream",
     "text": [
      "{'eval_loss': 0.251036137342453, 'eval_accuracy': 0.8937175364828098, 'eval_f1': 0.8585629176129818, 'eval_runtime': 75.7259, 'eval_samples_per_second': 533.9, 'eval_steps_per_second': 16.692, 'epoch': 0.88}\n",
      "{'loss': 0.2031, 'grad_norm': 3.80635142326355, 'learning_rate': 1.4723419224342628e-05, 'epoch': 1.32}\n"
     ]
    },
    {
     "data": {
      "application/vnd.jupyter.widget-view+json": {
       "model_id": "9664fb5098e4484486b528eb8af9192b",
       "version_major": 2,
       "version_minor": 0
      },
      "text/plain": [
       "  0%|          | 0/1264 [00:00<?, ?it/s]"
      ]
     },
     "metadata": {},
     "output_type": "display_data"
    },
    {
     "name": "stdout",
     "output_type": "stream",
     "text": [
      "{'eval_loss': 0.255336195230484, 'eval_accuracy': 0.9005194162750433, 'eval_f1': 0.8663165591969687, 'eval_runtime': 76.2181, 'eval_samples_per_second': 530.451, 'eval_steps_per_second': 16.584, 'epoch': 1.32}\n",
      "{'loss': 0.184, 'grad_norm': 4.285217761993408, 'learning_rate': 1.2964558965790168e-05, 'epoch': 1.76}\n"
     ]
    },
    {
     "data": {
      "application/vnd.jupyter.widget-view+json": {
       "model_id": "e579e4a31cb244b79f80c44411be1e7f",
       "version_major": 2,
       "version_minor": 0
      },
      "text/plain": [
       "  0%|          | 0/1264 [00:00<?, ?it/s]"
      ]
     },
     "metadata": {},
     "output_type": "display_data"
    },
    {
     "name": "stdout",
     "output_type": "stream",
     "text": [
      "{'eval_loss': 0.24007625877857208, 'eval_accuracy': 0.9058867177838239, 'eval_f1': 0.8739356591458768, 'eval_runtime': 76.1094, 'eval_samples_per_second': 531.209, 'eval_steps_per_second': 16.608, 'epoch': 1.76}\n",
      "{'loss': 0.1537, 'grad_norm': 2.1157779693603516, 'learning_rate': 1.1205698707237711e-05, 'epoch': 2.2}\n"
     ]
    },
    {
     "data": {
      "application/vnd.jupyter.widget-view+json": {
       "model_id": "a360fca5b77a442188f7e79cb6e6428b",
       "version_major": 2,
       "version_minor": 0
      },
      "text/plain": [
       "  0%|          | 0/1264 [00:00<?, ?it/s]"
      ]
     },
     "metadata": {},
     "output_type": "display_data"
    },
    {
     "name": "stdout",
     "output_type": "stream",
     "text": [
      "{'eval_loss': 0.29386231303215027, 'eval_accuracy': 0.9056146425921345, 'eval_f1': 0.8704508419337317, 'eval_runtime': 76.1618, 'eval_samples_per_second': 530.844, 'eval_steps_per_second': 16.596, 'epoch': 2.2}\n",
      "{'loss': 0.1235, 'grad_norm': 7.388816833496094, 'learning_rate': 9.446838448685253e-06, 'epoch': 2.64}\n"
     ]
    },
    {
     "data": {
      "application/vnd.jupyter.widget-view+json": {
       "model_id": "8ae9a02c010b43d992883c009815f2dd",
       "version_major": 2,
       "version_minor": 0
      },
      "text/plain": [
       "  0%|          | 0/1264 [00:00<?, ?it/s]"
      ]
     },
     "metadata": {},
     "output_type": "display_data"
    },
    {
     "name": "stdout",
     "output_type": "stream",
     "text": [
      "{'eval_loss': 0.2870771288871765, 'eval_accuracy': 0.9069255503339104, 'eval_f1': 0.8754592090021512, 'eval_runtime': 76.5351, 'eval_samples_per_second': 528.254, 'eval_steps_per_second': 16.515, 'epoch': 2.64}\n",
      "{'loss': 0.1141, 'grad_norm': 7.300997734069824, 'learning_rate': 7.687978190132794e-06, 'epoch': 3.08}\n"
     ]
    },
    {
     "data": {
      "application/vnd.jupyter.widget-view+json": {
       "model_id": "5ff86ef57abf441b867d5a8e9b7fa155",
       "version_major": 2,
       "version_minor": 0
      },
      "text/plain": [
       "  0%|          | 0/1264 [00:00<?, ?it/s]"
      ]
     },
     "metadata": {},
     "output_type": "display_data"
    },
    {
     "name": "stdout",
     "output_type": "stream",
     "text": [
      "{'eval_loss': 0.3668602406978607, 'eval_accuracy': 0.9082364580756864, 'eval_f1': 0.8767114183171607, 'eval_runtime': 76.1538, 'eval_samples_per_second': 530.9, 'eval_steps_per_second': 16.598, 'epoch': 3.08}\n",
      "{'loss': 0.0858, 'grad_norm': 25.589889526367188, 'learning_rate': 5.929117931580336e-06, 'epoch': 3.52}\n"
     ]
    },
    {
     "data": {
      "application/vnd.jupyter.widget-view+json": {
       "model_id": "1991d0ea70ea48a1bc02553299fdd0ff",
       "version_major": 2,
       "version_minor": 0
      },
      "text/plain": [
       "  0%|          | 0/1264 [00:00<?, ?it/s]"
      ]
     },
     "metadata": {},
     "output_type": "display_data"
    },
    {
     "name": "stdout",
     "output_type": "stream",
     "text": [
      "{'eval_loss': 0.37339580059051514, 'eval_accuracy': 0.9095473658174623, 'eval_f1': 0.8775407695141144, 'eval_runtime': 76.1961, 'eval_samples_per_second': 530.605, 'eval_steps_per_second': 16.589, 'epoch': 3.52}\n",
      "{'loss': 0.0855, 'grad_norm': 0.23230697214603424, 'learning_rate': 4.170257673027878e-06, 'epoch': 3.96}\n"
     ]
    },
    {
     "data": {
      "application/vnd.jupyter.widget-view+json": {
       "model_id": "4ac14392c1f8422fa4b91729f79b2f3d",
       "version_major": 2,
       "version_minor": 0
      },
      "text/plain": [
       "  0%|          | 0/1264 [00:00<?, ?it/s]"
      ]
     },
     "metadata": {},
     "output_type": "display_data"
    },
    {
     "name": "stdout",
     "output_type": "stream",
     "text": [
      "{'eval_loss': 0.3605738580226898, 'eval_accuracy': 0.911723967350977, 'eval_f1': 0.8814088719056322, 'eval_runtime': 76.0276, 'eval_samples_per_second': 531.781, 'eval_steps_per_second': 16.626, 'epoch': 3.96}\n",
      "{'loss': 0.0642, 'grad_norm': 37.92523956298828, 'learning_rate': 2.41139741447542e-06, 'epoch': 4.4}\n"
     ]
    },
    {
     "data": {
      "application/vnd.jupyter.widget-view+json": {
       "model_id": "338cb2d305d84024ad700e8fb2c2ea02",
       "version_major": 2,
       "version_minor": 0
      },
      "text/plain": [
       "  0%|          | 0/1264 [00:00<?, ?it/s]"
      ]
     },
     "metadata": {},
     "output_type": "display_data"
    },
    {
     "name": "stdout",
     "output_type": "stream",
     "text": [
      "{'eval_loss': 0.4091295897960663, 'eval_accuracy': 0.9121444471926787, 'eval_f1': 0.8814656610825602, 'eval_runtime': 76.1577, 'eval_samples_per_second': 530.872, 'eval_steps_per_second': 16.597, 'epoch': 4.4}\n",
      "{'loss': 0.0607, 'grad_norm': 0.039010580629110336, 'learning_rate': 6.525371559229619e-07, 'epoch': 4.84}\n"
     ]
    },
    {
     "data": {
      "application/vnd.jupyter.widget-view+json": {
       "model_id": "d9d86e8139a5445482cffbcd7457a587",
       "version_major": 2,
       "version_minor": 0
      },
      "text/plain": [
       "  0%|          | 0/1264 [00:00<?, ?it/s]"
      ]
     },
     "metadata": {},
     "output_type": "display_data"
    },
    {
     "name": "stdout",
     "output_type": "stream",
     "text": [
      "{'eval_loss': 0.4158765375614166, 'eval_accuracy': 0.9109324758842444, 'eval_f1': 0.8803376200445286, 'eval_runtime': 76.046, 'eval_samples_per_second': 531.652, 'eval_steps_per_second': 16.622, 'epoch': 4.84}\n",
      "{'train_runtime': 14183.9915, 'train_samples_per_second': 128.259, 'train_steps_per_second': 4.008, 'train_loss': 0.148481072155868, 'epoch': 5.0}\n"
     ]
    }
   ],
   "source": [
    "torch.cuda.empty_cache()\n",
    "\n",
    "print(f\"--- {training_arguments.output_dir=}\")\n",
    "print(f\"--- {training_arguments.metric_for_best_model=}\")\n",
    "training_summary = trainer.train()"
   ]
  },
  {
   "cell_type": "code",
   "execution_count": 24,
   "metadata": {},
   "outputs": [
    {
     "data": {
      "text/plain": [
       "TrainOutput(global_step=56855, training_loss=0.148481072155868, metrics={'train_runtime': 14183.9915, 'train_samples_per_second': 128.259, 'train_steps_per_second': 4.008, 'total_flos': 6.421502703224244e+16, 'train_loss': 0.148481072155868, 'epoch': 5.0})"
      ]
     },
     "execution_count": 24,
     "metadata": {},
     "output_type": "execute_result"
    }
   ],
   "source": [
    "training_summary"
   ]
  },
  {
   "cell_type": "markdown",
   "metadata": {},
   "source": [
    "We can call `trainer.evaluate()` to check that the `trainer` instance did indeed reload the model checkpoint with the highest evaluation score:"
   ]
  },
  {
   "cell_type": "code",
   "execution_count": 25,
   "metadata": {},
   "outputs": [
    {
     "data": {
      "application/vnd.jupyter.widget-view+json": {
       "model_id": "3ac8f8ac2e3e4cc58d19251ed58bbf2b",
       "version_major": 2,
       "version_minor": 0
      },
      "text/plain": [
       "  0%|          | 0/1264 [00:00<?, ?it/s]"
      ]
     },
     "metadata": {},
     "output_type": "display_data"
    },
    {
     "data": {
      "text/plain": [
       "{'eval_loss': 0.4091295897960663,\n",
       " 'eval_accuracy': 0.9121444471926787,\n",
       " 'eval_f1': 0.8814656610825602,\n",
       " 'eval_runtime': 76.8719,\n",
       " 'eval_samples_per_second': 525.94,\n",
       " 'eval_steps_per_second': 16.443,\n",
       " 'epoch': 5.0}"
      ]
     },
     "execution_count": 25,
     "metadata": {},
     "output_type": "execute_result"
    }
   ],
   "source": [
    "best_model_evaluation = trainer.evaluate()\n",
    "best_model_evaluation"
   ]
  },
  {
   "cell_type": "code",
   "execution_count": 26,
   "metadata": {},
   "outputs": [
    {
     "data": {
      "text/html": [
       "<div>\n",
       "<style scoped>\n",
       "    .dataframe tbody tr th:only-of-type {\n",
       "        vertical-align: middle;\n",
       "    }\n",
       "\n",
       "    .dataframe tbody tr th {\n",
       "        vertical-align: top;\n",
       "    }\n",
       "\n",
       "    .dataframe thead th {\n",
       "        text-align: right;\n",
       "    }\n",
       "</style>\n",
       "<table border=\"1\" class=\"dataframe\">\n",
       "  <thead>\n",
       "    <tr style=\"text-align: right;\">\n",
       "      <th></th>\n",
       "      <th>loss</th>\n",
       "      <th>grad_norm</th>\n",
       "      <th>learning_rate</th>\n",
       "      <th>epoch</th>\n",
       "      <th>eval_loss</th>\n",
       "      <th>eval_accuracy</th>\n",
       "      <th>eval_f1</th>\n",
       "      <th>eval_runtime</th>\n",
       "      <th>eval_samples_per_second</th>\n",
       "      <th>eval_steps_per_second</th>\n",
       "      <th>train_runtime</th>\n",
       "      <th>train_samples_per_second</th>\n",
       "      <th>train_steps_per_second</th>\n",
       "      <th>total_flos</th>\n",
       "      <th>train_loss</th>\n",
       "    </tr>\n",
       "    <tr>\n",
       "      <th>step</th>\n",
       "      <th></th>\n",
       "      <th></th>\n",
       "      <th></th>\n",
       "      <th></th>\n",
       "      <th></th>\n",
       "      <th></th>\n",
       "      <th></th>\n",
       "      <th></th>\n",
       "      <th></th>\n",
       "      <th></th>\n",
       "      <th></th>\n",
       "      <th></th>\n",
       "      <th></th>\n",
       "      <th></th>\n",
       "      <th></th>\n",
       "    </tr>\n",
       "  </thead>\n",
       "  <tbody>\n",
       "    <tr>\n",
       "      <th>5000</th>\n",
       "      <td>0.3253</td>\n",
       "      <td>5.692786</td>\n",
       "      <td>1.824114e-05</td>\n",
       "      <td>0.439715</td>\n",
       "      <td>0.275972</td>\n",
       "      <td>0.879273</td>\n",
       "      <td>0.845884</td>\n",
       "      <td>76.0597</td>\n",
       "      <td>531.556</td>\n",
       "      <td>16.619</td>\n",
       "      <td>NaN</td>\n",
       "      <td>NaN</td>\n",
       "      <td>NaN</td>\n",
       "      <td>NaN</td>\n",
       "      <td>NaN</td>\n",
       "    </tr>\n",
       "    <tr>\n",
       "      <th>10000</th>\n",
       "      <td>0.2659</td>\n",
       "      <td>5.863916</td>\n",
       "      <td>1.648228e-05</td>\n",
       "      <td>0.879430</td>\n",
       "      <td>0.251036</td>\n",
       "      <td>0.893718</td>\n",
       "      <td>0.858563</td>\n",
       "      <td>75.7259</td>\n",
       "      <td>533.900</td>\n",
       "      <td>16.692</td>\n",
       "      <td>NaN</td>\n",
       "      <td>NaN</td>\n",
       "      <td>NaN</td>\n",
       "      <td>NaN</td>\n",
       "      <td>NaN</td>\n",
       "    </tr>\n",
       "    <tr>\n",
       "      <th>15000</th>\n",
       "      <td>0.2031</td>\n",
       "      <td>3.806351</td>\n",
       "      <td>1.472342e-05</td>\n",
       "      <td>1.319145</td>\n",
       "      <td>0.255336</td>\n",
       "      <td>0.900519</td>\n",
       "      <td>0.866317</td>\n",
       "      <td>76.2181</td>\n",
       "      <td>530.451</td>\n",
       "      <td>16.584</td>\n",
       "      <td>NaN</td>\n",
       "      <td>NaN</td>\n",
       "      <td>NaN</td>\n",
       "      <td>NaN</td>\n",
       "      <td>NaN</td>\n",
       "    </tr>\n",
       "    <tr>\n",
       "      <th>20000</th>\n",
       "      <td>0.1840</td>\n",
       "      <td>4.285218</td>\n",
       "      <td>1.296456e-05</td>\n",
       "      <td>1.758860</td>\n",
       "      <td>0.240076</td>\n",
       "      <td>0.905887</td>\n",
       "      <td>0.873936</td>\n",
       "      <td>76.1094</td>\n",
       "      <td>531.209</td>\n",
       "      <td>16.608</td>\n",
       "      <td>NaN</td>\n",
       "      <td>NaN</td>\n",
       "      <td>NaN</td>\n",
       "      <td>NaN</td>\n",
       "      <td>NaN</td>\n",
       "    </tr>\n",
       "    <tr>\n",
       "      <th>25000</th>\n",
       "      <td>0.1537</td>\n",
       "      <td>2.115778</td>\n",
       "      <td>1.120570e-05</td>\n",
       "      <td>2.198575</td>\n",
       "      <td>0.293862</td>\n",
       "      <td>0.905615</td>\n",
       "      <td>0.870451</td>\n",
       "      <td>76.1618</td>\n",
       "      <td>530.844</td>\n",
       "      <td>16.596</td>\n",
       "      <td>NaN</td>\n",
       "      <td>NaN</td>\n",
       "      <td>NaN</td>\n",
       "      <td>NaN</td>\n",
       "      <td>NaN</td>\n",
       "    </tr>\n",
       "    <tr>\n",
       "      <th>30000</th>\n",
       "      <td>0.1235</td>\n",
       "      <td>7.388817</td>\n",
       "      <td>9.446838e-06</td>\n",
       "      <td>2.638290</td>\n",
       "      <td>0.287077</td>\n",
       "      <td>0.906926</td>\n",
       "      <td>0.875459</td>\n",
       "      <td>76.5351</td>\n",
       "      <td>528.254</td>\n",
       "      <td>16.515</td>\n",
       "      <td>NaN</td>\n",
       "      <td>NaN</td>\n",
       "      <td>NaN</td>\n",
       "      <td>NaN</td>\n",
       "      <td>NaN</td>\n",
       "    </tr>\n",
       "    <tr>\n",
       "      <th>35000</th>\n",
       "      <td>0.1141</td>\n",
       "      <td>7.300998</td>\n",
       "      <td>7.687978e-06</td>\n",
       "      <td>3.078005</td>\n",
       "      <td>0.366860</td>\n",
       "      <td>0.908236</td>\n",
       "      <td>0.876711</td>\n",
       "      <td>76.1538</td>\n",
       "      <td>530.900</td>\n",
       "      <td>16.598</td>\n",
       "      <td>NaN</td>\n",
       "      <td>NaN</td>\n",
       "      <td>NaN</td>\n",
       "      <td>NaN</td>\n",
       "      <td>NaN</td>\n",
       "    </tr>\n",
       "    <tr>\n",
       "      <th>40000</th>\n",
       "      <td>0.0858</td>\n",
       "      <td>25.589890</td>\n",
       "      <td>5.929118e-06</td>\n",
       "      <td>3.517721</td>\n",
       "      <td>0.373396</td>\n",
       "      <td>0.909547</td>\n",
       "      <td>0.877541</td>\n",
       "      <td>76.1961</td>\n",
       "      <td>530.605</td>\n",
       "      <td>16.589</td>\n",
       "      <td>NaN</td>\n",
       "      <td>NaN</td>\n",
       "      <td>NaN</td>\n",
       "      <td>NaN</td>\n",
       "      <td>NaN</td>\n",
       "    </tr>\n",
       "    <tr>\n",
       "      <th>45000</th>\n",
       "      <td>0.0855</td>\n",
       "      <td>0.232307</td>\n",
       "      <td>4.170258e-06</td>\n",
       "      <td>3.957436</td>\n",
       "      <td>0.360574</td>\n",
       "      <td>0.911724</td>\n",
       "      <td>0.881409</td>\n",
       "      <td>76.0276</td>\n",
       "      <td>531.781</td>\n",
       "      <td>16.626</td>\n",
       "      <td>NaN</td>\n",
       "      <td>NaN</td>\n",
       "      <td>NaN</td>\n",
       "      <td>NaN</td>\n",
       "      <td>NaN</td>\n",
       "    </tr>\n",
       "    <tr>\n",
       "      <th>50000</th>\n",
       "      <td>0.0642</td>\n",
       "      <td>37.925240</td>\n",
       "      <td>2.411397e-06</td>\n",
       "      <td>4.397151</td>\n",
       "      <td>0.409130</td>\n",
       "      <td>0.912144</td>\n",
       "      <td>0.881466</td>\n",
       "      <td>76.1577</td>\n",
       "      <td>530.872</td>\n",
       "      <td>16.597</td>\n",
       "      <td>NaN</td>\n",
       "      <td>NaN</td>\n",
       "      <td>NaN</td>\n",
       "      <td>NaN</td>\n",
       "      <td>NaN</td>\n",
       "    </tr>\n",
       "    <tr>\n",
       "      <th>55000</th>\n",
       "      <td>0.0607</td>\n",
       "      <td>0.039011</td>\n",
       "      <td>6.525372e-07</td>\n",
       "      <td>4.836866</td>\n",
       "      <td>0.415877</td>\n",
       "      <td>0.910932</td>\n",
       "      <td>0.880338</td>\n",
       "      <td>76.0460</td>\n",
       "      <td>531.652</td>\n",
       "      <td>16.622</td>\n",
       "      <td>NaN</td>\n",
       "      <td>NaN</td>\n",
       "      <td>NaN</td>\n",
       "      <td>NaN</td>\n",
       "      <td>NaN</td>\n",
       "    </tr>\n",
       "    <tr>\n",
       "      <th>56855</th>\n",
       "      <td>NaN</td>\n",
       "      <td>NaN</td>\n",
       "      <td>NaN</td>\n",
       "      <td>5.000000</td>\n",
       "      <td>0.409130</td>\n",
       "      <td>0.912144</td>\n",
       "      <td>0.881466</td>\n",
       "      <td>76.8719</td>\n",
       "      <td>525.940</td>\n",
       "      <td>16.443</td>\n",
       "      <td>14183.9915</td>\n",
       "      <td>128.259</td>\n",
       "      <td>4.008</td>\n",
       "      <td>6.421503e+16</td>\n",
       "      <td>0.148481</td>\n",
       "    </tr>\n",
       "  </tbody>\n",
       "</table>\n",
       "</div>"
      ],
      "text/plain": [
       "         loss  grad_norm  learning_rate     epoch  eval_loss  eval_accuracy  \\\n",
       "step                                                                          \n",
       "5000   0.3253   5.692786   1.824114e-05  0.439715   0.275972       0.879273   \n",
       "10000  0.2659   5.863916   1.648228e-05  0.879430   0.251036       0.893718   \n",
       "15000  0.2031   3.806351   1.472342e-05  1.319145   0.255336       0.900519   \n",
       "20000  0.1840   4.285218   1.296456e-05  1.758860   0.240076       0.905887   \n",
       "25000  0.1537   2.115778   1.120570e-05  2.198575   0.293862       0.905615   \n",
       "30000  0.1235   7.388817   9.446838e-06  2.638290   0.287077       0.906926   \n",
       "35000  0.1141   7.300998   7.687978e-06  3.078005   0.366860       0.908236   \n",
       "40000  0.0858  25.589890   5.929118e-06  3.517721   0.373396       0.909547   \n",
       "45000  0.0855   0.232307   4.170258e-06  3.957436   0.360574       0.911724   \n",
       "50000  0.0642  37.925240   2.411397e-06  4.397151   0.409130       0.912144   \n",
       "55000  0.0607   0.039011   6.525372e-07  4.836866   0.415877       0.910932   \n",
       "56855     NaN        NaN            NaN  5.000000   0.409130       0.912144   \n",
       "\n",
       "        eval_f1  eval_runtime  eval_samples_per_second  eval_steps_per_second  \\\n",
       "step                                                                            \n",
       "5000   0.845884       76.0597                  531.556                 16.619   \n",
       "10000  0.858563       75.7259                  533.900                 16.692   \n",
       "15000  0.866317       76.2181                  530.451                 16.584   \n",
       "20000  0.873936       76.1094                  531.209                 16.608   \n",
       "25000  0.870451       76.1618                  530.844                 16.596   \n",
       "30000  0.875459       76.5351                  528.254                 16.515   \n",
       "35000  0.876711       76.1538                  530.900                 16.598   \n",
       "40000  0.877541       76.1961                  530.605                 16.589   \n",
       "45000  0.881409       76.0276                  531.781                 16.626   \n",
       "50000  0.881466       76.1577                  530.872                 16.597   \n",
       "55000  0.880338       76.0460                  531.652                 16.622   \n",
       "56855  0.881466       76.8719                  525.940                 16.443   \n",
       "\n",
       "       train_runtime  train_samples_per_second  train_steps_per_second  \\\n",
       "step                                                                     \n",
       "5000             NaN                       NaN                     NaN   \n",
       "10000            NaN                       NaN                     NaN   \n",
       "15000            NaN                       NaN                     NaN   \n",
       "20000            NaN                       NaN                     NaN   \n",
       "25000            NaN                       NaN                     NaN   \n",
       "30000            NaN                       NaN                     NaN   \n",
       "35000            NaN                       NaN                     NaN   \n",
       "40000            NaN                       NaN                     NaN   \n",
       "45000            NaN                       NaN                     NaN   \n",
       "50000            NaN                       NaN                     NaN   \n",
       "55000            NaN                       NaN                     NaN   \n",
       "56855     14183.9915                   128.259                   4.008   \n",
       "\n",
       "         total_flos  train_loss  \n",
       "step                             \n",
       "5000            NaN         NaN  \n",
       "10000           NaN         NaN  \n",
       "15000           NaN         NaN  \n",
       "20000           NaN         NaN  \n",
       "25000           NaN         NaN  \n",
       "30000           NaN         NaN  \n",
       "35000           NaN         NaN  \n",
       "40000           NaN         NaN  \n",
       "45000           NaN         NaN  \n",
       "50000           NaN         NaN  \n",
       "55000           NaN         NaN  \n",
       "56855  6.421503e+16    0.148481  "
      ]
     },
     "execution_count": 26,
     "metadata": {},
     "output_type": "execute_result"
    }
   ],
   "source": [
    "training_history = pd.DataFrame(trainer.state.log_history)\n",
    "training_history.groupby(\"step\").first()"
   ]
  },
  {
   "cell_type": "code",
   "execution_count": 36,
   "metadata": {},
   "outputs": [
    {
     "data": {
      "text/markdown": [
       "### Loss and Evaluation Metrics over Training Steps"
      ],
      "text/plain": [
       "<IPython.core.display.Markdown object>"
      ]
     },
     "metadata": {},
     "output_type": "display_data"
    },
    {
     "data": {
      "image/png": "[encoded data removed]",
      "text/plain": [
       "<Figure size 640x480 with 1 Axes>"
      ]
     },
     "metadata": {},
     "output_type": "display_data"
    }
   ],
   "source": [
    "import seaborn as sns\n",
    "\n",
    "data = training_history[[\"loss\", \"eval_loss\", \"step\", f\"eval_{metric_for_best_model}\"]]\n",
    "data.columns = [\"Train. Loss\", \"Eval. Loss\", \"Training Steps\", \"Acc.\"]\n",
    "data = data[:-1]  # drop last row, as this row just contains the values for the best checkpoint again\n",
    "data = pd.melt(data, ['Training Steps'])\n",
    "\n",
    "\n",
    "plot = sns.lineplot(data=data, x=\"Training Steps\", y=\"value\", hue=\"variable\", style=\"variable\", markers=True)\n",
    "plot.set_ylabel(\"\")\n",
    "plot.set_ylim((0, plot.get_ylim()[1]))\n",
    "plot.legend(title=\"\")\n",
    "\n",
    "from IPython.display import Markdown, display\n",
    "display(Markdown(\"### Loss and Evaluation Metrics over Training Steps\"))"
   ]
  },
  {
   "cell_type": "code",
   "execution_count": 37,
   "metadata": {},
   "outputs": [
    {
     "data": {
      "text/markdown": [
       "### Best Model performance:"
      ],
      "text/plain": [
       "<IPython.core.display.Markdown object>"
      ]
     },
     "metadata": {},
     "output_type": "display_data"
    },
    {
     "name": "stdout",
     "output_type": "stream",
     "text": [
      "\"Our Model\" based on google-bert/bert-base-uncased, best performance on validation data.\n",
      "\"BERT_BASE\" and \"BERT_LARGE\" performance on GLUE testing data as reported in original paper.\n"
     ]
    },
    {
     "data": {
      "text/html": [
       "<div>\n",
       "<style scoped>\n",
       "    .dataframe tbody tr th:only-of-type {\n",
       "        vertical-align: middle;\n",
       "    }\n",
       "\n",
       "    .dataframe tbody tr th {\n",
       "        vertical-align: top;\n",
       "    }\n",
       "\n",
       "    .dataframe thead th {\n",
       "        text-align: right;\n",
       "    }\n",
       "</style>\n",
       "<table border=\"1\" class=\"dataframe\">\n",
       "  <thead>\n",
       "    <tr style=\"text-align: right;\">\n",
       "      <th></th>\n",
       "      <th>Our Model</th>\n",
       "      <th>original BERT_BASE</th>\n",
       "      <th>original BERT_LARGE</th>\n",
       "    </tr>\n",
       "  </thead>\n",
       "  <tbody>\n",
       "    <tr>\n",
       "      <th>eval_loss</th>\n",
       "      <td>0.409130</td>\n",
       "      <td>-</td>\n",
       "      <td>-</td>\n",
       "    </tr>\n",
       "    <tr>\n",
       "      <th>eval_accuracy</th>\n",
       "      <td>0.912144</td>\n",
       "      <td>-</td>\n",
       "      <td>-</td>\n",
       "    </tr>\n",
       "    <tr>\n",
       "      <th>eval_f1</th>\n",
       "      <td>0.881466</td>\n",
       "      <td>0.712</td>\n",
       "      <td>0.721</td>\n",
       "    </tr>\n",
       "  </tbody>\n",
       "</table>\n",
       "</div>"
      ],
      "text/plain": [
       "               Our Model original BERT_BASE original BERT_LARGE\n",
       "eval_loss       0.409130                  -                   -\n",
       "eval_accuracy   0.912144                  -                   -\n",
       "eval_f1         0.881466              0.712               0.721"
      ]
     },
     "execution_count": 37,
     "metadata": {},
     "output_type": "execute_result"
    }
   ],
   "source": [
    "display(Markdown(f\"### Best Model performance:\"))\n",
    "results = pd.DataFrame(\n",
    "    best_model_evaluation.values(),\n",
    "    index=best_model_evaluation.keys(),\n",
    "    columns=[\"Our Model\"],\n",
    ").drop(\n",
    "    # Drop runtime measurements\n",
    "    index=[\"eval_runtime\", \"eval_samples_per_second\", \"eval_steps_per_second\", \"epoch\"]\n",
    ")\n",
    "# Achieved scores from original BERT paper:\n",
    "results[\"original BERT_BASE\"] = [\"-\", \"-\", 0.712]\n",
    "results[\"original BERT_LARGE\"] = [\"-\", \"-\", 0.721]\n",
    "print(f'\"Our Model\" based on {PRE_TRAINED_CHECKPOINT}, best performance on validation data.')\n",
    "print('\"BERT_BASE\" and \"BERT_LARGE\" performance on GLUE testing data as reported in original paper.')\n",
    "results"
   ]
  },
  {
   "cell_type": "code",
   "execution_count": null,
   "metadata": {},
   "outputs": [],
   "source": []
  }
 ],
 "metadata": {
  "kernelspec": {
   "display_name": ".venv",
   "language": "python",
   "name": "python3"
  },
  "language_info": {
   "codemirror_mode": {
    "name": "ipython",
    "version": 3
   },
   "file_extension": ".py",
   "mimetype": "text/x-python",
   "name": "python",
   "nbconvert_exporter": "python",
   "pygments_lexer": "ipython3",
   "version": "3.11.11"
  }
 },
 "nbformat": 4,
 "nbformat_minor": 2
}
