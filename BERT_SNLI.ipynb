{
 "metadata": {
  "kernelspec": {
   "language": "python",
   "display_name": "Python 3",
   "name": "python3"
  },
  "language_info": {
   "name": "python",
   "version": "3.10.13",
   "mimetype": "text/x-python",
   "codemirror_mode": {
    "name": "ipython",
    "version": 3
   },
   "pygments_lexer": "ipython3",
   "nbconvert_exporter": "python",
   "file_extension": ".py"
  },
  "kaggle": {
   "accelerator": "nvidiaTeslaT4",
   "dataSources": [],
   "dockerImageVersionId": 30698,
   "isInternetEnabled": true,
   "language": "python",
   "sourceType": "notebook",
   "isGpuEnabled": true
  }
 },
 "nbformat_minor": 4,
 "nbformat": 4,
 "cells": [
  {
   "metadata": {
    "ExecuteTime": {
     "end_time": "2025-01-10T11:01:01.050722Z",
     "start_time": "2025-01-10T11:00:54.911563Z"
    }
   },
   "cell_type": "code",
   "source": [
    "from datasets import load_dataset\n",
    "\n",
    "dataset = load_dataset('snli')\n",
    "\n",
    "labels = dataset.unique(\"label\").keys()\n",
    "num_labels = len(labels)\n",
    "# label -1 is used if the gold label is missing, see: https://github.com/huggingface/datasets/issues/296\n",
    "# therefore we remove all entries with label -1\n",
    "dataset = dataset.filter(lambda x: x[\"label\"] != -1)\n",
    "\n",
    "# shuffle the dataset to avoid any bias\n",
    "dataset = dataset.shuffle(seed=42)\n",
    "\n",
    "# rename label to labels, because the model expects a column named labels\n",
    "dataset = dataset.rename_column(\"label\", \"labels\")\n",
    "\n",
    "print(f\"{labels=}\")\n",
    "print(f\"{num_labels=}\")"
   ],
   "outputs": [
    {
     "name": "stdout",
     "output_type": "stream",
     "text": [
      "labels=dict_keys(['test', 'validation', 'train'])\n",
      "num_labels=3\n"
     ]
    }
   ],
   "execution_count": 2
  },
  {
   "metadata": {
    "execution": {
     "iopub.status.busy": "2024-06-20T06:04:40.529557Z",
     "iopub.execute_input": "2024-06-20T06:04:40.530245Z",
     "iopub.status.idle": "2024-06-20T06:04:50.113628Z",
     "shell.execute_reply.started": "2024-06-20T06:04:40.530215Z",
     "shell.execute_reply": "2024-06-20T06:04:50.112587Z"
    },
    "trusted": true,
    "ExecuteTime": {
     "end_time": "2025-01-10T12:14:14.062527Z",
     "start_time": "2025-01-10T12:14:13.703454Z"
    }
   },
   "cell_type": "code",
   "source": [
    "from transformers import BertModel\n",
    "\n",
    "import torch.nn as nn\n",
    "\n",
    "class NLIClassifier(nn.Module):\n",
    "    def __init__(self, model, num_labels=3, freeze_bert=False):\n",
    "        super(NLIClassifier, self).__init__()\n",
    "        self.bert = model\n",
    "        # freeze the BERT model\n",
    "        if freeze_bert:\n",
    "            for param in self.bert.parameters():\n",
    "                param.requires_grad = False\n",
    "        self.classifier = nn.Linear(self.bert.config.hidden_size, num_labels)\n",
    "\n",
    "        for param in self.classifier.parameters():\n",
    "            param.requires_grad = True\n",
    "\n",
    "    def forward(self, input_ids, attention_mask, token_type_ids, labels):\n",
    "        outputs = self.bert(input_ids=input_ids, attention_mask=attention_mask, token_type_ids=token_type_ids)\n",
    "        cls_output = outputs.last_hidden_state[:, 0, :]  # Extract [CLS] token representation\n",
    "        logits = self.classifier(cls_output)\n",
    "        return logits\n",
    "\n",
    "model = BertModel.from_pretrained(\n",
    "    \"bert-base-uncased\",\n",
    "    num_labels=num_labels,\n",
    "    torch_dtype=\"auto\",\n",
    ")\n",
    "nli_model = NLIClassifier(model, num_labels=3)"
   ],
   "outputs": [],
   "execution_count": 61
  },
  {
   "cell_type": "code",
   "source": [
    "from transformers import AutoTokenizer\n",
    "\n",
    "tokenizer = AutoTokenizer.from_pretrained(\"google-bert/bert-base-cased\")\n",
    "\n",
    "# tokenize dataset\n",
    "tokenized_dataset = dataset.map(lambda x: tokenizer(x[\"premise\"], x[\"hypothesis\"], add_special_tokens=True, truncation=True), batched=True)"
   ],
   "metadata": {
    "execution": {
     "iopub.status.busy": "2024-06-20T06:04:51.664603Z",
     "iopub.execute_input": "2024-06-20T06:04:51.665249Z",
     "iopub.status.idle": "2024-06-20T06:04:51.845661Z",
     "shell.execute_reply.started": "2024-06-20T06:04:51.665216Z",
     "shell.execute_reply": "2024-06-20T06:04:51.844476Z"
    },
    "trusted": true,
    "ExecuteTime": {
     "end_time": "2025-01-10T12:06:44.808166Z",
     "start_time": "2025-01-10T12:06:24.479271Z"
    }
   },
   "outputs": [
    {
     "data": {
      "text/plain": [
       "tokenizer_config.json:   0%|          | 0.00/48.0 [00:00<?, ?B/s]"
      ],
      "application/vnd.jupyter.widget-view+json": {
       "version_major": 2,
       "version_minor": 0,
       "model_id": "eae372508adc4a9ea5f3de9a16e37e7f"
      }
     },
     "metadata": {},
     "output_type": "display_data"
    },
    {
     "data": {
      "text/plain": [
       "config.json:   0%|          | 0.00/570 [00:00<?, ?B/s]"
      ],
      "application/vnd.jupyter.widget-view+json": {
       "version_major": 2,
       "version_minor": 0,
       "model_id": "da36377161f94dbdb02c0f2c23816156"
      }
     },
     "metadata": {},
     "output_type": "display_data"
    },
    {
     "data": {
      "text/plain": [
       "vocab.txt:   0%|          | 0.00/232k [00:00<?, ?B/s]"
      ],
      "application/vnd.jupyter.widget-view+json": {
       "version_major": 2,
       "version_minor": 0,
       "model_id": "dad123fa1ee54f5d9e70c5dc10673b30"
      }
     },
     "metadata": {},
     "output_type": "display_data"
    },
    {
     "data": {
      "text/plain": [
       "tokenizer.json:   0%|          | 0.00/466k [00:00<?, ?B/s]"
      ],
      "application/vnd.jupyter.widget-view+json": {
       "version_major": 2,
       "version_minor": 0,
       "model_id": "0883054e532c488e9f23e08ca5bcf5f2"
      }
     },
     "metadata": {},
     "output_type": "display_data"
    },
    {
     "data": {
      "text/plain": [
       "Map:   0%|          | 0/9824 [00:00<?, ? examples/s]"
      ],
      "application/vnd.jupyter.widget-view+json": {
       "version_major": 2,
       "version_minor": 0,
       "model_id": "435542ed7bb34377b737fa9ebe26d66a"
      }
     },
     "metadata": {},
     "output_type": "display_data"
    },
    {
     "data": {
      "text/plain": [
       "Map:   0%|          | 0/9842 [00:00<?, ? examples/s]"
      ],
      "application/vnd.jupyter.widget-view+json": {
       "version_major": 2,
       "version_minor": 0,
       "model_id": "cdf98c6d3d2f4dffab01160a2d07ef97"
      }
     },
     "metadata": {},
     "output_type": "display_data"
    },
    {
     "data": {
      "text/plain": [
       "Map:   0%|          | 0/549367 [00:00<?, ? examples/s]"
      ],
      "application/vnd.jupyter.widget-view+json": {
       "version_major": 2,
       "version_minor": 0,
       "model_id": "f4b29534eb044aa8a7526373d4efd23c"
      }
     },
     "metadata": {},
     "output_type": "display_data"
    }
   ],
   "execution_count": 50
  },
  {
   "cell_type": "code",
   "source": [
    "import torch\n",
    "\n",
    "criterion = nn.CrossEntropyLoss()\n",
    "tokenized_dataset"
   ],
   "metadata": {
    "execution": {
     "iopub.status.busy": "2024-06-20T06:04:53.670448Z",
     "iopub.execute_input": "2024-06-20T06:04:53.671600Z",
     "iopub.status.idle": "2024-06-20T06:04:53.690695Z",
     "shell.execute_reply.started": "2024-06-20T06:04:53.671554Z",
     "shell.execute_reply": "2024-06-20T06:04:53.689448Z"
    },
    "trusted": true,
    "ExecuteTime": {
     "end_time": "2025-01-10T11:59:17.971501Z",
     "start_time": "2025-01-10T11:59:17.963715Z"
    }
   },
   "outputs": [
    {
     "data": {
      "text/plain": [
       "DatasetDict({\n",
       "    test: Dataset({\n",
       "        features: ['labels', 'input_ids', 'token_type_ids', 'attention_mask'],\n",
       "        num_rows: 9824\n",
       "    })\n",
       "    validation: Dataset({\n",
       "        features: ['labels', 'input_ids', 'token_type_ids', 'attention_mask'],\n",
       "        num_rows: 9842\n",
       "    })\n",
       "    train: Dataset({\n",
       "        features: ['labels', 'input_ids', 'token_type_ids', 'attention_mask'],\n",
       "        num_rows: 549367\n",
       "    })\n",
       "})"
      ]
     },
     "execution_count": 41,
     "metadata": {},
     "output_type": "execute_result"
    }
   ],
   "execution_count": 41
  },
  {
   "metadata": {
    "ExecuteTime": {
     "end_time": "2025-01-10T12:22:02.278976Z",
     "start_time": "2025-01-10T12:22:02.261053Z"
    }
   },
   "cell_type": "code",
   "source": [
    "from torch.utils.data import DataLoader\n",
    "from transformers import DataCollatorWithPadding\n",
    "\n",
    "# remove all text columns, because they are already tokenized\n",
    "#tokenized_dataset = tokenized_dataset.remove_columns([\"premise\", \"hypothesis\"])\n",
    "\n",
    "data_collator = DataCollatorWithPadding(tokenizer=tokenizer, padding=True)\n",
    "traindataloader = DataLoader(tokenized_dataset[\"train\"].select(range(100)), batch_size=32, shuffle=True, collate_fn=data_collator)"
   ],
   "outputs": [],
   "execution_count": 71
  },
  {
   "metadata": {
    "ExecuteTime": {
     "end_time": "2025-01-10T11:42:08.356100Z",
     "start_time": "2025-01-10T11:42:08.345898Z"
    }
   },
   "cell_type": "code",
   "source": [
    "import torch\n",
    "\n",
    "device = torch.device(\"cuda\") if torch.cuda.is_available() else torch.device(\"cpu\")"
   ],
   "outputs": [],
   "execution_count": 14
  },
  {
   "metadata": {
    "ExecuteTime": {
     "end_time": "2025-01-10T11:54:45.012307Z",
     "start_time": "2025-01-10T11:54:45.008774Z"
    }
   },
   "cell_type": "code",
   "source": [
    "class TrainingResults:\n",
    "    def __init__(self):\n",
    "        self.losses = []\n",
    "        self.accuracies = []\n",
    "        self.epoch = []\n",
    "\n",
    "    def add(self, loss, accuracy, epoch):\n",
    "        self.losses.append(loss.item())\n",
    "        self.accuracies.append(accuracy)\n",
    "        self.epoch.append(epoch)\n",
    "\n",
    "    def __str__(self):\n",
    "        return f\"Loss: {self.losses}, Accuracy: {self.accuracies}, Epoch: {self.epoch}\""
   ],
   "outputs": [],
   "execution_count": 32
  },
  {
   "cell_type": "code",
   "source": [
    "from torch.optim import AdamW\n",
    "# optimizer = AdamW(nli_model.parameters(),lr=5e-5)\n",
    "optimizer = torch.optim.Adam(filter(lambda p: p.requires_grad, nli_model.parameters()), lr=5e-5)\n",
    "\n",
    "from transformers import get_scheduler\n",
    "num_epochs=3\n",
    "num_training_steps = num_epochs * len(traindataloader)\n",
    "lr_scheduler = get_scheduler(\n",
    "    name=\"linear\", optimizer=optimizer, num_warmup_steps=0, num_training_steps=num_training_steps\n",
    ")\n",
    "\n",
    "\n",
    "from tqdm.auto import tqdm\n",
    "\n",
    "progress_bar = tqdm(range(num_training_steps))\n",
    "nli_model.to(device)\n",
    "nli_model.train()\n",
    "results = TrainingResults()\n",
    "\n",
    "for epoch in range(num_epochs):\n",
    "    i = 1\n",
    "    for batch in traindataloader:\n",
    "        optimizer.zero_grad()\n",
    "        outputs = nli_model(**batch)\n",
    "        loss = criterion(outputs, batch[\"labels\"])\n",
    "        accuracy = (torch.argmax(outputs, dim=-1) == batch[\"labels\"]).float().mean()\n",
    "        current_epoch = i / len(traindataloader) + epoch\n",
    "        results.add(loss, accuracy.item(), current_epoch)\n",
    "        loss.backward()\n",
    "        optimizer.step()\n",
    "        lr_scheduler.step()\n",
    "        progress_bar.update(1)\n",
    "        i += 1"
   ],
   "metadata": {
    "execution": {
     "iopub.status.busy": "2024-06-20T06:04:56.627164Z",
     "iopub.execute_input": "2024-06-20T06:04:56.627533Z",
     "iopub.status.idle": "2024-06-20T06:04:56.644063Z",
     "shell.execute_reply.started": "2024-06-20T06:04:56.627501Z",
     "shell.execute_reply": "2024-06-20T06:04:56.643015Z"
    },
    "trusted": true,
    "ExecuteTime": {
     "end_time": "2025-01-10T12:22:21.819735Z",
     "start_time": "2025-01-10T12:22:05.724343Z"
    }
   },
   "outputs": [
    {
     "data": {
      "text/plain": [
       "  0%|          | 0/12 [00:00<?, ?it/s]"
      ],
      "application/vnd.jupyter.widget-view+json": {
       "version_major": 2,
       "version_minor": 0,
       "model_id": "80fe7cd303ea4537bdea436c71848eee"
      }
     },
     "metadata": {},
     "output_type": "display_data"
    }
   ],
   "execution_count": 72
  },
  {
   "metadata": {
    "ExecuteTime": {
     "end_time": "2025-01-10T12:27:18.877891Z",
     "start_time": "2025-01-10T12:27:18.775490Z"
    }
   },
   "cell_type": "code",
   "source": [
    "import matplotlib.pyplot as plt\n",
    "# Plotting\n",
    "plt.figure(figsize=(8, 6))\n",
    "\n",
    "# Plot Loss vs Epoch\n",
    "plt.plot(results.epoch, results.losses, label='Loss', color='red', marker='o')\n",
    "\n",
    "# Plot Accuracy vs Epoch\n",
    "plt.plot(results.epoch, results.accuracies, label='Accuracy', color='blue', marker='x')\n",
    "\n",
    "# Labels and Title\n",
    "plt.ylabel('Value (Loss / Accuracy)')\n",
    "plt.xlabel('Epoch')\n",
    "plt.title('Training Loss and Accuracy Over Epochs')\n",
    "plt.legend()\n",
    "plt.grid(True)\n",
    "plt.show()"
   ],
   "outputs": [
    {
     "data": {
      "text/plain": [
       "<Figure size 800x600 with 1 Axes>"
      ],
      "image/png": "[encoded data removed]"
     },
     "metadata": {},
     "output_type": "display_data"
    }
   ],
   "execution_count": 75
  },
  {
   "metadata": {
    "ExecuteTime": {
     "end_time": "2025-01-10T12:21:49.136239Z",
     "start_time": "2025-01-10T12:21:49.113456Z"
    }
   },
   "cell_type": "code",
   "source": "testdataloader = DataLoader(tokenized_dataset[\"test\"].select(range(100)), batch_size=32, shuffle=True, collate_fn=data_collator)",
   "outputs": [],
   "execution_count": 70
  },
  {
   "metadata": {
    "ExecuteTime": {
     "end_time": "2025-01-10T11:44:04.910752Z",
     "start_time": "2025-01-10T11:44:02.815034Z"
    }
   },
   "cell_type": "code",
   "source": [
    "import evaluate\n",
    "\n",
    "metric = evaluate.load(\"accuracy\")\n",
    "nli_model.eval()\n",
    "for batch in testdataloader:\n",
    "    # for model inference we don't need gradients\n",
    "    with torch.no_grad():\n",
    "        outputs = model(**batch)\n",
    "\n",
    "    logits = outputs.logits\n",
    "    predictions = torch.argmax(logits, dim=-1)\n",
    "    metric.add_batch(predictions=predictions, references=batch[\"labels\"])\n",
    "\n",
    "metric.compute()"
   ],
   "outputs": [
    {
     "data": {
      "text/plain": [
       "{'accuracy': 0.5}"
      ]
     },
     "execution_count": 18,
     "metadata": {},
     "output_type": "execute_result"
    }
   ],
   "execution_count": 18
  }
 ]
}
