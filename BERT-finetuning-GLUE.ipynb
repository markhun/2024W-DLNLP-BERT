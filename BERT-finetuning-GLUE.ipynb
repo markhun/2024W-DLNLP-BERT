{
 "cells": [
  {
   "cell_type": "markdown",
   "metadata": {},
   "source": [
    "# Fine-Tuning BERT on GLUE - CoLA"
   ]
  },
  {
   "cell_type": "markdown",
   "metadata": {},
   "source": [
    "From [NYU-MLL GLUE/CoLA](https://nyu-mll.github.io/CoLA/):\n",
    "\n",
    "The Corpus of Linguistic Acceptability (CoLA) in its full form consists of 10657 sentences from 23 linguistics publications, expertly annotated for acceptability (grammaticality) by their original authors. The public version provided here contains 9594 sentences belonging to training and development sets, and excludes 1063 sentences belonging to a held out test set."
   ]
  },
  {
   "cell_type": "markdown",
   "metadata": {},
   "source": [
    "## Configuration"
   ]
  },
  {
   "cell_type": "code",
   "execution_count": 1,
   "metadata": {},
   "outputs": [],
   "source": [
    "import os\n",
    "\n",
    "# Where to store the huggingface data. On the provided Jupyterlab instance that should be within the shared group folder.\n",
    "os.environ['HF_HOME'] = '../groups/192.039-2024W/bert/huggingface/cache'"
   ]
  },
  {
   "cell_type": "code",
   "execution_count": 2,
   "metadata": {},
   "outputs": [],
   "source": [
    "from pathlib import Path\n",
    "\n",
    "from transformers import set_seed\n",
    "\n",
    "# RANDOMNESS SEED\n",
    "SEED = 42\n",
    "set_seed(SEED)\n",
    "\n",
    "# Which dataset to load\n",
    "GLUE_DATASET_NAME = \"glue\"\n",
    "GLUE_DATASET_TASK = \"cola\"\n",
    "\n",
    "PRE_TRAINED_CHECKPOINT = \"google-bert/bert-base-uncased\"\n",
    "\n",
    "TRAIN_OUTPUT_DIR = (\n",
    "    Path(\"../groups/192.039-2024W/bert\") / \"training\" / f\"{GLUE_DATASET_NAME}-{GLUE_DATASET_TASK}\"\n",
    ")\n",
    "\n",
    "BATCH_SIZE = 32  # Original Paper claims to use 32 for GLUE tasks\n",
    "NUM_EPOCHS = 5  # Original Paper claims to use 3 fine-tuning epochs for GLUE tasks"
   ]
  },
  {
   "cell_type": "code",
   "execution_count": 3,
   "metadata": {},
   "outputs": [
    {
     "name": "stdout",
     "output_type": "stream",
     "text": [
      "There are 1 GPU(s) available.\n",
      "GPU used: NVIDIA GeForce RTX 4060 Ti\n"
     ]
    }
   ],
   "source": [
    "import torch\n",
    "\n",
    "if torch.cuda.is_available():\n",
    "  device = torch.device(\"cuda\")\n",
    "  device_count = torch.cuda.device_count()\n",
    "  device_name = torch.cuda.get_device_name(0)\n",
    "\n",
    "  print(f\"There are {device_count} GPU(s) available.\")\n",
    "  print(f\"GPU used: {device_name}\")\n",
    "\n",
    "else:\n",
    "  print(\"No GPU available, using CPU.\")\n",
    "  device = torch.device(\"cpu\")"
   ]
  },
  {
   "cell_type": "markdown",
   "metadata": {},
   "source": [
    "## Dataset"
   ]
  },
  {
   "cell_type": "code",
   "execution_count": 4,
   "metadata": {},
   "outputs": [
    {
     "data": {
      "text/plain": [
       "DatasetDict({\n",
       "    train: Dataset({\n",
       "        features: ['sentence', 'label', 'idx'],\n",
       "        num_rows: 8551\n",
       "    })\n",
       "    validation: Dataset({\n",
       "        features: ['sentence', 'label', 'idx'],\n",
       "        num_rows: 1043\n",
       "    })\n",
       "    test: Dataset({\n",
       "        features: ['sentence', 'label', 'idx'],\n",
       "        num_rows: 1063\n",
       "    })\n",
       "})"
      ]
     },
     "execution_count": 4,
     "metadata": {},
     "output_type": "execute_result"
    }
   ],
   "source": [
    "from datasets import load_dataset\n",
    "import pandas as pd\n",
    "\n",
    "dataset = load_dataset(GLUE_DATASET_NAME, GLUE_DATASET_TASK)\n",
    "dataset"
   ]
  },
  {
   "cell_type": "code",
   "execution_count": 5,
   "metadata": {},
   "outputs": [
    {
     "data": {
      "text/html": [
       "<div>\n",
       "<style scoped>\n",
       "    .dataframe tbody tr th:only-of-type {\n",
       "        vertical-align: middle;\n",
       "    }\n",
       "\n",
       "    .dataframe tbody tr th {\n",
       "        vertical-align: top;\n",
       "    }\n",
       "\n",
       "    .dataframe thead th {\n",
       "        text-align: right;\n",
       "    }\n",
       "</style>\n",
       "<table border=\"1\" class=\"dataframe\">\n",
       "  <thead>\n",
       "    <tr style=\"text-align: right;\">\n",
       "      <th></th>\n",
       "      <th>sentence</th>\n",
       "      <th>label</th>\n",
       "      <th>idx</th>\n",
       "    </tr>\n",
       "  </thead>\n",
       "  <tbody>\n",
       "    <tr>\n",
       "      <th>6199</th>\n",
       "      <td>Who loves who?</td>\n",
       "      <td>1</td>\n",
       "      <td>6199</td>\n",
       "    </tr>\n",
       "    <tr>\n",
       "      <th>7650</th>\n",
       "      <td>to hurt oneself is stupid.</td>\n",
       "      <td>1</td>\n",
       "      <td>7650</td>\n",
       "    </tr>\n",
       "    <tr>\n",
       "      <th>5104</th>\n",
       "      <td>What you should do is order one first.</td>\n",
       "      <td>1</td>\n",
       "      <td>5104</td>\n",
       "    </tr>\n",
       "    <tr>\n",
       "      <th>4847</th>\n",
       "      <td>I wonder on which shelf John will put the book?</td>\n",
       "      <td>1</td>\n",
       "      <td>4847</td>\n",
       "    </tr>\n",
       "    <tr>\n",
       "      <th>3404</th>\n",
       "      <td>Sasha lingered over lunch.</td>\n",
       "      <td>1</td>\n",
       "      <td>3404</td>\n",
       "    </tr>\n",
       "    <tr>\n",
       "      <th>4742</th>\n",
       "      <td>I ask you if this is what you want.</td>\n",
       "      <td>1</td>\n",
       "      <td>4742</td>\n",
       "    </tr>\n",
       "    <tr>\n",
       "      <th>5238</th>\n",
       "      <td>It's fine that he paid and apologized, but I d...</td>\n",
       "      <td>1</td>\n",
       "      <td>5238</td>\n",
       "    </tr>\n",
       "    <tr>\n",
       "      <th>2792</th>\n",
       "      <td>Steve pelted the squirrels with acorns.</td>\n",
       "      <td>1</td>\n",
       "      <td>2792</td>\n",
       "    </tr>\n",
       "    <tr>\n",
       "      <th>5656</th>\n",
       "      <td>Louis said that parts of speech intrigued her.</td>\n",
       "      <td>1</td>\n",
       "      <td>5656</td>\n",
       "    </tr>\n",
       "    <tr>\n",
       "      <th>4014</th>\n",
       "      <td>The monkey seems despondent.</td>\n",
       "      <td>1</td>\n",
       "      <td>4014</td>\n",
       "    </tr>\n",
       "  </tbody>\n",
       "</table>\n",
       "</div>"
      ],
      "text/plain": [
       "                                               sentence  label   idx\n",
       "6199                                     Who loves who?      1  6199\n",
       "7650                         to hurt oneself is stupid.      1  7650\n",
       "5104             What you should do is order one first.      1  5104\n",
       "4847    I wonder on which shelf John will put the book?      1  4847\n",
       "3404                         Sasha lingered over lunch.      1  3404\n",
       "4742                I ask you if this is what you want.      1  4742\n",
       "5238  It's fine that he paid and apologized, but I d...      1  5238\n",
       "2792            Steve pelted the squirrels with acorns.      1  2792\n",
       "5656     Louis said that parts of speech intrigued her.      1  5656\n",
       "4014                       The monkey seems despondent.      1  4014"
      ]
     },
     "execution_count": 5,
     "metadata": {},
     "output_type": "execute_result"
    }
   ],
   "source": [
    "pd.DataFrame(dataset[\"train\"]).sample(10)"
   ]
  },
  {
   "cell_type": "code",
   "execution_count": 6,
   "metadata": {},
   "outputs": [
    {
     "name": "stdout",
     "output_type": "stream",
     "text": [
      "unique_lables_in_dataset=array([1, 0])\n",
      "num_labels=2\n"
     ]
    }
   ],
   "source": [
    "unique_lables_in_dataset = pd.DataFrame(dataset[\"train\"])[\"label\"].unique()\n",
    "num_labels = len(unique_lables_in_dataset)\n",
    "\n",
    "print(f\"{unique_lables_in_dataset=}\")\n",
    "print(f\"{num_labels=}\")"
   ]
  },
  {
   "cell_type": "markdown",
   "metadata": {},
   "source": [
    "## Tokenization"
   ]
  },
  {
   "cell_type": "code",
   "execution_count": 7,
   "metadata": {},
   "outputs": [],
   "source": [
    "from transformers import AutoTokenizer\n",
    "\n",
    "tokenizer = AutoTokenizer.from_pretrained(PRE_TRAINED_CHECKPOINT, do_lower_case=\"uncased\" in PRE_TRAINED_CHECKPOINT)"
   ]
  },
  {
   "cell_type": "markdown",
   "metadata": {},
   "source": [
    "BERT has a maximum sequence length of 512. We can check the sequence lengths resulting from tokenizing our dataset to see if our dataset exceeds this restriction of BERT:"
   ]
  },
  {
   "cell_type": "code",
   "execution_count": 8,
   "metadata": {},
   "outputs": [
    {
     "name": "stdout",
     "output_type": "stream",
     "text": [
      "Max length in train split: 47\n",
      "Max length in test split: 38\n",
      "Max length in validation split: 35\n"
     ]
    }
   ],
   "source": [
    "max_len = 0\n",
    "\n",
    "for sentence in dataset[\"train\"][\"sentence\"]:\n",
    "    # Tokenize the text and add `[CLS]` and `[SEP]` tokens.\n",
    "    input_ids = tokenizer.encode(sentence, add_special_tokens=True)\n",
    "    \n",
    "    max_len = max(max_len, len(input_ids))\n",
    "\n",
    "print(f\"Max length in train split: {max_len}\")\n",
    "max_len = 0\n",
    "\n",
    "for sentence in dataset[\"test\"][\"sentence\"]:\n",
    "    # Tokenize the text and add `[CLS]` and `[SEP]` tokens.\n",
    "    input_ids = tokenizer.encode(sentence, add_special_tokens=True)\n",
    "    \n",
    "    max_len = max(max_len, len(input_ids))\n",
    "\n",
    "print(f\"Max length in test split: {max_len}\")\n",
    "max_len = 0\n",
    "\n",
    "for sentence in dataset[\"validation\"][\"sentence\"]:\n",
    "    # Tokenize the text and add `[CLS]` and `[SEP]` tokens.\n",
    "    input_ids = tokenizer.encode(sentence, add_special_tokens=True)\n",
    "    \n",
    "    max_len = max(max_len, len(input_ids))\n",
    "\n",
    "print(f\"Max length in validation split: {max_len}\")\n",
    "max_len = 0\n"
   ]
  },
  {
   "cell_type": "code",
   "execution_count": 9,
   "metadata": {},
   "outputs": [],
   "source": [
    "def tokenize_func(item):\n",
    "    return tokenizer(item[\"sentence\"], add_special_tokens=True, truncation=True)\n",
    "\n",
    "tokenized_dataset = dataset.map(tokenize_func, batched=True)"
   ]
  },
  {
   "cell_type": "markdown",
   "metadata": {},
   "source": [
    "Here is an example of a tokenized dataset item:"
   ]
  },
  {
   "cell_type": "code",
   "execution_count": 10,
   "metadata": {},
   "outputs": [
    {
     "data": {
      "text/plain": [
       "{'sentence': [\"Our friends won't buy this analysis, let alone the next one we propose.\"],\n",
       " 'label': [1],\n",
       " 'idx': [0]}"
      ]
     },
     "execution_count": 10,
     "metadata": {},
     "output_type": "execute_result"
    }
   ],
   "source": [
    "dataset[\"train\"][:1]"
   ]
  },
  {
   "cell_type": "code",
   "execution_count": 11,
   "metadata": {},
   "outputs": [
    {
     "data": {
      "text/plain": [
       "{'sentence': [\"Our friends won't buy this analysis, let alone the next one we propose.\"],\n",
       " 'label': [1],\n",
       " 'idx': [0],\n",
       " 'input_ids': [[101,\n",
       "   2256,\n",
       "   2814,\n",
       "   2180,\n",
       "   1005,\n",
       "   1056,\n",
       "   4965,\n",
       "   2023,\n",
       "   4106,\n",
       "   1010,\n",
       "   2292,\n",
       "   2894,\n",
       "   1996,\n",
       "   2279,\n",
       "   2028,\n",
       "   2057,\n",
       "   16599,\n",
       "   1012,\n",
       "   102]],\n",
       " 'token_type_ids': [[0, 0, 0, 0, 0, 0, 0, 0, 0, 0, 0, 0, 0, 0, 0, 0, 0, 0, 0]],\n",
       " 'attention_mask': [[1, 1, 1, 1, 1, 1, 1, 1, 1, 1, 1, 1, 1, 1, 1, 1, 1, 1, 1]]}"
      ]
     },
     "execution_count": 11,
     "metadata": {},
     "output_type": "execute_result"
    }
   ],
   "source": [
    "tokenized_dataset[\"train\"][:1]"
   ]
  },
  {
   "cell_type": "markdown",
   "metadata": {},
   "source": [
    "Tokenization added the `input_ids` field, which contains the tokenized sentence with a `[CLS]`(101) and a `[SEP]`(102) token added. A `token_type_ids` field which indicates first and second portion of the inputs, if necessary. And an `attention_mask` for the given input."
   ]
  },
  {
   "cell_type": "markdown",
   "metadata": {},
   "source": [
    "### Dealing with Padding"
   ]
  },
  {
   "cell_type": "markdown",
   "metadata": {},
   "source": [
    "Huggingface's `transformers` library provides a `DataCollatorWithPadding` class, which allows us to use dynamic padding.  \n",
    "Dynamic padding will add `[PAD]` tokens to the length of the longest sequence within a batch, instead of padding to the maximum sequence length within the entire dataset.  \n",
    "This will avoid unnecessary padding and therefore improve execution efficiency."
   ]
  },
  {
   "cell_type": "code",
   "execution_count": 12,
   "metadata": {},
   "outputs": [
    {
     "data": {
      "text/html": [
       "<div>\n",
       "<style scoped>\n",
       "    .dataframe tbody tr th:only-of-type {\n",
       "        vertical-align: middle;\n",
       "    }\n",
       "\n",
       "    .dataframe tbody tr th {\n",
       "        vertical-align: top;\n",
       "    }\n",
       "\n",
       "    .dataframe thead th {\n",
       "        text-align: right;\n",
       "    }\n",
       "</style>\n",
       "<table border=\"1\" class=\"dataframe\">\n",
       "  <thead>\n",
       "    <tr style=\"text-align: right;\">\n",
       "      <th></th>\n",
       "      <th>0</th>\n",
       "      <th>1</th>\n",
       "      <th>2</th>\n",
       "      <th>3</th>\n",
       "      <th>4</th>\n",
       "      <th>5</th>\n",
       "      <th>6</th>\n",
       "      <th>7</th>\n",
       "      <th>8</th>\n",
       "      <th>9</th>\n",
       "      <th>10</th>\n",
       "      <th>11</th>\n",
       "      <th>12</th>\n",
       "      <th>13</th>\n",
       "      <th>14</th>\n",
       "      <th>15</th>\n",
       "      <th>16</th>\n",
       "      <th>17</th>\n",
       "      <th>18</th>\n",
       "    </tr>\n",
       "  </thead>\n",
       "  <tbody>\n",
       "    <tr>\n",
       "      <th>0</th>\n",
       "      <td>101</td>\n",
       "      <td>2256</td>\n",
       "      <td>2814</td>\n",
       "      <td>2180</td>\n",
       "      <td>1005</td>\n",
       "      <td>1056</td>\n",
       "      <td>4965</td>\n",
       "      <td>2023</td>\n",
       "      <td>4106</td>\n",
       "      <td>1010</td>\n",
       "      <td>2292</td>\n",
       "      <td>2894</td>\n",
       "      <td>1996</td>\n",
       "      <td>2279</td>\n",
       "      <td>2028.0</td>\n",
       "      <td>2057.0</td>\n",
       "      <td>16599.0</td>\n",
       "      <td>1012.0</td>\n",
       "      <td>102.0</td>\n",
       "    </tr>\n",
       "    <tr>\n",
       "      <th>1</th>\n",
       "      <td>101</td>\n",
       "      <td>2028</td>\n",
       "      <td>2062</td>\n",
       "      <td>18404</td>\n",
       "      <td>2236</td>\n",
       "      <td>3989</td>\n",
       "      <td>1998</td>\n",
       "      <td>1045</td>\n",
       "      <td>1005</td>\n",
       "      <td>1049</td>\n",
       "      <td>3228</td>\n",
       "      <td>2039</td>\n",
       "      <td>1012</td>\n",
       "      <td>102</td>\n",
       "      <td>NaN</td>\n",
       "      <td>NaN</td>\n",
       "      <td>NaN</td>\n",
       "      <td>NaN</td>\n",
       "      <td>NaN</td>\n",
       "    </tr>\n",
       "    <tr>\n",
       "      <th>2</th>\n",
       "      <td>101</td>\n",
       "      <td>2028</td>\n",
       "      <td>2062</td>\n",
       "      <td>18404</td>\n",
       "      <td>2236</td>\n",
       "      <td>3989</td>\n",
       "      <td>2030</td>\n",
       "      <td>1045</td>\n",
       "      <td>1005</td>\n",
       "      <td>1049</td>\n",
       "      <td>3228</td>\n",
       "      <td>2039</td>\n",
       "      <td>1012</td>\n",
       "      <td>102</td>\n",
       "      <td>NaN</td>\n",
       "      <td>NaN</td>\n",
       "      <td>NaN</td>\n",
       "      <td>NaN</td>\n",
       "      <td>NaN</td>\n",
       "    </tr>\n",
       "  </tbody>\n",
       "</table>\n",
       "</div>"
      ],
      "text/plain": [
       "    0     1     2      3     4     5     6     7     8     9     10    11  \\\n",
       "0  101  2256  2814   2180  1005  1056  4965  2023  4106  1010  2292  2894   \n",
       "1  101  2028  2062  18404  2236  3989  1998  1045  1005  1049  3228  2039   \n",
       "2  101  2028  2062  18404  2236  3989  2030  1045  1005  1049  3228  2039   \n",
       "\n",
       "     12    13      14      15       16      17     18  \n",
       "0  1996  2279  2028.0  2057.0  16599.0  1012.0  102.0  \n",
       "1  1012   102     NaN     NaN      NaN     NaN    NaN  \n",
       "2  1012   102     NaN     NaN      NaN     NaN    NaN  "
      ]
     },
     "execution_count": 12,
     "metadata": {},
     "output_type": "execute_result"
    }
   ],
   "source": [
    "from transformers import DataCollatorWithPadding\n",
    "\n",
    "data_collator = DataCollatorWithPadding(tokenizer=tokenizer)\n",
    "\n",
    "# Example: Select a few samples from the training set\n",
    "samples = tokenized_dataset[\"train\"][:3]\n",
    "samples = {k: v for k, v in samples.items() if k not in  [\"idx\", \"sentence\"]}  # Drop `idx` and `sentence` columns, as DataCollator can't process those.\n",
    "pd.DataFrame(samples[\"input_ids\"])"
   ]
  },
  {
   "cell_type": "code",
   "execution_count": 13,
   "metadata": {},
   "outputs": [
    {
     "data": {
      "text/html": [
       "<div>\n",
       "<style scoped>\n",
       "    .dataframe tbody tr th:only-of-type {\n",
       "        vertical-align: middle;\n",
       "    }\n",
       "\n",
       "    .dataframe tbody tr th {\n",
       "        vertical-align: top;\n",
       "    }\n",
       "\n",
       "    .dataframe thead th {\n",
       "        text-align: right;\n",
       "    }\n",
       "</style>\n",
       "<table border=\"1\" class=\"dataframe\">\n",
       "  <thead>\n",
       "    <tr style=\"text-align: right;\">\n",
       "      <th></th>\n",
       "      <th>0</th>\n",
       "      <th>1</th>\n",
       "      <th>2</th>\n",
       "      <th>3</th>\n",
       "      <th>4</th>\n",
       "      <th>5</th>\n",
       "      <th>6</th>\n",
       "      <th>7</th>\n",
       "      <th>8</th>\n",
       "      <th>9</th>\n",
       "      <th>10</th>\n",
       "      <th>11</th>\n",
       "      <th>12</th>\n",
       "      <th>13</th>\n",
       "      <th>14</th>\n",
       "      <th>15</th>\n",
       "      <th>16</th>\n",
       "      <th>17</th>\n",
       "      <th>18</th>\n",
       "    </tr>\n",
       "  </thead>\n",
       "  <tbody>\n",
       "    <tr>\n",
       "      <th>0</th>\n",
       "      <td>101</td>\n",
       "      <td>2256</td>\n",
       "      <td>2814</td>\n",
       "      <td>2180</td>\n",
       "      <td>1005</td>\n",
       "      <td>1056</td>\n",
       "      <td>4965</td>\n",
       "      <td>2023</td>\n",
       "      <td>4106</td>\n",
       "      <td>1010</td>\n",
       "      <td>2292</td>\n",
       "      <td>2894</td>\n",
       "      <td>1996</td>\n",
       "      <td>2279</td>\n",
       "      <td>2028</td>\n",
       "      <td>2057</td>\n",
       "      <td>16599</td>\n",
       "      <td>1012</td>\n",
       "      <td>102</td>\n",
       "    </tr>\n",
       "    <tr>\n",
       "      <th>1</th>\n",
       "      <td>101</td>\n",
       "      <td>2028</td>\n",
       "      <td>2062</td>\n",
       "      <td>18404</td>\n",
       "      <td>2236</td>\n",
       "      <td>3989</td>\n",
       "      <td>1998</td>\n",
       "      <td>1045</td>\n",
       "      <td>1005</td>\n",
       "      <td>1049</td>\n",
       "      <td>3228</td>\n",
       "      <td>2039</td>\n",
       "      <td>1012</td>\n",
       "      <td>102</td>\n",
       "      <td>0</td>\n",
       "      <td>0</td>\n",
       "      <td>0</td>\n",
       "      <td>0</td>\n",
       "      <td>0</td>\n",
       "    </tr>\n",
       "    <tr>\n",
       "      <th>2</th>\n",
       "      <td>101</td>\n",
       "      <td>2028</td>\n",
       "      <td>2062</td>\n",
       "      <td>18404</td>\n",
       "      <td>2236</td>\n",
       "      <td>3989</td>\n",
       "      <td>2030</td>\n",
       "      <td>1045</td>\n",
       "      <td>1005</td>\n",
       "      <td>1049</td>\n",
       "      <td>3228</td>\n",
       "      <td>2039</td>\n",
       "      <td>1012</td>\n",
       "      <td>102</td>\n",
       "      <td>0</td>\n",
       "      <td>0</td>\n",
       "      <td>0</td>\n",
       "      <td>0</td>\n",
       "      <td>0</td>\n",
       "    </tr>\n",
       "  </tbody>\n",
       "</table>\n",
       "</div>"
      ],
      "text/plain": [
       "    0     1     2      3     4     5     6     7     8     9     10    11  \\\n",
       "0  101  2256  2814   2180  1005  1056  4965  2023  4106  1010  2292  2894   \n",
       "1  101  2028  2062  18404  2236  3989  1998  1045  1005  1049  3228  2039   \n",
       "2  101  2028  2062  18404  2236  3989  2030  1045  1005  1049  3228  2039   \n",
       "\n",
       "     12    13    14    15     16    17   18  \n",
       "0  1996  2279  2028  2057  16599  1012  102  \n",
       "1  1012   102     0     0      0     0    0  \n",
       "2  1012   102     0     0      0     0    0  "
      ]
     },
     "execution_count": 13,
     "metadata": {},
     "output_type": "execute_result"
    }
   ],
   "source": [
    "examples = [\n",
    "{\"input_ids\": [1, 2, 3], \"labels\": [0]},\n",
    "{\"input_ids\": [4, 5], \"labels\": [1]}, ]\n",
    "\n",
    "# Apply dynamic padding using data_collator\n",
    "batch = data_collator(samples)\n",
    "pd.DataFrame(batch[\"input_ids\"])\n"
   ]
  },
  {
   "cell_type": "markdown",
   "metadata": {},
   "source": [
    "We can see that `data_collator` will insert `[PAD]` (0) tokens to the maximum length of the passed batch of data items."
   ]
  },
  {
   "cell_type": "markdown",
   "metadata": {},
   "source": [
    "## Evaluation"
   ]
  },
  {
   "cell_type": "code",
   "execution_count": 14,
   "metadata": {},
   "outputs": [
    {
     "data": {
      "text/plain": [
       "EvaluationModule(name: \"glue\", module_type: \"metric\", features: {'predictions': Value(dtype='int64', id=None), 'references': Value(dtype='int64', id=None)}, usage: \"\"\"\n",
       "Compute GLUE evaluation metric associated to each GLUE dataset.\n",
       "Args:\n",
       "    predictions: list of predictions to score.\n",
       "        Each translation should be tokenized into a list of tokens.\n",
       "    references: list of lists of references for each translation.\n",
       "        Each reference should be tokenized into a list of tokens.\n",
       "Returns: depending on the GLUE subset, one or several of:\n",
       "    \"accuracy\": Accuracy\n",
       "    \"f1\": F1 score\n",
       "    \"pearson\": Pearson Correlation\n",
       "    \"spearmanr\": Spearman Correlation\n",
       "    \"matthews_correlation\": Matthew Correlation\n",
       "Examples:\n",
       "\n",
       "    >>> glue_metric = evaluate.load('glue', 'sst2')  # 'sst2' or any of [\"mnli\", \"mnli_mismatched\", \"mnli_matched\", \"qnli\", \"rte\", \"wnli\", \"hans\"]\n",
       "    >>> references = [0, 1]\n",
       "    >>> predictions = [0, 1]\n",
       "    >>> results = glue_metric.compute(predictions=predictions, references=references)\n",
       "    >>> print(results)\n",
       "    {'accuracy': 1.0}\n",
       "\n",
       "    >>> glue_metric = evaluate.load('glue', 'mrpc')  # 'mrpc' or 'qqp'\n",
       "    >>> references = [0, 1]\n",
       "    >>> predictions = [0, 1]\n",
       "    >>> results = glue_metric.compute(predictions=predictions, references=references)\n",
       "    >>> print(results)\n",
       "    {'accuracy': 1.0, 'f1': 1.0}\n",
       "\n",
       "    >>> glue_metric = evaluate.load('glue', 'stsb')\n",
       "    >>> references = [0., 1., 2., 3., 4., 5.]\n",
       "    >>> predictions = [0., 1., 2., 3., 4., 5.]\n",
       "    >>> results = glue_metric.compute(predictions=predictions, references=references)\n",
       "    >>> print({\"pearson\": round(results[\"pearson\"], 2), \"spearmanr\": round(results[\"spearmanr\"], 2)})\n",
       "    {'pearson': 1.0, 'spearmanr': 1.0}\n",
       "\n",
       "    >>> glue_metric = evaluate.load('glue', 'cola')\n",
       "    >>> references = [0, 1]\n",
       "    >>> predictions = [0, 1]\n",
       "    >>> results = glue_metric.compute(predictions=predictions, references=references)\n",
       "    >>> print(results)\n",
       "    {'matthews_correlation': 1.0}\n",
       "\"\"\", stored examples: 0)"
      ]
     },
     "execution_count": 14,
     "metadata": {},
     "output_type": "execute_result"
    }
   ],
   "source": [
    "import numpy as np\n",
    "import evaluate\n",
    "\n",
    "metric = evaluate.load(GLUE_DATASET_NAME, GLUE_DATASET_TASK)\n",
    "metric"
   ]
  },
  {
   "cell_type": "code",
   "execution_count": 15,
   "metadata": {},
   "outputs": [
    {
     "name": "stdout",
     "output_type": "stream",
     "text": [
      "We will use \"matthews_correlation\" as an evaluation metric for the task cola\n"
     ]
    }
   ],
   "source": [
    "def get_metric_name_for_specific_task():\n",
    "    \"\"\"Helper function to derive the evaluation metric name for the specified GLUE task.\n",
    "\n",
    "    The tasks specified by the GLUE benchmark use different evaluation metrics.\n",
    "    Unfortunatly there is no easy way to derive there name after loading the corresponding metric function via HuggingFace's `evaluate` library.\n",
    "    However we can simply do a \"trial run\" and expect the name key of its output.\n",
    "    \"\"\"\n",
    "    output = metric.compute(\n",
    "        predictions=[1, 0], references=[1, 1]\n",
    "    )  # dummy input - we just want to inspect the returned dictionary.\n",
    "    metric_name = next(iter(output))  # simply gets first key of output\n",
    "    return metric_name\n",
    "\n",
    "\n",
    "metric_name = get_metric_name_for_specific_task()\n",
    "print(f'We will use \"{metric_name}\" as an evaluation metric for the task {GLUE_DATASET_TASK}')"
   ]
  },
  {
   "cell_type": "markdown",
   "metadata": {},
   "source": [
    "# Training"
   ]
  },
  {
   "cell_type": "code",
   "execution_count": 16,
   "metadata": {},
   "outputs": [
    {
     "name": "stderr",
     "output_type": "stream",
     "text": [
      "Some weights of BertForSequenceClassification were not initialized from the model checkpoint at google-bert/bert-base-uncased and are newly initialized: ['classifier.bias', 'classifier.weight']\n",
      "You should probably TRAIN this model on a down-stream task to be able to use it for predictions and inference.\n"
     ]
    }
   ],
   "source": [
    "from transformers import AutoModelForSequenceClassification\n",
    "\n",
    "model = AutoModelForSequenceClassification.from_pretrained(\n",
    "    PRE_TRAINED_CHECKPOINT,\n",
    "    num_labels=num_labels,\n",
    "    torch_dtype=\"auto\",\n",
    ")"
   ]
  },
  {
   "cell_type": "code",
   "execution_count": 17,
   "metadata": {},
   "outputs": [],
   "source": [
    "from transformers import TrainingArguments\n",
    "\n",
    "training_arguments = TrainingArguments(\n",
    "    output_dir=TRAIN_OUTPUT_DIR,\n",
    "    per_device_train_batch_size=BATCH_SIZE,\n",
    "    per_device_eval_batch_size=BATCH_SIZE,\n",
    "    eval_strategy=\"steps\",\n",
    "    eval_steps=100,\n",
    "    save_strategy=\"steps\",\n",
    "    save_steps=100,\n",
    "    logging_strategy=\"steps\",\n",
    "    logging_steps=100,\n",
    "    num_train_epochs=NUM_EPOCHS,\n",
    "    learning_rate=2e-5,  # Original paper uses best out of  5e-5, 4e-5, 3e-5, and 2e-5\n",
    "    weight_decay=0.01,  # Original paper uses 0.01 on pre-training\n",
    "    load_best_model_at_end=True,\n",
    "    metric_for_best_model=metric_name,\n",
    ")"
   ]
  },
  {
   "cell_type": "code",
   "execution_count": 18,
   "metadata": {},
   "outputs": [],
   "source": [
    "def compute_metrics(eval_pred):\n",
    "    predictions, labels = eval_pred\n",
    "    if GLUE_DATASET_TASK != \"stsb\":\n",
    "        predictions = np.argmax(predictions, axis=1)\n",
    "    else:\n",
    "        predictions = predictions[:, 0]\n",
    "    return metric.compute(predictions=predictions, references=labels)"
   ]
  },
  {
   "cell_type": "code",
   "execution_count": 19,
   "metadata": {},
   "outputs": [],
   "source": [
    "from transformers import Trainer\n",
    "\n",
    "validation_key = \"validation_mismatched\" if GLUE_DATASET_TASK == \"mnli-mm\" else \"validation_matched\" if GLUE_DATASET_TASK == \"mnli\" else \"validation\"\n",
    "\n",
    "trainer = Trainer(\n",
    "    model=model,\n",
    "    args=training_arguments,\n",
    "    train_dataset=tokenized_dataset[\"train\"],\n",
    "    eval_dataset=tokenized_dataset[validation_key],\n",
    "    data_collator=data_collator,\n",
    "    processing_class=tokenizer,\n",
    "    compute_metrics=compute_metrics\n",
    ")"
   ]
  },
  {
   "cell_type": "code",
   "execution_count": 20,
   "metadata": {},
   "outputs": [
    {
     "name": "stdout",
     "output_type": "stream",
     "text": [
      "--- training_arguments.output_dir='../groups/192.039-2024W/bert/training/glue-cola'\n"
     ]
    },
    {
     "data": {
      "application/vnd.jupyter.widget-view+json": {
       "model_id": "96a2fc3f47d14277a0137a11ba0c06c6",
       "version_major": 2,
       "version_minor": 0
      },
      "text/plain": [
       "  0%|          | 0/1340 [00:00<?, ?it/s]"
      ]
     },
     "metadata": {},
     "output_type": "display_data"
    },
    {
     "name": "stdout",
     "output_type": "stream",
     "text": [
      "{'loss': 0.5283, 'grad_norm': 5.498426914215088, 'learning_rate': 1.8507462686567165e-05, 'epoch': 0.37}\n"
     ]
    },
    {
     "data": {
      "application/vnd.jupyter.widget-view+json": {
       "model_id": "d8bf655b6a7e45baa7e2df1e5f04cad4",
       "version_major": 2,
       "version_minor": 0
      },
      "text/plain": [
       "  0%|          | 0/33 [00:00<?, ?it/s]"
      ]
     },
     "metadata": {},
     "output_type": "display_data"
    },
    {
     "name": "stdout",
     "output_type": "stream",
     "text": [
      "{'eval_loss': 0.47185271978378296, 'eval_matthews_correlation': 0.49380532984629394, 'eval_runtime': 0.5479, 'eval_samples_per_second': 1903.785, 'eval_steps_per_second': 60.235, 'epoch': 0.37}\n",
      "{'loss': 0.4556, 'grad_norm': 4.645875453948975, 'learning_rate': 1.701492537313433e-05, 'epoch': 0.75}\n"
     ]
    },
    {
     "data": {
      "application/vnd.jupyter.widget-view+json": {
       "model_id": "779d8f2301004cfdb4d63210e7fb379d",
       "version_major": 2,
       "version_minor": 0
      },
      "text/plain": [
       "  0%|          | 0/33 [00:00<?, ?it/s]"
      ]
     },
     "metadata": {},
     "output_type": "display_data"
    },
    {
     "name": "stdout",
     "output_type": "stream",
     "text": [
      "{'eval_loss': 0.44142094254493713, 'eval_matthews_correlation': 0.5245973684146213, 'eval_runtime': 0.552, 'eval_samples_per_second': 1889.495, 'eval_steps_per_second': 59.783, 'epoch': 0.75}\n",
      "{'loss': 0.3903, 'grad_norm': 7.003178596496582, 'learning_rate': 1.5522388059701494e-05, 'epoch': 1.12}\n"
     ]
    },
    {
     "data": {
      "application/vnd.jupyter.widget-view+json": {
       "model_id": "94a3c5b1f6d8419f835f41edc81c2dad",
       "version_major": 2,
       "version_minor": 0
      },
      "text/plain": [
       "  0%|          | 0/33 [00:00<?, ?it/s]"
      ]
     },
     "metadata": {},
     "output_type": "display_data"
    },
    {
     "name": "stdout",
     "output_type": "stream",
     "text": [
      "{'eval_loss': 0.4684695899486542, 'eval_matthews_correlation': 0.5578770438298012, 'eval_runtime': 0.564, 'eval_samples_per_second': 1849.162, 'eval_steps_per_second': 58.507, 'epoch': 1.12}\n",
      "{'loss': 0.2948, 'grad_norm': 7.371007919311523, 'learning_rate': 1.4029850746268658e-05, 'epoch': 1.49}\n"
     ]
    },
    {
     "data": {
      "application/vnd.jupyter.widget-view+json": {
       "model_id": "9b5ce6406bd24abb82c1a786c876cda8",
       "version_major": 2,
       "version_minor": 0
      },
      "text/plain": [
       "  0%|          | 0/33 [00:00<?, ?it/s]"
      ]
     },
     "metadata": {},
     "output_type": "display_data"
    },
    {
     "name": "stdout",
     "output_type": "stream",
     "text": [
      "{'eval_loss': 0.48211026191711426, 'eval_matthews_correlation': 0.5153179547856604, 'eval_runtime': 0.5506, 'eval_samples_per_second': 1894.416, 'eval_steps_per_second': 59.938, 'epoch': 1.49}\n",
      "{'loss': 0.2902, 'grad_norm': 12.28109359741211, 'learning_rate': 1.2537313432835823e-05, 'epoch': 1.87}\n"
     ]
    },
    {
     "data": {
      "application/vnd.jupyter.widget-view+json": {
       "model_id": "06f8de88713f494da409c856f1459e2e",
       "version_major": 2,
       "version_minor": 0
      },
      "text/plain": [
       "  0%|          | 0/33 [00:00<?, ?it/s]"
      ]
     },
     "metadata": {},
     "output_type": "display_data"
    },
    {
     "name": "stdout",
     "output_type": "stream",
     "text": [
      "{'eval_loss': 0.5093415975570679, 'eval_matthews_correlation': 0.5523181756655187, 'eval_runtime': 0.5528, 'eval_samples_per_second': 1886.921, 'eval_steps_per_second': 59.701, 'epoch': 1.87}\n",
      "{'loss': 0.2282, 'grad_norm': 10.120359420776367, 'learning_rate': 1.1044776119402986e-05, 'epoch': 2.24}\n"
     ]
    },
    {
     "data": {
      "application/vnd.jupyter.widget-view+json": {
       "model_id": "f2c310f7432a4cb7b6e63414651c0c1f",
       "version_major": 2,
       "version_minor": 0
      },
      "text/plain": [
       "  0%|          | 0/33 [00:00<?, ?it/s]"
      ]
     },
     "metadata": {},
     "output_type": "display_data"
    },
    {
     "name": "stdout",
     "output_type": "stream",
     "text": [
      "{'eval_loss': 0.5063227415084839, 'eval_matthews_correlation': 0.5703054933279827, 'eval_runtime': 0.5516, 'eval_samples_per_second': 1891.007, 'eval_steps_per_second': 59.831, 'epoch': 2.24}\n",
      "{'loss': 0.1836, 'grad_norm': 12.957316398620605, 'learning_rate': 9.552238805970149e-06, 'epoch': 2.61}\n"
     ]
    },
    {
     "data": {
      "application/vnd.jupyter.widget-view+json": {
       "model_id": "ca01fab94a164e689f154efbdf7e7181",
       "version_major": 2,
       "version_minor": 0
      },
      "text/plain": [
       "  0%|          | 0/33 [00:00<?, ?it/s]"
      ]
     },
     "metadata": {},
     "output_type": "display_data"
    },
    {
     "name": "stdout",
     "output_type": "stream",
     "text": [
      "{'eval_loss': 0.6191191077232361, 'eval_matthews_correlation': 0.5392832081618074, 'eval_runtime': 0.5452, 'eval_samples_per_second': 1913.184, 'eval_steps_per_second': 60.532, 'epoch': 2.61}\n",
      "{'loss': 0.1758, 'grad_norm': 7.420416831970215, 'learning_rate': 8.059701492537314e-06, 'epoch': 2.99}\n"
     ]
    },
    {
     "data": {
      "application/vnd.jupyter.widget-view+json": {
       "model_id": "85244f5104f84549a83ec18a8c652262",
       "version_major": 2,
       "version_minor": 0
      },
      "text/plain": [
       "  0%|          | 0/33 [00:00<?, ?it/s]"
      ]
     },
     "metadata": {},
     "output_type": "display_data"
    },
    {
     "name": "stdout",
     "output_type": "stream",
     "text": [
      "{'eval_loss': 0.5968910455703735, 'eval_matthews_correlation': 0.5649812173768567, 'eval_runtime': 0.5612, 'eval_samples_per_second': 1858.477, 'eval_steps_per_second': 58.801, 'epoch': 2.99}\n",
      "{'loss': 0.1343, 'grad_norm': 13.23167896270752, 'learning_rate': 6.567164179104478e-06, 'epoch': 3.36}\n"
     ]
    },
    {
     "data": {
      "application/vnd.jupyter.widget-view+json": {
       "model_id": "d773537a509b45129952baa311e91f1a",
       "version_major": 2,
       "version_minor": 0
      },
      "text/plain": [
       "  0%|          | 0/33 [00:00<?, ?it/s]"
      ]
     },
     "metadata": {},
     "output_type": "display_data"
    },
    {
     "name": "stdout",
     "output_type": "stream",
     "text": [
      "{'eval_loss': 0.5776035785675049, 'eval_matthews_correlation': 0.5896871028466439, 'eval_runtime': 0.5486, 'eval_samples_per_second': 1901.141, 'eval_steps_per_second': 60.151, 'epoch': 3.36}\n",
      "{'loss': 0.1272, 'grad_norm': 3.252612352371216, 'learning_rate': 5.074626865671642e-06, 'epoch': 3.73}\n"
     ]
    },
    {
     "data": {
      "application/vnd.jupyter.widget-view+json": {
       "model_id": "829bdb67e99a4495a0c0d5cb9b430286",
       "version_major": 2,
       "version_minor": 0
      },
      "text/plain": [
       "  0%|          | 0/33 [00:00<?, ?it/s]"
      ]
     },
     "metadata": {},
     "output_type": "display_data"
    },
    {
     "name": "stdout",
     "output_type": "stream",
     "text": [
      "{'eval_loss': 0.6676148176193237, 'eval_matthews_correlation': 0.5468696296312392, 'eval_runtime': 0.5536, 'eval_samples_per_second': 1884.09, 'eval_steps_per_second': 59.612, 'epoch': 3.73}\n",
      "{'loss': 0.1127, 'grad_norm': 7.096395015716553, 'learning_rate': 3.582089552238806e-06, 'epoch': 4.1}\n"
     ]
    },
    {
     "data": {
      "application/vnd.jupyter.widget-view+json": {
       "model_id": "9228c8dec5a54d5c8c3476b1e0a67a73",
       "version_major": 2,
       "version_minor": 0
      },
      "text/plain": [
       "  0%|          | 0/33 [00:00<?, ?it/s]"
      ]
     },
     "metadata": {},
     "output_type": "display_data"
    },
    {
     "name": "stdout",
     "output_type": "stream",
     "text": [
      "{'eval_loss': 0.6872794032096863, 'eval_matthews_correlation': 0.572700939299986, 'eval_runtime': 0.5579, 'eval_samples_per_second': 1869.397, 'eval_steps_per_second': 59.147, 'epoch': 4.1}\n",
      "{'loss': 0.0826, 'grad_norm': 0.5039080381393433, 'learning_rate': 2.08955223880597e-06, 'epoch': 4.48}\n"
     ]
    },
    {
     "data": {
      "application/vnd.jupyter.widget-view+json": {
       "model_id": "7279a9d6fdfd472da58a97de27fd1d9f",
       "version_major": 2,
       "version_minor": 0
      },
      "text/plain": [
       "  0%|          | 0/33 [00:00<?, ?it/s]"
      ]
     },
     "metadata": {},
     "output_type": "display_data"
    },
    {
     "name": "stdout",
     "output_type": "stream",
     "text": [
      "{'eval_loss': 0.7393803596496582, 'eval_matthews_correlation': 0.5777940781336061, 'eval_runtime': 0.5532, 'eval_samples_per_second': 1885.498, 'eval_steps_per_second': 59.656, 'epoch': 4.48}\n",
      "{'loss': 0.0832, 'grad_norm': 5.909607410430908, 'learning_rate': 5.970149253731343e-07, 'epoch': 4.85}\n"
     ]
    },
    {
     "data": {
      "application/vnd.jupyter.widget-view+json": {
       "model_id": "e525416c3b994308a02f922e60f64120",
       "version_major": 2,
       "version_minor": 0
      },
      "text/plain": [
       "  0%|          | 0/33 [00:00<?, ?it/s]"
      ]
     },
     "metadata": {},
     "output_type": "display_data"
    },
    {
     "name": "stdout",
     "output_type": "stream",
     "text": [
      "{'eval_loss': 0.7518392205238342, 'eval_matthews_correlation': 0.593197037544882, 'eval_runtime': 0.5671, 'eval_samples_per_second': 1839.065, 'eval_steps_per_second': 58.187, 'epoch': 4.85}\n",
      "{'train_runtime': 148.4195, 'train_samples_per_second': 288.069, 'train_steps_per_second': 9.028, 'train_loss': 0.23324372145667005, 'epoch': 5.0}\n"
     ]
    }
   ],
   "source": [
    "torch.cuda.empty_cache()\n",
    "\n",
    "print(f\"--- {training_arguments.output_dir=}\")\n",
    "training_summary = trainer.train()"
   ]
  },
  {
   "cell_type": "code",
   "execution_count": 21,
   "metadata": {},
   "outputs": [
    {
     "data": {
      "text/plain": [
       "TrainOutput(global_step=1340, training_loss=0.23324372145667005, metrics={'train_runtime': 148.4195, 'train_samples_per_second': 288.069, 'train_steps_per_second': 9.028, 'total_flos': 506607489876180.0, 'train_loss': 0.23324372145667005, 'epoch': 5.0})"
      ]
     },
     "execution_count": 21,
     "metadata": {},
     "output_type": "execute_result"
    }
   ],
   "source": [
    "training_summary"
   ]
  },
  {
   "cell_type": "markdown",
   "metadata": {},
   "source": [
    "We can call `trainer.evaluate()` to check that the `trainer` instance did indeed reload the model checkpoint with the highest evaluation score:"
   ]
  },
  {
   "cell_type": "code",
   "execution_count": 32,
   "metadata": {},
   "outputs": [
    {
     "data": {
      "application/vnd.jupyter.widget-view+json": {
       "model_id": "ead2a963f24b48e1b70a868decf946a6",
       "version_major": 2,
       "version_minor": 0
      },
      "text/plain": [
       "  0%|          | 0/33 [00:00<?, ?it/s]"
      ]
     },
     "metadata": {},
     "output_type": "display_data"
    },
    {
     "data": {
      "text/plain": [
       "{'eval_loss': 0.7518392205238342,\n",
       " 'eval_matthews_correlation': 0.593197037544882,\n",
       " 'eval_runtime': 0.5883,\n",
       " 'eval_samples_per_second': 1772.794,\n",
       " 'eval_steps_per_second': 56.09,\n",
       " 'epoch': 5.0}"
      ]
     },
     "execution_count": 32,
     "metadata": {},
     "output_type": "execute_result"
    }
   ],
   "source": [
    "best_model_evaluation = trainer.evaluate()\n",
    "best_model_evaluation"
   ]
  },
  {
   "cell_type": "code",
   "execution_count": 48,
   "metadata": {},
   "outputs": [
    {
     "data": {
      "text/html": [
       "<div>\n",
       "<style scoped>\n",
       "    .dataframe tbody tr th:only-of-type {\n",
       "        vertical-align: middle;\n",
       "    }\n",
       "\n",
       "    .dataframe tbody tr th {\n",
       "        vertical-align: top;\n",
       "    }\n",
       "\n",
       "    .dataframe thead th {\n",
       "        text-align: right;\n",
       "    }\n",
       "</style>\n",
       "<table border=\"1\" class=\"dataframe\">\n",
       "  <thead>\n",
       "    <tr style=\"text-align: right;\">\n",
       "      <th></th>\n",
       "      <th>loss</th>\n",
       "      <th>grad_norm</th>\n",
       "      <th>learning_rate</th>\n",
       "      <th>epoch</th>\n",
       "      <th>eval_loss</th>\n",
       "      <th>eval_matthews_correlation</th>\n",
       "      <th>eval_runtime</th>\n",
       "      <th>eval_samples_per_second</th>\n",
       "      <th>eval_steps_per_second</th>\n",
       "      <th>train_runtime</th>\n",
       "      <th>train_samples_per_second</th>\n",
       "      <th>train_steps_per_second</th>\n",
       "      <th>total_flos</th>\n",
       "      <th>train_loss</th>\n",
       "    </tr>\n",
       "    <tr>\n",
       "      <th>step</th>\n",
       "      <th></th>\n",
       "      <th></th>\n",
       "      <th></th>\n",
       "      <th></th>\n",
       "      <th></th>\n",
       "      <th></th>\n",
       "      <th></th>\n",
       "      <th></th>\n",
       "      <th></th>\n",
       "      <th></th>\n",
       "      <th></th>\n",
       "      <th></th>\n",
       "      <th></th>\n",
       "      <th></th>\n",
       "    </tr>\n",
       "  </thead>\n",
       "  <tbody>\n",
       "    <tr>\n",
       "      <th>100</th>\n",
       "      <td>0.5283</td>\n",
       "      <td>5.498427</td>\n",
       "      <td>1.850746e-05</td>\n",
       "      <td>0.373134</td>\n",
       "      <td>0.471853</td>\n",
       "      <td>0.493805</td>\n",
       "      <td>0.5479</td>\n",
       "      <td>1903.785</td>\n",
       "      <td>60.235</td>\n",
       "      <td>NaN</td>\n",
       "      <td>NaN</td>\n",
       "      <td>NaN</td>\n",
       "      <td>NaN</td>\n",
       "      <td>NaN</td>\n",
       "    </tr>\n",
       "    <tr>\n",
       "      <th>200</th>\n",
       "      <td>0.4556</td>\n",
       "      <td>4.645875</td>\n",
       "      <td>1.701493e-05</td>\n",
       "      <td>0.746269</td>\n",
       "      <td>0.441421</td>\n",
       "      <td>0.524597</td>\n",
       "      <td>0.5520</td>\n",
       "      <td>1889.495</td>\n",
       "      <td>59.783</td>\n",
       "      <td>NaN</td>\n",
       "      <td>NaN</td>\n",
       "      <td>NaN</td>\n",
       "      <td>NaN</td>\n",
       "      <td>NaN</td>\n",
       "    </tr>\n",
       "    <tr>\n",
       "      <th>300</th>\n",
       "      <td>0.3903</td>\n",
       "      <td>7.003179</td>\n",
       "      <td>1.552239e-05</td>\n",
       "      <td>1.119403</td>\n",
       "      <td>0.468470</td>\n",
       "      <td>0.557877</td>\n",
       "      <td>0.5640</td>\n",
       "      <td>1849.162</td>\n",
       "      <td>58.507</td>\n",
       "      <td>NaN</td>\n",
       "      <td>NaN</td>\n",
       "      <td>NaN</td>\n",
       "      <td>NaN</td>\n",
       "      <td>NaN</td>\n",
       "    </tr>\n",
       "    <tr>\n",
       "      <th>400</th>\n",
       "      <td>0.2948</td>\n",
       "      <td>7.371008</td>\n",
       "      <td>1.402985e-05</td>\n",
       "      <td>1.492537</td>\n",
       "      <td>0.482110</td>\n",
       "      <td>0.515318</td>\n",
       "      <td>0.5506</td>\n",
       "      <td>1894.416</td>\n",
       "      <td>59.938</td>\n",
       "      <td>NaN</td>\n",
       "      <td>NaN</td>\n",
       "      <td>NaN</td>\n",
       "      <td>NaN</td>\n",
       "      <td>NaN</td>\n",
       "    </tr>\n",
       "    <tr>\n",
       "      <th>500</th>\n",
       "      <td>0.2902</td>\n",
       "      <td>12.281094</td>\n",
       "      <td>1.253731e-05</td>\n",
       "      <td>1.865672</td>\n",
       "      <td>0.509342</td>\n",
       "      <td>0.552318</td>\n",
       "      <td>0.5528</td>\n",
       "      <td>1886.921</td>\n",
       "      <td>59.701</td>\n",
       "      <td>NaN</td>\n",
       "      <td>NaN</td>\n",
       "      <td>NaN</td>\n",
       "      <td>NaN</td>\n",
       "      <td>NaN</td>\n",
       "    </tr>\n",
       "    <tr>\n",
       "      <th>600</th>\n",
       "      <td>0.2282</td>\n",
       "      <td>10.120359</td>\n",
       "      <td>1.104478e-05</td>\n",
       "      <td>2.238806</td>\n",
       "      <td>0.506323</td>\n",
       "      <td>0.570305</td>\n",
       "      <td>0.5516</td>\n",
       "      <td>1891.007</td>\n",
       "      <td>59.831</td>\n",
       "      <td>NaN</td>\n",
       "      <td>NaN</td>\n",
       "      <td>NaN</td>\n",
       "      <td>NaN</td>\n",
       "      <td>NaN</td>\n",
       "    </tr>\n",
       "    <tr>\n",
       "      <th>700</th>\n",
       "      <td>0.1836</td>\n",
       "      <td>12.957316</td>\n",
       "      <td>9.552239e-06</td>\n",
       "      <td>2.611940</td>\n",
       "      <td>0.619119</td>\n",
       "      <td>0.539283</td>\n",
       "      <td>0.5452</td>\n",
       "      <td>1913.184</td>\n",
       "      <td>60.532</td>\n",
       "      <td>NaN</td>\n",
       "      <td>NaN</td>\n",
       "      <td>NaN</td>\n",
       "      <td>NaN</td>\n",
       "      <td>NaN</td>\n",
       "    </tr>\n",
       "    <tr>\n",
       "      <th>800</th>\n",
       "      <td>0.1758</td>\n",
       "      <td>7.420417</td>\n",
       "      <td>8.059701e-06</td>\n",
       "      <td>2.985075</td>\n",
       "      <td>0.596891</td>\n",
       "      <td>0.564981</td>\n",
       "      <td>0.5612</td>\n",
       "      <td>1858.477</td>\n",
       "      <td>58.801</td>\n",
       "      <td>NaN</td>\n",
       "      <td>NaN</td>\n",
       "      <td>NaN</td>\n",
       "      <td>NaN</td>\n",
       "      <td>NaN</td>\n",
       "    </tr>\n",
       "    <tr>\n",
       "      <th>900</th>\n",
       "      <td>0.1343</td>\n",
       "      <td>13.231679</td>\n",
       "      <td>6.567164e-06</td>\n",
       "      <td>3.358209</td>\n",
       "      <td>0.577604</td>\n",
       "      <td>0.589687</td>\n",
       "      <td>0.5486</td>\n",
       "      <td>1901.141</td>\n",
       "      <td>60.151</td>\n",
       "      <td>NaN</td>\n",
       "      <td>NaN</td>\n",
       "      <td>NaN</td>\n",
       "      <td>NaN</td>\n",
       "      <td>NaN</td>\n",
       "    </tr>\n",
       "    <tr>\n",
       "      <th>1000</th>\n",
       "      <td>0.1272</td>\n",
       "      <td>3.252612</td>\n",
       "      <td>5.074627e-06</td>\n",
       "      <td>3.731343</td>\n",
       "      <td>0.667615</td>\n",
       "      <td>0.546870</td>\n",
       "      <td>0.5536</td>\n",
       "      <td>1884.090</td>\n",
       "      <td>59.612</td>\n",
       "      <td>NaN</td>\n",
       "      <td>NaN</td>\n",
       "      <td>NaN</td>\n",
       "      <td>NaN</td>\n",
       "      <td>NaN</td>\n",
       "    </tr>\n",
       "    <tr>\n",
       "      <th>1100</th>\n",
       "      <td>0.1127</td>\n",
       "      <td>7.096395</td>\n",
       "      <td>3.582090e-06</td>\n",
       "      <td>4.104478</td>\n",
       "      <td>0.687279</td>\n",
       "      <td>0.572701</td>\n",
       "      <td>0.5579</td>\n",
       "      <td>1869.397</td>\n",
       "      <td>59.147</td>\n",
       "      <td>NaN</td>\n",
       "      <td>NaN</td>\n",
       "      <td>NaN</td>\n",
       "      <td>NaN</td>\n",
       "      <td>NaN</td>\n",
       "    </tr>\n",
       "    <tr>\n",
       "      <th>1200</th>\n",
       "      <td>0.0826</td>\n",
       "      <td>0.503908</td>\n",
       "      <td>2.089552e-06</td>\n",
       "      <td>4.477612</td>\n",
       "      <td>0.739380</td>\n",
       "      <td>0.577794</td>\n",
       "      <td>0.5532</td>\n",
       "      <td>1885.498</td>\n",
       "      <td>59.656</td>\n",
       "      <td>NaN</td>\n",
       "      <td>NaN</td>\n",
       "      <td>NaN</td>\n",
       "      <td>NaN</td>\n",
       "      <td>NaN</td>\n",
       "    </tr>\n",
       "    <tr>\n",
       "      <th>1300</th>\n",
       "      <td>0.0832</td>\n",
       "      <td>5.909607</td>\n",
       "      <td>5.970149e-07</td>\n",
       "      <td>4.850746</td>\n",
       "      <td>0.751839</td>\n",
       "      <td>0.593197</td>\n",
       "      <td>0.5671</td>\n",
       "      <td>1839.065</td>\n",
       "      <td>58.187</td>\n",
       "      <td>NaN</td>\n",
       "      <td>NaN</td>\n",
       "      <td>NaN</td>\n",
       "      <td>NaN</td>\n",
       "      <td>NaN</td>\n",
       "    </tr>\n",
       "    <tr>\n",
       "      <th>1340</th>\n",
       "      <td>NaN</td>\n",
       "      <td>NaN</td>\n",
       "      <td>NaN</td>\n",
       "      <td>5.000000</td>\n",
       "      <td>0.751839</td>\n",
       "      <td>0.593197</td>\n",
       "      <td>0.5437</td>\n",
       "      <td>1918.200</td>\n",
       "      <td>60.691</td>\n",
       "      <td>148.4195</td>\n",
       "      <td>288.069</td>\n",
       "      <td>9.028</td>\n",
       "      <td>5.066075e+14</td>\n",
       "      <td>0.233244</td>\n",
       "    </tr>\n",
       "  </tbody>\n",
       "</table>\n",
       "</div>"
      ],
      "text/plain": [
       "        loss  grad_norm  learning_rate     epoch  eval_loss  \\\n",
       "step                                                          \n",
       "100   0.5283   5.498427   1.850746e-05  0.373134   0.471853   \n",
       "200   0.4556   4.645875   1.701493e-05  0.746269   0.441421   \n",
       "300   0.3903   7.003179   1.552239e-05  1.119403   0.468470   \n",
       "400   0.2948   7.371008   1.402985e-05  1.492537   0.482110   \n",
       "500   0.2902  12.281094   1.253731e-05  1.865672   0.509342   \n",
       "600   0.2282  10.120359   1.104478e-05  2.238806   0.506323   \n",
       "700   0.1836  12.957316   9.552239e-06  2.611940   0.619119   \n",
       "800   0.1758   7.420417   8.059701e-06  2.985075   0.596891   \n",
       "900   0.1343  13.231679   6.567164e-06  3.358209   0.577604   \n",
       "1000  0.1272   3.252612   5.074627e-06  3.731343   0.667615   \n",
       "1100  0.1127   7.096395   3.582090e-06  4.104478   0.687279   \n",
       "1200  0.0826   0.503908   2.089552e-06  4.477612   0.739380   \n",
       "1300  0.0832   5.909607   5.970149e-07  4.850746   0.751839   \n",
       "1340     NaN        NaN            NaN  5.000000   0.751839   \n",
       "\n",
       "      eval_matthews_correlation  eval_runtime  eval_samples_per_second  \\\n",
       "step                                                                     \n",
       "100                    0.493805        0.5479                 1903.785   \n",
       "200                    0.524597        0.5520                 1889.495   \n",
       "300                    0.557877        0.5640                 1849.162   \n",
       "400                    0.515318        0.5506                 1894.416   \n",
       "500                    0.552318        0.5528                 1886.921   \n",
       "600                    0.570305        0.5516                 1891.007   \n",
       "700                    0.539283        0.5452                 1913.184   \n",
       "800                    0.564981        0.5612                 1858.477   \n",
       "900                    0.589687        0.5486                 1901.141   \n",
       "1000                   0.546870        0.5536                 1884.090   \n",
       "1100                   0.572701        0.5579                 1869.397   \n",
       "1200                   0.577794        0.5532                 1885.498   \n",
       "1300                   0.593197        0.5671                 1839.065   \n",
       "1340                   0.593197        0.5437                 1918.200   \n",
       "\n",
       "      eval_steps_per_second  train_runtime  train_samples_per_second  \\\n",
       "step                                                                   \n",
       "100                  60.235            NaN                       NaN   \n",
       "200                  59.783            NaN                       NaN   \n",
       "300                  58.507            NaN                       NaN   \n",
       "400                  59.938            NaN                       NaN   \n",
       "500                  59.701            NaN                       NaN   \n",
       "600                  59.831            NaN                       NaN   \n",
       "700                  60.532            NaN                       NaN   \n",
       "800                  58.801            NaN                       NaN   \n",
       "900                  60.151            NaN                       NaN   \n",
       "1000                 59.612            NaN                       NaN   \n",
       "1100                 59.147            NaN                       NaN   \n",
       "1200                 59.656            NaN                       NaN   \n",
       "1300                 58.187            NaN                       NaN   \n",
       "1340                 60.691       148.4195                   288.069   \n",
       "\n",
       "      train_steps_per_second    total_flos  train_loss  \n",
       "step                                                    \n",
       "100                      NaN           NaN         NaN  \n",
       "200                      NaN           NaN         NaN  \n",
       "300                      NaN           NaN         NaN  \n",
       "400                      NaN           NaN         NaN  \n",
       "500                      NaN           NaN         NaN  \n",
       "600                      NaN           NaN         NaN  \n",
       "700                      NaN           NaN         NaN  \n",
       "800                      NaN           NaN         NaN  \n",
       "900                      NaN           NaN         NaN  \n",
       "1000                     NaN           NaN         NaN  \n",
       "1100                     NaN           NaN         NaN  \n",
       "1200                     NaN           NaN         NaN  \n",
       "1300                     NaN           NaN         NaN  \n",
       "1340                   9.028  5.066075e+14    0.233244  "
      ]
     },
     "execution_count": 48,
     "metadata": {},
     "output_type": "execute_result"
    }
   ],
   "source": [
    "training_history = pd.DataFrame(trainer.state.log_history)\n",
    "training_history.groupby(\"step\").first()"
   ]
  },
  {
   "cell_type": "code",
   "execution_count": null,
   "metadata": {},
   "outputs": [
    {
     "data": {
      "text/markdown": [
       "### Loss and Evaluation Metrics over Training Steps"
      ],
      "text/plain": [
       "<IPython.core.display.Markdown object>"
      ]
     },
     "metadata": {},
     "output_type": "display_data"
    },
    {
     "data": {
      "image/png": "[encoded data removed]",
      "text/plain": [
       "<Figure size 640x480 with 1 Axes>"
      ]
     },
     "metadata": {},
     "output_type": "display_data"
    }
   ],
   "source": [
    "import seaborn as sns\n",
    "\n",
    "data = training_history[[\"loss\", \"eval_loss\", \"step\", f\"eval_{metric_name}\"]]\n",
    "data.columns = [\"Train. Loss\", \"Eval. Loss\", \"Training Steps\", \"Matthew's Corr.\"]\n",
    "data = pd.melt(data, ['Training Steps'])\n",
    "\n",
    "plot = sns.lineplot(data=data, x=\"Training Steps\", y=\"value\", hue=\"variable\", style=\"variable\", markers=True)\n",
    "plot.set_ylabel(\"\")\n",
    "plot.set_ylim((0, plot.get_ylim()[1]))\n",
    "plot.legend(title=\"\")\n",
    "\n",
    "from IPython.display import Markdown, display\n",
    "display(Markdown(\"### Loss and Evaluation Metrics over Training Steps\"))"
   ]
  },
  {
   "cell_type": "code",
   "execution_count": 39,
   "metadata": {},
   "outputs": [
    {
     "data": {
      "text/markdown": [
       "### Best Model performance:"
      ],
      "text/plain": [
       "<IPython.core.display.Markdown object>"
      ]
     },
     "metadata": {},
     "output_type": "display_data"
    },
    {
     "data": {
      "text/html": [
       "<div>\n",
       "<style scoped>\n",
       "    .dataframe tbody tr th:only-of-type {\n",
       "        vertical-align: middle;\n",
       "    }\n",
       "\n",
       "    .dataframe tbody tr th {\n",
       "        vertical-align: top;\n",
       "    }\n",
       "\n",
       "    .dataframe thead th {\n",
       "        text-align: right;\n",
       "    }\n",
       "</style>\n",
       "<table border=\"1\" class=\"dataframe\">\n",
       "  <thead>\n",
       "    <tr style=\"text-align: right;\">\n",
       "      <th></th>\n",
       "      <th>values</th>\n",
       "    </tr>\n",
       "  </thead>\n",
       "  <tbody>\n",
       "    <tr>\n",
       "      <th>eval_loss</th>\n",
       "      <td>0.751839</td>\n",
       "    </tr>\n",
       "    <tr>\n",
       "      <th>eval_matthews_correlation</th>\n",
       "      <td>0.593197</td>\n",
       "    </tr>\n",
       "  </tbody>\n",
       "</table>\n",
       "</div>"
      ],
      "text/plain": [
       "                             values\n",
       "eval_loss                  0.751839\n",
       "eval_matthews_correlation  0.593197"
      ]
     },
     "execution_count": 39,
     "metadata": {},
     "output_type": "execute_result"
    }
   ],
   "source": [
    "display(Markdown(f\"### Best Model performance:\"))\n",
    "pd.DataFrame(\n",
    "    best_model_evaluation.values(),\n",
    "    index=best_model_evaluation.keys(),\n",
    "    columns=[\"values\"],\n",
    ").drop(\n",
    "    # Drop runtime measurements\n",
    "    index=[\"eval_runtime\", \"eval_samples_per_second\", \"eval_steps_per_second\", \"epoch\"]\n",
    ")"
   ]
  },
  {
   "cell_type": "code",
   "execution_count": null,
   "metadata": {},
   "outputs": [],
   "source": []
  }
 ],
 "metadata": {
  "kernelspec": {
   "display_name": ".venv",
   "language": "python",
   "name": "python3"
  },
  "language_info": {
   "codemirror_mode": {
    "name": "ipython",
    "version": 3
   },
   "file_extension": ".py",
   "mimetype": "text/x-python",
   "name": "python",
   "nbconvert_exporter": "python",
   "pygments_lexer": "ipython3",
   "version": "3.11.11"
  }
 },
 "nbformat": 4,
 "nbformat_minor": 2
}
