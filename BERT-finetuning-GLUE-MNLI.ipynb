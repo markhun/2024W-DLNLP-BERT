{
 "cells": [
  {
   "cell_type": "markdown",
   "metadata": {},
   "source": [
    "# Fine-Tuning BERT on GLUE - MNLI"
   ]
  },
  {
   "cell_type": "markdown",
   "metadata": {},
   "source": [
    "From [GLUE: A Multi-Task Benchmark and Analysis Platform for Natural Language Understanding - Wang et al.](https://arxiv.org/pdf/1804.07461):\n",
    "\n",
    "The Multi-Genre Natural Language Inference Corpus (Williams et al., 2018) is a crowdsourced collection of sentence pairs with textual entailment annotations. Given a premise sentence\n",
    "and a hypothesis sentence, the task is to predict whether the premise entails the hypothesis (entailment), contradicts the hypothesis (contradiction), or neither (neutral). The premise sentences are\n",
    "gathered from ten different sources, including transcribed speech, fiction, and government reports.\n",
    "We use the standard test set, for which we obtained private labels from the authors, and evaluate\n",
    "on both the matched (in-domain) and mismatched (cross-domain) sections. We also use and recommend the SNLI corpus (Bowman et al., 2015) as 550k examples of auxiliary training data."
   ]
  },
  {
   "cell_type": "markdown",
   "metadata": {},
   "source": [
    "## Configuration"
   ]
  },
  {
   "cell_type": "code",
   "execution_count": 1,
   "metadata": {},
   "outputs": [],
   "source": [
    "import os\n",
    "\n",
    "# Where to store the huggingface data. On the provided Jupyterlab instance that should be within the shared group folder.\n",
    "os.environ['HF_HOME'] = '../groups/192.039-2024W/bert/huggingface/cache'"
   ]
  },
  {
   "cell_type": "code",
   "execution_count": 2,
   "metadata": {},
   "outputs": [],
   "source": [
    "from pathlib import Path\n",
    "\n",
    "from transformers import set_seed\n",
    "\n",
    "# RANDOMNESS SEED\n",
    "SEED = 42\n",
    "set_seed(SEED)\n",
    "\n",
    "# Which dataset to load\n",
    "DATASET_NAME = \"glue\"\n",
    "DATASET_TASK = \"mnli\"\n",
    "\n",
    "PRE_TRAINED_CHECKPOINT = \"google-bert/bert-base-uncased\"\n",
    "\n",
    "TRAIN_OUTPUT_DIR = (\n",
    "    Path(\"../groups/192.039-2024W/bert\") / \"training\" / f\"{DATASET_NAME}-{DATASET_TASK}\"\n",
    ")\n",
    "\n",
    "BATCH_SIZE = 32  # Original Paper claims to use 32 for GLUE tasks\n",
    "NUM_EPOCHS = 5  # Original Paper claims to use 3 fine-tuning epochs for GLUE tasks"
   ]
  },
  {
   "cell_type": "code",
   "execution_count": 3,
   "metadata": {},
   "outputs": [
    {
     "name": "stdout",
     "output_type": "stream",
     "text": [
      "There are 1 GPU(s) available.\n",
      "GPU used: NVIDIA GeForce RTX 4060 Ti\n",
      "\n",
      "==============NVSMI LOG==============\n",
      "\n",
      "Timestamp                                 : Mon Jan  6 11:14:56 2025\n",
      "Driver Version                            : 550.135\n",
      "CUDA Version                              : 12.4\n",
      "\n",
      "Attached GPUs                             : 1\n",
      "GPU 00000000:07:00.0\n",
      "    FB Memory Usage\n",
      "        Total                             : 16380 MiB\n",
      "        Reserved                          : 307 MiB\n",
      "        Used                              : 1146 MiB\n",
      "        Free                              : 14929 MiB\n",
      "    BAR1 Memory Usage\n",
      "        Total                             : 256 MiB\n",
      "        Used                              : 22 MiB\n",
      "        Free                              : 234 MiB\n",
      "    Conf Compute Protected Memory Usage\n",
      "        Total                             : 0 MiB\n",
      "        Used                              : 0 MiB\n",
      "        Free                              : 0 MiB\n",
      "    Compute Mode                          : Default\n",
      "\n"
     ]
    }
   ],
   "source": [
    "import torch\n",
    "\n",
    "if torch.cuda.is_available():\n",
    "  device = torch.device(\"cuda\")\n",
    "  device_count = torch.cuda.device_count()\n",
    "  device_name = torch.cuda.get_device_name(0)\n",
    "\n",
    "  print(f\"There are {device_count} GPU(s) available.\")\n",
    "  print(f\"GPU used: {device_name}\")\n",
    "  ! nvidia-smi -q --display=MEMORY,COMPUTE\n",
    "\n",
    "else:\n",
    "  print(\"No GPU available, using CPU.\")\n",
    "  device = torch.device(\"cpu\")"
   ]
  },
  {
   "cell_type": "markdown",
   "metadata": {},
   "source": [
    "## Dataset"
   ]
  },
  {
   "cell_type": "code",
   "execution_count": 4,
   "metadata": {},
   "outputs": [],
   "source": [
    "# In the GLUE dataset different tasks have different accessor keys\n",
    "_task_to_keys = {\n",
    "    \"cola\": (\"sentence\", None),\n",
    "    \"mnli\": (\"premise\", \"hypothesis\"),\n",
    "    \"mrpc\": (\"sentence1\", \"sentence2\"),\n",
    "    \"qnli\": (\"question\", \"sentence\"),\n",
    "    \"qqp\": (\"question1\", \"question2\"),\n",
    "    \"rte\": (\"sentence1\", \"sentence2\"),\n",
    "    \"sst2\": (\"sentence\", None),\n",
    "    \"stsb\": (\"sentence1\", \"sentence2\"),\n",
    "}"
   ]
  },
  {
   "cell_type": "code",
   "execution_count": 5,
   "metadata": {},
   "outputs": [
    {
     "data": {
      "text/plain": [
       "DatasetDict({\n",
       "    train: Dataset({\n",
       "        features: ['premise', 'hypothesis', 'label', 'idx'],\n",
       "        num_rows: 392702\n",
       "    })\n",
       "    validation_matched: Dataset({\n",
       "        features: ['premise', 'hypothesis', 'label', 'idx'],\n",
       "        num_rows: 9815\n",
       "    })\n",
       "    validation_mismatched: Dataset({\n",
       "        features: ['premise', 'hypothesis', 'label', 'idx'],\n",
       "        num_rows: 9832\n",
       "    })\n",
       "    test_matched: Dataset({\n",
       "        features: ['premise', 'hypothesis', 'label', 'idx'],\n",
       "        num_rows: 9796\n",
       "    })\n",
       "    test_mismatched: Dataset({\n",
       "        features: ['premise', 'hypothesis', 'label', 'idx'],\n",
       "        num_rows: 9847\n",
       "    })\n",
       "})"
      ]
     },
     "execution_count": 5,
     "metadata": {},
     "output_type": "execute_result"
    }
   ],
   "source": [
    "from datasets import load_dataset\n",
    "import pandas as pd\n",
    "\n",
    "dataset = load_dataset(DATASET_NAME, DATASET_TASK)\n",
    "dataset"
   ]
  },
  {
   "cell_type": "markdown",
   "metadata": {},
   "source": [
    "The MNLI dataset is special, as it provides two validation and two test datasets. One matched (in-domain) and one mismatched (cross-domain)."
   ]
  },
  {
   "cell_type": "code",
   "execution_count": 6,
   "metadata": {},
   "outputs": [
    {
     "data": {
      "text/html": [
       "<div>\n",
       "<style scoped>\n",
       "    .dataframe tbody tr th:only-of-type {\n",
       "        vertical-align: middle;\n",
       "    }\n",
       "\n",
       "    .dataframe tbody tr th {\n",
       "        vertical-align: top;\n",
       "    }\n",
       "\n",
       "    .dataframe thead th {\n",
       "        text-align: right;\n",
       "    }\n",
       "</style>\n",
       "<table border=\"1\" class=\"dataframe\">\n",
       "  <thead>\n",
       "    <tr style=\"text-align: right;\">\n",
       "      <th></th>\n",
       "      <th>premise</th>\n",
       "      <th>hypothesis</th>\n",
       "      <th>label</th>\n",
       "      <th>idx</th>\n",
       "    </tr>\n",
       "  </thead>\n",
       "  <tbody>\n",
       "    <tr>\n",
       "      <th>155219</th>\n",
       "      <td>That's all right.</td>\n",
       "      <td>That's fine.</td>\n",
       "      <td>0</td>\n",
       "      <td>155219</td>\n",
       "    </tr>\n",
       "    <tr>\n",
       "      <th>327538</th>\n",
       "      <td>Televisions are expensive these days.</td>\n",
       "      <td>Televisions cost $200 when you purchase them f...</td>\n",
       "      <td>1</td>\n",
       "      <td>327538</td>\n",
       "    </tr>\n",
       "    <tr>\n",
       "      <th>325456</th>\n",
       "      <td>The colonial porte cochre sets the tone for Wa...</td>\n",
       "      <td>The colonial porte coche on the front of the p...</td>\n",
       "      <td>1</td>\n",
       "      <td>325456</td>\n",
       "    </tr>\n",
       "    <tr>\n",
       "      <th>341461</th>\n",
       "      <td>and you just sift</td>\n",
       "      <td>Don't sift, ever.</td>\n",
       "      <td>2</td>\n",
       "      <td>341461</td>\n",
       "    </tr>\n",
       "    <tr>\n",
       "      <th>54698</th>\n",
       "      <td>You think there's somethin' in all that talk T...</td>\n",
       "      <td>Topham had supported the talk due to his own d...</td>\n",
       "      <td>1</td>\n",
       "      <td>54698</td>\n",
       "    </tr>\n",
       "    <tr>\n",
       "      <th>38374</th>\n",
       "      <td>are the uh Oldsmobiles that you're looking at ...</td>\n",
       "      <td>Are the cars you're looking at for scrap only?</td>\n",
       "      <td>2</td>\n",
       "      <td>38374</td>\n",
       "    </tr>\n",
       "    <tr>\n",
       "      <th>284865</th>\n",
       "      <td>and she's doing it i mean it's not like it's like</td>\n",
       "      <td>She is doing something</td>\n",
       "      <td>0</td>\n",
       "      <td>284865</td>\n",
       "    </tr>\n",
       "    <tr>\n",
       "      <th>333146</th>\n",
       "      <td>Ancient and ill-maintained, it starts off shin...</td>\n",
       "      <td>The line gets in worse condition as it gets cl...</td>\n",
       "      <td>0</td>\n",
       "      <td>333146</td>\n",
       "    </tr>\n",
       "    <tr>\n",
       "      <th>216074</th>\n",
       "      <td>One of the first impressions you'll get at the...</td>\n",
       "      <td>Dehli is not considered a very diverse place.</td>\n",
       "      <td>2</td>\n",
       "      <td>216074</td>\n",
       "    </tr>\n",
       "    <tr>\n",
       "      <th>125620</th>\n",
       "      <td>what about people from uh Pennsylvania what do...</td>\n",
       "      <td>do people in Pennsylvania think people in Texa...</td>\n",
       "      <td>1</td>\n",
       "      <td>125620</td>\n",
       "    </tr>\n",
       "  </tbody>\n",
       "</table>\n",
       "</div>"
      ],
      "text/plain": [
       "                                                  premise  \\\n",
       "155219                                  That's all right.   \n",
       "327538              Televisions are expensive these days.   \n",
       "325456  The colonial porte cochre sets the tone for Wa...   \n",
       "341461                                  and you just sift   \n",
       "54698   You think there's somethin' in all that talk T...   \n",
       "38374   are the uh Oldsmobiles that you're looking at ...   \n",
       "284865  and she's doing it i mean it's not like it's like   \n",
       "333146  Ancient and ill-maintained, it starts off shin...   \n",
       "216074  One of the first impressions you'll get at the...   \n",
       "125620  what about people from uh Pennsylvania what do...   \n",
       "\n",
       "                                               hypothesis  label     idx  \n",
       "155219                                       That's fine.      0  155219  \n",
       "327538  Televisions cost $200 when you purchase them f...      1  327538  \n",
       "325456  The colonial porte coche on the front of the p...      1  325456  \n",
       "341461                                  Don't sift, ever.      2  341461  \n",
       "54698   Topham had supported the talk due to his own d...      1   54698  \n",
       "38374      Are the cars you're looking at for scrap only?      2   38374  \n",
       "284865                             She is doing something      0  284865  \n",
       "333146  The line gets in worse condition as it gets cl...      0  333146  \n",
       "216074      Dehli is not considered a very diverse place.      2  216074  \n",
       "125620  do people in Pennsylvania think people in Texa...      1  125620  "
      ]
     },
     "execution_count": 6,
     "metadata": {},
     "output_type": "execute_result"
    }
   ],
   "source": [
    "pd.DataFrame(dataset[\"train\"]).sample(10)"
   ]
  },
  {
   "cell_type": "code",
   "execution_count": 7,
   "metadata": {},
   "outputs": [
    {
     "name": "stdout",
     "output_type": "stream",
     "text": [
      "unique_lables_in_dataset=array([1, 0, 2])\n",
      "num_labels=3\n"
     ]
    }
   ],
   "source": [
    "unique_lables_in_dataset = pd.DataFrame(dataset[\"train\"])[\"label\"].unique()\n",
    "num_labels = len(unique_lables_in_dataset)\n",
    "\n",
    "print(f\"{unique_lables_in_dataset=}\")\n",
    "print(f\"{num_labels=}\")"
   ]
  },
  {
   "cell_type": "markdown",
   "metadata": {},
   "source": [
    "## Tokenization"
   ]
  },
  {
   "cell_type": "code",
   "execution_count": 8,
   "metadata": {},
   "outputs": [],
   "source": [
    "from transformers import AutoTokenizer\n",
    "\n",
    "tokenizer = AutoTokenizer.from_pretrained(PRE_TRAINED_CHECKPOINT, do_lower_case=\"uncased\" in PRE_TRAINED_CHECKPOINT)"
   ]
  },
  {
   "cell_type": "markdown",
   "metadata": {},
   "source": [
    "BERT has a maximum sequence length of 512. We can check the sequence lengths resulting from tokenizing our dataset to see if our dataset exceeds this restriction of BERT:"
   ]
  },
  {
   "cell_type": "code",
   "execution_count": 9,
   "metadata": {},
   "outputs": [
    {
     "name": "stdout",
     "output_type": "stream",
     "text": [
      "Max length in split='train': 444\n",
      "Max length in split='validation_matched': 237\n",
      "Max length in split='validation_mismatched': 211\n",
      "Max length in split='test_matched': 249\n",
      "Max length in split='test_mismatched': 262\n"
     ]
    }
   ],
   "source": [
    "first_sentence_key, second_sentence_key = _task_to_keys[DATASET_TASK]\n",
    "\n",
    "if second_sentence_key == None:  # Simply tokenize sentence\n",
    "\n",
    "    for split in dataset.keys():\n",
    "        max_len = 0\n",
    "        for sentence in dataset[split][first_sentence_key]:\n",
    "            # Tokenize the text and add `[CLS]` and `[SEP]` tokens.\n",
    "            input_ids = tokenizer.encode(sentence, add_special_tokens=True)\n",
    "            \n",
    "            max_len = max(max_len, len(input_ids))\n",
    "        \n",
    "\n",
    "        print(f\"Max length in {split=}: {max_len}\")\n",
    "\n",
    "else:  # Append both sentences via [SEP] and tokenize\n",
    "\n",
    "    for split in dataset.keys():\n",
    "        max_len = 0\n",
    "        for sentence1, sentence2 in zip(dataset[split][first_sentence_key], dataset[split][second_sentence_key]):\n",
    "            # Tokenize the text and add `[CLS]` and `[SEP]` tokens.\n",
    "            input_ids = tokenizer.encode(sentence1, sentence2,  add_special_tokens=True)\n",
    "            \n",
    "            max_len = max(max_len, len(input_ids))\n",
    "        \n",
    "\n",
    "        print(f\"Max length in {split=}: {max_len}\")\n"
   ]
  },
  {
   "cell_type": "code",
   "execution_count": 10,
   "metadata": {},
   "outputs": [
    {
     "data": {
      "application/vnd.jupyter.widget-view+json": {
       "model_id": "688206916d6e40919d5f65eeb1545990",
       "version_major": 2,
       "version_minor": 0
      },
      "text/plain": [
       "Map:   0%|          | 0/9832 [00:00<?, ? examples/s]"
      ]
     },
     "metadata": {},
     "output_type": "display_data"
    }
   ],
   "source": [
    "def tokenize_func(item):\n",
    "    \"\"\"Tokenize passed item. \n",
    "    \n",
    "    Depending on dataset task the passed item will either contain one sentence or two sentences.\n",
    "    In the last case the two sentences will be appended via a [SEP] token.\n",
    "    \"\"\"\n",
    "    if second_sentence_key is None:\n",
    "        return tokenizer(item[first_sentence_key], add_special_tokens=True, truncation=True)\n",
    "    else:\n",
    "        return tokenizer(item[first_sentence_key], item[second_sentence_key], add_special_tokens=True, truncation=True)\n",
    "\n",
    "tokenized_dataset = dataset.map(tokenize_func, batched=True)"
   ]
  },
  {
   "cell_type": "markdown",
   "metadata": {},
   "source": [
    "Here is an example of a tokenized dataset item:"
   ]
  },
  {
   "cell_type": "code",
   "execution_count": 11,
   "metadata": {},
   "outputs": [
    {
     "data": {
      "text/html": [
       "<div>\n",
       "<style scoped>\n",
       "    .dataframe tbody tr th:only-of-type {\n",
       "        vertical-align: middle;\n",
       "    }\n",
       "\n",
       "    .dataframe tbody tr th {\n",
       "        vertical-align: top;\n",
       "    }\n",
       "\n",
       "    .dataframe thead th {\n",
       "        text-align: right;\n",
       "    }\n",
       "</style>\n",
       "<table border=\"1\" class=\"dataframe\">\n",
       "  <thead>\n",
       "    <tr style=\"text-align: right;\">\n",
       "      <th></th>\n",
       "      <th>0</th>\n",
       "    </tr>\n",
       "  </thead>\n",
       "  <tbody>\n",
       "    <tr>\n",
       "      <th>premise</th>\n",
       "      <td>Conceptually cream skimming has two basic dimensions - product and geography.</td>\n",
       "    </tr>\n",
       "    <tr>\n",
       "      <th>hypothesis</th>\n",
       "      <td>Product and geography are what make cream skimming work.</td>\n",
       "    </tr>\n",
       "    <tr>\n",
       "      <th>label</th>\n",
       "      <td>1</td>\n",
       "    </tr>\n",
       "    <tr>\n",
       "      <th>idx</th>\n",
       "      <td>0</td>\n",
       "    </tr>\n",
       "  </tbody>\n",
       "</table>\n",
       "</div>"
      ],
      "text/plain": [
       "                                                                                        0\n",
       "premise     Conceptually cream skimming has two basic dimensions - product and geography.\n",
       "hypothesis                      Product and geography are what make cream skimming work. \n",
       "label                                                                                   1\n",
       "idx                                                                                     0"
      ]
     },
     "execution_count": 11,
     "metadata": {},
     "output_type": "execute_result"
    }
   ],
   "source": [
    "pd.set_option('display.max_colwidth', 400)\n",
    "pd.DataFrame(dataset[\"train\"][:1]).transpose()"
   ]
  },
  {
   "cell_type": "code",
   "execution_count": 12,
   "metadata": {},
   "outputs": [
    {
     "data": {
      "text/html": [
       "<div>\n",
       "<style scoped>\n",
       "    .dataframe tbody tr th:only-of-type {\n",
       "        vertical-align: middle;\n",
       "    }\n",
       "\n",
       "    .dataframe tbody tr th {\n",
       "        vertical-align: top;\n",
       "    }\n",
       "\n",
       "    .dataframe thead th {\n",
       "        text-align: right;\n",
       "    }\n",
       "</style>\n",
       "<table border=\"1\" class=\"dataframe\">\n",
       "  <thead>\n",
       "    <tr style=\"text-align: right;\">\n",
       "      <th></th>\n",
       "      <th>0</th>\n",
       "    </tr>\n",
       "  </thead>\n",
       "  <tbody>\n",
       "    <tr>\n",
       "      <th>premise</th>\n",
       "      <td>Conceptually cream skimming has two basic dimensions - product and geography.</td>\n",
       "    </tr>\n",
       "    <tr>\n",
       "      <th>hypothesis</th>\n",
       "      <td>Product and geography are what make cream skimming work.</td>\n",
       "    </tr>\n",
       "    <tr>\n",
       "      <th>label</th>\n",
       "      <td>1</td>\n",
       "    </tr>\n",
       "    <tr>\n",
       "      <th>idx</th>\n",
       "      <td>0</td>\n",
       "    </tr>\n",
       "    <tr>\n",
       "      <th>input_ids</th>\n",
       "      <td>[101, 17158, 2135, 6949, 8301, 25057, 2038, 2048, 3937, 9646, 1011, 4031, 1998, 10505, 1012, 102, 4031, 1998, 10505, 2024, 2054, 2191, 6949, 8301, 25057, 2147, 1012, 102]</td>\n",
       "    </tr>\n",
       "    <tr>\n",
       "      <th>token_type_ids</th>\n",
       "      <td>[0, 0, 0, 0, 0, 0, 0, 0, 0, 0, 0, 0, 0, 0, 0, 0, 1, 1, 1, 1, 1, 1, 1, 1, 1, 1, 1, 1]</td>\n",
       "    </tr>\n",
       "    <tr>\n",
       "      <th>attention_mask</th>\n",
       "      <td>[1, 1, 1, 1, 1, 1, 1, 1, 1, 1, 1, 1, 1, 1, 1, 1, 1, 1, 1, 1, 1, 1, 1, 1, 1, 1, 1, 1]</td>\n",
       "    </tr>\n",
       "  </tbody>\n",
       "</table>\n",
       "</div>"
      ],
      "text/plain": [
       "                                                                                                                                                                                         0\n",
       "premise                                                                                                      Conceptually cream skimming has two basic dimensions - product and geography.\n",
       "hypothesis                                                                                                                       Product and geography are what make cream skimming work. \n",
       "label                                                                                                                                                                                    1\n",
       "idx                                                                                                                                                                                      0\n",
       "input_ids       [101, 17158, 2135, 6949, 8301, 25057, 2038, 2048, 3937, 9646, 1011, 4031, 1998, 10505, 1012, 102, 4031, 1998, 10505, 2024, 2054, 2191, 6949, 8301, 25057, 2147, 1012, 102]\n",
       "token_type_ids                                                                                        [0, 0, 0, 0, 0, 0, 0, 0, 0, 0, 0, 0, 0, 0, 0, 0, 1, 1, 1, 1, 1, 1, 1, 1, 1, 1, 1, 1]\n",
       "attention_mask                                                                                        [1, 1, 1, 1, 1, 1, 1, 1, 1, 1, 1, 1, 1, 1, 1, 1, 1, 1, 1, 1, 1, 1, 1, 1, 1, 1, 1, 1]"
      ]
     },
     "execution_count": 12,
     "metadata": {},
     "output_type": "execute_result"
    }
   ],
   "source": [
    "pd.set_option('display.max_colwidth', 400)\n",
    "pd.DataFrame(tokenized_dataset[\"train\"][:1]).transpose()"
   ]
  },
  {
   "cell_type": "markdown",
   "metadata": {},
   "source": [
    "Tokenization added the `input_ids` field, which contains the tokenized sentence with a `[CLS]`(101) and two `[SEP]`(102) tokens added. A `token_type_ids` field which indicates first and second portion of the inputs, if necessary. And an `attention_mask` for the given input."
   ]
  },
  {
   "cell_type": "markdown",
   "metadata": {},
   "source": [
    "### Dealing with Padding"
   ]
  },
  {
   "cell_type": "markdown",
   "metadata": {},
   "source": [
    "Huggingface's `transformers` library provides a `DataCollatorWithPadding` class, which allows us to use dynamic padding.  \n",
    "Dynamic padding will add `[PAD]` tokens to the length of the longest sequence within a batch, instead of padding to the maximum sequence length within the entire dataset.  \n",
    "This will avoid unnecessary padding and therefore improve execution efficiency."
   ]
  },
  {
   "cell_type": "code",
   "execution_count": 13,
   "metadata": {},
   "outputs": [
    {
     "data": {
      "text/html": [
       "<div>\n",
       "<style scoped>\n",
       "    .dataframe tbody tr th:only-of-type {\n",
       "        vertical-align: middle;\n",
       "    }\n",
       "\n",
       "    .dataframe tbody tr th {\n",
       "        vertical-align: top;\n",
       "    }\n",
       "\n",
       "    .dataframe thead th {\n",
       "        text-align: right;\n",
       "    }\n",
       "</style>\n",
       "<table border=\"1\" class=\"dataframe\">\n",
       "  <thead>\n",
       "    <tr style=\"text-align: right;\">\n",
       "      <th></th>\n",
       "      <th>0</th>\n",
       "      <th>1</th>\n",
       "      <th>2</th>\n",
       "      <th>3</th>\n",
       "      <th>4</th>\n",
       "      <th>5</th>\n",
       "      <th>6</th>\n",
       "      <th>7</th>\n",
       "      <th>8</th>\n",
       "      <th>9</th>\n",
       "      <th>...</th>\n",
       "      <th>68</th>\n",
       "      <th>69</th>\n",
       "      <th>70</th>\n",
       "      <th>71</th>\n",
       "      <th>72</th>\n",
       "      <th>73</th>\n",
       "      <th>74</th>\n",
       "      <th>75</th>\n",
       "      <th>76</th>\n",
       "      <th>77</th>\n",
       "    </tr>\n",
       "  </thead>\n",
       "  <tbody>\n",
       "    <tr>\n",
       "      <th>0</th>\n",
       "      <td>101</td>\n",
       "      <td>17158</td>\n",
       "      <td>2135</td>\n",
       "      <td>6949</td>\n",
       "      <td>8301</td>\n",
       "      <td>25057</td>\n",
       "      <td>2038</td>\n",
       "      <td>2048</td>\n",
       "      <td>3937</td>\n",
       "      <td>9646</td>\n",
       "      <td>...</td>\n",
       "      <td>NaN</td>\n",
       "      <td>NaN</td>\n",
       "      <td>NaN</td>\n",
       "      <td>NaN</td>\n",
       "      <td>NaN</td>\n",
       "      <td>NaN</td>\n",
       "      <td>NaN</td>\n",
       "      <td>NaN</td>\n",
       "      <td>NaN</td>\n",
       "      <td>NaN</td>\n",
       "    </tr>\n",
       "    <tr>\n",
       "      <th>1</th>\n",
       "      <td>101</td>\n",
       "      <td>2017</td>\n",
       "      <td>2113</td>\n",
       "      <td>2076</td>\n",
       "      <td>1996</td>\n",
       "      <td>2161</td>\n",
       "      <td>1998</td>\n",
       "      <td>1045</td>\n",
       "      <td>3984</td>\n",
       "      <td>2012</td>\n",
       "      <td>...</td>\n",
       "      <td>2000.0</td>\n",
       "      <td>1996.0</td>\n",
       "      <td>2206.0</td>\n",
       "      <td>2504.0</td>\n",
       "      <td>2065.0</td>\n",
       "      <td>1996.0</td>\n",
       "      <td>2111.0</td>\n",
       "      <td>9131.0</td>\n",
       "      <td>1012.0</td>\n",
       "      <td>102.0</td>\n",
       "    </tr>\n",
       "    <tr>\n",
       "      <th>2</th>\n",
       "      <td>101</td>\n",
       "      <td>2028</td>\n",
       "      <td>1997</td>\n",
       "      <td>2256</td>\n",
       "      <td>2193</td>\n",
       "      <td>2097</td>\n",
       "      <td>4287</td>\n",
       "      <td>2041</td>\n",
       "      <td>2115</td>\n",
       "      <td>8128</td>\n",
       "      <td>...</td>\n",
       "      <td>NaN</td>\n",
       "      <td>NaN</td>\n",
       "      <td>NaN</td>\n",
       "      <td>NaN</td>\n",
       "      <td>NaN</td>\n",
       "      <td>NaN</td>\n",
       "      <td>NaN</td>\n",
       "      <td>NaN</td>\n",
       "      <td>NaN</td>\n",
       "      <td>NaN</td>\n",
       "    </tr>\n",
       "  </tbody>\n",
       "</table>\n",
       "<p>3 rows × 78 columns</p>\n",
       "</div>"
      ],
      "text/plain": [
       "    0      1     2     3     4      5     6     7     8     9   ...      68  \\\n",
       "0  101  17158  2135  6949  8301  25057  2038  2048  3937  9646  ...     NaN   \n",
       "1  101   2017  2113  2076  1996   2161  1998  1045  3984  2012  ...  2000.0   \n",
       "2  101   2028  1997  2256  2193   2097  4287  2041  2115  8128  ...     NaN   \n",
       "\n",
       "       69      70      71      72      73      74      75      76     77  \n",
       "0     NaN     NaN     NaN     NaN     NaN     NaN     NaN     NaN    NaN  \n",
       "1  1996.0  2206.0  2504.0  2065.0  1996.0  2111.0  9131.0  1012.0  102.0  \n",
       "2     NaN     NaN     NaN     NaN     NaN     NaN     NaN     NaN    NaN  \n",
       "\n",
       "[3 rows x 78 columns]"
      ]
     },
     "execution_count": 13,
     "metadata": {},
     "output_type": "execute_result"
    }
   ],
   "source": [
    "from transformers import DataCollatorWithPadding\n",
    "\n",
    "data_collator = DataCollatorWithPadding(tokenizer=tokenizer)\n",
    "\n",
    "# Example: Select a few samples from the training set\n",
    "samples = tokenized_dataset[\"train\"][:3]\n",
    "samples = {k: v for k, v in samples.items() if k not in [\"idx\", first_sentence_key, second_sentence_key]}  # Drop `idx` and `sentence` columns, as DataCollator can't process those.\n",
    "pd.DataFrame(samples[\"input_ids\"])"
   ]
  },
  {
   "cell_type": "code",
   "execution_count": 14,
   "metadata": {},
   "outputs": [
    {
     "data": {
      "text/html": [
       "<div>\n",
       "<style scoped>\n",
       "    .dataframe tbody tr th:only-of-type {\n",
       "        vertical-align: middle;\n",
       "    }\n",
       "\n",
       "    .dataframe tbody tr th {\n",
       "        vertical-align: top;\n",
       "    }\n",
       "\n",
       "    .dataframe thead th {\n",
       "        text-align: right;\n",
       "    }\n",
       "</style>\n",
       "<table border=\"1\" class=\"dataframe\">\n",
       "  <thead>\n",
       "    <tr style=\"text-align: right;\">\n",
       "      <th></th>\n",
       "      <th>0</th>\n",
       "      <th>1</th>\n",
       "      <th>2</th>\n",
       "      <th>3</th>\n",
       "      <th>4</th>\n",
       "      <th>5</th>\n",
       "      <th>6</th>\n",
       "      <th>7</th>\n",
       "      <th>8</th>\n",
       "      <th>9</th>\n",
       "      <th>...</th>\n",
       "      <th>68</th>\n",
       "      <th>69</th>\n",
       "      <th>70</th>\n",
       "      <th>71</th>\n",
       "      <th>72</th>\n",
       "      <th>73</th>\n",
       "      <th>74</th>\n",
       "      <th>75</th>\n",
       "      <th>76</th>\n",
       "      <th>77</th>\n",
       "    </tr>\n",
       "  </thead>\n",
       "  <tbody>\n",
       "    <tr>\n",
       "      <th>0</th>\n",
       "      <td>101</td>\n",
       "      <td>17158</td>\n",
       "      <td>2135</td>\n",
       "      <td>6949</td>\n",
       "      <td>8301</td>\n",
       "      <td>25057</td>\n",
       "      <td>2038</td>\n",
       "      <td>2048</td>\n",
       "      <td>3937</td>\n",
       "      <td>9646</td>\n",
       "      <td>...</td>\n",
       "      <td>0</td>\n",
       "      <td>0</td>\n",
       "      <td>0</td>\n",
       "      <td>0</td>\n",
       "      <td>0</td>\n",
       "      <td>0</td>\n",
       "      <td>0</td>\n",
       "      <td>0</td>\n",
       "      <td>0</td>\n",
       "      <td>0</td>\n",
       "    </tr>\n",
       "    <tr>\n",
       "      <th>1</th>\n",
       "      <td>101</td>\n",
       "      <td>2017</td>\n",
       "      <td>2113</td>\n",
       "      <td>2076</td>\n",
       "      <td>1996</td>\n",
       "      <td>2161</td>\n",
       "      <td>1998</td>\n",
       "      <td>1045</td>\n",
       "      <td>3984</td>\n",
       "      <td>2012</td>\n",
       "      <td>...</td>\n",
       "      <td>2000</td>\n",
       "      <td>1996</td>\n",
       "      <td>2206</td>\n",
       "      <td>2504</td>\n",
       "      <td>2065</td>\n",
       "      <td>1996</td>\n",
       "      <td>2111</td>\n",
       "      <td>9131</td>\n",
       "      <td>1012</td>\n",
       "      <td>102</td>\n",
       "    </tr>\n",
       "    <tr>\n",
       "      <th>2</th>\n",
       "      <td>101</td>\n",
       "      <td>2028</td>\n",
       "      <td>1997</td>\n",
       "      <td>2256</td>\n",
       "      <td>2193</td>\n",
       "      <td>2097</td>\n",
       "      <td>4287</td>\n",
       "      <td>2041</td>\n",
       "      <td>2115</td>\n",
       "      <td>8128</td>\n",
       "      <td>...</td>\n",
       "      <td>0</td>\n",
       "      <td>0</td>\n",
       "      <td>0</td>\n",
       "      <td>0</td>\n",
       "      <td>0</td>\n",
       "      <td>0</td>\n",
       "      <td>0</td>\n",
       "      <td>0</td>\n",
       "      <td>0</td>\n",
       "      <td>0</td>\n",
       "    </tr>\n",
       "  </tbody>\n",
       "</table>\n",
       "<p>3 rows × 78 columns</p>\n",
       "</div>"
      ],
      "text/plain": [
       "    0      1     2     3     4      5     6     7     8     9   ...    68  \\\n",
       "0  101  17158  2135  6949  8301  25057  2038  2048  3937  9646  ...     0   \n",
       "1  101   2017  2113  2076  1996   2161  1998  1045  3984  2012  ...  2000   \n",
       "2  101   2028  1997  2256  2193   2097  4287  2041  2115  8128  ...     0   \n",
       "\n",
       "     69    70    71    72    73    74    75    76   77  \n",
       "0     0     0     0     0     0     0     0     0    0  \n",
       "1  1996  2206  2504  2065  1996  2111  9131  1012  102  \n",
       "2     0     0     0     0     0     0     0     0    0  \n",
       "\n",
       "[3 rows x 78 columns]"
      ]
     },
     "execution_count": 14,
     "metadata": {},
     "output_type": "execute_result"
    }
   ],
   "source": [
    "# Apply padding using data_collator\n",
    "batch = data_collator(samples)\n",
    "pd.DataFrame(batch[\"input_ids\"])\n"
   ]
  },
  {
   "cell_type": "markdown",
   "metadata": {},
   "source": [
    "We can see that `data_collator` will insert `[PAD]` (0) tokens to the maximum length of the passed batch of data items."
   ]
  },
  {
   "cell_type": "markdown",
   "metadata": {},
   "source": [
    "## Evaluation"
   ]
  },
  {
   "cell_type": "markdown",
   "metadata": {},
   "source": [
    "The GLUE dataset specifies one or more evaluation metrics depending on the selected task."
   ]
  },
  {
   "cell_type": "code",
   "execution_count": 15,
   "metadata": {},
   "outputs": [
    {
     "data": {
      "text/plain": [
       "EvaluationModule(name: \"glue\", module_type: \"metric\", features: {'predictions': Value(dtype='int64', id=None), 'references': Value(dtype='int64', id=None)}, usage: \"\"\"\n",
       "Compute GLUE evaluation metric associated to each GLUE dataset.\n",
       "Args:\n",
       "    predictions: list of predictions to score.\n",
       "        Each translation should be tokenized into a list of tokens.\n",
       "    references: list of lists of references for each translation.\n",
       "        Each reference should be tokenized into a list of tokens.\n",
       "Returns: depending on the GLUE subset, one or several of:\n",
       "    \"accuracy\": Accuracy\n",
       "    \"f1\": F1 score\n",
       "    \"pearson\": Pearson Correlation\n",
       "    \"spearmanr\": Spearman Correlation\n",
       "    \"matthews_correlation\": Matthew Correlation\n",
       "Examples:\n",
       "\n",
       "    >>> glue_metric = evaluate.load('glue', 'sst2')  # 'sst2' or any of [\"mnli\", \"mnli_mismatched\", \"mnli_matched\", \"qnli\", \"rte\", \"wnli\", \"hans\"]\n",
       "    >>> references = [0, 1]\n",
       "    >>> predictions = [0, 1]\n",
       "    >>> results = glue_metric.compute(predictions=predictions, references=references)\n",
       "    >>> print(results)\n",
       "    {'accuracy': 1.0}\n",
       "\n",
       "    >>> glue_metric = evaluate.load('glue', 'mrpc')  # 'mrpc' or 'qqp'\n",
       "    >>> references = [0, 1]\n",
       "    >>> predictions = [0, 1]\n",
       "    >>> results = glue_metric.compute(predictions=predictions, references=references)\n",
       "    >>> print(results)\n",
       "    {'accuracy': 1.0, 'f1': 1.0}\n",
       "\n",
       "    >>> glue_metric = evaluate.load('glue', 'stsb')\n",
       "    >>> references = [0., 1., 2., 3., 4., 5.]\n",
       "    >>> predictions = [0., 1., 2., 3., 4., 5.]\n",
       "    >>> results = glue_metric.compute(predictions=predictions, references=references)\n",
       "    >>> print({\"pearson\": round(results[\"pearson\"], 2), \"spearmanr\": round(results[\"spearmanr\"], 2)})\n",
       "    {'pearson': 1.0, 'spearmanr': 1.0}\n",
       "\n",
       "    >>> glue_metric = evaluate.load('glue', 'cola')\n",
       "    >>> references = [0, 1]\n",
       "    >>> predictions = [0, 1]\n",
       "    >>> results = glue_metric.compute(predictions=predictions, references=references)\n",
       "    >>> print(results)\n",
       "    {'matthews_correlation': 1.0}\n",
       "\"\"\", stored examples: 0)"
      ]
     },
     "execution_count": 15,
     "metadata": {},
     "output_type": "execute_result"
    }
   ],
   "source": [
    "import numpy as np\n",
    "import evaluate\n",
    "\n",
    "metric = evaluate.load(DATASET_NAME, DATASET_TASK)\n",
    "metric"
   ]
  },
  {
   "cell_type": "markdown",
   "metadata": {},
   "source": [
    "Depending on the selected GLUE task we optimize for different evaluation metrics. See BERT paper p.6:\n",
    "\n",
    "> F1 scores are reported for QQP and MRPC, Spearman correlations are reported for STS-B, and accuracy scores are reported for the other tasks. We exclude entries that use BERT as one of their components."
   ]
  },
  {
   "cell_type": "code",
   "execution_count": 16,
   "metadata": {},
   "outputs": [],
   "source": [
    "_task_to_metric = {\n",
    "    \"cola\": \"matthews_correlation\",\n",
    "    \"mnli\": \"accuracy\",\n",
    "    \"mrpc\": \"f1\",\n",
    "    \"qnli\": \"accuracy\",\n",
    "    \"qqp\": \"f1\",\n",
    "    \"rte\": \"accuracy\",\n",
    "    \"sst2\": \"accuracy\",\n",
    "    \"stsb\": \"spearmanr\",\n",
    "}\n",
    "\n",
    "metric_for_best_model = _task_to_metric[DATASET_TASK]"
   ]
  },
  {
   "cell_type": "code",
   "execution_count": 17,
   "metadata": {},
   "outputs": [
    {
     "name": "stdout",
     "output_type": "stream",
     "text": [
      "We will use \"['accuracy']\" as an evaluation metric for the task mnli\n"
     ]
    }
   ],
   "source": [
    "def get_metric_name_for_specific_task():\n",
    "    \"\"\"Helper function to derive the evaluation metric name for the specified GLUE task.\n",
    "\n",
    "    The tasks specified by the GLUE benchmark use different evaluation metrics.\n",
    "    Unfortunatly there is no easy way to derive there name after loading the corresponding metric function via HuggingFace's `evaluate` library.\n",
    "    However we can simply do a \"trial run\" and expect the name key of its output.\n",
    "    \"\"\"\n",
    "    output = metric.compute(\n",
    "        predictions=[1, 0], references=[1, 1]\n",
    "    )  # dummy input - we just want to inspect the returned dictionary.\n",
    "    metric_names = output.keys()\n",
    "    \n",
    "    return list(metric_names)\n",
    "\n",
    "\n",
    "metric_names = get_metric_name_for_specific_task()\n",
    "print(f'We will use \"{metric_names}\" as an evaluation metric for the task {DATASET_TASK}')"
   ]
  },
  {
   "cell_type": "code",
   "execution_count": 18,
   "metadata": {},
   "outputs": [],
   "source": [
    "assert metric_for_best_model in metric_names, \"Metric to optimize for not found in evaluation metrics provided by GLUE\""
   ]
  },
  {
   "cell_type": "markdown",
   "metadata": {},
   "source": [
    "# Training"
   ]
  },
  {
   "cell_type": "code",
   "execution_count": 19,
   "metadata": {},
   "outputs": [
    {
     "name": "stderr",
     "output_type": "stream",
     "text": [
      "Some weights of BertForSequenceClassification were not initialized from the model checkpoint at google-bert/bert-base-uncased and are newly initialized: ['classifier.bias', 'classifier.weight']\n",
      "You should probably TRAIN this model on a down-stream task to be able to use it for predictions and inference.\n"
     ]
    }
   ],
   "source": [
    "from transformers import AutoModelForSequenceClassification\n",
    "\n",
    "model = AutoModelForSequenceClassification.from_pretrained(\n",
    "    PRE_TRAINED_CHECKPOINT,\n",
    "    num_labels=num_labels,\n",
    "    torch_dtype=\"auto\",\n",
    ")"
   ]
  },
  {
   "cell_type": "code",
   "execution_count": 64,
   "metadata": {},
   "outputs": [],
   "source": [
    "from transformers import TrainingArguments\n",
    "\n",
    "training_arguments = TrainingArguments(\n",
    "    output_dir=TRAIN_OUTPUT_DIR,\n",
    "    per_device_train_batch_size=BATCH_SIZE,\n",
    "    per_device_eval_batch_size=BATCH_SIZE,\n",
    "    eval_strategy=\"steps\",\n",
    "    eval_steps=5000,\n",
    "    save_strategy=\"steps\",\n",
    "    save_steps=5000,\n",
    "    logging_strategy=\"steps\",\n",
    "    logging_steps=5000,\n",
    "    num_train_epochs=NUM_EPOCHS,\n",
    "    learning_rate=2e-5,  # Original paper uses best out of  5e-5, 4e-5, 3e-5, and 2e-5\n",
    "    weight_decay=0.01,  # Original paper uses 0.01 on pre-training\n",
    "    save_total_limit = 3,  # Keep at most the three checkpoints (latest + best one)\n",
    "    load_best_model_at_end=True,\n",
    "    metric_for_best_model=\"eval_accuracy_avg\",  # `eval_accuracy_avg` will be computed via a custom callback to be the avg of the accuracy for both validation datasets (matched and mismatched)\n",
    ")"
   ]
  },
  {
   "cell_type": "code",
   "execution_count": 65,
   "metadata": {},
   "outputs": [],
   "source": [
    "def compute_metrics(eval_pred):\n",
    "    predictions, labels = eval_pred\n",
    "    if DATASET_TASK != \"stsb\":\n",
    "        predictions = np.argmax(predictions, axis=1)\n",
    "    else:\n",
    "        predictions = predictions[:, 0]\n",
    "    return metric.compute(predictions=predictions, references=labels)"
   ]
  },
  {
   "cell_type": "code",
   "execution_count": 66,
   "metadata": {},
   "outputs": [],
   "source": [
    "import logging\n",
    "\n",
    "log = logging.getLogger(\"DEBUG\")"
   ]
  },
  {
   "cell_type": "markdown",
   "metadata": {},
   "source": [
    "As this dataset provides two different evaluation datasets (matched and mismatched) we will perform two evaluations on each `eval_step`. We will then compute an average of both evaluation results and store the average within `transformer`s `metrics` dictionary as `eval_accuracy_avg`. We will also use this computed average as `metric_for_best_model`."
   ]
  },
  {
   "cell_type": "code",
   "execution_count": 67,
   "metadata": {},
   "outputs": [],
   "source": [
    "from transformers import TrainerCallback, TrainerState, TrainerControl\n",
    "\n",
    "\n",
    "class AverageMatchedAndMismatchedAccuracies(TrainerCallback):\n",
    "    \"\"\"Callback to save the `eval_mnli_matched_accuracy` after the first evaluation step (MLNI matched)\n",
    "    and then compute the average of (MLNI matched acc. and mismatched acc.) on the second evaluation step\n",
    "    \"\"\"\n",
    "\n",
    "    matched_acc = None\n",
    "\n",
    "    def on_evaluate(\n",
    "        self,\n",
    "        args: TrainingArguments,\n",
    "        state: TrainerState,\n",
    "        control: TrainerControl,\n",
    "        metrics: dict[str, float],\n",
    "        **kwargs,\n",
    "    ):\n",
    "        \"\"\"Event called after an evaluation phase.\"\"\"\n",
    "        if self.matched_acc is None:\n",
    "            # We are in the first evaluation step (matched) - save result metric for later use\n",
    "            self.matched_acc = metrics[\"eval_mnli_matched_accuracy\"]\n",
    "            return\n",
    "\n",
    "        # We are in the second evaluation step (mismatched) \n",
    "        # Use the `matched_acc` saved before and the `mismatched_acc` to compute average:\n",
    "        mismatched_acc = metrics[\"eval_mnli_mismatched_accuracy\"]\n",
    "        metrics[\"eval_accuracy_avg\"] = (self.matched_acc + mismatched_acc) / 2\n",
    "\n",
    "        self.matched_acc = None\n",
    "        return"
   ]
  },
  {
   "cell_type": "code",
   "execution_count": 68,
   "metadata": {},
   "outputs": [],
   "source": [
    "from transformers import Trainer\n",
    "\n",
    "trainer = Trainer(\n",
    "    model=model,\n",
    "    args=training_arguments,\n",
    "    train_dataset=tokenized_dataset[\"train\"],\n",
    "    eval_dataset={\n",
    "        \"mnli_matched\": tokenized_dataset[\"validation_matched\"],\n",
    "        \"mnli_mismatched\": tokenized_dataset[\"validation_mismatched\"],\n",
    "    },\n",
    "    data_collator=data_collator,\n",
    "    processing_class=tokenizer,\n",
    "    compute_metrics=compute_metrics,\n",
    "    callbacks=[AverageMatchedAndMismatchedAccuracies]\n",
    ")"
   ]
  },
  {
   "cell_type": "code",
   "execution_count": 69,
   "metadata": {},
   "outputs": [
    {
     "name": "stdout",
     "output_type": "stream",
     "text": [
      "--- training_arguments.output_dir='../groups/192.039-2024W/bert/training/glue-mnli'\n",
      "--- training_arguments.metric_for_best_model='eval_accuracy_avg'\n"
     ]
    },
    {
     "data": {
      "application/vnd.jupyter.widget-view+json": {
       "model_id": "c4a00477df8c49f19b47faf74ffc89f9",
       "version_major": 2,
       "version_minor": 0
      },
      "text/plain": [
       "  0%|          | 0/61360 [00:00<?, ?it/s]"
      ]
     },
     "metadata": {},
     "output_type": "display_data"
    },
    {
     "name": "stdout",
     "output_type": "stream",
     "text": [
      "{'loss': 0.2532, 'grad_norm': 12.668607711791992, 'learning_rate': 1.837027379400261e-05, 'epoch': 0.41}\n"
     ]
    },
    {
     "data": {
      "application/vnd.jupyter.widget-view+json": {
       "model_id": "6dc5191933fa424687b8ef63f11ae67e",
       "version_major": 2,
       "version_minor": 0
      },
      "text/plain": [
       "  0%|          | 0/307 [00:00<?, ?it/s]"
      ]
     },
     "metadata": {},
     "output_type": "display_data"
    },
    {
     "name": "stdout",
     "output_type": "stream",
     "text": [
      "{'eval_mnli_matched_loss': 0.6689307689666748, 'eval_mnli_matched_accuracy': 0.8109016811003565, 'eval_mnli_matched_runtime': 25.5149, 'eval_mnli_matched_samples_per_second': 384.677, 'eval_mnli_matched_steps_per_second': 12.032, 'epoch': 0.41}\n"
     ]
    },
    {
     "data": {
      "application/vnd.jupyter.widget-view+json": {
       "model_id": "6cc4367efadd42b2b7df51e0bca88cef",
       "version_major": 2,
       "version_minor": 0
      },
      "text/plain": [
       "  0%|          | 0/308 [00:00<?, ?it/s]"
      ]
     },
     "metadata": {},
     "output_type": "display_data"
    },
    {
     "name": "stdout",
     "output_type": "stream",
     "text": [
      "{'eval_mnli_mismatched_loss': 0.6617023348808289, 'eval_mnli_mismatched_accuracy': 0.8064483319772172, 'eval_mnli_mismatched_runtime': 26.2966, 'eval_mnli_mismatched_samples_per_second': 373.889, 'eval_mnli_mismatched_steps_per_second': 11.713, 'epoch': 0.41}\n",
      "{'loss': 0.4869, 'grad_norm': 7.496336460113525, 'learning_rate': 1.6740547588005215e-05, 'epoch': 0.81}\n"
     ]
    },
    {
     "data": {
      "application/vnd.jupyter.widget-view+json": {
       "model_id": "5951f4af47044a718d5e06c2eff38f7b",
       "version_major": 2,
       "version_minor": 0
      },
      "text/plain": [
       "  0%|          | 0/307 [00:00<?, ?it/s]"
      ]
     },
     "metadata": {},
     "output_type": "display_data"
    },
    {
     "name": "stdout",
     "output_type": "stream",
     "text": [
      "{'eval_mnli_matched_loss': 0.4567064046859741, 'eval_mnli_matched_accuracy': 0.8242485990830362, 'eval_mnli_matched_runtime': 25.8238, 'eval_mnli_matched_samples_per_second': 380.076, 'eval_mnli_matched_steps_per_second': 11.888, 'epoch': 0.81}\n"
     ]
    },
    {
     "data": {
      "application/vnd.jupyter.widget-view+json": {
       "model_id": "05bfd6976445412a8d1550a2a75e5361",
       "version_major": 2,
       "version_minor": 0
      },
      "text/plain": [
       "  0%|          | 0/308 [00:00<?, ?it/s]"
      ]
     },
     "metadata": {},
     "output_type": "display_data"
    },
    {
     "name": "stdout",
     "output_type": "stream",
     "text": [
      "{'eval_mnli_mismatched_loss': 0.433480829000473, 'eval_mnli_mismatched_accuracy': 0.8343165174938975, 'eval_mnli_mismatched_runtime': 26.6066, 'eval_mnli_mismatched_samples_per_second': 369.533, 'eval_mnli_mismatched_steps_per_second': 11.576, 'epoch': 0.81}\n",
      "{'loss': 0.3799, 'grad_norm': 4.739259243011475, 'learning_rate': 1.5110821382007822e-05, 'epoch': 1.22}\n"
     ]
    },
    {
     "data": {
      "application/vnd.jupyter.widget-view+json": {
       "model_id": "80e913a254db4b469de70ecf52af0bd4",
       "version_major": 2,
       "version_minor": 0
      },
      "text/plain": [
       "  0%|          | 0/307 [00:00<?, ?it/s]"
      ]
     },
     "metadata": {},
     "output_type": "display_data"
    },
    {
     "name": "stdout",
     "output_type": "stream",
     "text": [
      "{'eval_mnli_matched_loss': 0.46402233839035034, 'eval_mnli_matched_accuracy': 0.8348446255731024, 'eval_mnli_matched_runtime': 26.2907, 'eval_mnli_matched_samples_per_second': 373.326, 'eval_mnli_matched_steps_per_second': 11.677, 'epoch': 1.22}\n"
     ]
    },
    {
     "data": {
      "application/vnd.jupyter.widget-view+json": {
       "model_id": "4c110da9a7d549208a03337ab6e31add",
       "version_major": 2,
       "version_minor": 0
      },
      "text/plain": [
       "  0%|          | 0/308 [00:00<?, ?it/s]"
      ]
     },
     "metadata": {},
     "output_type": "display_data"
    },
    {
     "name": "stdout",
     "output_type": "stream",
     "text": [
      "{'eval_mnli_mismatched_loss': 0.442226380109787, 'eval_mnli_mismatched_accuracy': 0.8396053702196908, 'eval_mnli_mismatched_runtime': 26.9759, 'eval_mnli_mismatched_samples_per_second': 364.473, 'eval_mnli_mismatched_steps_per_second': 11.418, 'epoch': 1.22}\n",
      "{'loss': 0.3162, 'grad_norm': 9.998969078063965, 'learning_rate': 1.3481095176010431e-05, 'epoch': 1.63}\n"
     ]
    },
    {
     "data": {
      "application/vnd.jupyter.widget-view+json": {
       "model_id": "5fa555c7fd194d7f8379054244c568a2",
       "version_major": 2,
       "version_minor": 0
      },
      "text/plain": [
       "  0%|          | 0/307 [00:00<?, ?it/s]"
      ]
     },
     "metadata": {},
     "output_type": "display_data"
    },
    {
     "name": "stdout",
     "output_type": "stream",
     "text": [
      "{'eval_mnli_matched_loss': 0.45999640226364136, 'eval_mnli_matched_accuracy': 0.840855832908813, 'eval_mnli_matched_runtime': 26.0125, 'eval_mnli_matched_samples_per_second': 377.318, 'eval_mnli_matched_steps_per_second': 11.802, 'epoch': 1.63}\n"
     ]
    },
    {
     "data": {
      "application/vnd.jupyter.widget-view+json": {
       "model_id": "8cf42f569f6b42249b35bd54937b81f0",
       "version_major": 2,
       "version_minor": 0
      },
      "text/plain": [
       "  0%|          | 0/308 [00:00<?, ?it/s]"
      ]
     },
     "metadata": {},
     "output_type": "display_data"
    },
    {
     "name": "stdout",
     "output_type": "stream",
     "text": [
      "{'eval_mnli_mismatched_loss': 0.43527939915657043, 'eval_mnli_mismatched_accuracy': 0.8466232709519935, 'eval_mnli_mismatched_runtime': 27.0046, 'eval_mnli_mismatched_samples_per_second': 364.087, 'eval_mnli_mismatched_steps_per_second': 11.405, 'epoch': 1.63}\n",
      "{'loss': 0.3054, 'grad_norm': 8.383155822753906, 'learning_rate': 1.185136897001304e-05, 'epoch': 2.04}\n"
     ]
    },
    {
     "data": {
      "application/vnd.jupyter.widget-view+json": {
       "model_id": "3a34f30b9f9b4457891aad6dd27e874a",
       "version_major": 2,
       "version_minor": 0
      },
      "text/plain": [
       "  0%|          | 0/307 [00:00<?, ?it/s]"
      ]
     },
     "metadata": {},
     "output_type": "display_data"
    },
    {
     "name": "stdout",
     "output_type": "stream",
     "text": [
      "{'eval_mnli_matched_loss': 0.5737963914871216, 'eval_mnli_matched_accuracy': 0.8308711156393276, 'eval_mnli_matched_runtime': 26.0984, 'eval_mnli_matched_samples_per_second': 376.077, 'eval_mnli_matched_steps_per_second': 11.763, 'epoch': 2.04}\n"
     ]
    },
    {
     "data": {
      "application/vnd.jupyter.widget-view+json": {
       "model_id": "8ad7131fcd904e87b2fd9e53e5d91fd7",
       "version_major": 2,
       "version_minor": 0
      },
      "text/plain": [
       "  0%|          | 0/308 [00:00<?, ?it/s]"
      ]
     },
     "metadata": {},
     "output_type": "display_data"
    },
    {
     "name": "stdout",
     "output_type": "stream",
     "text": [
      "{'eval_mnli_mismatched_loss': 0.5355443358421326, 'eval_mnli_mismatched_accuracy': 0.8391985353946297, 'eval_mnli_mismatched_runtime': 26.5722, 'eval_mnli_mismatched_samples_per_second': 370.01, 'eval_mnli_mismatched_steps_per_second': 11.591, 'epoch': 2.04}\n",
      "{'loss': 0.2029, 'grad_norm': 4.336827278137207, 'learning_rate': 1.0221642764015647e-05, 'epoch': 2.44}\n"
     ]
    },
    {
     "data": {
      "application/vnd.jupyter.widget-view+json": {
       "model_id": "b1439bc900464dc1adcb93a459c579ca",
       "version_major": 2,
       "version_minor": 0
      },
      "text/plain": [
       "  0%|          | 0/307 [00:00<?, ?it/s]"
      ]
     },
     "metadata": {},
     "output_type": "display_data"
    },
    {
     "name": "stdout",
     "output_type": "stream",
     "text": [
      "{'eval_mnli_matched_loss': 0.5601962208747864, 'eval_mnli_matched_accuracy': 0.8367804381049414, 'eval_mnli_matched_runtime': 25.8582, 'eval_mnli_matched_samples_per_second': 379.571, 'eval_mnli_matched_steps_per_second': 11.872, 'epoch': 2.44}\n"
     ]
    },
    {
     "data": {
      "application/vnd.jupyter.widget-view+json": {
       "model_id": "abead28ad4054f23b7cd5b550b12fbde",
       "version_major": 2,
       "version_minor": 0
      },
      "text/plain": [
       "  0%|          | 0/308 [00:00<?, ?it/s]"
      ]
     },
     "metadata": {},
     "output_type": "display_data"
    },
    {
     "name": "stdout",
     "output_type": "stream",
     "text": [
      "{'eval_mnli_mismatched_loss': 0.5309086441993713, 'eval_mnli_mismatched_accuracy': 0.8442839707078926, 'eval_mnli_mismatched_runtime': 26.6465, 'eval_mnli_mismatched_samples_per_second': 368.979, 'eval_mnli_mismatched_steps_per_second': 11.559, 'epoch': 2.44}\n",
      "{'loss': 0.2085, 'grad_norm': 9.760828971862793, 'learning_rate': 8.591916558018254e-06, 'epoch': 2.85}\n"
     ]
    },
    {
     "data": {
      "application/vnd.jupyter.widget-view+json": {
       "model_id": "9bb373f19dfd439aa9a7006afb89c8fe",
       "version_major": 2,
       "version_minor": 0
      },
      "text/plain": [
       "  0%|          | 0/307 [00:00<?, ?it/s]"
      ]
     },
     "metadata": {},
     "output_type": "display_data"
    },
    {
     "name": "stdout",
     "output_type": "stream",
     "text": [
      "{'eval_mnli_matched_loss': 0.5255287885665894, 'eval_mnli_matched_accuracy': 0.8431991849210392, 'eval_mnli_matched_runtime': 25.937, 'eval_mnli_matched_samples_per_second': 378.417, 'eval_mnli_matched_steps_per_second': 11.836, 'epoch': 2.85}\n"
     ]
    },
    {
     "data": {
      "application/vnd.jupyter.widget-view+json": {
       "model_id": "0e37c6716358450c9a041a8c20f17662",
       "version_major": 2,
       "version_minor": 0
      },
      "text/plain": [
       "  0%|          | 0/308 [00:00<?, ?it/s]"
      ]
     },
     "metadata": {},
     "output_type": "display_data"
    },
    {
     "name": "stdout",
     "output_type": "stream",
     "text": [
      "{'eval_mnli_mismatched_loss': 0.5054153800010681, 'eval_mnli_mismatched_accuracy': 0.8475386493083807, 'eval_mnli_mismatched_runtime': 26.3115, 'eval_mnli_mismatched_samples_per_second': 373.678, 'eval_mnli_mismatched_steps_per_second': 11.706, 'epoch': 2.85}\n",
      "{'loss': 0.1608, 'grad_norm': 13.369093894958496, 'learning_rate': 6.962190352020861e-06, 'epoch': 3.26}\n"
     ]
    },
    {
     "data": {
      "application/vnd.jupyter.widget-view+json": {
       "model_id": "90c20c2199da4d73871a9fa378e58036",
       "version_major": 2,
       "version_minor": 0
      },
      "text/plain": [
       "  0%|          | 0/307 [00:00<?, ?it/s]"
      ]
     },
     "metadata": {},
     "output_type": "display_data"
    },
    {
     "name": "stdout",
     "output_type": "stream",
     "text": [
      "{'eval_mnli_matched_loss': 0.6722537279129028, 'eval_mnli_matched_accuracy': 0.8396332144676516, 'eval_mnli_matched_runtime': 25.5228, 'eval_mnli_matched_samples_per_second': 384.558, 'eval_mnli_matched_steps_per_second': 12.028, 'epoch': 3.26}\n"
     ]
    },
    {
     "data": {
      "application/vnd.jupyter.widget-view+json": {
       "model_id": "7f0780472be04a86a4fbb4aae8247e19",
       "version_major": 2,
       "version_minor": 0
      },
      "text/plain": [
       "  0%|          | 0/308 [00:00<?, ?it/s]"
      ]
     },
     "metadata": {},
     "output_type": "display_data"
    },
    {
     "name": "stdout",
     "output_type": "stream",
     "text": [
      "{'eval_mnli_mismatched_loss': 0.6365833878517151, 'eval_mnli_mismatched_accuracy': 0.8465215622457283, 'eval_mnli_mismatched_runtime': 26.3969, 'eval_mnli_mismatched_samples_per_second': 372.467, 'eval_mnli_mismatched_steps_per_second': 11.668, 'epoch': 3.26}\n",
      "{'loss': 0.1386, 'grad_norm': 9.150809288024902, 'learning_rate': 5.332464146023468e-06, 'epoch': 3.67}\n"
     ]
    },
    {
     "data": {
      "application/vnd.jupyter.widget-view+json": {
       "model_id": "28e2d06bb9764231ab5ddf45cf808cf1",
       "version_major": 2,
       "version_minor": 0
      },
      "text/plain": [
       "  0%|          | 0/307 [00:00<?, ?it/s]"
      ]
     },
     "metadata": {},
     "output_type": "display_data"
    },
    {
     "name": "stdout",
     "output_type": "stream",
     "text": [
      "{'eval_mnli_matched_loss': 0.6626354455947876, 'eval_mnli_matched_accuracy': 0.8425878757004585, 'eval_mnli_matched_runtime': 25.6654, 'eval_mnli_matched_samples_per_second': 382.422, 'eval_mnli_matched_steps_per_second': 11.962, 'epoch': 3.67}\n"
     ]
    },
    {
     "data": {
      "application/vnd.jupyter.widget-view+json": {
       "model_id": "51fc90c3a62d4ac8a4fe050e0eac40fb",
       "version_major": 2,
       "version_minor": 0
      },
      "text/plain": [
       "  0%|          | 0/308 [00:00<?, ?it/s]"
      ]
     },
     "metadata": {},
     "output_type": "display_data"
    },
    {
     "name": "stdout",
     "output_type": "stream",
     "text": [
      "{'eval_mnli_mismatched_loss': 0.6422621011734009, 'eval_mnli_mismatched_accuracy': 0.8419446704637917, 'eval_mnli_mismatched_runtime': 26.5704, 'eval_mnli_mismatched_samples_per_second': 370.036, 'eval_mnli_mismatched_steps_per_second': 11.592, 'epoch': 3.67}\n",
      "{'loss': 0.1289, 'grad_norm': 3.808565378189087, 'learning_rate': 3.702737940026076e-06, 'epoch': 4.07}\n"
     ]
    },
    {
     "data": {
      "application/vnd.jupyter.widget-view+json": {
       "model_id": "a76fcd2ecbe44f9bafb6f08efd81d0ab",
       "version_major": 2,
       "version_minor": 0
      },
      "text/plain": [
       "  0%|          | 0/307 [00:00<?, ?it/s]"
      ]
     },
     "metadata": {},
     "output_type": "display_data"
    },
    {
     "name": "stdout",
     "output_type": "stream",
     "text": [
      "{'eval_mnli_matched_loss': 0.7904113531112671, 'eval_mnli_matched_accuracy': 0.8417727967396842, 'eval_mnli_matched_runtime': 25.7781, 'eval_mnli_matched_samples_per_second': 380.749, 'eval_mnli_matched_steps_per_second': 11.909, 'epoch': 4.07}\n"
     ]
    },
    {
     "data": {
      "application/vnd.jupyter.widget-view+json": {
       "model_id": "2e3efa3573f3468d84a68eb0c377a03c",
       "version_major": 2,
       "version_minor": 0
      },
      "text/plain": [
       "  0%|          | 0/308 [00:00<?, ?it/s]"
      ]
     },
     "metadata": {},
     "output_type": "display_data"
    },
    {
     "name": "stdout",
     "output_type": "stream",
     "text": [
      "{'eval_mnli_mismatched_loss': 0.7661421895027161, 'eval_mnli_mismatched_accuracy': 0.8418429617575265, 'eval_mnli_mismatched_runtime': 26.2707, 'eval_mnli_mismatched_samples_per_second': 374.257, 'eval_mnli_mismatched_steps_per_second': 11.724, 'epoch': 4.07}\n",
      "{'loss': 0.0994, 'grad_norm': 1.4804115295410156, 'learning_rate': 2.0730117340286834e-06, 'epoch': 4.48}\n"
     ]
    },
    {
     "data": {
      "application/vnd.jupyter.widget-view+json": {
       "model_id": "7ea35fd82bb3443097ae0704b29c5a84",
       "version_major": 2,
       "version_minor": 0
      },
      "text/plain": [
       "  0%|          | 0/307 [00:00<?, ?it/s]"
      ]
     },
     "metadata": {},
     "output_type": "display_data"
    },
    {
     "name": "stdout",
     "output_type": "stream",
     "text": [
      "{'eval_mnli_matched_loss': 0.7885497808456421, 'eval_mnli_matched_accuracy': 0.840855832908813, 'eval_mnli_matched_runtime': 26.0847, 'eval_mnli_matched_samples_per_second': 376.274, 'eval_mnli_matched_steps_per_second': 11.769, 'epoch': 4.48}\n"
     ]
    },
    {
     "data": {
      "application/vnd.jupyter.widget-view+json": {
       "model_id": "b037b3ec221c495f959ab12c4b4113f0",
       "version_major": 2,
       "version_minor": 0
      },
      "text/plain": [
       "  0%|          | 0/308 [00:00<?, ?it/s]"
      ]
     },
     "metadata": {},
     "output_type": "display_data"
    },
    {
     "name": "stdout",
     "output_type": "stream",
     "text": [
      "{'eval_mnli_mismatched_loss': 0.7610719203948975, 'eval_mnli_mismatched_accuracy': 0.8434703010577705, 'eval_mnli_mismatched_runtime': 26.9222, 'eval_mnli_mismatched_samples_per_second': 365.2, 'eval_mnli_mismatched_steps_per_second': 11.44, 'epoch': 4.48}\n",
      "{'loss': 0.0979, 'grad_norm': 15.805426597595215, 'learning_rate': 4.432855280312908e-07, 'epoch': 4.89}\n"
     ]
    },
    {
     "data": {
      "application/vnd.jupyter.widget-view+json": {
       "model_id": "9046f5494abf4fa3aec152b351d5bd46",
       "version_major": 2,
       "version_minor": 0
      },
      "text/plain": [
       "  0%|          | 0/307 [00:00<?, ?it/s]"
      ]
     },
     "metadata": {},
     "output_type": "display_data"
    },
    {
     "name": "stdout",
     "output_type": "stream",
     "text": [
      "{'eval_mnli_matched_loss': 0.8114484548568726, 'eval_mnli_matched_accuracy': 0.839429444727458, 'eval_mnli_matched_runtime': 25.8082, 'eval_mnli_matched_samples_per_second': 380.306, 'eval_mnli_matched_steps_per_second': 11.895, 'epoch': 4.89}\n"
     ]
    },
    {
     "data": {
      "application/vnd.jupyter.widget-view+json": {
       "model_id": "758f99dffa01477d91df88e19adddb9e",
       "version_major": 2,
       "version_minor": 0
      },
      "text/plain": [
       "  0%|          | 0/308 [00:00<?, ?it/s]"
      ]
     },
     "metadata": {},
     "output_type": "display_data"
    },
    {
     "name": "stdout",
     "output_type": "stream",
     "text": [
      "{'eval_mnli_mismatched_loss': 0.7801581025123596, 'eval_mnli_mismatched_accuracy': 0.8433685923515053, 'eval_mnli_mismatched_runtime': 26.6342, 'eval_mnli_mismatched_samples_per_second': 369.15, 'eval_mnli_mismatched_steps_per_second': 11.564, 'epoch': 4.89}\n",
      "{'train_runtime': 19234.0196, 'train_samples_per_second': 102.085, 'train_steps_per_second': 3.19, 'train_loss': 0.2285496645831689, 'epoch': 5.0}\n"
     ]
    }
   ],
   "source": [
    "torch.cuda.empty_cache()\n",
    "\n",
    "print(f\"--- {training_arguments.output_dir=}\")\n",
    "print(f\"--- {training_arguments.metric_for_best_model=}\")\n",
    "training_summary = trainer.train()"
   ]
  },
  {
   "cell_type": "code",
   "execution_count": 70,
   "metadata": {},
   "outputs": [
    {
     "data": {
      "text/plain": [
       "TrainOutput(global_step=61360, training_loss=0.2285496645831689, metrics={'train_runtime': 19234.0196, 'train_samples_per_second': 102.085, 'train_steps_per_second': 3.19, 'total_flos': 9.422162303349373e+16, 'train_loss': 0.2285496645831689, 'epoch': 5.0})"
      ]
     },
     "execution_count": 70,
     "metadata": {},
     "output_type": "execute_result"
    }
   ],
   "source": [
    "training_summary"
   ]
  },
  {
   "cell_type": "markdown",
   "metadata": {},
   "source": [
    "We can call `trainer.evaluate()` to check that the `trainer` instance did indeed reload the model checkpoint with the highest evaluation score:"
   ]
  },
  {
   "cell_type": "code",
   "execution_count": 71,
   "metadata": {},
   "outputs": [
    {
     "data": {
      "application/vnd.jupyter.widget-view+json": {
       "model_id": "47be92d9c2094beabbd667fc83dc4ac1",
       "version_major": 2,
       "version_minor": 0
      },
      "text/plain": [
       "  0%|          | 0/307 [00:00<?, ?it/s]"
      ]
     },
     "metadata": {},
     "output_type": "display_data"
    },
    {
     "data": {
      "application/vnd.jupyter.widget-view+json": {
       "model_id": "5bb089e72b294472beffee9285ccd9ec",
       "version_major": 2,
       "version_minor": 0
      },
      "text/plain": [
       "  0%|          | 0/308 [00:00<?, ?it/s]"
      ]
     },
     "metadata": {},
     "output_type": "display_data"
    },
    {
     "data": {
      "text/plain": [
       "{'eval_mnli_matched_loss': 0.5255287885665894,\n",
       " 'eval_mnli_matched_accuracy': 0.8431991849210392,\n",
       " 'eval_mnli_matched_runtime': 25.6887,\n",
       " 'eval_mnli_matched_samples_per_second': 382.075,\n",
       " 'eval_mnli_matched_steps_per_second': 11.951,\n",
       " 'epoch': 5.0,\n",
       " 'eval_mnli_mismatched_loss': 0.5054153800010681,\n",
       " 'eval_mnli_mismatched_accuracy': 0.8475386493083807,\n",
       " 'eval_mnli_mismatched_runtime': 26.3692,\n",
       " 'eval_mnli_mismatched_samples_per_second': 372.859,\n",
       " 'eval_mnli_mismatched_steps_per_second': 11.68,\n",
       " 'eval_accuracy_avg': 0.84536891711471}"
      ]
     },
     "execution_count": 71,
     "metadata": {},
     "output_type": "execute_result"
    }
   ],
   "source": [
    "best_model_evaluation = trainer.evaluate()\n",
    "best_model_evaluation"
   ]
  },
  {
   "cell_type": "code",
   "execution_count": 72,
   "metadata": {},
   "outputs": [
    {
     "data": {
      "text/html": [
       "<div>\n",
       "<style scoped>\n",
       "    .dataframe tbody tr th:only-of-type {\n",
       "        vertical-align: middle;\n",
       "    }\n",
       "\n",
       "    .dataframe tbody tr th {\n",
       "        vertical-align: top;\n",
       "    }\n",
       "\n",
       "    .dataframe thead th {\n",
       "        text-align: right;\n",
       "    }\n",
       "</style>\n",
       "<table border=\"1\" class=\"dataframe\">\n",
       "  <thead>\n",
       "    <tr style=\"text-align: right;\">\n",
       "      <th></th>\n",
       "      <th>loss</th>\n",
       "      <th>grad_norm</th>\n",
       "      <th>learning_rate</th>\n",
       "      <th>epoch</th>\n",
       "      <th>eval_mnli_matched_loss</th>\n",
       "      <th>eval_mnli_matched_accuracy</th>\n",
       "      <th>eval_mnli_matched_runtime</th>\n",
       "      <th>eval_mnli_matched_samples_per_second</th>\n",
       "      <th>eval_mnli_matched_steps_per_second</th>\n",
       "      <th>eval_mnli_mismatched_loss</th>\n",
       "      <th>eval_mnli_mismatched_accuracy</th>\n",
       "      <th>eval_mnli_mismatched_runtime</th>\n",
       "      <th>eval_mnli_mismatched_samples_per_second</th>\n",
       "      <th>eval_mnli_mismatched_steps_per_second</th>\n",
       "      <th>train_runtime</th>\n",
       "      <th>train_samples_per_second</th>\n",
       "      <th>train_steps_per_second</th>\n",
       "      <th>total_flos</th>\n",
       "      <th>train_loss</th>\n",
       "    </tr>\n",
       "    <tr>\n",
       "      <th>step</th>\n",
       "      <th></th>\n",
       "      <th></th>\n",
       "      <th></th>\n",
       "      <th></th>\n",
       "      <th></th>\n",
       "      <th></th>\n",
       "      <th></th>\n",
       "      <th></th>\n",
       "      <th></th>\n",
       "      <th></th>\n",
       "      <th></th>\n",
       "      <th></th>\n",
       "      <th></th>\n",
       "      <th></th>\n",
       "      <th></th>\n",
       "      <th></th>\n",
       "      <th></th>\n",
       "      <th></th>\n",
       "      <th></th>\n",
       "    </tr>\n",
       "  </thead>\n",
       "  <tbody>\n",
       "    <tr>\n",
       "      <th>5000</th>\n",
       "      <td>0.2532</td>\n",
       "      <td>12.668608</td>\n",
       "      <td>1.837027e-05</td>\n",
       "      <td>0.407432</td>\n",
       "      <td>0.668931</td>\n",
       "      <td>0.810902</td>\n",
       "      <td>25.5149</td>\n",
       "      <td>384.677</td>\n",
       "      <td>12.032</td>\n",
       "      <td>0.661702</td>\n",
       "      <td>0.806448</td>\n",
       "      <td>26.2966</td>\n",
       "      <td>373.889</td>\n",
       "      <td>11.713</td>\n",
       "      <td>NaN</td>\n",
       "      <td>NaN</td>\n",
       "      <td>NaN</td>\n",
       "      <td>NaN</td>\n",
       "      <td>NaN</td>\n",
       "    </tr>\n",
       "    <tr>\n",
       "      <th>10000</th>\n",
       "      <td>0.4869</td>\n",
       "      <td>7.496336</td>\n",
       "      <td>1.674055e-05</td>\n",
       "      <td>0.814863</td>\n",
       "      <td>0.456706</td>\n",
       "      <td>0.824249</td>\n",
       "      <td>25.8238</td>\n",
       "      <td>380.076</td>\n",
       "      <td>11.888</td>\n",
       "      <td>0.433481</td>\n",
       "      <td>0.834317</td>\n",
       "      <td>26.6066</td>\n",
       "      <td>369.533</td>\n",
       "      <td>11.576</td>\n",
       "      <td>NaN</td>\n",
       "      <td>NaN</td>\n",
       "      <td>NaN</td>\n",
       "      <td>NaN</td>\n",
       "      <td>NaN</td>\n",
       "    </tr>\n",
       "    <tr>\n",
       "      <th>15000</th>\n",
       "      <td>0.3799</td>\n",
       "      <td>4.739259</td>\n",
       "      <td>1.511082e-05</td>\n",
       "      <td>1.222295</td>\n",
       "      <td>0.464022</td>\n",
       "      <td>0.834845</td>\n",
       "      <td>26.2907</td>\n",
       "      <td>373.326</td>\n",
       "      <td>11.677</td>\n",
       "      <td>0.442226</td>\n",
       "      <td>0.839605</td>\n",
       "      <td>26.9759</td>\n",
       "      <td>364.473</td>\n",
       "      <td>11.418</td>\n",
       "      <td>NaN</td>\n",
       "      <td>NaN</td>\n",
       "      <td>NaN</td>\n",
       "      <td>NaN</td>\n",
       "      <td>NaN</td>\n",
       "    </tr>\n",
       "    <tr>\n",
       "      <th>20000</th>\n",
       "      <td>0.3162</td>\n",
       "      <td>9.998969</td>\n",
       "      <td>1.348110e-05</td>\n",
       "      <td>1.629726</td>\n",
       "      <td>0.459996</td>\n",
       "      <td>0.840856</td>\n",
       "      <td>26.0125</td>\n",
       "      <td>377.318</td>\n",
       "      <td>11.802</td>\n",
       "      <td>0.435279</td>\n",
       "      <td>0.846623</td>\n",
       "      <td>27.0046</td>\n",
       "      <td>364.087</td>\n",
       "      <td>11.405</td>\n",
       "      <td>NaN</td>\n",
       "      <td>NaN</td>\n",
       "      <td>NaN</td>\n",
       "      <td>NaN</td>\n",
       "      <td>NaN</td>\n",
       "    </tr>\n",
       "    <tr>\n",
       "      <th>25000</th>\n",
       "      <td>0.3054</td>\n",
       "      <td>8.383156</td>\n",
       "      <td>1.185137e-05</td>\n",
       "      <td>2.037158</td>\n",
       "      <td>0.573796</td>\n",
       "      <td>0.830871</td>\n",
       "      <td>26.0984</td>\n",
       "      <td>376.077</td>\n",
       "      <td>11.763</td>\n",
       "      <td>0.535544</td>\n",
       "      <td>0.839199</td>\n",
       "      <td>26.5722</td>\n",
       "      <td>370.010</td>\n",
       "      <td>11.591</td>\n",
       "      <td>NaN</td>\n",
       "      <td>NaN</td>\n",
       "      <td>NaN</td>\n",
       "      <td>NaN</td>\n",
       "      <td>NaN</td>\n",
       "    </tr>\n",
       "    <tr>\n",
       "      <th>30000</th>\n",
       "      <td>0.2029</td>\n",
       "      <td>4.336827</td>\n",
       "      <td>1.022164e-05</td>\n",
       "      <td>2.444589</td>\n",
       "      <td>0.560196</td>\n",
       "      <td>0.836780</td>\n",
       "      <td>25.8582</td>\n",
       "      <td>379.571</td>\n",
       "      <td>11.872</td>\n",
       "      <td>0.530909</td>\n",
       "      <td>0.844284</td>\n",
       "      <td>26.6465</td>\n",
       "      <td>368.979</td>\n",
       "      <td>11.559</td>\n",
       "      <td>NaN</td>\n",
       "      <td>NaN</td>\n",
       "      <td>NaN</td>\n",
       "      <td>NaN</td>\n",
       "      <td>NaN</td>\n",
       "    </tr>\n",
       "    <tr>\n",
       "      <th>35000</th>\n",
       "      <td>0.2085</td>\n",
       "      <td>9.760829</td>\n",
       "      <td>8.591917e-06</td>\n",
       "      <td>2.852021</td>\n",
       "      <td>0.525529</td>\n",
       "      <td>0.843199</td>\n",
       "      <td>25.9370</td>\n",
       "      <td>378.417</td>\n",
       "      <td>11.836</td>\n",
       "      <td>0.505415</td>\n",
       "      <td>0.847539</td>\n",
       "      <td>26.3115</td>\n",
       "      <td>373.678</td>\n",
       "      <td>11.706</td>\n",
       "      <td>NaN</td>\n",
       "      <td>NaN</td>\n",
       "      <td>NaN</td>\n",
       "      <td>NaN</td>\n",
       "      <td>NaN</td>\n",
       "    </tr>\n",
       "    <tr>\n",
       "      <th>40000</th>\n",
       "      <td>0.1608</td>\n",
       "      <td>13.369094</td>\n",
       "      <td>6.962190e-06</td>\n",
       "      <td>3.259452</td>\n",
       "      <td>0.672254</td>\n",
       "      <td>0.839633</td>\n",
       "      <td>25.5228</td>\n",
       "      <td>384.558</td>\n",
       "      <td>12.028</td>\n",
       "      <td>0.636583</td>\n",
       "      <td>0.846522</td>\n",
       "      <td>26.3969</td>\n",
       "      <td>372.467</td>\n",
       "      <td>11.668</td>\n",
       "      <td>NaN</td>\n",
       "      <td>NaN</td>\n",
       "      <td>NaN</td>\n",
       "      <td>NaN</td>\n",
       "      <td>NaN</td>\n",
       "    </tr>\n",
       "    <tr>\n",
       "      <th>45000</th>\n",
       "      <td>0.1386</td>\n",
       "      <td>9.150809</td>\n",
       "      <td>5.332464e-06</td>\n",
       "      <td>3.666884</td>\n",
       "      <td>0.662635</td>\n",
       "      <td>0.842588</td>\n",
       "      <td>25.6654</td>\n",
       "      <td>382.422</td>\n",
       "      <td>11.962</td>\n",
       "      <td>0.642262</td>\n",
       "      <td>0.841945</td>\n",
       "      <td>26.5704</td>\n",
       "      <td>370.036</td>\n",
       "      <td>11.592</td>\n",
       "      <td>NaN</td>\n",
       "      <td>NaN</td>\n",
       "      <td>NaN</td>\n",
       "      <td>NaN</td>\n",
       "      <td>NaN</td>\n",
       "    </tr>\n",
       "    <tr>\n",
       "      <th>50000</th>\n",
       "      <td>0.1289</td>\n",
       "      <td>3.808565</td>\n",
       "      <td>3.702738e-06</td>\n",
       "      <td>4.074316</td>\n",
       "      <td>0.790411</td>\n",
       "      <td>0.841773</td>\n",
       "      <td>25.7781</td>\n",
       "      <td>380.749</td>\n",
       "      <td>11.909</td>\n",
       "      <td>0.766142</td>\n",
       "      <td>0.841843</td>\n",
       "      <td>26.2707</td>\n",
       "      <td>374.257</td>\n",
       "      <td>11.724</td>\n",
       "      <td>NaN</td>\n",
       "      <td>NaN</td>\n",
       "      <td>NaN</td>\n",
       "      <td>NaN</td>\n",
       "      <td>NaN</td>\n",
       "    </tr>\n",
       "    <tr>\n",
       "      <th>55000</th>\n",
       "      <td>0.0994</td>\n",
       "      <td>1.480412</td>\n",
       "      <td>2.073012e-06</td>\n",
       "      <td>4.481747</td>\n",
       "      <td>0.788550</td>\n",
       "      <td>0.840856</td>\n",
       "      <td>26.0847</td>\n",
       "      <td>376.274</td>\n",
       "      <td>11.769</td>\n",
       "      <td>0.761072</td>\n",
       "      <td>0.843470</td>\n",
       "      <td>26.9222</td>\n",
       "      <td>365.200</td>\n",
       "      <td>11.440</td>\n",
       "      <td>NaN</td>\n",
       "      <td>NaN</td>\n",
       "      <td>NaN</td>\n",
       "      <td>NaN</td>\n",
       "      <td>NaN</td>\n",
       "    </tr>\n",
       "    <tr>\n",
       "      <th>60000</th>\n",
       "      <td>0.0979</td>\n",
       "      <td>15.805427</td>\n",
       "      <td>4.432855e-07</td>\n",
       "      <td>4.889179</td>\n",
       "      <td>0.811448</td>\n",
       "      <td>0.839429</td>\n",
       "      <td>25.8082</td>\n",
       "      <td>380.306</td>\n",
       "      <td>11.895</td>\n",
       "      <td>0.780158</td>\n",
       "      <td>0.843369</td>\n",
       "      <td>26.6342</td>\n",
       "      <td>369.150</td>\n",
       "      <td>11.564</td>\n",
       "      <td>NaN</td>\n",
       "      <td>NaN</td>\n",
       "      <td>NaN</td>\n",
       "      <td>NaN</td>\n",
       "      <td>NaN</td>\n",
       "    </tr>\n",
       "    <tr>\n",
       "      <th>61360</th>\n",
       "      <td>NaN</td>\n",
       "      <td>NaN</td>\n",
       "      <td>NaN</td>\n",
       "      <td>5.000000</td>\n",
       "      <td>0.525529</td>\n",
       "      <td>0.843199</td>\n",
       "      <td>25.6887</td>\n",
       "      <td>382.075</td>\n",
       "      <td>11.951</td>\n",
       "      <td>0.505415</td>\n",
       "      <td>0.847539</td>\n",
       "      <td>26.3692</td>\n",
       "      <td>372.859</td>\n",
       "      <td>11.680</td>\n",
       "      <td>19234.0196</td>\n",
       "      <td>102.085</td>\n",
       "      <td>3.19</td>\n",
       "      <td>9.422162e+16</td>\n",
       "      <td>0.22855</td>\n",
       "    </tr>\n",
       "  </tbody>\n",
       "</table>\n",
       "</div>"
      ],
      "text/plain": [
       "         loss  grad_norm  learning_rate     epoch  eval_mnli_matched_loss  \\\n",
       "step                                                                        \n",
       "5000   0.2532  12.668608   1.837027e-05  0.407432                0.668931   \n",
       "10000  0.4869   7.496336   1.674055e-05  0.814863                0.456706   \n",
       "15000  0.3799   4.739259   1.511082e-05  1.222295                0.464022   \n",
       "20000  0.3162   9.998969   1.348110e-05  1.629726                0.459996   \n",
       "25000  0.3054   8.383156   1.185137e-05  2.037158                0.573796   \n",
       "30000  0.2029   4.336827   1.022164e-05  2.444589                0.560196   \n",
       "35000  0.2085   9.760829   8.591917e-06  2.852021                0.525529   \n",
       "40000  0.1608  13.369094   6.962190e-06  3.259452                0.672254   \n",
       "45000  0.1386   9.150809   5.332464e-06  3.666884                0.662635   \n",
       "50000  0.1289   3.808565   3.702738e-06  4.074316                0.790411   \n",
       "55000  0.0994   1.480412   2.073012e-06  4.481747                0.788550   \n",
       "60000  0.0979  15.805427   4.432855e-07  4.889179                0.811448   \n",
       "61360     NaN        NaN            NaN  5.000000                0.525529   \n",
       "\n",
       "       eval_mnli_matched_accuracy  eval_mnli_matched_runtime  \\\n",
       "step                                                           \n",
       "5000                     0.810902                    25.5149   \n",
       "10000                    0.824249                    25.8238   \n",
       "15000                    0.834845                    26.2907   \n",
       "20000                    0.840856                    26.0125   \n",
       "25000                    0.830871                    26.0984   \n",
       "30000                    0.836780                    25.8582   \n",
       "35000                    0.843199                    25.9370   \n",
       "40000                    0.839633                    25.5228   \n",
       "45000                    0.842588                    25.6654   \n",
       "50000                    0.841773                    25.7781   \n",
       "55000                    0.840856                    26.0847   \n",
       "60000                    0.839429                    25.8082   \n",
       "61360                    0.843199                    25.6887   \n",
       "\n",
       "       eval_mnli_matched_samples_per_second  \\\n",
       "step                                          \n",
       "5000                                384.677   \n",
       "10000                               380.076   \n",
       "15000                               373.326   \n",
       "20000                               377.318   \n",
       "25000                               376.077   \n",
       "30000                               379.571   \n",
       "35000                               378.417   \n",
       "40000                               384.558   \n",
       "45000                               382.422   \n",
       "50000                               380.749   \n",
       "55000                               376.274   \n",
       "60000                               380.306   \n",
       "61360                               382.075   \n",
       "\n",
       "       eval_mnli_matched_steps_per_second  eval_mnli_mismatched_loss  \\\n",
       "step                                                                   \n",
       "5000                               12.032                   0.661702   \n",
       "10000                              11.888                   0.433481   \n",
       "15000                              11.677                   0.442226   \n",
       "20000                              11.802                   0.435279   \n",
       "25000                              11.763                   0.535544   \n",
       "30000                              11.872                   0.530909   \n",
       "35000                              11.836                   0.505415   \n",
       "40000                              12.028                   0.636583   \n",
       "45000                              11.962                   0.642262   \n",
       "50000                              11.909                   0.766142   \n",
       "55000                              11.769                   0.761072   \n",
       "60000                              11.895                   0.780158   \n",
       "61360                              11.951                   0.505415   \n",
       "\n",
       "       eval_mnli_mismatched_accuracy  eval_mnli_mismatched_runtime  \\\n",
       "step                                                                 \n",
       "5000                        0.806448                       26.2966   \n",
       "10000                       0.834317                       26.6066   \n",
       "15000                       0.839605                       26.9759   \n",
       "20000                       0.846623                       27.0046   \n",
       "25000                       0.839199                       26.5722   \n",
       "30000                       0.844284                       26.6465   \n",
       "35000                       0.847539                       26.3115   \n",
       "40000                       0.846522                       26.3969   \n",
       "45000                       0.841945                       26.5704   \n",
       "50000                       0.841843                       26.2707   \n",
       "55000                       0.843470                       26.9222   \n",
       "60000                       0.843369                       26.6342   \n",
       "61360                       0.847539                       26.3692   \n",
       "\n",
       "       eval_mnli_mismatched_samples_per_second  \\\n",
       "step                                             \n",
       "5000                                   373.889   \n",
       "10000                                  369.533   \n",
       "15000                                  364.473   \n",
       "20000                                  364.087   \n",
       "25000                                  370.010   \n",
       "30000                                  368.979   \n",
       "35000                                  373.678   \n",
       "40000                                  372.467   \n",
       "45000                                  370.036   \n",
       "50000                                  374.257   \n",
       "55000                                  365.200   \n",
       "60000                                  369.150   \n",
       "61360                                  372.859   \n",
       "\n",
       "       eval_mnli_mismatched_steps_per_second  train_runtime  \\\n",
       "step                                                          \n",
       "5000                                  11.713            NaN   \n",
       "10000                                 11.576            NaN   \n",
       "15000                                 11.418            NaN   \n",
       "20000                                 11.405            NaN   \n",
       "25000                                 11.591            NaN   \n",
       "30000                                 11.559            NaN   \n",
       "35000                                 11.706            NaN   \n",
       "40000                                 11.668            NaN   \n",
       "45000                                 11.592            NaN   \n",
       "50000                                 11.724            NaN   \n",
       "55000                                 11.440            NaN   \n",
       "60000                                 11.564            NaN   \n",
       "61360                                 11.680     19234.0196   \n",
       "\n",
       "       train_samples_per_second  train_steps_per_second    total_flos  \\\n",
       "step                                                                    \n",
       "5000                        NaN                     NaN           NaN   \n",
       "10000                       NaN                     NaN           NaN   \n",
       "15000                       NaN                     NaN           NaN   \n",
       "20000                       NaN                     NaN           NaN   \n",
       "25000                       NaN                     NaN           NaN   \n",
       "30000                       NaN                     NaN           NaN   \n",
       "35000                       NaN                     NaN           NaN   \n",
       "40000                       NaN                     NaN           NaN   \n",
       "45000                       NaN                     NaN           NaN   \n",
       "50000                       NaN                     NaN           NaN   \n",
       "55000                       NaN                     NaN           NaN   \n",
       "60000                       NaN                     NaN           NaN   \n",
       "61360                   102.085                    3.19  9.422162e+16   \n",
       "\n",
       "       train_loss  \n",
       "step               \n",
       "5000          NaN  \n",
       "10000         NaN  \n",
       "15000         NaN  \n",
       "20000         NaN  \n",
       "25000         NaN  \n",
       "30000         NaN  \n",
       "35000         NaN  \n",
       "40000         NaN  \n",
       "45000         NaN  \n",
       "50000         NaN  \n",
       "55000         NaN  \n",
       "60000         NaN  \n",
       "61360     0.22855  "
      ]
     },
     "execution_count": 72,
     "metadata": {},
     "output_type": "execute_result"
    }
   ],
   "source": [
    "training_history = pd.DataFrame(trainer.state.log_history)\n",
    "training_history.groupby(\"step\").first()"
   ]
  },
  {
   "cell_type": "code",
   "execution_count": 75,
   "metadata": {},
   "outputs": [
    {
     "data": {
      "text/markdown": [
       "### Loss and Evaluation Metrics over Training Steps (matched)"
      ],
      "text/plain": [
       "<IPython.core.display.Markdown object>"
      ]
     },
     "metadata": {},
     "output_type": "display_data"
    },
    {
     "data": {
      "image/png": "[encoded data removed]",
      "text/plain": [
       "<Figure size 640x480 with 1 Axes>"
      ]
     },
     "metadata": {},
     "output_type": "display_data"
    }
   ],
   "source": [
    "import seaborn as sns\n",
    "\n",
    "data = training_history[[\"loss\", \"eval_mnli_matched_loss\", \"step\", \"eval_mnli_matched_accuracy\", ]]\n",
    "data.columns = [\"Train. Loss\", \"Eval. Loss\", \"Training Steps\", \"Acc.\"]\n",
    "data = data[:-1]  # drop last tow rows, as those rows just contains the values for the best checkpoint again\n",
    "data = pd.melt(data, ['Training Steps'])\n",
    "\n",
    "\n",
    "plot = sns.lineplot(data=data, x=\"Training Steps\", y=\"value\", hue=\"variable\", style=\"variable\", markers=True)\n",
    "plot.set_ylabel(\"\")\n",
    "plot.set_ylim((0, plot.get_ylim()[1]))\n",
    "plot.legend(title=\"\")\n",
    "\n",
    "from IPython.display import Markdown, display\n",
    "display(Markdown(\"### Loss and Evaluation Metrics over Training Steps (matched)\"))"
   ]
  },
  {
   "cell_type": "code",
   "execution_count": 76,
   "metadata": {},
   "outputs": [
    {
     "data": {
      "text/markdown": [
       "### Loss and Evaluation Metrics over Training Steps (mismatched)"
      ],
      "text/plain": [
       "<IPython.core.display.Markdown object>"
      ]
     },
     "metadata": {},
     "output_type": "display_data"
    },
    {
     "data": {
      "image/png": "[encoded data removed]",
      "text/plain": [
       "<Figure size 640x480 with 1 Axes>"
      ]
     },
     "metadata": {},
     "output_type": "display_data"
    }
   ],
   "source": [
    "data = training_history[[\"loss\", \"eval_mnli_mismatched_loss\", \"step\", \"eval_mnli_mismatched_accuracy\", ]]\n",
    "data.columns = [\"Train. Loss\", \"Eval. Loss\", \"Training Steps\", \"Acc.\"]\n",
    "data = data[:-1]  # drop last tow rows, as those rows just contains the values for the best checkpoint again\n",
    "data = pd.melt(data, ['Training Steps'])\n",
    "\n",
    "\n",
    "plot = sns.lineplot(data=data, x=\"Training Steps\", y=\"value\", hue=\"variable\", style=\"variable\", markers=True)\n",
    "plot.set_ylabel(\"\")\n",
    "plot.set_ylim((0, plot.get_ylim()[1]))\n",
    "plot.legend(title=\"\")\n",
    "\n",
    "from IPython.display import Markdown, display\n",
    "display(Markdown(\"### Loss and Evaluation Metrics over Training Steps (mismatched)\"))"
   ]
  },
  {
   "cell_type": "code",
   "execution_count": 84,
   "metadata": {},
   "outputs": [
    {
     "data": {
      "text/html": [
       "<div>\n",
       "<style scoped>\n",
       "    .dataframe tbody tr th:only-of-type {\n",
       "        vertical-align: middle;\n",
       "    }\n",
       "\n",
       "    .dataframe tbody tr th {\n",
       "        vertical-align: top;\n",
       "    }\n",
       "\n",
       "    .dataframe thead th {\n",
       "        text-align: right;\n",
       "    }\n",
       "</style>\n",
       "<table border=\"1\" class=\"dataframe\">\n",
       "  <thead>\n",
       "    <tr style=\"text-align: right;\">\n",
       "      <th></th>\n",
       "      <th>Our Model</th>\n",
       "    </tr>\n",
       "  </thead>\n",
       "  <tbody>\n",
       "    <tr>\n",
       "      <th>eval_mnli_matched_loss</th>\n",
       "      <td>0.525529</td>\n",
       "    </tr>\n",
       "    <tr>\n",
       "      <th>eval_mnli_matched_accuracy</th>\n",
       "      <td>0.843199</td>\n",
       "    </tr>\n",
       "    <tr>\n",
       "      <th>eval_mnli_mismatched_loss</th>\n",
       "      <td>0.505415</td>\n",
       "    </tr>\n",
       "    <tr>\n",
       "      <th>eval_mnli_mismatched_accuracy</th>\n",
       "      <td>0.847539</td>\n",
       "    </tr>\n",
       "    <tr>\n",
       "      <th>eval_accuracy_avg</th>\n",
       "      <td>0.845369</td>\n",
       "    </tr>\n",
       "  </tbody>\n",
       "</table>\n",
       "</div>"
      ],
      "text/plain": [
       "                               Our Model\n",
       "eval_mnli_matched_loss          0.525529\n",
       "eval_mnli_matched_accuracy      0.843199\n",
       "eval_mnli_mismatched_loss       0.505415\n",
       "eval_mnli_mismatched_accuracy   0.847539\n",
       "eval_accuracy_avg               0.845369"
      ]
     },
     "execution_count": 84,
     "metadata": {},
     "output_type": "execute_result"
    }
   ],
   "source": [
    "results = pd.DataFrame(\n",
    "    best_model_evaluation.values(),\n",
    "    index=best_model_evaluation.keys(),\n",
    "    columns=[\"Our Model\"],\n",
    ").drop(\n",
    "    # Drop runtime measurements\n",
    "    index=[\n",
    "        \"eval_mnli_matched_runtime\",\n",
    "        \"eval_mnli_mismatched_runtime\",\n",
    "        \"eval_mnli_matched_samples_per_second\",\n",
    "        \"eval_mnli_mismatched_samples_per_second\",\n",
    "        \"eval_mnli_matched_steps_per_second\",\n",
    "        \"eval_mnli_mismatched_steps_per_second\",\n",
    "        \"epoch\",\n",
    "    ]\n",
    ")\n",
    "results"
   ]
  },
  {
   "cell_type": "code",
   "execution_count": 95,
   "metadata": {},
   "outputs": [
    {
     "data": {
      "text/markdown": [
       "### Best Model performance:"
      ],
      "text/plain": [
       "<IPython.core.display.Markdown object>"
      ]
     },
     "metadata": {},
     "output_type": "display_data"
    },
    {
     "name": "stdout",
     "output_type": "stream",
     "text": [
      "\"Our Model\" based on google-bert/bert-base-uncased, best performance on validation data.\n",
      "\"BERT_BASE\" and \"BERT_LARGE\" performance on GLUE testing data as reported in original paper.\n"
     ]
    },
    {
     "data": {
      "text/html": [
       "<div>\n",
       "<style scoped>\n",
       "    .dataframe tbody tr th:only-of-type {\n",
       "        vertical-align: middle;\n",
       "    }\n",
       "\n",
       "    .dataframe tbody tr th {\n",
       "        vertical-align: top;\n",
       "    }\n",
       "\n",
       "    .dataframe thead th {\n",
       "        text-align: right;\n",
       "    }\n",
       "</style>\n",
       "<table border=\"1\" class=\"dataframe\">\n",
       "  <thead>\n",
       "    <tr style=\"text-align: right;\">\n",
       "      <th></th>\n",
       "      <th>Our Model</th>\n",
       "      <th>original BERT_BASE</th>\n",
       "      <th>original BERT_LARGE</th>\n",
       "    </tr>\n",
       "  </thead>\n",
       "  <tbody>\n",
       "    <tr>\n",
       "      <th>eval_mnli_matched_loss</th>\n",
       "      <td>0.525529</td>\n",
       "      <td>-</td>\n",
       "      <td>-</td>\n",
       "    </tr>\n",
       "    <tr>\n",
       "      <th>eval_mnli_matched_accuracy</th>\n",
       "      <td>0.843199</td>\n",
       "      <td>0.846</td>\n",
       "      <td>0.867</td>\n",
       "    </tr>\n",
       "    <tr>\n",
       "      <th>eval_mnli_mismatched_loss</th>\n",
       "      <td>0.505415</td>\n",
       "      <td>-</td>\n",
       "      <td>-</td>\n",
       "    </tr>\n",
       "    <tr>\n",
       "      <th>eval_mnli_mismatched_accuracy</th>\n",
       "      <td>0.847539</td>\n",
       "      <td>0.834</td>\n",
       "      <td>0.859</td>\n",
       "    </tr>\n",
       "    <tr>\n",
       "      <th>eval_accuracy_avg</th>\n",
       "      <td>0.845369</td>\n",
       "      <td>-</td>\n",
       "      <td>-</td>\n",
       "    </tr>\n",
       "  </tbody>\n",
       "</table>\n",
       "</div>"
      ],
      "text/plain": [
       "                               Our Model original BERT_BASE  \\\n",
       "eval_mnli_matched_loss          0.525529                  -   \n",
       "eval_mnli_matched_accuracy      0.843199              0.846   \n",
       "eval_mnli_mismatched_loss       0.505415                  -   \n",
       "eval_mnli_mismatched_accuracy   0.847539              0.834   \n",
       "eval_accuracy_avg               0.845369                  -   \n",
       "\n",
       "                              original BERT_LARGE  \n",
       "eval_mnli_matched_loss                          -  \n",
       "eval_mnli_matched_accuracy                  0.867  \n",
       "eval_mnli_mismatched_loss                       -  \n",
       "eval_mnli_mismatched_accuracy               0.859  \n",
       "eval_accuracy_avg                               -  "
      ]
     },
     "execution_count": 95,
     "metadata": {},
     "output_type": "execute_result"
    }
   ],
   "source": [
    "display(Markdown(f\"### Best Model performance:\"))\n",
    "results = pd.DataFrame(\n",
    "    best_model_evaluation.values(),\n",
    "    index=best_model_evaluation.keys(),\n",
    "    columns=[\"Our Model\"],\n",
    ").drop(\n",
    "    # Drop runtime measurements\n",
    "    index=[\n",
    "        \"eval_mnli_matched_runtime\",\n",
    "        \"eval_mnli_mismatched_runtime\",\n",
    "        \"eval_mnli_matched_samples_per_second\",\n",
    "        \"eval_mnli_mismatched_samples_per_second\",\n",
    "        \"eval_mnli_matched_steps_per_second\",\n",
    "        \"eval_mnli_mismatched_steps_per_second\",\n",
    "        \"epoch\",\n",
    "    ]\n",
    ")\n",
    "# Achieved scores from original BERT paper:\n",
    "results[\"original BERT_BASE\"] = [\"-\", 0.846, \"-\", 0.834, \"-\"]\n",
    "results[\"original BERT_LARGE\"] = [\"-\", 0.867, \"-\", 0.859, \"-\"]\n",
    "print(\n",
    "    f'\"Our Model\" based on {PRE_TRAINED_CHECKPOINT}, best performance on validation data.'\n",
    ")\n",
    "print(\n",
    "    '\"BERT_BASE\" and \"BERT_LARGE\" performance on GLUE testing data as reported in original paper.'\n",
    ")\n",
    "results"
   ]
  },
  {
   "cell_type": "code",
   "execution_count": null,
   "metadata": {},
   "outputs": [],
   "source": []
  }
 ],
 "metadata": {
  "kernelspec": {
   "display_name": ".venv",
   "language": "python",
   "name": "python3"
  },
  "language_info": {
   "codemirror_mode": {
    "name": "ipython",
    "version": 3
   },
   "file_extension": ".py",
   "mimetype": "text/x-python",
   "name": "python",
   "nbconvert_exporter": "python",
   "pygments_lexer": "ipython3",
   "version": "3.11.11"
  }
 },
 "nbformat": 4,
 "nbformat_minor": 2
}
