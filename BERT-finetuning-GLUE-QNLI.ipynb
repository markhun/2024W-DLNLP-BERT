{
 "cells": [
  {
   "cell_type": "markdown",
   "metadata": {},
   "source": [
    "# Fine-Tuning BERT on GLUE - QNLI"
   ]
  },
  {
   "cell_type": "markdown",
   "metadata": {},
   "source": [
    "From [GLUE: A Multi-Task Benchmark and Analysis Platform for Natural Language Understanding - Wang et al.](https://arxiv.org/pdf/1804.07461):\n",
    "\n",
    "The Stanford Question Answering Dataset (Rajpurkar et al. 2016) is a question-answering dataset consisting of question-paragraph pairs, where one of the sentences in the paragraph (drawn\n",
    "from Wikipedia) contains the answer to the corresponding question (written by an annotator). We convert the task into sentence pair classification by forming a pair between each question and each\n",
    "sentence in the corresponding context, and filtering out pairs with low lexical overlap between the question and the context sentence. The task is to determine whether the context sentence contains\n",
    "the answer to the question. This modified version of the original task removes the requirement that the model select the exact answer, but also removes the simplifying assumptions that the answer\n",
    "is always present in the input and that lexical overlap is a reliable cue. This process of recasting existing datasets into NLI is similar to methods introduced in White et al. (2017) and expanded\n",
    "upon in Demszky et al. (2018). We call the converted dataset QNLI (Question-answering NLI)."
   ]
  },
  {
   "cell_type": "markdown",
   "metadata": {},
   "source": [
    "## Configuration"
   ]
  },
  {
   "cell_type": "code",
   "execution_count": 1,
   "metadata": {},
   "outputs": [],
   "source": [
    "import os\n",
    "\n",
    "# Where to store the huggingface data. On the provided Jupyterlab instance that should be within the shared group folder.\n",
    "os.environ['HF_HOME'] = '../groups/192.039-2024W/bert/huggingface/cache'"
   ]
  },
  {
   "cell_type": "code",
   "execution_count": 2,
   "metadata": {},
   "outputs": [],
   "source": [
    "from pathlib import Path\n",
    "\n",
    "from transformers import set_seed\n",
    "\n",
    "# RANDOMNESS SEED\n",
    "SEED = 42\n",
    "set_seed(SEED)\n",
    "\n",
    "# Which dataset to load\n",
    "DATASET_NAME = \"glue\"\n",
    "DATASET_TASK = \"qnli\"\n",
    "\n",
    "PRE_TRAINED_CHECKPOINT = \"google-bert/bert-base-uncased\"\n",
    "\n",
    "TRAIN_OUTPUT_DIR = (\n",
    "    Path(\"../groups/192.039-2024W/bert\") / \"training\" / f\"{DATASET_NAME}-{DATASET_TASK}\"\n",
    ")\n",
    "\n",
    "BATCH_SIZE = 32  # Original Paper claims to use 32 for GLUE tasks\n",
    "NUM_EPOCHS = 5  # Original Paper claims to use 3 fine-tuning epochs for GLUE tasks"
   ]
  },
  {
   "cell_type": "code",
   "execution_count": 3,
   "metadata": {},
   "outputs": [
    {
     "name": "stdout",
     "output_type": "stream",
     "text": [
      "There are 1 GPU(s) available.\n",
      "GPU used: NVIDIA GeForce RTX 4060 Ti\n",
      "\n",
      "==============NVSMI LOG==============\n",
      "\n",
      "Timestamp                                 : Sun Jan  5 13:14:26 2025\n",
      "Driver Version                            : 550.135\n",
      "CUDA Version                              : 12.4\n",
      "\n",
      "Attached GPUs                             : 1\n",
      "GPU 00000000:07:00.0\n",
      "    FB Memory Usage\n",
      "        Total                             : 16380 MiB\n",
      "        Reserved                          : 307 MiB\n",
      "        Used                              : 1155 MiB\n",
      "        Free                              : 14919 MiB\n",
      "    BAR1 Memory Usage\n",
      "        Total                             : 256 MiB\n",
      "        Used                              : 27 MiB\n",
      "        Free                              : 229 MiB\n",
      "    Conf Compute Protected Memory Usage\n",
      "        Total                             : 0 MiB\n",
      "        Used                              : 0 MiB\n",
      "        Free                              : 0 MiB\n",
      "    Compute Mode                          : Default\n",
      "\n"
     ]
    }
   ],
   "source": [
    "import torch\n",
    "\n",
    "if torch.cuda.is_available():\n",
    "  device = torch.device(\"cuda\")\n",
    "  device_count = torch.cuda.device_count()\n",
    "  device_name = torch.cuda.get_device_name(0)\n",
    "\n",
    "  print(f\"There are {device_count} GPU(s) available.\")\n",
    "  print(f\"GPU used: {device_name}\")\n",
    "  ! nvidia-smi -q --display=MEMORY,COMPUTE\n",
    "\n",
    "else:\n",
    "  print(\"No GPU available, using CPU.\")\n",
    "  device = torch.device(\"cpu\")"
   ]
  },
  {
   "cell_type": "markdown",
   "metadata": {},
   "source": [
    "## Dataset"
   ]
  },
  {
   "cell_type": "code",
   "execution_count": 4,
   "metadata": {},
   "outputs": [],
   "source": [
    "# In the GLUE dataset different tasks have different accessor keys\n",
    "_task_to_keys = {\n",
    "    \"cola\": (\"sentence\", None),\n",
    "    \"mnli\": (\"premise\", \"hypothesis\"),\n",
    "    \"mnli-mm\": (\"premise\", \"hypothesis\"),\n",
    "    \"mrpc\": (\"sentence1\", \"sentence2\"),\n",
    "    \"qnli\": (\"question\", \"sentence\"),\n",
    "    \"qqp\": (\"question1\", \"question2\"),\n",
    "    \"rte\": (\"sentence1\", \"sentence2\"),\n",
    "    \"sst2\": (\"sentence\", None),\n",
    "    \"stsb\": (\"sentence1\", \"sentence2\"),\n",
    "}"
   ]
  },
  {
   "cell_type": "code",
   "execution_count": 5,
   "metadata": {},
   "outputs": [
    {
     "data": {
      "text/plain": [
       "DatasetDict({\n",
       "    train: Dataset({\n",
       "        features: ['question', 'sentence', 'label', 'idx'],\n",
       "        num_rows: 104743\n",
       "    })\n",
       "    validation: Dataset({\n",
       "        features: ['question', 'sentence', 'label', 'idx'],\n",
       "        num_rows: 5463\n",
       "    })\n",
       "    test: Dataset({\n",
       "        features: ['question', 'sentence', 'label', 'idx'],\n",
       "        num_rows: 5463\n",
       "    })\n",
       "})"
      ]
     },
     "execution_count": 5,
     "metadata": {},
     "output_type": "execute_result"
    }
   ],
   "source": [
    "from datasets import load_dataset\n",
    "import pandas as pd\n",
    "\n",
    "dataset = load_dataset(DATASET_NAME, DATASET_TASK)\n",
    "dataset"
   ]
  },
  {
   "cell_type": "code",
   "execution_count": 6,
   "metadata": {},
   "outputs": [
    {
     "data": {
      "text/html": [
       "<div>\n",
       "<style scoped>\n",
       "    .dataframe tbody tr th:only-of-type {\n",
       "        vertical-align: middle;\n",
       "    }\n",
       "\n",
       "    .dataframe tbody tr th {\n",
       "        vertical-align: top;\n",
       "    }\n",
       "\n",
       "    .dataframe thead th {\n",
       "        text-align: right;\n",
       "    }\n",
       "</style>\n",
       "<table border=\"1\" class=\"dataframe\">\n",
       "  <thead>\n",
       "    <tr style=\"text-align: right;\">\n",
       "      <th></th>\n",
       "      <th>question</th>\n",
       "      <th>sentence</th>\n",
       "      <th>label</th>\n",
       "      <th>idx</th>\n",
       "    </tr>\n",
       "  </thead>\n",
       "  <tbody>\n",
       "    <tr>\n",
       "      <th>64724</th>\n",
       "      <td>In what year did Robert Louis Stevenson die?</td>\n",
       "      <td>Mission work in Samoa had begun in late 1830 b...</td>\n",
       "      <td>1</td>\n",
       "      <td>64724</td>\n",
       "    </tr>\n",
       "    <tr>\n",
       "      <th>38119</th>\n",
       "      <td>How was the Everton FC's crest redesign receiv...</td>\n",
       "      <td>The redesign was poorly received by supporters...</td>\n",
       "      <td>0</td>\n",
       "      <td>38119</td>\n",
       "    </tr>\n",
       "    <tr>\n",
       "      <th>41924</th>\n",
       "      <td>Beyoncé was an honorary chair of the 2013 what?</td>\n",
       "      <td>She was also honorary chair of the 2013 Met Gala.</td>\n",
       "      <td>0</td>\n",
       "      <td>41924</td>\n",
       "    </tr>\n",
       "    <tr>\n",
       "      <th>42888</th>\n",
       "      <td>Who was the author of Conversations on the Plu...</td>\n",
       "      <td>Sarah Trimmer wrote a successful natural histo...</td>\n",
       "      <td>1</td>\n",
       "      <td>42888</td>\n",
       "    </tr>\n",
       "    <tr>\n",
       "      <th>47148</th>\n",
       "      <td>What is essential for the mating of the elemen...</td>\n",
       "      <td>Antennas are required by any radio receiver or...</td>\n",
       "      <td>0</td>\n",
       "      <td>47148</td>\n",
       "    </tr>\n",
       "    <tr>\n",
       "      <th>42142</th>\n",
       "      <td>What are some courses Eton offers in the summe...</td>\n",
       "      <td>These comparatively new developments will run ...</td>\n",
       "      <td>1</td>\n",
       "      <td>42142</td>\n",
       "    </tr>\n",
       "    <tr>\n",
       "      <th>19057</th>\n",
       "      <td>What does \"open mouth operations\" mean?</td>\n",
       "      <td>Fractional deposit lending (changes in the res...</td>\n",
       "      <td>0</td>\n",
       "      <td>19057</td>\n",
       "    </tr>\n",
       "    <tr>\n",
       "      <th>69777</th>\n",
       "      <td>Who was the head of state of Swaziland after K...</td>\n",
       "      <td>Following the elections of 1973, the constitut...</td>\n",
       "      <td>1</td>\n",
       "      <td>69777</td>\n",
       "    </tr>\n",
       "    <tr>\n",
       "      <th>32661</th>\n",
       "      <td>Why did Julius Caesar wish to invade Gaul?</td>\n",
       "      <td>When two local tribes began to migrate on a ro...</td>\n",
       "      <td>1</td>\n",
       "      <td>32661</td>\n",
       "    </tr>\n",
       "    <tr>\n",
       "      <th>61664</th>\n",
       "      <td>How is the city commonly abbreviated?</td>\n",
       "      <td>This motto was quickly adopted as a city nickn...</td>\n",
       "      <td>1</td>\n",
       "      <td>61664</td>\n",
       "    </tr>\n",
       "  </tbody>\n",
       "</table>\n",
       "</div>"
      ],
      "text/plain": [
       "                                                question  \\\n",
       "64724       In what year did Robert Louis Stevenson die?   \n",
       "38119  How was the Everton FC's crest redesign receiv...   \n",
       "41924    Beyoncé was an honorary chair of the 2013 what?   \n",
       "42888  Who was the author of Conversations on the Plu...   \n",
       "47148  What is essential for the mating of the elemen...   \n",
       "42142  What are some courses Eton offers in the summe...   \n",
       "19057            What does \"open mouth operations\" mean?   \n",
       "69777  Who was the head of state of Swaziland after K...   \n",
       "32661         Why did Julius Caesar wish to invade Gaul?   \n",
       "61664              How is the city commonly abbreviated?   \n",
       "\n",
       "                                                sentence  label    idx  \n",
       "64724  Mission work in Samoa had begun in late 1830 b...      1  64724  \n",
       "38119  The redesign was poorly received by supporters...      0  38119  \n",
       "41924  She was also honorary chair of the 2013 Met Gala.      0  41924  \n",
       "42888  Sarah Trimmer wrote a successful natural histo...      1  42888  \n",
       "47148  Antennas are required by any radio receiver or...      0  47148  \n",
       "42142  These comparatively new developments will run ...      1  42142  \n",
       "19057  Fractional deposit lending (changes in the res...      0  19057  \n",
       "69777  Following the elections of 1973, the constitut...      1  69777  \n",
       "32661  When two local tribes began to migrate on a ro...      1  32661  \n",
       "61664  This motto was quickly adopted as a city nickn...      1  61664  "
      ]
     },
     "execution_count": 6,
     "metadata": {},
     "output_type": "execute_result"
    }
   ],
   "source": [
    "pd.DataFrame(dataset[\"train\"]).sample(10)"
   ]
  },
  {
   "cell_type": "code",
   "execution_count": 7,
   "metadata": {},
   "outputs": [
    {
     "name": "stdout",
     "output_type": "stream",
     "text": [
      "unique_lables_in_dataset=array([1, 0])\n",
      "num_labels=2\n"
     ]
    }
   ],
   "source": [
    "unique_lables_in_dataset = pd.DataFrame(dataset[\"train\"])[\"label\"].unique()\n",
    "num_labels = len(unique_lables_in_dataset)\n",
    "\n",
    "print(f\"{unique_lables_in_dataset=}\")\n",
    "print(f\"{num_labels=}\")"
   ]
  },
  {
   "cell_type": "markdown",
   "metadata": {},
   "source": [
    "## Tokenization"
   ]
  },
  {
   "cell_type": "code",
   "execution_count": 8,
   "metadata": {},
   "outputs": [],
   "source": [
    "from transformers import AutoTokenizer\n",
    "\n",
    "tokenizer = AutoTokenizer.from_pretrained(PRE_TRAINED_CHECKPOINT, do_lower_case=\"uncased\" in PRE_TRAINED_CHECKPOINT)"
   ]
  },
  {
   "cell_type": "markdown",
   "metadata": {},
   "source": [
    "BERT has a maximum sequence length of 512. We can check the sequence lengths resulting from tokenizing our dataset to see if our dataset exceeds this restriction of BERT:"
   ]
  },
  {
   "cell_type": "code",
   "execution_count": 9,
   "metadata": {},
   "outputs": [
    {
     "name": "stderr",
     "output_type": "stream",
     "text": [
      "Token indices sequence length is longer than the specified maximum sequence length for this model (549 > 512). Running this sequence through the model will result in indexing errors\n"
     ]
    },
    {
     "name": "stdout",
     "output_type": "stream",
     "text": [
      "Max length in split='train': 550\n",
      "Max length in split='validation': 250\n",
      "Max length in split='test': 294\n"
     ]
    }
   ],
   "source": [
    "first_sentence_key, second_sentence_key = _task_to_keys[DATASET_TASK]\n",
    "\n",
    "if second_sentence_key == None:  # Simply tokenize sentence\n",
    "\n",
    "    for split in dataset.keys():\n",
    "        max_len = 0\n",
    "        for sentence in dataset[split][first_sentence_key]:\n",
    "            # Tokenize the text and add `[CLS]` and `[SEP]` tokens.\n",
    "            input_ids = tokenizer.encode(sentence, add_special_tokens=True)\n",
    "            \n",
    "            max_len = max(max_len, len(input_ids))\n",
    "        \n",
    "\n",
    "        print(f\"Max length in {split=}: {max_len}\")\n",
    "\n",
    "else:  # Append both sentences via [SEP] and tokenize\n",
    "\n",
    "    for split in dataset.keys():\n",
    "        max_len = 0\n",
    "        for sentence1, sentence2 in zip(dataset[split][first_sentence_key], dataset[split][second_sentence_key]):\n",
    "            # Tokenize the text and add `[CLS]` and `[SEP]` tokens.\n",
    "            input_ids = tokenizer.encode(sentence1, sentence2,  add_special_tokens=True)\n",
    "            \n",
    "            max_len = max(max_len, len(input_ids))\n",
    "        \n",
    "\n",
    "        print(f\"Max length in {split=}: {max_len}\")\n"
   ]
  },
  {
   "cell_type": "markdown",
   "metadata": {},
   "source": [
    "The training dataset contains sequences longer than the maximum sequence length for BERT. This will be handled via truncation by our tokenization function:"
   ]
  },
  {
   "cell_type": "code",
   "execution_count": 10,
   "metadata": {},
   "outputs": [
    {
     "data": {
      "application/vnd.jupyter.widget-view+json": {
       "model_id": "e05571a4d74846f8894592ba33ea0053",
       "version_major": 2,
       "version_minor": 0
      },
      "text/plain": [
       "Map:   0%|          | 0/5463 [00:00<?, ? examples/s]"
      ]
     },
     "metadata": {},
     "output_type": "display_data"
    }
   ],
   "source": [
    "def tokenize_func(item):\n",
    "    \"\"\"Tokenize passed item. \n",
    "    \n",
    "    Depending on dataset task the passed item will either contain one sentence or two sentences.\n",
    "    In the last case the two sentences will be appended via a [SEP] token.\n",
    "    \"\"\"\n",
    "    if second_sentence_key is None:\n",
    "        return tokenizer(item[first_sentence_key], add_special_tokens=True, truncation=True)\n",
    "    else:\n",
    "        return tokenizer(item[first_sentence_key], item[second_sentence_key], add_special_tokens=True, truncation=True)\n",
    "\n",
    "tokenized_dataset = dataset.map(tokenize_func, batched=True)"
   ]
  },
  {
   "cell_type": "markdown",
   "metadata": {},
   "source": [
    "Here is an example of a tokenized dataset item:"
   ]
  },
  {
   "cell_type": "code",
   "execution_count": 11,
   "metadata": {},
   "outputs": [
    {
     "data": {
      "text/plain": [
       "{'question': ['When did the third Digimon series begin?'],\n",
       " 'sentence': ['Unlike the two seasons before it and most of the seasons that followed, Digimon Tamers takes a darker and more realistic approach to its story featuring Digimon who do not reincarnate after their deaths and more complex character development in the original Japanese.'],\n",
       " 'label': [1],\n",
       " 'idx': [0]}"
      ]
     },
     "execution_count": 11,
     "metadata": {},
     "output_type": "execute_result"
    }
   ],
   "source": [
    "dataset[\"train\"][:1]"
   ]
  },
  {
   "cell_type": "code",
   "execution_count": 12,
   "metadata": {},
   "outputs": [
    {
     "data": {
      "text/plain": [
       "{'question': ['When did the third Digimon series begin?'],\n",
       " 'sentence': ['Unlike the two seasons before it and most of the seasons that followed, Digimon Tamers takes a darker and more realistic approach to its story featuring Digimon who do not reincarnate after their deaths and more complex character development in the original Japanese.'],\n",
       " 'label': [1],\n",
       " 'idx': [0],\n",
       " 'input_ids': [[101,\n",
       "   2043,\n",
       "   2106,\n",
       "   1996,\n",
       "   2353,\n",
       "   10667,\n",
       "   16339,\n",
       "   2078,\n",
       "   2186,\n",
       "   4088,\n",
       "   1029,\n",
       "   102,\n",
       "   4406,\n",
       "   1996,\n",
       "   2048,\n",
       "   3692,\n",
       "   2077,\n",
       "   2009,\n",
       "   1998,\n",
       "   2087,\n",
       "   1997,\n",
       "   1996,\n",
       "   3692,\n",
       "   2008,\n",
       "   2628,\n",
       "   1010,\n",
       "   10667,\n",
       "   16339,\n",
       "   2078,\n",
       "   24763,\n",
       "   2869,\n",
       "   3138,\n",
       "   1037,\n",
       "   9904,\n",
       "   1998,\n",
       "   2062,\n",
       "   12689,\n",
       "   3921,\n",
       "   2000,\n",
       "   2049,\n",
       "   2466,\n",
       "   3794,\n",
       "   10667,\n",
       "   16339,\n",
       "   2078,\n",
       "   2040,\n",
       "   2079,\n",
       "   2025,\n",
       "   27788,\n",
       "   10010,\n",
       "   12556,\n",
       "   2044,\n",
       "   2037,\n",
       "   6677,\n",
       "   1998,\n",
       "   2062,\n",
       "   3375,\n",
       "   2839,\n",
       "   2458,\n",
       "   1999,\n",
       "   1996,\n",
       "   2434,\n",
       "   2887,\n",
       "   1012,\n",
       "   102]],\n",
       " 'token_type_ids': [[0,\n",
       "   0,\n",
       "   0,\n",
       "   0,\n",
       "   0,\n",
       "   0,\n",
       "   0,\n",
       "   0,\n",
       "   0,\n",
       "   0,\n",
       "   0,\n",
       "   0,\n",
       "   1,\n",
       "   1,\n",
       "   1,\n",
       "   1,\n",
       "   1,\n",
       "   1,\n",
       "   1,\n",
       "   1,\n",
       "   1,\n",
       "   1,\n",
       "   1,\n",
       "   1,\n",
       "   1,\n",
       "   1,\n",
       "   1,\n",
       "   1,\n",
       "   1,\n",
       "   1,\n",
       "   1,\n",
       "   1,\n",
       "   1,\n",
       "   1,\n",
       "   1,\n",
       "   1,\n",
       "   1,\n",
       "   1,\n",
       "   1,\n",
       "   1,\n",
       "   1,\n",
       "   1,\n",
       "   1,\n",
       "   1,\n",
       "   1,\n",
       "   1,\n",
       "   1,\n",
       "   1,\n",
       "   1,\n",
       "   1,\n",
       "   1,\n",
       "   1,\n",
       "   1,\n",
       "   1,\n",
       "   1,\n",
       "   1,\n",
       "   1,\n",
       "   1,\n",
       "   1,\n",
       "   1,\n",
       "   1,\n",
       "   1,\n",
       "   1,\n",
       "   1,\n",
       "   1]],\n",
       " 'attention_mask': [[1,\n",
       "   1,\n",
       "   1,\n",
       "   1,\n",
       "   1,\n",
       "   1,\n",
       "   1,\n",
       "   1,\n",
       "   1,\n",
       "   1,\n",
       "   1,\n",
       "   1,\n",
       "   1,\n",
       "   1,\n",
       "   1,\n",
       "   1,\n",
       "   1,\n",
       "   1,\n",
       "   1,\n",
       "   1,\n",
       "   1,\n",
       "   1,\n",
       "   1,\n",
       "   1,\n",
       "   1,\n",
       "   1,\n",
       "   1,\n",
       "   1,\n",
       "   1,\n",
       "   1,\n",
       "   1,\n",
       "   1,\n",
       "   1,\n",
       "   1,\n",
       "   1,\n",
       "   1,\n",
       "   1,\n",
       "   1,\n",
       "   1,\n",
       "   1,\n",
       "   1,\n",
       "   1,\n",
       "   1,\n",
       "   1,\n",
       "   1,\n",
       "   1,\n",
       "   1,\n",
       "   1,\n",
       "   1,\n",
       "   1,\n",
       "   1,\n",
       "   1,\n",
       "   1,\n",
       "   1,\n",
       "   1,\n",
       "   1,\n",
       "   1,\n",
       "   1,\n",
       "   1,\n",
       "   1,\n",
       "   1,\n",
       "   1,\n",
       "   1,\n",
       "   1,\n",
       "   1]]}"
      ]
     },
     "execution_count": 12,
     "metadata": {},
     "output_type": "execute_result"
    }
   ],
   "source": [
    "tokenized_dataset[\"train\"][:1]"
   ]
  },
  {
   "cell_type": "markdown",
   "metadata": {},
   "source": [
    "Tokenization added the `input_ids` field, which contains the tokenized sentence with a `[CLS]`(101) and two `[SEP]`(102) tokens added. A `token_type_ids` field which indicates first and second portion of the inputs, if necessary. And an `attention_mask` for the given input."
   ]
  },
  {
   "cell_type": "markdown",
   "metadata": {},
   "source": [
    "### Dealing with Padding"
   ]
  },
  {
   "cell_type": "markdown",
   "metadata": {},
   "source": [
    "Huggingface's `transformers` library provides a `DataCollatorWithPadding` class, which allows us to use dynamic padding.  \n",
    "Dynamic padding will add `[PAD]` tokens to the length of the longest sequence within a batch, instead of padding to the maximum sequence length within the entire dataset.  \n",
    "This will avoid unnecessary padding and therefore improve execution efficiency."
   ]
  },
  {
   "cell_type": "code",
   "execution_count": 13,
   "metadata": {},
   "outputs": [
    {
     "data": {
      "text/html": [
       "<div>\n",
       "<style scoped>\n",
       "    .dataframe tbody tr th:only-of-type {\n",
       "        vertical-align: middle;\n",
       "    }\n",
       "\n",
       "    .dataframe tbody tr th {\n",
       "        vertical-align: top;\n",
       "    }\n",
       "\n",
       "    .dataframe thead th {\n",
       "        text-align: right;\n",
       "    }\n",
       "</style>\n",
       "<table border=\"1\" class=\"dataframe\">\n",
       "  <thead>\n",
       "    <tr style=\"text-align: right;\">\n",
       "      <th></th>\n",
       "      <th>0</th>\n",
       "      <th>1</th>\n",
       "      <th>2</th>\n",
       "      <th>3</th>\n",
       "      <th>4</th>\n",
       "      <th>5</th>\n",
       "      <th>6</th>\n",
       "      <th>7</th>\n",
       "      <th>8</th>\n",
       "      <th>9</th>\n",
       "      <th>...</th>\n",
       "      <th>55</th>\n",
       "      <th>56</th>\n",
       "      <th>57</th>\n",
       "      <th>58</th>\n",
       "      <th>59</th>\n",
       "      <th>60</th>\n",
       "      <th>61</th>\n",
       "      <th>62</th>\n",
       "      <th>63</th>\n",
       "      <th>64</th>\n",
       "    </tr>\n",
       "  </thead>\n",
       "  <tbody>\n",
       "    <tr>\n",
       "      <th>0</th>\n",
       "      <td>101</td>\n",
       "      <td>2043</td>\n",
       "      <td>2106</td>\n",
       "      <td>1996</td>\n",
       "      <td>2353</td>\n",
       "      <td>10667</td>\n",
       "      <td>16339</td>\n",
       "      <td>2078</td>\n",
       "      <td>2186</td>\n",
       "      <td>4088</td>\n",
       "      <td>...</td>\n",
       "      <td>2062.0</td>\n",
       "      <td>3375.0</td>\n",
       "      <td>2839.0</td>\n",
       "      <td>2458.0</td>\n",
       "      <td>1999.0</td>\n",
       "      <td>1996.0</td>\n",
       "      <td>2434.0</td>\n",
       "      <td>2887.0</td>\n",
       "      <td>1012.0</td>\n",
       "      <td>102.0</td>\n",
       "    </tr>\n",
       "    <tr>\n",
       "      <th>1</th>\n",
       "      <td>101</td>\n",
       "      <td>2029</td>\n",
       "      <td>7421</td>\n",
       "      <td>10274</td>\n",
       "      <td>2411</td>\n",
       "      <td>2031</td>\n",
       "      <td>3265</td>\n",
       "      <td>22742</td>\n",
       "      <td>2015</td>\n",
       "      <td>2195</td>\n",
       "      <td>...</td>\n",
       "      <td>NaN</td>\n",
       "      <td>NaN</td>\n",
       "      <td>NaN</td>\n",
       "      <td>NaN</td>\n",
       "      <td>NaN</td>\n",
       "      <td>NaN</td>\n",
       "      <td>NaN</td>\n",
       "      <td>NaN</td>\n",
       "      <td>NaN</td>\n",
       "      <td>NaN</td>\n",
       "    </tr>\n",
       "    <tr>\n",
       "      <th>2</th>\n",
       "      <td>101</td>\n",
       "      <td>2054</td>\n",
       "      <td>2048</td>\n",
       "      <td>2477</td>\n",
       "      <td>2515</td>\n",
       "      <td>3769</td>\n",
       "      <td>4842</td>\n",
       "      <td>7475</td>\n",
       "      <td>16985</td>\n",
       "      <td>5488</td>\n",
       "      <td>...</td>\n",
       "      <td>NaN</td>\n",
       "      <td>NaN</td>\n",
       "      <td>NaN</td>\n",
       "      <td>NaN</td>\n",
       "      <td>NaN</td>\n",
       "      <td>NaN</td>\n",
       "      <td>NaN</td>\n",
       "      <td>NaN</td>\n",
       "      <td>NaN</td>\n",
       "      <td>NaN</td>\n",
       "    </tr>\n",
       "  </tbody>\n",
       "</table>\n",
       "<p>3 rows × 65 columns</p>\n",
       "</div>"
      ],
      "text/plain": [
       "    0     1     2      3     4      5      6      7      8     9   ...  \\\n",
       "0  101  2043  2106   1996  2353  10667  16339   2078   2186  4088  ...   \n",
       "1  101  2029  7421  10274  2411   2031   3265  22742   2015  2195  ...   \n",
       "2  101  2054  2048   2477  2515   3769   4842   7475  16985  5488  ...   \n",
       "\n",
       "       55      56      57      58      59      60      61      62      63  \\\n",
       "0  2062.0  3375.0  2839.0  2458.0  1999.0  1996.0  2434.0  2887.0  1012.0   \n",
       "1     NaN     NaN     NaN     NaN     NaN     NaN     NaN     NaN     NaN   \n",
       "2     NaN     NaN     NaN     NaN     NaN     NaN     NaN     NaN     NaN   \n",
       "\n",
       "      64  \n",
       "0  102.0  \n",
       "1    NaN  \n",
       "2    NaN  \n",
       "\n",
       "[3 rows x 65 columns]"
      ]
     },
     "execution_count": 13,
     "metadata": {},
     "output_type": "execute_result"
    }
   ],
   "source": [
    "from transformers import DataCollatorWithPadding\n",
    "\n",
    "data_collator = DataCollatorWithPadding(tokenizer=tokenizer)\n",
    "\n",
    "# Example: Select a few samples from the training set\n",
    "samples = tokenized_dataset[\"train\"][:3]\n",
    "samples = {k: v for k, v in samples.items() if k not in [\"idx\", first_sentence_key, second_sentence_key]}  # Drop `idx` and `sentence` columns, as DataCollator can't process those.\n",
    "pd.DataFrame(samples[\"input_ids\"])"
   ]
  },
  {
   "cell_type": "code",
   "execution_count": 14,
   "metadata": {},
   "outputs": [
    {
     "data": {
      "text/html": [
       "<div>\n",
       "<style scoped>\n",
       "    .dataframe tbody tr th:only-of-type {\n",
       "        vertical-align: middle;\n",
       "    }\n",
       "\n",
       "    .dataframe tbody tr th {\n",
       "        vertical-align: top;\n",
       "    }\n",
       "\n",
       "    .dataframe thead th {\n",
       "        text-align: right;\n",
       "    }\n",
       "</style>\n",
       "<table border=\"1\" class=\"dataframe\">\n",
       "  <thead>\n",
       "    <tr style=\"text-align: right;\">\n",
       "      <th></th>\n",
       "      <th>0</th>\n",
       "      <th>1</th>\n",
       "      <th>2</th>\n",
       "      <th>3</th>\n",
       "      <th>4</th>\n",
       "      <th>5</th>\n",
       "      <th>6</th>\n",
       "      <th>7</th>\n",
       "      <th>8</th>\n",
       "      <th>9</th>\n",
       "      <th>...</th>\n",
       "      <th>55</th>\n",
       "      <th>56</th>\n",
       "      <th>57</th>\n",
       "      <th>58</th>\n",
       "      <th>59</th>\n",
       "      <th>60</th>\n",
       "      <th>61</th>\n",
       "      <th>62</th>\n",
       "      <th>63</th>\n",
       "      <th>64</th>\n",
       "    </tr>\n",
       "  </thead>\n",
       "  <tbody>\n",
       "    <tr>\n",
       "      <th>0</th>\n",
       "      <td>101</td>\n",
       "      <td>2043</td>\n",
       "      <td>2106</td>\n",
       "      <td>1996</td>\n",
       "      <td>2353</td>\n",
       "      <td>10667</td>\n",
       "      <td>16339</td>\n",
       "      <td>2078</td>\n",
       "      <td>2186</td>\n",
       "      <td>4088</td>\n",
       "      <td>...</td>\n",
       "      <td>2062</td>\n",
       "      <td>3375</td>\n",
       "      <td>2839</td>\n",
       "      <td>2458</td>\n",
       "      <td>1999</td>\n",
       "      <td>1996</td>\n",
       "      <td>2434</td>\n",
       "      <td>2887</td>\n",
       "      <td>1012</td>\n",
       "      <td>102</td>\n",
       "    </tr>\n",
       "    <tr>\n",
       "      <th>1</th>\n",
       "      <td>101</td>\n",
       "      <td>2029</td>\n",
       "      <td>7421</td>\n",
       "      <td>10274</td>\n",
       "      <td>2411</td>\n",
       "      <td>2031</td>\n",
       "      <td>3265</td>\n",
       "      <td>22742</td>\n",
       "      <td>2015</td>\n",
       "      <td>2195</td>\n",
       "      <td>...</td>\n",
       "      <td>0</td>\n",
       "      <td>0</td>\n",
       "      <td>0</td>\n",
       "      <td>0</td>\n",
       "      <td>0</td>\n",
       "      <td>0</td>\n",
       "      <td>0</td>\n",
       "      <td>0</td>\n",
       "      <td>0</td>\n",
       "      <td>0</td>\n",
       "    </tr>\n",
       "    <tr>\n",
       "      <th>2</th>\n",
       "      <td>101</td>\n",
       "      <td>2054</td>\n",
       "      <td>2048</td>\n",
       "      <td>2477</td>\n",
       "      <td>2515</td>\n",
       "      <td>3769</td>\n",
       "      <td>4842</td>\n",
       "      <td>7475</td>\n",
       "      <td>16985</td>\n",
       "      <td>5488</td>\n",
       "      <td>...</td>\n",
       "      <td>0</td>\n",
       "      <td>0</td>\n",
       "      <td>0</td>\n",
       "      <td>0</td>\n",
       "      <td>0</td>\n",
       "      <td>0</td>\n",
       "      <td>0</td>\n",
       "      <td>0</td>\n",
       "      <td>0</td>\n",
       "      <td>0</td>\n",
       "    </tr>\n",
       "  </tbody>\n",
       "</table>\n",
       "<p>3 rows × 65 columns</p>\n",
       "</div>"
      ],
      "text/plain": [
       "    0     1     2      3     4      5      6      7      8     9   ...    55  \\\n",
       "0  101  2043  2106   1996  2353  10667  16339   2078   2186  4088  ...  2062   \n",
       "1  101  2029  7421  10274  2411   2031   3265  22742   2015  2195  ...     0   \n",
       "2  101  2054  2048   2477  2515   3769   4842   7475  16985  5488  ...     0   \n",
       "\n",
       "     56    57    58    59    60    61    62    63   64  \n",
       "0  3375  2839  2458  1999  1996  2434  2887  1012  102  \n",
       "1     0     0     0     0     0     0     0     0    0  \n",
       "2     0     0     0     0     0     0     0     0    0  \n",
       "\n",
       "[3 rows x 65 columns]"
      ]
     },
     "execution_count": 14,
     "metadata": {},
     "output_type": "execute_result"
    }
   ],
   "source": [
    "# Apply padding using data_collator\n",
    "batch = data_collator(samples)\n",
    "pd.DataFrame(batch[\"input_ids\"])\n"
   ]
  },
  {
   "cell_type": "markdown",
   "metadata": {},
   "source": [
    "We can see that `data_collator` will insert `[PAD]` (0) tokens to the maximum length of the passed batch of data items."
   ]
  },
  {
   "cell_type": "markdown",
   "metadata": {},
   "source": [
    "## Evaluation"
   ]
  },
  {
   "cell_type": "markdown",
   "metadata": {},
   "source": [
    "The GLUE dataset specifies one or more evaluation metrics depending on the selected task."
   ]
  },
  {
   "cell_type": "code",
   "execution_count": 15,
   "metadata": {},
   "outputs": [
    {
     "data": {
      "text/plain": [
       "EvaluationModule(name: \"glue\", module_type: \"metric\", features: {'predictions': Value(dtype='int64', id=None), 'references': Value(dtype='int64', id=None)}, usage: \"\"\"\n",
       "Compute GLUE evaluation metric associated to each GLUE dataset.\n",
       "Args:\n",
       "    predictions: list of predictions to score.\n",
       "        Each translation should be tokenized into a list of tokens.\n",
       "    references: list of lists of references for each translation.\n",
       "        Each reference should be tokenized into a list of tokens.\n",
       "Returns: depending on the GLUE subset, one or several of:\n",
       "    \"accuracy\": Accuracy\n",
       "    \"f1\": F1 score\n",
       "    \"pearson\": Pearson Correlation\n",
       "    \"spearmanr\": Spearman Correlation\n",
       "    \"matthews_correlation\": Matthew Correlation\n",
       "Examples:\n",
       "\n",
       "    >>> glue_metric = evaluate.load('glue', 'sst2')  # 'sst2' or any of [\"mnli\", \"mnli_mismatched\", \"mnli_matched\", \"qnli\", \"rte\", \"wnli\", \"hans\"]\n",
       "    >>> references = [0, 1]\n",
       "    >>> predictions = [0, 1]\n",
       "    >>> results = glue_metric.compute(predictions=predictions, references=references)\n",
       "    >>> print(results)\n",
       "    {'accuracy': 1.0}\n",
       "\n",
       "    >>> glue_metric = evaluate.load('glue', 'mrpc')  # 'mrpc' or 'qqp'\n",
       "    >>> references = [0, 1]\n",
       "    >>> predictions = [0, 1]\n",
       "    >>> results = glue_metric.compute(predictions=predictions, references=references)\n",
       "    >>> print(results)\n",
       "    {'accuracy': 1.0, 'f1': 1.0}\n",
       "\n",
       "    >>> glue_metric = evaluate.load('glue', 'stsb')\n",
       "    >>> references = [0., 1., 2., 3., 4., 5.]\n",
       "    >>> predictions = [0., 1., 2., 3., 4., 5.]\n",
       "    >>> results = glue_metric.compute(predictions=predictions, references=references)\n",
       "    >>> print({\"pearson\": round(results[\"pearson\"], 2), \"spearmanr\": round(results[\"spearmanr\"], 2)})\n",
       "    {'pearson': 1.0, 'spearmanr': 1.0}\n",
       "\n",
       "    >>> glue_metric = evaluate.load('glue', 'cola')\n",
       "    >>> references = [0, 1]\n",
       "    >>> predictions = [0, 1]\n",
       "    >>> results = glue_metric.compute(predictions=predictions, references=references)\n",
       "    >>> print(results)\n",
       "    {'matthews_correlation': 1.0}\n",
       "\"\"\", stored examples: 0)"
      ]
     },
     "execution_count": 15,
     "metadata": {},
     "output_type": "execute_result"
    }
   ],
   "source": [
    "import numpy as np\n",
    "import evaluate\n",
    "\n",
    "metric = evaluate.load(DATASET_NAME, DATASET_TASK)\n",
    "metric"
   ]
  },
  {
   "cell_type": "markdown",
   "metadata": {},
   "source": [
    "Depending on the selected GLUE task we optimize for different evaluation metrics. See BERT paper p.6:\n",
    "\n",
    "> F1 scores are reported for QQP and MRPC, Spearman correlations are reported for STS-B, and accuracy scores are reported for the other tasks. We exclude entries that use BERT as one of their components."
   ]
  },
  {
   "cell_type": "code",
   "execution_count": 16,
   "metadata": {},
   "outputs": [],
   "source": [
    "_task_to_metric = {\n",
    "    \"cola\": \"matthews_correlation\",\n",
    "    \"mnli\": \"accuracy\",\n",
    "    \"mnli-mm\": \"accuracy\",\n",
    "    \"mrpc\": \"f1\",\n",
    "    \"qnli\": \"accuracy\",\n",
    "    \"qqp\": \"f1\",\n",
    "    \"rte\": \"accuracy\",\n",
    "    \"sst2\": \"accuracy\",\n",
    "    \"stsb\": \"spearmanr\",\n",
    "}\n",
    "\n",
    "metric_for_best_model = _task_to_metric[DATASET_TASK]"
   ]
  },
  {
   "cell_type": "code",
   "execution_count": 17,
   "metadata": {},
   "outputs": [
    {
     "name": "stdout",
     "output_type": "stream",
     "text": [
      "We will use \"['accuracy']\" as an evaluation metric for the task qnli\n"
     ]
    }
   ],
   "source": [
    "def get_metric_name_for_specific_task():\n",
    "    \"\"\"Helper function to derive the evaluation metric name for the specified GLUE task.\n",
    "\n",
    "    The tasks specified by the GLUE benchmark use different evaluation metrics.\n",
    "    Unfortunatly there is no easy way to derive there name after loading the corresponding metric function via HuggingFace's `evaluate` library.\n",
    "    However we can simply do a \"trial run\" and expect the name key of its output.\n",
    "    \"\"\"\n",
    "    output = metric.compute(\n",
    "        predictions=[1, 0], references=[1, 1]\n",
    "    )  # dummy input - we just want to inspect the returned dictionary.\n",
    "    metric_names = output.keys()\n",
    "    \n",
    "    return list(metric_names)\n",
    "\n",
    "\n",
    "metric_names = get_metric_name_for_specific_task()\n",
    "print(f'We will use \"{metric_names}\" as an evaluation metric for the task {DATASET_TASK}')"
   ]
  },
  {
   "cell_type": "code",
   "execution_count": 18,
   "metadata": {},
   "outputs": [],
   "source": [
    "assert metric_for_best_model in metric_names, \"Metric to optimize for not found in evaluation metrics provided by GLUE\""
   ]
  },
  {
   "cell_type": "markdown",
   "metadata": {},
   "source": [
    "# Training"
   ]
  },
  {
   "cell_type": "code",
   "execution_count": 19,
   "metadata": {},
   "outputs": [
    {
     "name": "stderr",
     "output_type": "stream",
     "text": [
      "Some weights of BertForSequenceClassification were not initialized from the model checkpoint at google-bert/bert-base-uncased and are newly initialized: ['classifier.bias', 'classifier.weight']\n",
      "You should probably TRAIN this model on a down-stream task to be able to use it for predictions and inference.\n"
     ]
    }
   ],
   "source": [
    "from transformers import AutoModelForSequenceClassification\n",
    "\n",
    "model = AutoModelForSequenceClassification.from_pretrained(\n",
    "    PRE_TRAINED_CHECKPOINT,\n",
    "    num_labels=num_labels,\n",
    "    torch_dtype=\"auto\",\n",
    ")"
   ]
  },
  {
   "cell_type": "code",
   "execution_count": 20,
   "metadata": {},
   "outputs": [],
   "source": [
    "from transformers import TrainingArguments\n",
    "\n",
    "training_arguments = TrainingArguments(\n",
    "    output_dir=TRAIN_OUTPUT_DIR,\n",
    "    per_device_train_batch_size=BATCH_SIZE,\n",
    "    per_device_eval_batch_size=BATCH_SIZE,\n",
    "    eval_strategy=\"steps\",\n",
    "    eval_steps=1000,\n",
    "    save_strategy=\"steps\",\n",
    "    save_steps=1000,\n",
    "    logging_strategy=\"steps\",\n",
    "    logging_steps=1000,\n",
    "    num_train_epochs=NUM_EPOCHS,\n",
    "    learning_rate=2e-5,  # Original paper uses best out of  5e-5, 4e-5, 3e-5, and 2e-5\n",
    "    weight_decay=0.01,  # Original paper uses 0.01 on pre-training\n",
    "    save_total_limit = 3,  # Keep at most the three checkpoints (latest + best one)\n",
    "    load_best_model_at_end=True,\n",
    "    metric_for_best_model=metric_for_best_model,\n",
    ")"
   ]
  },
  {
   "cell_type": "code",
   "execution_count": 21,
   "metadata": {},
   "outputs": [],
   "source": [
    "def compute_metrics(eval_pred):\n",
    "    predictions, labels = eval_pred\n",
    "    if DATASET_TASK != \"stsb\":\n",
    "        predictions = np.argmax(predictions, axis=1)\n",
    "    else:\n",
    "        predictions = predictions[:, 0]\n",
    "    return metric.compute(predictions=predictions, references=labels)"
   ]
  },
  {
   "cell_type": "code",
   "execution_count": 22,
   "metadata": {},
   "outputs": [],
   "source": [
    "from transformers import Trainer\n",
    "\n",
    "validation_key = \"validation_mismatched\" if DATASET_TASK == \"mnli-mm\" else \"validation_matched\" if DATASET_TASK == \"mnli\" else \"validation\"\n",
    "\n",
    "trainer = Trainer(\n",
    "    model=model,\n",
    "    args=training_arguments,\n",
    "    train_dataset=tokenized_dataset[\"train\"],\n",
    "    eval_dataset=tokenized_dataset[validation_key],\n",
    "    data_collator=data_collator,\n",
    "    processing_class=tokenizer,\n",
    "    compute_metrics=compute_metrics\n",
    ")"
   ]
  },
  {
   "cell_type": "code",
   "execution_count": 23,
   "metadata": {},
   "outputs": [
    {
     "name": "stdout",
     "output_type": "stream",
     "text": [
      "--- training_arguments.output_dir='../groups/192.039-2024W/bert/training/glue-qnli'\n",
      "--- training_arguments.metric_for_best_model='accuracy'\n"
     ]
    },
    {
     "data": {
      "application/vnd.jupyter.widget-view+json": {
       "model_id": "69f2804268424008bf45e1206140815f",
       "version_major": 2,
       "version_minor": 0
      },
      "text/plain": [
       "  0%|          | 0/16370 [00:00<?, ?it/s]"
      ]
     },
     "metadata": {},
     "output_type": "display_data"
    },
    {
     "name": "stdout",
     "output_type": "stream",
     "text": [
      "{'loss': 0.408, 'grad_norm': 5.035590648651123, 'learning_rate': 1.8778252901649362e-05, 'epoch': 0.31}\n"
     ]
    },
    {
     "data": {
      "application/vnd.jupyter.widget-view+json": {
       "model_id": "b1f4932e0ce54484b75ee070caad8615",
       "version_major": 2,
       "version_minor": 0
      },
      "text/plain": [
       "  0%|          | 0/171 [00:00<?, ?it/s]"
      ]
     },
     "metadata": {},
     "output_type": "display_data"
    },
    {
     "name": "stdout",
     "output_type": "stream",
     "text": [
      "{'eval_loss': 0.2824442386627197, 'eval_accuracy': 0.8848617975471352, 'eval_runtime': 15.8096, 'eval_samples_per_second': 345.55, 'eval_steps_per_second': 10.816, 'epoch': 0.31}\n",
      "{'loss': 0.3248, 'grad_norm': 7.9803786277771, 'learning_rate': 1.755650580329872e-05, 'epoch': 0.61}\n"
     ]
    },
    {
     "data": {
      "application/vnd.jupyter.widget-view+json": {
       "model_id": "573b373a87b147c69b39b4a70423968b",
       "version_major": 2,
       "version_minor": 0
      },
      "text/plain": [
       "  0%|          | 0/171 [00:00<?, ?it/s]"
      ]
     },
     "metadata": {},
     "output_type": "display_data"
    },
    {
     "name": "stdout",
     "output_type": "stream",
     "text": [
      "{'eval_loss': 0.2805670499801636, 'eval_accuracy': 0.8817499542375984, 'eval_runtime': 11.6114, 'eval_samples_per_second': 470.485, 'eval_steps_per_second': 14.727, 'epoch': 0.61}\n",
      "{'loss': 0.2967, 'grad_norm': 5.119344234466553, 'learning_rate': 1.6334758704948076e-05, 'epoch': 0.92}\n"
     ]
    },
    {
     "data": {
      "application/vnd.jupyter.widget-view+json": {
       "model_id": "73af530f9d1d429eba71225c3751c58c",
       "version_major": 2,
       "version_minor": 0
      },
      "text/plain": [
       "  0%|          | 0/171 [00:00<?, ?it/s]"
      ]
     },
     "metadata": {},
     "output_type": "display_data"
    },
    {
     "name": "stdout",
     "output_type": "stream",
     "text": [
      "{'eval_loss': 0.2327309548854828, 'eval_accuracy': 0.9101226432363171, 'eval_runtime': 11.6546, 'eval_samples_per_second': 468.742, 'eval_steps_per_second': 14.672, 'epoch': 0.92}\n",
      "{'loss': 0.2224, 'grad_norm': 3.0939462184906006, 'learning_rate': 1.5113011606597437e-05, 'epoch': 1.22}\n"
     ]
    },
    {
     "data": {
      "application/vnd.jupyter.widget-view+json": {
       "model_id": "7ec554ab48904d82a07c462f302004f6",
       "version_major": 2,
       "version_minor": 0
      },
      "text/plain": [
       "  0%|          | 0/171 [00:00<?, ?it/s]"
      ]
     },
     "metadata": {},
     "output_type": "display_data"
    },
    {
     "name": "stdout",
     "output_type": "stream",
     "text": [
      "{'eval_loss': 0.2557765543460846, 'eval_accuracy': 0.9062786015010068, 'eval_runtime': 16.0961, 'eval_samples_per_second': 339.399, 'eval_steps_per_second': 10.624, 'epoch': 1.22}\n",
      "{'loss': 0.195, 'grad_norm': 8.610628128051758, 'learning_rate': 1.3891264508246794e-05, 'epoch': 1.53}\n"
     ]
    },
    {
     "data": {
      "application/vnd.jupyter.widget-view+json": {
       "model_id": "9d1c9addfb75437c924c235a6de79035",
       "version_major": 2,
       "version_minor": 0
      },
      "text/plain": [
       "  0%|          | 0/171 [00:00<?, ?it/s]"
      ]
     },
     "metadata": {},
     "output_type": "display_data"
    },
    {
     "name": "stdout",
     "output_type": "stream",
     "text": [
      "{'eval_loss': 0.23751363158226013, 'eval_accuracy': 0.9141497345780707, 'eval_runtime': 15.4616, 'eval_samples_per_second': 353.327, 'eval_steps_per_second': 11.06, 'epoch': 1.53}\n",
      "{'loss': 0.201, 'grad_norm': 3.541438102722168, 'learning_rate': 1.2669517409896153e-05, 'epoch': 1.83}\n"
     ]
    },
    {
     "data": {
      "application/vnd.jupyter.widget-view+json": {
       "model_id": "0c87ed01f96140259535d99ddce2a272",
       "version_major": 2,
       "version_minor": 0
      },
      "text/plain": [
       "  0%|          | 0/171 [00:00<?, ?it/s]"
      ]
     },
     "metadata": {},
     "output_type": "display_data"
    },
    {
     "name": "stdout",
     "output_type": "stream",
     "text": [
      "{'eval_loss': 0.23961345851421356, 'eval_accuracy': 0.9128683873329673, 'eval_runtime': 16.3388, 'eval_samples_per_second': 334.358, 'eval_steps_per_second': 10.466, 'epoch': 1.83}\n",
      "{'loss': 0.1594, 'grad_norm': 5.338031768798828, 'learning_rate': 1.1447770311545512e-05, 'epoch': 2.14}\n"
     ]
    },
    {
     "data": {
      "application/vnd.jupyter.widget-view+json": {
       "model_id": "7d6e8ca61f904a1d9ec6bc293a50bbee",
       "version_major": 2,
       "version_minor": 0
      },
      "text/plain": [
       "  0%|          | 0/171 [00:00<?, ?it/s]"
      ]
     },
     "metadata": {},
     "output_type": "display_data"
    },
    {
     "name": "stdout",
     "output_type": "stream",
     "text": [
      "{'eval_loss': 0.31283828616142273, 'eval_accuracy': 0.9112209408749771, 'eval_runtime': 16.2547, 'eval_samples_per_second': 336.088, 'eval_steps_per_second': 10.52, 'epoch': 2.14}\n",
      "{'loss': 0.1168, 'grad_norm': 14.386604309082031, 'learning_rate': 1.0226023213194869e-05, 'epoch': 2.44}\n"
     ]
    },
    {
     "data": {
      "application/vnd.jupyter.widget-view+json": {
       "model_id": "b3f5a144c4d84ee4b1a652d415c3cdff",
       "version_major": 2,
       "version_minor": 0
      },
      "text/plain": [
       "  0%|          | 0/171 [00:00<?, ?it/s]"
      ]
     },
     "metadata": {},
     "output_type": "display_data"
    },
    {
     "name": "stdout",
     "output_type": "stream",
     "text": [
      "{'eval_loss': 0.30391186475753784, 'eval_accuracy': 0.914881933003844, 'eval_runtime': 16.1739, 'eval_samples_per_second': 337.766, 'eval_steps_per_second': 10.573, 'epoch': 2.44}\n",
      "{'loss': 0.1205, 'grad_norm': 8.410170555114746, 'learning_rate': 9.004276114844227e-06, 'epoch': 2.75}\n"
     ]
    },
    {
     "data": {
      "application/vnd.jupyter.widget-view+json": {
       "model_id": "6cf435ed3574413bb30235413a080af5",
       "version_major": 2,
       "version_minor": 0
      },
      "text/plain": [
       "  0%|          | 0/171 [00:00<?, ?it/s]"
      ]
     },
     "metadata": {},
     "output_type": "display_data"
    },
    {
     "name": "stdout",
     "output_type": "stream",
     "text": [
      "{'eval_loss': 0.3115503191947937, 'eval_accuracy': 0.9112209408749771, 'eval_runtime': 16.0631, 'eval_samples_per_second': 340.095, 'eval_steps_per_second': 10.645, 'epoch': 2.75}\n",
      "{'loss': 0.1132, 'grad_norm': 2.536112070083618, 'learning_rate': 7.782529016493586e-06, 'epoch': 3.05}\n"
     ]
    },
    {
     "data": {
      "application/vnd.jupyter.widget-view+json": {
       "model_id": "6006cc68e2fc4339b4ca082967a37802",
       "version_major": 2,
       "version_minor": 0
      },
      "text/plain": [
       "  0%|          | 0/171 [00:00<?, ?it/s]"
      ]
     },
     "metadata": {},
     "output_type": "display_data"
    },
    {
     "name": "stdout",
     "output_type": "stream",
     "text": [
      "{'eval_loss': 0.3802693486213684, 'eval_accuracy': 0.9119531393007505, 'eval_runtime': 16.2314, 'eval_samples_per_second': 336.57, 'eval_steps_per_second': 10.535, 'epoch': 3.05}\n",
      "{'loss': 0.0747, 'grad_norm': 2.296729803085327, 'learning_rate': 6.560781918142944e-06, 'epoch': 3.36}\n"
     ]
    },
    {
     "data": {
      "application/vnd.jupyter.widget-view+json": {
       "model_id": "ea9e5e5c99914020aa997635a04878cf",
       "version_major": 2,
       "version_minor": 0
      },
      "text/plain": [
       "  0%|          | 0/171 [00:00<?, ?it/s]"
      ]
     },
     "metadata": {},
     "output_type": "display_data"
    },
    {
     "name": "stdout",
     "output_type": "stream",
     "text": [
      "{'eval_loss': 0.3942102789878845, 'eval_accuracy': 0.9123192385136372, 'eval_runtime': 16.1683, 'eval_samples_per_second': 337.883, 'eval_steps_per_second': 10.576, 'epoch': 3.36}\n",
      "{'loss': 0.0759, 'grad_norm': 2.495047092437744, 'learning_rate': 5.339034819792304e-06, 'epoch': 3.67}\n"
     ]
    },
    {
     "data": {
      "application/vnd.jupyter.widget-view+json": {
       "model_id": "444954037b9a4967918ee71433ed3d8d",
       "version_major": 2,
       "version_minor": 0
      },
      "text/plain": [
       "  0%|          | 0/171 [00:00<?, ?it/s]"
      ]
     },
     "metadata": {},
     "output_type": "display_data"
    },
    {
     "name": "stdout",
     "output_type": "stream",
     "text": [
      "{'eval_loss': 0.3836275637149811, 'eval_accuracy': 0.9088412959912137, 'eval_runtime': 16.151, 'eval_samples_per_second': 338.246, 'eval_steps_per_second': 10.588, 'epoch': 3.67}\n",
      "{'loss': 0.0749, 'grad_norm': 33.62152862548828, 'learning_rate': 4.117287721441662e-06, 'epoch': 3.97}\n"
     ]
    },
    {
     "data": {
      "application/vnd.jupyter.widget-view+json": {
       "model_id": "550c2f8a3f94461c8a1d03265f429f39",
       "version_major": 2,
       "version_minor": 0
      },
      "text/plain": [
       "  0%|          | 0/171 [00:00<?, ?it/s]"
      ]
     },
     "metadata": {},
     "output_type": "display_data"
    },
    {
     "name": "stdout",
     "output_type": "stream",
     "text": [
      "{'eval_loss': 0.3924527168273926, 'eval_accuracy': 0.9136005857587406, 'eval_runtime': 16.2699, 'eval_samples_per_second': 335.773, 'eval_steps_per_second': 10.51, 'epoch': 3.97}\n",
      "{'loss': 0.0491, 'grad_norm': 31.06774139404297, 'learning_rate': 2.8955406230910206e-06, 'epoch': 4.28}\n"
     ]
    },
    {
     "data": {
      "application/vnd.jupyter.widget-view+json": {
       "model_id": "a63b5ecb5b054f1dbd9e7a663f7ea41e",
       "version_major": 2,
       "version_minor": 0
      },
      "text/plain": [
       "  0%|          | 0/171 [00:00<?, ?it/s]"
      ]
     },
     "metadata": {},
     "output_type": "display_data"
    },
    {
     "name": "stdout",
     "output_type": "stream",
     "text": [
      "{'eval_loss': 0.4592088460922241, 'eval_accuracy': 0.9123192385136372, 'eval_runtime': 16.2839, 'eval_samples_per_second': 335.484, 'eval_steps_per_second': 10.501, 'epoch': 4.28}\n",
      "{'loss': 0.0484, 'grad_norm': 1.7823187112808228, 'learning_rate': 1.6737935247403788e-06, 'epoch': 4.58}\n"
     ]
    },
    {
     "data": {
      "application/vnd.jupyter.widget-view+json": {
       "model_id": "705766240b4f4cfbb89ecbd81acfe6a9",
       "version_major": 2,
       "version_minor": 0
      },
      "text/plain": [
       "  0%|          | 0/171 [00:00<?, ?it/s]"
      ]
     },
     "metadata": {},
     "output_type": "display_data"
    },
    {
     "name": "stdout",
     "output_type": "stream",
     "text": [
      "{'eval_loss': 0.46036460995674133, 'eval_accuracy': 0.9134175361522973, 'eval_runtime': 16.0863, 'eval_samples_per_second': 339.605, 'eval_steps_per_second': 10.63, 'epoch': 4.58}\n",
      "{'loss': 0.0483, 'grad_norm': 34.86168670654297, 'learning_rate': 4.5204642638973736e-07, 'epoch': 4.89}\n"
     ]
    },
    {
     "data": {
      "application/vnd.jupyter.widget-view+json": {
       "model_id": "00dca48f84d54333978f4714a8453e28",
       "version_major": 2,
       "version_minor": 0
      },
      "text/plain": [
       "  0%|          | 0/171 [00:00<?, ?it/s]"
      ]
     },
     "metadata": {},
     "output_type": "display_data"
    },
    {
     "name": "stdout",
     "output_type": "stream",
     "text": [
      "{'eval_loss': 0.44440314173698425, 'eval_accuracy': 0.9146988833974007, 'eval_runtime': 16.1817, 'eval_samples_per_second': 337.604, 'eval_steps_per_second': 10.568, 'epoch': 4.89}\n",
      "{'train_runtime': 5297.4735, 'train_samples_per_second': 98.861, 'train_steps_per_second': 3.09, 'train_loss': 0.1554638878921947, 'epoch': 5.0}\n"
     ]
    }
   ],
   "source": [
    "torch.cuda.empty_cache()\n",
    "\n",
    "print(f\"--- {training_arguments.output_dir=}\")\n",
    "print(f\"--- {training_arguments.metric_for_best_model=}\")\n",
    "training_summary = trainer.train()"
   ]
  },
  {
   "cell_type": "code",
   "execution_count": 24,
   "metadata": {},
   "outputs": [
    {
     "data": {
      "text/plain": [
       "TrainOutput(global_step=16370, training_loss=0.1554638878921947, metrics={'train_runtime': 5297.4735, 'train_samples_per_second': 98.861, 'train_steps_per_second': 3.09, 'total_flos': 2.7216140760897e+16, 'train_loss': 0.1554638878921947, 'epoch': 5.0})"
      ]
     },
     "execution_count": 24,
     "metadata": {},
     "output_type": "execute_result"
    }
   ],
   "source": [
    "training_summary"
   ]
  },
  {
   "cell_type": "markdown",
   "metadata": {},
   "source": [
    "We can call `trainer.evaluate()` to check that the `trainer` instance did indeed reload the model checkpoint with the highest evaluation score:"
   ]
  },
  {
   "cell_type": "code",
   "execution_count": 25,
   "metadata": {},
   "outputs": [
    {
     "data": {
      "application/vnd.jupyter.widget-view+json": {
       "model_id": "a1777ade80f741c88f8a597fc2154f76",
       "version_major": 2,
       "version_minor": 0
      },
      "text/plain": [
       "  0%|          | 0/171 [00:00<?, ?it/s]"
      ]
     },
     "metadata": {},
     "output_type": "display_data"
    },
    {
     "data": {
      "text/plain": [
       "{'eval_loss': 0.30391186475753784,\n",
       " 'eval_accuracy': 0.914881933003844,\n",
       " 'eval_runtime': 15.8736,\n",
       " 'eval_samples_per_second': 344.156,\n",
       " 'eval_steps_per_second': 10.773,\n",
       " 'epoch': 5.0}"
      ]
     },
     "execution_count": 25,
     "metadata": {},
     "output_type": "execute_result"
    }
   ],
   "source": [
    "best_model_evaluation = trainer.evaluate()\n",
    "best_model_evaluation"
   ]
  },
  {
   "cell_type": "code",
   "execution_count": 29,
   "metadata": {},
   "outputs": [
    {
     "data": {
      "text/html": [
       "<div>\n",
       "<style scoped>\n",
       "    .dataframe tbody tr th:only-of-type {\n",
       "        vertical-align: middle;\n",
       "    }\n",
       "\n",
       "    .dataframe tbody tr th {\n",
       "        vertical-align: top;\n",
       "    }\n",
       "\n",
       "    .dataframe thead th {\n",
       "        text-align: right;\n",
       "    }\n",
       "</style>\n",
       "<table border=\"1\" class=\"dataframe\">\n",
       "  <thead>\n",
       "    <tr style=\"text-align: right;\">\n",
       "      <th></th>\n",
       "      <th>loss</th>\n",
       "      <th>grad_norm</th>\n",
       "      <th>learning_rate</th>\n",
       "      <th>epoch</th>\n",
       "      <th>eval_loss</th>\n",
       "      <th>eval_accuracy</th>\n",
       "      <th>eval_runtime</th>\n",
       "      <th>eval_samples_per_second</th>\n",
       "      <th>eval_steps_per_second</th>\n",
       "      <th>train_runtime</th>\n",
       "      <th>train_samples_per_second</th>\n",
       "      <th>train_steps_per_second</th>\n",
       "      <th>total_flos</th>\n",
       "      <th>train_loss</th>\n",
       "    </tr>\n",
       "    <tr>\n",
       "      <th>step</th>\n",
       "      <th></th>\n",
       "      <th></th>\n",
       "      <th></th>\n",
       "      <th></th>\n",
       "      <th></th>\n",
       "      <th></th>\n",
       "      <th></th>\n",
       "      <th></th>\n",
       "      <th></th>\n",
       "      <th></th>\n",
       "      <th></th>\n",
       "      <th></th>\n",
       "      <th></th>\n",
       "      <th></th>\n",
       "    </tr>\n",
       "  </thead>\n",
       "  <tbody>\n",
       "    <tr>\n",
       "      <th>1000</th>\n",
       "      <td>0.4080</td>\n",
       "      <td>5.035591</td>\n",
       "      <td>1.877825e-05</td>\n",
       "      <td>0.305437</td>\n",
       "      <td>0.282444</td>\n",
       "      <td>0.884862</td>\n",
       "      <td>15.8096</td>\n",
       "      <td>345.550</td>\n",
       "      <td>10.816</td>\n",
       "      <td>NaN</td>\n",
       "      <td>NaN</td>\n",
       "      <td>NaN</td>\n",
       "      <td>NaN</td>\n",
       "      <td>NaN</td>\n",
       "    </tr>\n",
       "    <tr>\n",
       "      <th>2000</th>\n",
       "      <td>0.3248</td>\n",
       "      <td>7.980379</td>\n",
       "      <td>1.755651e-05</td>\n",
       "      <td>0.610874</td>\n",
       "      <td>0.280567</td>\n",
       "      <td>0.881750</td>\n",
       "      <td>11.6114</td>\n",
       "      <td>470.485</td>\n",
       "      <td>14.727</td>\n",
       "      <td>NaN</td>\n",
       "      <td>NaN</td>\n",
       "      <td>NaN</td>\n",
       "      <td>NaN</td>\n",
       "      <td>NaN</td>\n",
       "    </tr>\n",
       "    <tr>\n",
       "      <th>3000</th>\n",
       "      <td>0.2967</td>\n",
       "      <td>5.119344</td>\n",
       "      <td>1.633476e-05</td>\n",
       "      <td>0.916310</td>\n",
       "      <td>0.232731</td>\n",
       "      <td>0.910123</td>\n",
       "      <td>11.6546</td>\n",
       "      <td>468.742</td>\n",
       "      <td>14.672</td>\n",
       "      <td>NaN</td>\n",
       "      <td>NaN</td>\n",
       "      <td>NaN</td>\n",
       "      <td>NaN</td>\n",
       "      <td>NaN</td>\n",
       "    </tr>\n",
       "    <tr>\n",
       "      <th>4000</th>\n",
       "      <td>0.2224</td>\n",
       "      <td>3.093946</td>\n",
       "      <td>1.511301e-05</td>\n",
       "      <td>1.221747</td>\n",
       "      <td>0.255777</td>\n",
       "      <td>0.906279</td>\n",
       "      <td>16.0961</td>\n",
       "      <td>339.399</td>\n",
       "      <td>10.624</td>\n",
       "      <td>NaN</td>\n",
       "      <td>NaN</td>\n",
       "      <td>NaN</td>\n",
       "      <td>NaN</td>\n",
       "      <td>NaN</td>\n",
       "    </tr>\n",
       "    <tr>\n",
       "      <th>5000</th>\n",
       "      <td>0.1950</td>\n",
       "      <td>8.610628</td>\n",
       "      <td>1.389126e-05</td>\n",
       "      <td>1.527184</td>\n",
       "      <td>0.237514</td>\n",
       "      <td>0.914150</td>\n",
       "      <td>15.4616</td>\n",
       "      <td>353.327</td>\n",
       "      <td>11.060</td>\n",
       "      <td>NaN</td>\n",
       "      <td>NaN</td>\n",
       "      <td>NaN</td>\n",
       "      <td>NaN</td>\n",
       "      <td>NaN</td>\n",
       "    </tr>\n",
       "    <tr>\n",
       "      <th>6000</th>\n",
       "      <td>0.2010</td>\n",
       "      <td>3.541438</td>\n",
       "      <td>1.266952e-05</td>\n",
       "      <td>1.832621</td>\n",
       "      <td>0.239613</td>\n",
       "      <td>0.912868</td>\n",
       "      <td>16.3388</td>\n",
       "      <td>334.358</td>\n",
       "      <td>10.466</td>\n",
       "      <td>NaN</td>\n",
       "      <td>NaN</td>\n",
       "      <td>NaN</td>\n",
       "      <td>NaN</td>\n",
       "      <td>NaN</td>\n",
       "    </tr>\n",
       "    <tr>\n",
       "      <th>7000</th>\n",
       "      <td>0.1594</td>\n",
       "      <td>5.338032</td>\n",
       "      <td>1.144777e-05</td>\n",
       "      <td>2.138057</td>\n",
       "      <td>0.312838</td>\n",
       "      <td>0.911221</td>\n",
       "      <td>16.2547</td>\n",
       "      <td>336.088</td>\n",
       "      <td>10.520</td>\n",
       "      <td>NaN</td>\n",
       "      <td>NaN</td>\n",
       "      <td>NaN</td>\n",
       "      <td>NaN</td>\n",
       "      <td>NaN</td>\n",
       "    </tr>\n",
       "    <tr>\n",
       "      <th>8000</th>\n",
       "      <td>0.1168</td>\n",
       "      <td>14.386604</td>\n",
       "      <td>1.022602e-05</td>\n",
       "      <td>2.443494</td>\n",
       "      <td>0.303912</td>\n",
       "      <td>0.914882</td>\n",
       "      <td>16.1739</td>\n",
       "      <td>337.766</td>\n",
       "      <td>10.573</td>\n",
       "      <td>NaN</td>\n",
       "      <td>NaN</td>\n",
       "      <td>NaN</td>\n",
       "      <td>NaN</td>\n",
       "      <td>NaN</td>\n",
       "    </tr>\n",
       "    <tr>\n",
       "      <th>9000</th>\n",
       "      <td>0.1205</td>\n",
       "      <td>8.410171</td>\n",
       "      <td>9.004276e-06</td>\n",
       "      <td>2.748931</td>\n",
       "      <td>0.311550</td>\n",
       "      <td>0.911221</td>\n",
       "      <td>16.0631</td>\n",
       "      <td>340.095</td>\n",
       "      <td>10.645</td>\n",
       "      <td>NaN</td>\n",
       "      <td>NaN</td>\n",
       "      <td>NaN</td>\n",
       "      <td>NaN</td>\n",
       "      <td>NaN</td>\n",
       "    </tr>\n",
       "    <tr>\n",
       "      <th>10000</th>\n",
       "      <td>0.1132</td>\n",
       "      <td>2.536112</td>\n",
       "      <td>7.782529e-06</td>\n",
       "      <td>3.054368</td>\n",
       "      <td>0.380269</td>\n",
       "      <td>0.911953</td>\n",
       "      <td>16.2314</td>\n",
       "      <td>336.570</td>\n",
       "      <td>10.535</td>\n",
       "      <td>NaN</td>\n",
       "      <td>NaN</td>\n",
       "      <td>NaN</td>\n",
       "      <td>NaN</td>\n",
       "      <td>NaN</td>\n",
       "    </tr>\n",
       "    <tr>\n",
       "      <th>11000</th>\n",
       "      <td>0.0747</td>\n",
       "      <td>2.296730</td>\n",
       "      <td>6.560782e-06</td>\n",
       "      <td>3.359805</td>\n",
       "      <td>0.394210</td>\n",
       "      <td>0.912319</td>\n",
       "      <td>16.1683</td>\n",
       "      <td>337.883</td>\n",
       "      <td>10.576</td>\n",
       "      <td>NaN</td>\n",
       "      <td>NaN</td>\n",
       "      <td>NaN</td>\n",
       "      <td>NaN</td>\n",
       "      <td>NaN</td>\n",
       "    </tr>\n",
       "    <tr>\n",
       "      <th>12000</th>\n",
       "      <td>0.0759</td>\n",
       "      <td>2.495047</td>\n",
       "      <td>5.339035e-06</td>\n",
       "      <td>3.665241</td>\n",
       "      <td>0.383628</td>\n",
       "      <td>0.908841</td>\n",
       "      <td>16.1510</td>\n",
       "      <td>338.246</td>\n",
       "      <td>10.588</td>\n",
       "      <td>NaN</td>\n",
       "      <td>NaN</td>\n",
       "      <td>NaN</td>\n",
       "      <td>NaN</td>\n",
       "      <td>NaN</td>\n",
       "    </tr>\n",
       "    <tr>\n",
       "      <th>13000</th>\n",
       "      <td>0.0749</td>\n",
       "      <td>33.621529</td>\n",
       "      <td>4.117288e-06</td>\n",
       "      <td>3.970678</td>\n",
       "      <td>0.392453</td>\n",
       "      <td>0.913601</td>\n",
       "      <td>16.2699</td>\n",
       "      <td>335.773</td>\n",
       "      <td>10.510</td>\n",
       "      <td>NaN</td>\n",
       "      <td>NaN</td>\n",
       "      <td>NaN</td>\n",
       "      <td>NaN</td>\n",
       "      <td>NaN</td>\n",
       "    </tr>\n",
       "    <tr>\n",
       "      <th>14000</th>\n",
       "      <td>0.0491</td>\n",
       "      <td>31.067741</td>\n",
       "      <td>2.895541e-06</td>\n",
       "      <td>4.276115</td>\n",
       "      <td>0.459209</td>\n",
       "      <td>0.912319</td>\n",
       "      <td>16.2839</td>\n",
       "      <td>335.484</td>\n",
       "      <td>10.501</td>\n",
       "      <td>NaN</td>\n",
       "      <td>NaN</td>\n",
       "      <td>NaN</td>\n",
       "      <td>NaN</td>\n",
       "      <td>NaN</td>\n",
       "    </tr>\n",
       "    <tr>\n",
       "      <th>15000</th>\n",
       "      <td>0.0484</td>\n",
       "      <td>1.782319</td>\n",
       "      <td>1.673794e-06</td>\n",
       "      <td>4.581552</td>\n",
       "      <td>0.460365</td>\n",
       "      <td>0.913418</td>\n",
       "      <td>16.0863</td>\n",
       "      <td>339.605</td>\n",
       "      <td>10.630</td>\n",
       "      <td>NaN</td>\n",
       "      <td>NaN</td>\n",
       "      <td>NaN</td>\n",
       "      <td>NaN</td>\n",
       "      <td>NaN</td>\n",
       "    </tr>\n",
       "    <tr>\n",
       "      <th>16000</th>\n",
       "      <td>0.0483</td>\n",
       "      <td>34.861687</td>\n",
       "      <td>4.520464e-07</td>\n",
       "      <td>4.886988</td>\n",
       "      <td>0.444403</td>\n",
       "      <td>0.914699</td>\n",
       "      <td>16.1817</td>\n",
       "      <td>337.604</td>\n",
       "      <td>10.568</td>\n",
       "      <td>NaN</td>\n",
       "      <td>NaN</td>\n",
       "      <td>NaN</td>\n",
       "      <td>NaN</td>\n",
       "      <td>NaN</td>\n",
       "    </tr>\n",
       "    <tr>\n",
       "      <th>16370</th>\n",
       "      <td>NaN</td>\n",
       "      <td>NaN</td>\n",
       "      <td>NaN</td>\n",
       "      <td>5.000000</td>\n",
       "      <td>0.303912</td>\n",
       "      <td>0.914882</td>\n",
       "      <td>15.8736</td>\n",
       "      <td>344.156</td>\n",
       "      <td>10.773</td>\n",
       "      <td>5297.4735</td>\n",
       "      <td>98.861</td>\n",
       "      <td>3.09</td>\n",
       "      <td>2.721614e+16</td>\n",
       "      <td>0.155464</td>\n",
       "    </tr>\n",
       "  </tbody>\n",
       "</table>\n",
       "</div>"
      ],
      "text/plain": [
       "         loss  grad_norm  learning_rate     epoch  eval_loss  eval_accuracy  \\\n",
       "step                                                                          \n",
       "1000   0.4080   5.035591   1.877825e-05  0.305437   0.282444       0.884862   \n",
       "2000   0.3248   7.980379   1.755651e-05  0.610874   0.280567       0.881750   \n",
       "3000   0.2967   5.119344   1.633476e-05  0.916310   0.232731       0.910123   \n",
       "4000   0.2224   3.093946   1.511301e-05  1.221747   0.255777       0.906279   \n",
       "5000   0.1950   8.610628   1.389126e-05  1.527184   0.237514       0.914150   \n",
       "6000   0.2010   3.541438   1.266952e-05  1.832621   0.239613       0.912868   \n",
       "7000   0.1594   5.338032   1.144777e-05  2.138057   0.312838       0.911221   \n",
       "8000   0.1168  14.386604   1.022602e-05  2.443494   0.303912       0.914882   \n",
       "9000   0.1205   8.410171   9.004276e-06  2.748931   0.311550       0.911221   \n",
       "10000  0.1132   2.536112   7.782529e-06  3.054368   0.380269       0.911953   \n",
       "11000  0.0747   2.296730   6.560782e-06  3.359805   0.394210       0.912319   \n",
       "12000  0.0759   2.495047   5.339035e-06  3.665241   0.383628       0.908841   \n",
       "13000  0.0749  33.621529   4.117288e-06  3.970678   0.392453       0.913601   \n",
       "14000  0.0491  31.067741   2.895541e-06  4.276115   0.459209       0.912319   \n",
       "15000  0.0484   1.782319   1.673794e-06  4.581552   0.460365       0.913418   \n",
       "16000  0.0483  34.861687   4.520464e-07  4.886988   0.444403       0.914699   \n",
       "16370     NaN        NaN            NaN  5.000000   0.303912       0.914882   \n",
       "\n",
       "       eval_runtime  eval_samples_per_second  eval_steps_per_second  \\\n",
       "step                                                                  \n",
       "1000        15.8096                  345.550                 10.816   \n",
       "2000        11.6114                  470.485                 14.727   \n",
       "3000        11.6546                  468.742                 14.672   \n",
       "4000        16.0961                  339.399                 10.624   \n",
       "5000        15.4616                  353.327                 11.060   \n",
       "6000        16.3388                  334.358                 10.466   \n",
       "7000        16.2547                  336.088                 10.520   \n",
       "8000        16.1739                  337.766                 10.573   \n",
       "9000        16.0631                  340.095                 10.645   \n",
       "10000       16.2314                  336.570                 10.535   \n",
       "11000       16.1683                  337.883                 10.576   \n",
       "12000       16.1510                  338.246                 10.588   \n",
       "13000       16.2699                  335.773                 10.510   \n",
       "14000       16.2839                  335.484                 10.501   \n",
       "15000       16.0863                  339.605                 10.630   \n",
       "16000       16.1817                  337.604                 10.568   \n",
       "16370       15.8736                  344.156                 10.773   \n",
       "\n",
       "       train_runtime  train_samples_per_second  train_steps_per_second  \\\n",
       "step                                                                     \n",
       "1000             NaN                       NaN                     NaN   \n",
       "2000             NaN                       NaN                     NaN   \n",
       "3000             NaN                       NaN                     NaN   \n",
       "4000             NaN                       NaN                     NaN   \n",
       "5000             NaN                       NaN                     NaN   \n",
       "6000             NaN                       NaN                     NaN   \n",
       "7000             NaN                       NaN                     NaN   \n",
       "8000             NaN                       NaN                     NaN   \n",
       "9000             NaN                       NaN                     NaN   \n",
       "10000            NaN                       NaN                     NaN   \n",
       "11000            NaN                       NaN                     NaN   \n",
       "12000            NaN                       NaN                     NaN   \n",
       "13000            NaN                       NaN                     NaN   \n",
       "14000            NaN                       NaN                     NaN   \n",
       "15000            NaN                       NaN                     NaN   \n",
       "16000            NaN                       NaN                     NaN   \n",
       "16370      5297.4735                    98.861                    3.09   \n",
       "\n",
       "         total_flos  train_loss  \n",
       "step                             \n",
       "1000            NaN         NaN  \n",
       "2000            NaN         NaN  \n",
       "3000            NaN         NaN  \n",
       "4000            NaN         NaN  \n",
       "5000            NaN         NaN  \n",
       "6000            NaN         NaN  \n",
       "7000            NaN         NaN  \n",
       "8000            NaN         NaN  \n",
       "9000            NaN         NaN  \n",
       "10000           NaN         NaN  \n",
       "11000           NaN         NaN  \n",
       "12000           NaN         NaN  \n",
       "13000           NaN         NaN  \n",
       "14000           NaN         NaN  \n",
       "15000           NaN         NaN  \n",
       "16000           NaN         NaN  \n",
       "16370  2.721614e+16    0.155464  "
      ]
     },
     "execution_count": 29,
     "metadata": {},
     "output_type": "execute_result"
    }
   ],
   "source": [
    "training_history = pd.DataFrame(trainer.state.log_history)\n",
    "training_history.groupby(\"step\").first()"
   ]
  },
  {
   "cell_type": "code",
   "execution_count": 30,
   "metadata": {},
   "outputs": [
    {
     "data": {
      "text/markdown": [
       "### Loss and Evaluation Metrics over Training Steps"
      ],
      "text/plain": [
       "<IPython.core.display.Markdown object>"
      ]
     },
     "metadata": {},
     "output_type": "display_data"
    },
    {
     "data": {
      "image/png": "[encoded data removed]",
      "text/plain": [
       "<Figure size 640x480 with 1 Axes>"
      ]
     },
     "metadata": {},
     "output_type": "display_data"
    }
   ],
   "source": [
    "import seaborn as sns\n",
    "\n",
    "data = training_history[[\"loss\", \"eval_loss\", \"step\", f\"eval_{metric_for_best_model}\"]]\n",
    "data.columns = [\"Train. Loss\", \"Eval. Loss\", \"Training Steps\", \"Acc.\"]\n",
    "data = pd.melt(data, ['Training Steps'])\n",
    "\n",
    "plot = sns.lineplot(data=data, x=\"Training Steps\", y=\"value\", hue=\"variable\", style=\"variable\", markers=True)\n",
    "plot.set_ylabel(\"\")\n",
    "plot.set_ylim((0, plot.get_ylim()[1]))\n",
    "plot.legend(title=\"\")\n",
    "\n",
    "from IPython.display import Markdown, display\n",
    "display(Markdown(\"### Loss and Evaluation Metrics over Training Steps\"))"
   ]
  },
  {
   "cell_type": "code",
   "execution_count": 31,
   "metadata": {},
   "outputs": [
    {
     "data": {
      "text/markdown": [
       "### Best Model performance:"
      ],
      "text/plain": [
       "<IPython.core.display.Markdown object>"
      ]
     },
     "metadata": {},
     "output_type": "display_data"
    },
    {
     "name": "stdout",
     "output_type": "stream",
     "text": [
      "\"Our Model\" based on google-bert/bert-base-uncased, best performance on validation data.\n",
      "\"BERT_BASE\" and \"BERT_LARGE\" performance on GLUE testing data as reported in original paper.\n"
     ]
    },
    {
     "data": {
      "text/html": [
       "<div>\n",
       "<style scoped>\n",
       "    .dataframe tbody tr th:only-of-type {\n",
       "        vertical-align: middle;\n",
       "    }\n",
       "\n",
       "    .dataframe tbody tr th {\n",
       "        vertical-align: top;\n",
       "    }\n",
       "\n",
       "    .dataframe thead th {\n",
       "        text-align: right;\n",
       "    }\n",
       "</style>\n",
       "<table border=\"1\" class=\"dataframe\">\n",
       "  <thead>\n",
       "    <tr style=\"text-align: right;\">\n",
       "      <th></th>\n",
       "      <th>Our Model</th>\n",
       "      <th>original BERT_BASE</th>\n",
       "      <th>original BERT_LARGE</th>\n",
       "    </tr>\n",
       "  </thead>\n",
       "  <tbody>\n",
       "    <tr>\n",
       "      <th>eval_loss</th>\n",
       "      <td>0.303912</td>\n",
       "      <td>-</td>\n",
       "      <td>-</td>\n",
       "    </tr>\n",
       "    <tr>\n",
       "      <th>eval_accuracy</th>\n",
       "      <td>0.914882</td>\n",
       "      <td>0.905</td>\n",
       "      <td>0.927</td>\n",
       "    </tr>\n",
       "  </tbody>\n",
       "</table>\n",
       "</div>"
      ],
      "text/plain": [
       "               Our Model original BERT_BASE original BERT_LARGE\n",
       "eval_loss       0.303912                  -                   -\n",
       "eval_accuracy   0.914882              0.905               0.927"
      ]
     },
     "execution_count": 31,
     "metadata": {},
     "output_type": "execute_result"
    }
   ],
   "source": [
    "display(Markdown(f\"### Best Model performance:\"))\n",
    "results = pd.DataFrame(\n",
    "    best_model_evaluation.values(),\n",
    "    index=best_model_evaluation.keys(),\n",
    "    columns=[\"Our Model\"],\n",
    ").drop(\n",
    "    # Drop runtime measurements\n",
    "    index=[\"eval_runtime\", \"eval_samples_per_second\", \"eval_steps_per_second\", \"epoch\"]\n",
    ")\n",
    "# Achieved scores from original BERT paper:\n",
    "results[\"original BERT_BASE\"] = [\"-\", 0.905]\n",
    "results[\"original BERT_LARGE\"] = [\"-\", 0.927]\n",
    "print(f'\"Our Model\" based on {PRE_TRAINED_CHECKPOINT}, best performance on validation data.')\n",
    "print('\"BERT_BASE\" and \"BERT_LARGE\" performance on GLUE testing data as reported in original paper.')\n",
    "results"
   ]
  },
  {
   "cell_type": "code",
   "execution_count": null,
   "metadata": {},
   "outputs": [],
   "source": []
  }
 ],
 "metadata": {
  "kernelspec": {
   "display_name": ".venv",
   "language": "python",
   "name": "python3"
  },
  "language_info": {
   "codemirror_mode": {
    "name": "ipython",
    "version": 3
   },
   "file_extension": ".py",
   "mimetype": "text/x-python",
   "name": "python",
   "nbconvert_exporter": "python",
   "pygments_lexer": "ipython3",
   "version": "3.11.11"
  }
 },
 "nbformat": 4,
 "nbformat_minor": 2
}
