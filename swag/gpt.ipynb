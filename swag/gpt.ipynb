{
 "cells": [
  {
   "cell_type": "code",
   "execution_count": 1,
   "id": "de32eb56-2c57-4ba0-ae83-7e5a2bd58b6a",
   "metadata": {},
   "outputs": [],
   "source": [
    "from datasets import load_dataset, concatenate_datasets, DatasetDict, load_from_disk\n",
    "\n",
    "load_from_file = False\n",
    "\n",
    "if load_from_disk:\n",
    "    datasets = load_from_disk(\"../swag.hf\")\n",
    "else:\n",
    "    datasets = load_dataset(\"swag\", \"regular\")\n",
    "    # the labels for the test split are not public, therefore we create our own split\n",
    "    # 60% train, 20% validation, 20% test\n",
    "    merged_datasets = concatenate_datasets([datasets[\"train\"], datasets[\"validation\"]])\n",
    "    \n",
    "    train_testvalid = merged_datasets.train_test_split(test_size=0.4)\n",
    "    # Split the 10% test + valid in half test, half valid\n",
    "    test_valid = train_testvalid['test'].train_test_split(test_size=0.5)\n",
    "    # gather everyone if you want to have a single DatasetDict\n",
    "    datasets = DatasetDict({\n",
    "        'train': train_testvalid['train'],\n",
    "        'test': test_valid['test'],\n",
    "        'validation': test_valid['train']})\n",
    "\n",
    "    datasets.save_to_disk(\"../swag.hf\")"
   ]
  },
  {
   "cell_type": "code",
   "execution_count": 2,
   "id": "bd014d1c-efd8-4a8b-b831-36d846aaa596",
   "metadata": {},
   "outputs": [],
   "source": [
    "from transformers import AutoTokenizer\n",
    "\n",
    "tokenizer = AutoTokenizer.from_pretrained(\"gpt2\")\n",
    "tokenizer.pad_token = tokenizer.eos_token  # Set padding token, because GPT2 does not have a padding token"
   ]
  },
  {
   "cell_type": "code",
   "execution_count": 15,
   "id": "87e9db1a-c242-4919-b5a9-f3040c75ad1a",
   "metadata": {},
   "outputs": [],
   "source": [
    "import torch.nn as nn\n",
    "from transformers import GPT2Model\n",
    "\n",
    "class GPT2ForMultipleChoice(nn.Module):\n",
    "    def __init__(self, model_name=\"gpt2\"):\n",
    "        super(GPT2ForMultipleChoice, self).__init__()\n",
    "        self.gpt2 = GPT2Model.from_pretrained(model_name)\n",
    "        self.dropout = nn.Dropout(0.1)\n",
    "        self.classifier = nn.Linear(self.gpt2.config.hidden_size, 1)\n",
    "        self.loss_fct = nn.CrossEntropyLoss()\n",
    "\n",
    "    def forward(self, input_ids, attention_mask=None, labels=None):\n",
    "        bsz, num_choices, seq_len = input_ids.size()\n",
    "\n",
    "        input_ids = input_ids.view(-1, seq_len)\n",
    "        attention_mask = attention_mask.view(-1, seq_len)\n",
    "\n",
    "        outputs = self.gpt2(input_ids, attention_mask=attention_mask)\n",
    "        hidden_state = outputs.last_hidden_state  # (batch_size*num_choices, seq_len, hidden_size)\n",
    "        # Last token representation\n",
    "        pooled_output = hidden_state[:, -1, :] \n",
    "\n",
    "        logits = self.classifier(self.dropout(pooled_output))  # (batch_size*num_choices, 1)\n",
    "        reshaped_logits = logits.view(bsz, num_choices)  # (batch_size, num_choices)\n",
    "\n",
    "        # Compute loss if labels are provided\n",
    "        loss = None\n",
    "        if labels is not None:\n",
    "            loss = self.loss_fct(reshaped_logits, labels)\n",
    "\n",
    "        return {\"loss\": loss, \"logits\": reshaped_logits}"
   ]
  },
  {
   "cell_type": "code",
   "execution_count": 4,
   "id": "6a069992-7ab1-48d8-979c-9958abd2b2b7",
   "metadata": {},
   "outputs": [
    {
     "data": {
      "application/vnd.jupyter.widget-view+json": {
       "model_id": "ff37f238cdec45b4ab148daf3491b3b3",
       "version_major": 2,
       "version_minor": 0
      },
      "text/plain": [
       "Map:   0%|          | 0/18711 [00:00<?, ? examples/s]"
      ]
     },
     "metadata": {},
     "output_type": "display_data"
    }
   ],
   "source": [
    "# adopted from: https://huggingface.co/docs/transformers/tasks/multiple_choice\n",
    "def preprocess_function(examples):\n",
    "    first_sentences = [[context] * 4 for context in examples[\"sent1\"]]\n",
    "    question_headers = examples[\"sent2\"]\n",
    "    answer_choices = [examples[f\"ending{i}\"] for i in range(4)]\n",
    "\n",
    "    second_sentences = [\n",
    "        [f\"{header} {choice}\" for choice in choices]\n",
    "        for header, choices in zip(question_headers, zip(*answer_choices))\n",
    "    ]\n",
    "\n",
    "    first_sentences = sum(first_sentences, [])\n",
    "    second_sentences = sum(second_sentences, [])\n",
    "\n",
    "    tokenized = tokenizer(\n",
    "        first_sentences,\n",
    "        second_sentences,\n",
    "        truncation=True,\n",
    "        padding=\"max_length\", \n",
    "        max_length=128,        \n",
    "        return_tensors=\"pt\",\n",
    "    )\n",
    "\n",
    "    return {\n",
    "        \"input_ids\": tokenized[\"input_ids\"].view(-1, 4, tokenized[\"input_ids\"].shape[-1]),\n",
    "        \"attention_mask\": tokenized[\"attention_mask\"].view(-1, 4, tokenized[\"attention_mask\"].shape[-1]),\n",
    "        \"labels\": examples[\"label\"],\n",
    "    }\n",
    "\n",
    "encoded_dataset = datasets.map(preprocess_function, batched=True)"
   ]
  },
  {
   "cell_type": "code",
   "execution_count": 5,
   "id": "d75e3732-a6dc-4cb1-a223-794057c140d0",
   "metadata": {},
   "outputs": [],
   "source": [
    "import numpy as np\n",
    "\n",
    "def compute_metrics(eval_predictions):\n",
    "    predictions, label_ids = eval_predictions\n",
    "    preds = np.argmax(predictions, axis=1)\n",
    "    return {\"accuracy\": (preds == label_ids).astype(np.float32).mean().item()}"
   ]
  },
  {
   "cell_type": "code",
   "execution_count": 6,
   "id": "4e6c00e3-6a74-4125-8e2e-2f0b34559d36",
   "metadata": {},
   "outputs": [
    {
     "name": "stderr",
     "output_type": "stream",
     "text": [
      "/home/e12117772/2024W-DLNLP-BERT/.venv/lib/python3.11/site-packages/transformers/training_args.py:1575: FutureWarning: `evaluation_strategy` is deprecated and will be removed in version 4.46 of 🤗 Transformers. Use `eval_strategy` instead\n",
      "  warnings.warn(\n"
     ]
    },
    {
     "data": {
      "text/html": [
       "\n",
       "    <div>\n",
       "      \n",
       "      <progress value='10527' max='10527' style='width:300px; height:20px; vertical-align: middle;'></progress>\n",
       "      [10527/10527 1:29:45, Epoch 3/3]\n",
       "    </div>\n",
       "    <table border=\"1\" class=\"dataframe\">\n",
       "  <thead>\n",
       " <tr style=\"text-align: left;\">\n",
       "      <th>Step</th>\n",
       "      <th>Training Loss</th>\n",
       "      <th>Validation Loss</th>\n",
       "      <th>Accuracy</th>\n",
       "    </tr>\n",
       "  </thead>\n",
       "  <tbody>\n",
       "    <tr>\n",
       "      <td>1000</td>\n",
       "      <td>1.196200</td>\n",
       "      <td>1.071818</td>\n",
       "      <td>0.562159</td>\n",
       "    </tr>\n",
       "    <tr>\n",
       "      <td>2000</td>\n",
       "      <td>1.083500</td>\n",
       "      <td>0.983358</td>\n",
       "      <td>0.598610</td>\n",
       "    </tr>\n",
       "    <tr>\n",
       "      <td>3000</td>\n",
       "      <td>1.026200</td>\n",
       "      <td>0.928102</td>\n",
       "      <td>0.624105</td>\n",
       "    </tr>\n",
       "    <tr>\n",
       "      <td>4000</td>\n",
       "      <td>0.912900</td>\n",
       "      <td>0.900148</td>\n",
       "      <td>0.630465</td>\n",
       "    </tr>\n",
       "    <tr>\n",
       "      <td>5000</td>\n",
       "      <td>0.893300</td>\n",
       "      <td>0.876882</td>\n",
       "      <td>0.641635</td>\n",
       "    </tr>\n",
       "    <tr>\n",
       "      <td>6000</td>\n",
       "      <td>0.881300</td>\n",
       "      <td>0.860920</td>\n",
       "      <td>0.649599</td>\n",
       "    </tr>\n",
       "    <tr>\n",
       "      <td>7000</td>\n",
       "      <td>0.853200</td>\n",
       "      <td>0.841838</td>\n",
       "      <td>0.661251</td>\n",
       "    </tr>\n",
       "    <tr>\n",
       "      <td>8000</td>\n",
       "      <td>0.780600</td>\n",
       "      <td>0.841092</td>\n",
       "      <td>0.663068</td>\n",
       "    </tr>\n",
       "    <tr>\n",
       "      <td>9000</td>\n",
       "      <td>0.784700</td>\n",
       "      <td>0.836573</td>\n",
       "      <td>0.666328</td>\n",
       "    </tr>\n",
       "    <tr>\n",
       "      <td>10000</td>\n",
       "      <td>0.766800</td>\n",
       "      <td>0.834436</td>\n",
       "      <td>0.666809</td>\n",
       "    </tr>\n",
       "  </tbody>\n",
       "</table><p>"
      ],
      "text/plain": [
       "<IPython.core.display.HTML object>"
      ]
     },
     "metadata": {},
     "output_type": "display_data"
    },
    {
     "data": {
      "text/plain": [
       "TrainOutput(global_step=10527, training_loss=0.9255701483422742, metrics={'train_runtime': 5386.405, 'train_samples_per_second': 31.263, 'train_steps_per_second': 1.954, 'total_flos': 0.0, 'train_loss': 0.9255701483422742, 'epoch': 3.0})"
      ]
     },
     "execution_count": 6,
     "metadata": {},
     "output_type": "execute_result"
    }
   ],
   "source": [
    "from transformers import Trainer, TrainingArguments\n",
    "\n",
    "# Initialize the model\n",
    "model = GPT2ForMultipleChoice(\"gpt2\")\n",
    "\n",
    "# Define training arguments\n",
    "training_args = TrainingArguments(\n",
    "    \"gpt2-finetuned-swag\",\n",
    "    evaluation_strategy = \"steps\",\n",
    "    eval_steps=1000,\n",
    "    learning_rate=2e-5,\n",
    "    per_device_train_batch_size=16,\n",
    "    per_device_eval_batch_size=16,\n",
    "    num_train_epochs=3,\n",
    "    weight_decay=0.01,\n",
    ")\n",
    "\n",
    "# Initialize Trainer\n",
    "trainer = Trainer(\n",
    "    model=model,\n",
    "    args=training_args,\n",
    "    train_dataset=encoded_dataset[\"train\"],\n",
    "    eval_dataset=encoded_dataset[\"validation\"],\n",
    "    compute_metrics=compute_metrics,\n",
    ")\n",
    "\n",
    "# Start training\n",
    "trainer.train()"
   ]
  },
  {
   "cell_type": "code",
   "execution_count": 7,
   "id": "04a3a8a5-9105-4404-913b-31ee41115f18",
   "metadata": {},
   "outputs": [
    {
     "data": {
      "text/html": [],
      "text/plain": [
       "<IPython.core.display.HTML object>"
      ]
     },
     "metadata": {},
     "output_type": "display_data"
    },
    {
     "data": {
      "text/plain": [
       "{'eval_loss': 0.8336287140846252,\n",
       " 'eval_accuracy': 0.6686798334121704,\n",
       " 'eval_runtime': 146.338,\n",
       " 'eval_samples_per_second': 127.855,\n",
       " 'eval_steps_per_second': 7.995,\n",
       " 'epoch': 3.0}"
      ]
     },
     "execution_count": 7,
     "metadata": {},
     "output_type": "execute_result"
    }
   ],
   "source": [
    "evaluated = trainer.evaluate()\n",
    "evaluated"
   ]
  },
  {
   "cell_type": "code",
   "execution_count": 8,
   "id": "222d3576-0dbd-4cfe-a57d-0fbdcb518763",
   "metadata": {},
   "outputs": [
    {
     "data": {
      "text/html": [
       "<div>\n",
       "<style scoped>\n",
       "    .dataframe tbody tr th:only-of-type {\n",
       "        vertical-align: middle;\n",
       "    }\n",
       "\n",
       "    .dataframe tbody tr th {\n",
       "        vertical-align: top;\n",
       "    }\n",
       "\n",
       "    .dataframe thead th {\n",
       "        text-align: right;\n",
       "    }\n",
       "</style>\n",
       "<table border=\"1\" class=\"dataframe\">\n",
       "  <thead>\n",
       "    <tr style=\"text-align: right;\">\n",
       "      <th></th>\n",
       "      <th>loss</th>\n",
       "      <th>grad_norm</th>\n",
       "      <th>learning_rate</th>\n",
       "      <th>step</th>\n",
       "      <th>eval_loss</th>\n",
       "      <th>eval_accuracy</th>\n",
       "      <th>eval_runtime</th>\n",
       "      <th>eval_samples_per_second</th>\n",
       "      <th>eval_steps_per_second</th>\n",
       "      <th>train_runtime</th>\n",
       "      <th>train_samples_per_second</th>\n",
       "      <th>train_steps_per_second</th>\n",
       "      <th>total_flos</th>\n",
       "      <th>train_loss</th>\n",
       "    </tr>\n",
       "    <tr>\n",
       "      <th>epoch</th>\n",
       "      <th></th>\n",
       "      <th></th>\n",
       "      <th></th>\n",
       "      <th></th>\n",
       "      <th></th>\n",
       "      <th></th>\n",
       "      <th></th>\n",
       "      <th></th>\n",
       "      <th></th>\n",
       "      <th></th>\n",
       "      <th></th>\n",
       "      <th></th>\n",
       "      <th></th>\n",
       "      <th></th>\n",
       "    </tr>\n",
       "  </thead>\n",
       "  <tbody>\n",
       "    <tr>\n",
       "      <th>0</th>\n",
       "      <td>1.3447</td>\n",
       "      <td>7.886635</td>\n",
       "      <td>0.000019</td>\n",
       "      <td>500</td>\n",
       "      <td>1.071818</td>\n",
       "      <td>0.562159</td>\n",
       "      <td>146.3732</td>\n",
       "      <td>127.824</td>\n",
       "      <td>7.993</td>\n",
       "      <td>NaN</td>\n",
       "      <td>NaN</td>\n",
       "      <td>NaN</td>\n",
       "      <td>NaN</td>\n",
       "      <td>NaN</td>\n",
       "    </tr>\n",
       "    <tr>\n",
       "      <th>1</th>\n",
       "      <td>0.9129</td>\n",
       "      <td>13.105724</td>\n",
       "      <td>0.000012</td>\n",
       "      <td>4000</td>\n",
       "      <td>0.900148</td>\n",
       "      <td>0.630465</td>\n",
       "      <td>146.4048</td>\n",
       "      <td>127.796</td>\n",
       "      <td>7.992</td>\n",
       "      <td>NaN</td>\n",
       "      <td>NaN</td>\n",
       "      <td>NaN</td>\n",
       "      <td>NaN</td>\n",
       "      <td>NaN</td>\n",
       "    </tr>\n",
       "    <tr>\n",
       "      <th>2</th>\n",
       "      <td>0.7711</td>\n",
       "      <td>12.215258</td>\n",
       "      <td>0.000006</td>\n",
       "      <td>7500</td>\n",
       "      <td>0.841092</td>\n",
       "      <td>0.663068</td>\n",
       "      <td>146.2990</td>\n",
       "      <td>127.889</td>\n",
       "      <td>7.997</td>\n",
       "      <td>NaN</td>\n",
       "      <td>NaN</td>\n",
       "      <td>NaN</td>\n",
       "      <td>NaN</td>\n",
       "      <td>NaN</td>\n",
       "    </tr>\n",
       "    <tr>\n",
       "      <th>3</th>\n",
       "      <td>NaN</td>\n",
       "      <td>NaN</td>\n",
       "      <td>NaN</td>\n",
       "      <td>10527</td>\n",
       "      <td>0.833629</td>\n",
       "      <td>0.668680</td>\n",
       "      <td>146.3380</td>\n",
       "      <td>127.855</td>\n",
       "      <td>7.995</td>\n",
       "      <td>5386.405</td>\n",
       "      <td>31.263</td>\n",
       "      <td>1.954</td>\n",
       "      <td>0.0</td>\n",
       "      <td>0.92557</td>\n",
       "    </tr>\n",
       "  </tbody>\n",
       "</table>\n",
       "</div>"
      ],
      "text/plain": [
       "         loss  grad_norm  learning_rate   step  eval_loss  eval_accuracy  \\\n",
       "epoch                                                                      \n",
       "0      1.3447   7.886635       0.000019    500   1.071818       0.562159   \n",
       "1      0.9129  13.105724       0.000012   4000   0.900148       0.630465   \n",
       "2      0.7711  12.215258       0.000006   7500   0.841092       0.663068   \n",
       "3         NaN        NaN            NaN  10527   0.833629       0.668680   \n",
       "\n",
       "       eval_runtime  eval_samples_per_second  eval_steps_per_second  \\\n",
       "epoch                                                                 \n",
       "0          146.3732                  127.824                  7.993   \n",
       "1          146.4048                  127.796                  7.992   \n",
       "2          146.2990                  127.889                  7.997   \n",
       "3          146.3380                  127.855                  7.995   \n",
       "\n",
       "       train_runtime  train_samples_per_second  train_steps_per_second  \\\n",
       "epoch                                                                    \n",
       "0                NaN                       NaN                     NaN   \n",
       "1                NaN                       NaN                     NaN   \n",
       "2                NaN                       NaN                     NaN   \n",
       "3           5386.405                    31.263                   1.954   \n",
       "\n",
       "       total_flos  train_loss  \n",
       "epoch                          \n",
       "0             NaN         NaN  \n",
       "1             NaN         NaN  \n",
       "2             NaN         NaN  \n",
       "3             0.0     0.92557  "
      ]
     },
     "execution_count": 8,
     "metadata": {},
     "output_type": "execute_result"
    }
   ],
   "source": [
    "import pandas as pd\n",
    "training_history_gpt2 = pd.DataFrame(trainer.state.log_history)\n",
    "training_history_gpt2.epoch = training_history_gpt2.epoch.astype(int)\n",
    "training_history_gpt2.groupby(\"epoch\").first()"
   ]
  },
  {
   "cell_type": "code",
   "execution_count": 10,
   "id": "150e6326-d75f-44e0-839f-200417958bee",
   "metadata": {},
   "outputs": [
    {
     "data": {
      "text/plain": [
       "{'test_loss': 0.8398076295852661,\n",
       " 'test_accuracy': 0.6620169878005981,\n",
       " 'test_runtime': 145.9267,\n",
       " 'test_samples_per_second': 128.222,\n",
       " 'test_steps_per_second': 8.018}"
      ]
     },
     "execution_count": 10,
     "metadata": {},
     "output_type": "execute_result"
    }
   ],
   "source": [
    "test_pred = trainer.predict(encoded_dataset[\"test\"])\n",
    "test_pred.metrics"
   ]
  },
  {
   "cell_type": "code",
   "execution_count": 12,
   "id": "31facd45-dee8-4e07-a33b-123140826216",
   "metadata": {},
   "outputs": [
    {
     "data": {
      "image/png": "[encoded data removed]",
      "text/plain": [
       "<Figure size 1000x600 with 1 Axes>"
      ]
     },
     "metadata": {},
     "output_type": "display_data"
    }
   ],
   "source": [
    "import matplotlib.pyplot as plt\n",
    "import pandas as pd\n",
    "\n",
    "# Prepare the data\n",
    "data = training_history_gpt2[[\"loss\", \"eval_loss\", \"step\", \"eval_accuracy\"]]\n",
    "data.columns = [\"Train. Loss\", \"Eval. Loss\", \"Training Steps\", \"Accuracy\"]\n",
    "data = data[:-1]  # drop last row\n",
    "data = pd.melt(data, ['Training Steps']).dropna()\n",
    "\n",
    "# Plot using Matplotlib\n",
    "plt.figure(figsize=(10, 6))\n",
    "\n",
    "# Plot each variable separately without using groupby\n",
    "train_loss = data[data['variable'] == \"Train. Loss\"]\n",
    "eval_loss = data[data['variable'] == \"Eval. Loss\"]\n",
    "acc = data[data['variable'] == \"Accuracy\"]\n",
    "\n",
    "plt.plot(train_loss[\"Training Steps\"], train_loss[\"value\"], marker='o', label=\"Train. Loss\")\n",
    "plt.plot(eval_loss[\"Training Steps\"], eval_loss[\"value\"], marker='o', label=\"Eval. Loss\")\n",
    "plt.plot(acc[\"Training Steps\"], acc[\"value\"], marker='o', label=\"Accuracy\")\n",
    "\n",
    "# Labels and Title\n",
    "plt.ylabel('Accuarcy/Loss')\n",
    "plt.xlabel('Step')\n",
    "plt.title('GPT-2: Training Accuarcy vs Evaluation Accuarcy')\n",
    "plt.legend()\n",
    "plt.grid(True)\n",
    "\n",
    "# Show plot\n",
    "plt.savefig('gpt2_swag_finetuned.png')"
   ]
  },
  {
   "cell_type": "code",
   "execution_count": 13,
   "id": "d03c97dc-b089-4a5a-937a-f8ea0aa807ed",
   "metadata": {},
   "outputs": [
    {
     "data": {
      "image/png": "[encoded data removed]",
      "text/plain": [
       "<Figure size 800x600 with 2 Axes>"
      ]
     },
     "metadata": {},
     "output_type": "display_data"
    }
   ],
   "source": [
    "import seaborn as sns\n",
    "import matplotlib.pyplot as plt\n",
    "\n",
    "import evaluate\n",
    "\n",
    "metric = evaluate.load(\"confusion_matrix\")\n",
    "\n",
    "predictions = np.argmax(test_pred.predictions, axis=-1)\n",
    "metric.add_batch(predictions=predictions, references=datasets[\"test\"][\"label\"])\n",
    "\n",
    "# Compute confusion matrix\n",
    "conf_matrix = metric.compute()['confusion_matrix']\n",
    "\n",
    "# Define class labels manually (adjust as needed)\n",
    "labels = [\"1\", \"2\", \"3\", \"4\"]\n",
    "\n",
    "# Plotting the confusion matrix\n",
    "plt.figure(figsize=(8, 6))\n",
    "sns.heatmap(conf_matrix, annot=True, fmt='d', cmap='Blues',\n",
    "            xticklabels=labels, yticklabels=labels)\n",
    "plt.xlabel('Predicted Labels')\n",
    "plt.ylabel('True Labels')\n",
    "plt.title('GPT2: Confusion Matrix')\n",
    "plt.savefig('swag_gpt2_confusion_matrix.png')"
   ]
  },
  {
   "cell_type": "code",
   "execution_count": 14,
   "id": "63d9ec77-d270-4919-9e56-ba93909f2a6b",
   "metadata": {},
   "outputs": [
    {
     "data": {
      "text/plain": [
       "GPT2ForMultipleChoice(\n",
       "  (gpt2): GPT2Model(\n",
       "    (wte): Embedding(50257, 768)\n",
       "    (wpe): Embedding(1024, 768)\n",
       "    (drop): Dropout(p=0.1, inplace=False)\n",
       "    (h): ModuleList(\n",
       "      (0-11): 12 x GPT2Block(\n",
       "        (ln_1): LayerNorm((768,), eps=1e-05, elementwise_affine=True)\n",
       "        (attn): GPT2Attention(\n",
       "          (c_attn): Conv1D(nf=2304, nx=768)\n",
       "          (c_proj): Conv1D(nf=768, nx=768)\n",
       "          (attn_dropout): Dropout(p=0.1, inplace=False)\n",
       "          (resid_dropout): Dropout(p=0.1, inplace=False)\n",
       "        )\n",
       "        (ln_2): LayerNorm((768,), eps=1e-05, elementwise_affine=True)\n",
       "        (mlp): GPT2MLP(\n",
       "          (c_fc): Conv1D(nf=3072, nx=768)\n",
       "          (c_proj): Conv1D(nf=768, nx=3072)\n",
       "          (act): NewGELUActivation()\n",
       "          (dropout): Dropout(p=0.1, inplace=False)\n",
       "        )\n",
       "      )\n",
       "    )\n",
       "    (ln_f): LayerNorm((768,), eps=1e-05, elementwise_affine=True)\n",
       "  )\n",
       "  (dropout): Dropout(p=0.1, inplace=False)\n",
       "  (classifier): Linear(in_features=768, out_features=1, bias=True)\n",
       "  (loss_fct): CrossEntropyLoss()\n",
       ")"
      ]
     },
     "execution_count": 14,
     "metadata": {},
     "output_type": "execute_result"
    }
   ],
   "source": [
    "model"
   ]
  },
  {
   "cell_type": "code",
   "execution_count": null,
   "id": "823e9e99-9959-4a88-98c9-5b5157829dd6",
   "metadata": {},
   "outputs": [],
   "source": []
  }
 ],
 "metadata": {
  "kernelspec": {
   "display_name": "Python (esim)",
   "language": "python",
   "name": "myenv"
  },
  "language_info": {
   "codemirror_mode": {
    "name": "ipython",
    "version": 3
   },
   "file_extension": ".py",
   "mimetype": "text/x-python",
   "name": "python",
   "nbconvert_exporter": "python",
   "pygments_lexer": "ipython3",
   "version": "3.11.10"
  }
 },
 "nbformat": 4,
 "nbformat_minor": 5
}
