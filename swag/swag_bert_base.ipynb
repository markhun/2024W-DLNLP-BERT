{
 "cells": [
  {
   "cell_type": "code",
   "execution_count": 1,
   "id": "65bb57c9-e8ae-4513-a876-8b8311cd1f96",
   "metadata": {},
   "outputs": [],
   "source": [
    "from datasets import load_dataset, concatenate_datasets, DatasetDict, load_from_disk\n",
    "\n",
    "datasets = load_dataset(\"swag\", \"regular\")\n",
    "datasets = load_from_disk(\"swag.hf\")\n",
    "if False:\n",
    "    # the labels for the test split are not public, therefore we create our own split\n",
    "    # 60% train, 20% validation, 20% test\n",
    "    merged_datasets = concatenate_datasets([datasets[\"train\"], datasets[\"validation\"]])\n",
    "    \n",
    "    train_testvalid = merged_datasets.train_test_split(test_size=0.4)\n",
    "    # Split the 10% test + valid in half test, half valid\n",
    "    test_valid = train_testvalid['test'].train_test_split(test_size=0.5)\n",
    "    # gather everyone if you want to have a single DatasetDict\n",
    "    datasets = DatasetDict({\n",
    "        'train': train_testvalid['train'],\n",
    "        'test': test_valid['test'],\n",
    "        'validation': test_valid['train']})\n",
    "else: \n",
    "    datasets\n",
    "#datasets.save_to_disk(\"swag.hf\")"
   ]
  },
  {
   "cell_type": "code",
   "execution_count": 2,
   "id": "79009149-c457-4d7d-93db-56b488b6e2b1",
   "metadata": {},
   "outputs": [],
   "source": [
    "from transformers import AutoTokenizer\n",
    "\n",
    "tokenizer = AutoTokenizer.from_pretrained(\"bert-base-uncased\", use_fast=True)\n",
    "batch_size = 16"
   ]
  },
  {
   "cell_type": "code",
   "execution_count": 3,
   "id": "ab53c698-adf1-4e8e-82e2-e40ab1dc71a4",
   "metadata": {},
   "outputs": [],
   "source": [
    "ending_names = [\"ending0\", \"ending1\", \"ending2\", \"ending3\"]\n",
    "\n",
    "def preprocess_function(examples):\n",
    "    # Repeat each first sentence four times to go with the four possibilities of second sentences.\n",
    "    first_sentences = [[context] * 4 for context in examples[\"sent1\"]]\n",
    "    # Grab all second sentences possible for each context.\n",
    "    question_headers = examples[\"sent2\"]\n",
    "    second_sentences = [[f\"{header} {examples[end][i]}\" for end in ending_names] for i, header in enumerate(question_headers)]\n",
    "\n",
    "    # Flatten everything\n",
    "    first_sentences = sum(first_sentences, [])\n",
    "    second_sentences = sum(second_sentences, [])\n",
    "\n",
    "    # Tokenize\n",
    "    tokenized_examples = tokenizer(first_sentences, second_sentences, truncation=True)\n",
    "    # Un-flatten\n",
    "    return {k: [v[i:i+4] for i in range(0, len(v), 4)] for k, v in tokenized_examples.items()}"
   ]
  },
  {
   "cell_type": "code",
   "execution_count": 4,
   "id": "d4f81a55-aa11-4191-80e8-548c200f6723",
   "metadata": {},
   "outputs": [
    {
     "data": {
      "application/vnd.jupyter.widget-view+json": {
       "model_id": "511a492dc9864de69d5bfad9ef63c4a7",
       "version_major": 2,
       "version_minor": 0
      },
      "text/plain": [
       "Map:   0%|          | 0/18710 [00:00<?, ? examples/s]"
      ]
     },
     "metadata": {},
     "output_type": "display_data"
    }
   ],
   "source": [
    "encoded_datasets = datasets.map(preprocess_function, batched=True)"
   ]
  },
  {
   "cell_type": "code",
   "execution_count": 5,
   "id": "d4964dac-dc20-4b0a-8286-fa9a09233dc9",
   "metadata": {},
   "outputs": [
    {
     "name": "stderr",
     "output_type": "stream",
     "text": [
      "Some weights of BertForMultipleChoice were not initialized from the model checkpoint at bert-base-uncased and are newly initialized: ['classifier.bias', 'classifier.weight']\n",
      "You should probably TRAIN this model on a down-stream task to be able to use it for predictions and inference.\n"
     ]
    }
   ],
   "source": [
    "from transformers import TrainingArguments, Trainer, BertForMultipleChoice\n",
    "\n",
    "model = BertForMultipleChoice.from_pretrained(\"bert-base-uncased\")"
   ]
  },
  {
   "cell_type": "code",
   "execution_count": 12,
   "id": "e1f478db-d89a-4252-b800-6246c11a74d6",
   "metadata": {},
   "outputs": [
    {
     "name": "stderr",
     "output_type": "stream",
     "text": [
      "/home/e12117772/2024W-DLNLP-BERT/.venv/lib/python3.11/site-packages/transformers/training_args.py:1575: FutureWarning: `evaluation_strategy` is deprecated and will be removed in version 4.46 of 🤗 Transformers. Use `eval_strategy` instead\n",
      "  warnings.warn(\n"
     ]
    }
   ],
   "source": [
    "args = TrainingArguments(\n",
    "    \"bert-base-finetuned-swag\",\n",
    "    evaluation_strategy = \"steps\",\n",
    "    eval_steps=1000,\n",
    "    learning_rate=2e-5,\n",
    "    per_device_train_batch_size=batch_size,\n",
    "    per_device_eval_batch_size=batch_size,\n",
    "    num_train_epochs=3,\n",
    "    weight_decay=0.01,\n",
    ")\n"
   ]
  },
  {
   "cell_type": "code",
   "execution_count": 133,
   "id": "a22419d5-111b-4546-a522-2ce52f177fbf",
   "metadata": {},
   "outputs": [],
   "source": [
    "import torch\n",
    "import torch.nn as nn\n",
    "\n",
    "class BERTForSWAG(nn.Module):\n",
    "    def __init__(self, bert_model):\n",
    "        super(BERTForSWAG, self).__init__()\n",
    "        self.bert = bert_model  # Pretrained BERT model\n",
    "        self.hidden_size = bert_model.config.hidden_size  # e.g., 768 for BERT-base\n",
    "        self.v = nn.Parameter(torch.randn(self.hidden_size))  # Learnable vector\n",
    "\n",
    "    def forward(self, input_ids, attention_mask, lables=None):\n",
    "        # input_ids: (batch_size, 4, seq_len)\n",
    "        # attention_mask: (batch_size, 4, seq_len)\n",
    "\n",
    "        batch_size, num_choices, seq_len = input_ids.shape\n",
    "\n",
    "        # Flatten the inputs for BERT: (batch_size * 4, seq_len)\n",
    "        input_ids = input_ids.view(-1, seq_len)\n",
    "        attention_mask = attention_mask.view(-1, seq_len)\n",
    "\n",
    "        # Pass through BERT\n",
    "        outputs = self.bert(input_ids=input_ids, attention_mask=attention_mask, lables = lables)\n",
    "\n",
    "        # Extract [CLS] token representation: (batch_size * 4, hidden_size)\n",
    "        cls_embeddings = outputs.last_hidden_state[:, 0, :]  # [CLS] is at index 0\n",
    "\n",
    "        # Reshape back: (batch_size, 4, hidden_size)\n",
    "        cls_embeddings = cls_embeddings.view(batch_size, num_choices, self.hidden_size)\n",
    "\n",
    "        # Compute dot product with the learnable vector v: (batch_size, 4)\n",
    "        logits = torch.matmul(cls_embeddings, self.v)\n",
    "\n",
    "        # Apply softmax over the 4 choices\n",
    "        probs = torch.softmax(logits, dim=1)\n",
    "\n",
    "        return probs\n",
    "\n",
    "custom_model = BERTForSWAG(model)"
   ]
  },
  {
   "cell_type": "code",
   "execution_count": 7,
   "id": "aece4424-446c-4f50-a988-0ae1ebeb9233",
   "metadata": {},
   "outputs": [],
   "source": [
    "from dataclasses import dataclass\n",
    "from transformers.tokenization_utils_base import PreTrainedTokenizerBase, PaddingStrategy\n",
    "from typing import Optional, Union\n",
    "import torch\n",
    "\n",
    "@dataclass\n",
    "class DataCollatorForMultipleChoice:\n",
    "    \"\"\"\n",
    "    Data collator that will dynamically pad the inputs for multiple choice received.\n",
    "    \"\"\"\n",
    "\n",
    "    tokenizer: PreTrainedTokenizerBase\n",
    "    padding: Union[bool, str, PaddingStrategy] = True\n",
    "    max_length: Optional[int] = None\n",
    "    pad_to_multiple_of: Optional[int] = None\n",
    "\n",
    "    def __call__(self, features):\n",
    "        label_name = \"label\" if \"label\" in features[0].keys() else \"labels\"\n",
    "        labels = [feature.pop(label_name) for feature in features]\n",
    "        batch_size = len(features)\n",
    "        num_choices = len(features[0][\"input_ids\"])\n",
    "        flattened_features = [[{k: v[i] for k, v in feature.items()} for i in range(num_choices)] for feature in features]\n",
    "        flattened_features = sum(flattened_features, [])\n",
    "\n",
    "        batch = self.tokenizer.pad(\n",
    "            flattened_features,\n",
    "            padding=self.padding,\n",
    "            max_length=self.max_length,\n",
    "            pad_to_multiple_of=self.pad_to_multiple_of,\n",
    "            return_tensors=\"pt\",\n",
    "        )\n",
    "\n",
    "        # Un-flatten\n",
    "        batch = {k: v.view(batch_size, num_choices, -1) for k, v in batch.items()}\n",
    "        # Add back labels\n",
    "        batch[\"labels\"] = torch.tensor(labels, dtype=torch.int64)\n",
    "        return batch"
   ]
  },
  {
   "cell_type": "code",
   "execution_count": 8,
   "id": "e0680501-55de-41f2-a4f6-c72031728ed5",
   "metadata": {},
   "outputs": [
    {
     "name": "stderr",
     "output_type": "stream",
     "text": [
      "You're using a BertTokenizerFast tokenizer. Please note that with a fast tokenizer, using the `__call__` method is faster than using a method to encode the text followed by a call to the `pad` method to get a padded encoding.\n"
     ]
    }
   ],
   "source": [
    "accepted_keys = [\"input_ids\", \"attention_mask\", \"label\"]\n",
    "features = [{k: v for k, v in encoded_datasets[\"train\"][i].items() if k in accepted_keys} for i in range(10)]\n",
    "batch = DataCollatorForMultipleChoice(tokenizer)(features)"
   ]
  },
  {
   "cell_type": "code",
   "execution_count": 9,
   "id": "c4c28c23-8430-49ed-bb40-4b25d50af9b5",
   "metadata": {},
   "outputs": [],
   "source": [
    "import numpy as np\n",
    "\n",
    "def compute_metrics(eval_predictions):\n",
    "    predictions, label_ids = eval_predictions\n",
    "    preds = np.argmax(predictions, axis=1)\n",
    "    return {\"accuracy\": (preds == label_ids).astype(np.float32).mean().item()}"
   ]
  },
  {
   "cell_type": "code",
   "execution_count": 13,
   "id": "38aeb9ba-6cc1-4634-b1db-feec8c64a092",
   "metadata": {},
   "outputs": [
    {
     "name": "stderr",
     "output_type": "stream",
     "text": [
      "/tmp/ipykernel_2421/3095340611.py:1: FutureWarning: `tokenizer` is deprecated and will be removed in version 5.0.0 for `Trainer.__init__`. Use `processing_class` instead.\n",
      "  trainer = Trainer(\n"
     ]
    }
   ],
   "source": [
    "trainer = Trainer(\n",
    "    model,\n",
    "    args,\n",
    "    train_dataset=encoded_datasets[\"train\"],\n",
    "    eval_dataset=encoded_datasets[\"validation\"],\n",
    "    tokenizer=tokenizer,\n",
    "    data_collator=DataCollatorForMultipleChoice(tokenizer),\n",
    "    compute_metrics=compute_metrics,\n",
    ")\n"
   ]
  },
  {
   "cell_type": "code",
   "execution_count": 14,
   "id": "1b3d70cf-1b0e-4f10-8bee-2097aeb50d13",
   "metadata": {},
   "outputs": [
    {
     "data": {
      "text/html": [
       "\n",
       "    <div>\n",
       "      \n",
       "      <progress value='10527' max='10527' style='width:300px; height:20px; vertical-align: middle;'></progress>\n",
       "      [10527/10527 36:08, Epoch 3/3]\n",
       "    </div>\n",
       "    <table border=\"1\" class=\"dataframe\">\n",
       "  <thead>\n",
       " <tr style=\"text-align: left;\">\n",
       "      <th>Step</th>\n",
       "      <th>Training Loss</th>\n",
       "      <th>Validation Loss</th>\n",
       "      <th>Accuracy</th>\n",
       "    </tr>\n",
       "  </thead>\n",
       "  <tbody>\n",
       "    <tr>\n",
       "      <td>1000</td>\n",
       "      <td>0.787400</td>\n",
       "      <td>0.747749</td>\n",
       "      <td>0.708979</td>\n",
       "    </tr>\n",
       "    <tr>\n",
       "      <td>2000</td>\n",
       "      <td>0.763700</td>\n",
       "      <td>0.690339</td>\n",
       "      <td>0.730465</td>\n",
       "    </tr>\n",
       "    <tr>\n",
       "      <td>3000</td>\n",
       "      <td>0.727700</td>\n",
       "      <td>0.674756</td>\n",
       "      <td>0.742651</td>\n",
       "    </tr>\n",
       "    <tr>\n",
       "      <td>4000</td>\n",
       "      <td>0.436200</td>\n",
       "      <td>0.725706</td>\n",
       "      <td>0.746072</td>\n",
       "    </tr>\n",
       "    <tr>\n",
       "      <td>5000</td>\n",
       "      <td>0.430800</td>\n",
       "      <td>0.690494</td>\n",
       "      <td>0.752913</td>\n",
       "    </tr>\n",
       "    <tr>\n",
       "      <td>6000</td>\n",
       "      <td>0.412300</td>\n",
       "      <td>0.715735</td>\n",
       "      <td>0.758418</td>\n",
       "    </tr>\n",
       "    <tr>\n",
       "      <td>7000</td>\n",
       "      <td>0.416600</td>\n",
       "      <td>0.679938</td>\n",
       "      <td>0.764244</td>\n",
       "    </tr>\n",
       "    <tr>\n",
       "      <td>8000</td>\n",
       "      <td>0.231500</td>\n",
       "      <td>0.864792</td>\n",
       "      <td>0.760342</td>\n",
       "    </tr>\n",
       "    <tr>\n",
       "      <td>9000</td>\n",
       "      <td>0.232800</td>\n",
       "      <td>0.877768</td>\n",
       "      <td>0.764458</td>\n",
       "    </tr>\n",
       "    <tr>\n",
       "      <td>10000</td>\n",
       "      <td>0.217000</td>\n",
       "      <td>0.898758</td>\n",
       "      <td>0.765473</td>\n",
       "    </tr>\n",
       "  </tbody>\n",
       "</table><p>"
      ],
      "text/plain": [
       "<IPython.core.display.HTML object>"
      ]
     },
     "metadata": {},
     "output_type": "display_data"
    }
   ],
   "source": [
    "train = trainer.train()"
   ]
  },
  {
   "cell_type": "code",
   "execution_count": 15,
   "id": "3f560644-d253-48ff-aae0-b8b7f1994d84",
   "metadata": {},
   "outputs": [
    {
     "data": {
      "text/html": [],
      "text/plain": [
       "<IPython.core.display.HTML object>"
      ]
     },
     "metadata": {},
     "output_type": "display_data"
    },
    {
     "data": {
      "text/plain": [
       "{'eval_loss': 0.8863919973373413,\n",
       " 'eval_accuracy': 0.7659006118774414,\n",
       " 'eval_runtime': 55.7675,\n",
       " 'eval_samples_per_second': 335.5,\n",
       " 'eval_steps_per_second': 20.98,\n",
       " 'epoch': 3.0}"
      ]
     },
     "execution_count": 15,
     "metadata": {},
     "output_type": "execute_result"
    }
   ],
   "source": [
    "evaluated = trainer.evaluate()\n",
    "evaluated"
   ]
  },
  {
   "cell_type": "code",
   "execution_count": 16,
   "id": "aa9ad82e-ac16-4c29-9495-0c74fdbcb70f",
   "metadata": {},
   "outputs": [
    {
     "data": {
      "text/html": [
       "<div>\n",
       "<style scoped>\n",
       "    .dataframe tbody tr th:only-of-type {\n",
       "        vertical-align: middle;\n",
       "    }\n",
       "\n",
       "    .dataframe tbody tr th {\n",
       "        vertical-align: top;\n",
       "    }\n",
       "\n",
       "    .dataframe thead th {\n",
       "        text-align: right;\n",
       "    }\n",
       "</style>\n",
       "<table border=\"1\" class=\"dataframe\">\n",
       "  <thead>\n",
       "    <tr style=\"text-align: right;\">\n",
       "      <th></th>\n",
       "      <th>loss</th>\n",
       "      <th>grad_norm</th>\n",
       "      <th>learning_rate</th>\n",
       "      <th>step</th>\n",
       "      <th>eval_loss</th>\n",
       "      <th>eval_accuracy</th>\n",
       "      <th>eval_runtime</th>\n",
       "      <th>eval_samples_per_second</th>\n",
       "      <th>eval_steps_per_second</th>\n",
       "      <th>train_runtime</th>\n",
       "      <th>train_samples_per_second</th>\n",
       "      <th>train_steps_per_second</th>\n",
       "      <th>total_flos</th>\n",
       "      <th>train_loss</th>\n",
       "    </tr>\n",
       "    <tr>\n",
       "      <th>epoch</th>\n",
       "      <th></th>\n",
       "      <th></th>\n",
       "      <th></th>\n",
       "      <th></th>\n",
       "      <th></th>\n",
       "      <th></th>\n",
       "      <th></th>\n",
       "      <th></th>\n",
       "      <th></th>\n",
       "      <th></th>\n",
       "      <th></th>\n",
       "      <th></th>\n",
       "      <th></th>\n",
       "      <th></th>\n",
       "    </tr>\n",
       "  </thead>\n",
       "  <tbody>\n",
       "    <tr>\n",
       "      <th>0</th>\n",
       "      <td>0.2098</td>\n",
       "      <td>6.016766</td>\n",
       "      <td>0.000019</td>\n",
       "      <td>500</td>\n",
       "      <td>0.747749</td>\n",
       "      <td>0.708979</td>\n",
       "      <td>55.7392</td>\n",
       "      <td>335.671</td>\n",
       "      <td>20.991</td>\n",
       "      <td>NaN</td>\n",
       "      <td>NaN</td>\n",
       "      <td>NaN</td>\n",
       "      <td>NaN</td>\n",
       "      <td>NaN</td>\n",
       "    </tr>\n",
       "    <tr>\n",
       "      <th>1</th>\n",
       "      <td>0.4362</td>\n",
       "      <td>15.977107</td>\n",
       "      <td>0.000012</td>\n",
       "      <td>4000</td>\n",
       "      <td>0.725706</td>\n",
       "      <td>0.746072</td>\n",
       "      <td>55.9190</td>\n",
       "      <td>334.591</td>\n",
       "      <td>20.923</td>\n",
       "      <td>NaN</td>\n",
       "      <td>NaN</td>\n",
       "      <td>NaN</td>\n",
       "      <td>NaN</td>\n",
       "      <td>NaN</td>\n",
       "    </tr>\n",
       "    <tr>\n",
       "      <th>2</th>\n",
       "      <td>0.2439</td>\n",
       "      <td>19.795322</td>\n",
       "      <td>0.000006</td>\n",
       "      <td>7500</td>\n",
       "      <td>0.864792</td>\n",
       "      <td>0.760342</td>\n",
       "      <td>55.9597</td>\n",
       "      <td>334.348</td>\n",
       "      <td>20.908</td>\n",
       "      <td>NaN</td>\n",
       "      <td>NaN</td>\n",
       "      <td>NaN</td>\n",
       "      <td>NaN</td>\n",
       "      <td>NaN</td>\n",
       "    </tr>\n",
       "    <tr>\n",
       "      <th>3</th>\n",
       "      <td>NaN</td>\n",
       "      <td>NaN</td>\n",
       "      <td>NaN</td>\n",
       "      <td>10527</td>\n",
       "      <td>0.886392</td>\n",
       "      <td>0.765901</td>\n",
       "      <td>55.7675</td>\n",
       "      <td>335.500</td>\n",
       "      <td>20.980</td>\n",
       "      <td>2168.9288</td>\n",
       "      <td>77.639</td>\n",
       "      <td>4.854</td>\n",
       "      <td>1.892858e+16</td>\n",
       "      <td>0.441827</td>\n",
       "    </tr>\n",
       "  </tbody>\n",
       "</table>\n",
       "</div>"
      ],
      "text/plain": [
       "         loss  grad_norm  learning_rate   step  eval_loss  eval_accuracy  \\\n",
       "epoch                                                                      \n",
       "0      0.2098   6.016766       0.000019    500   0.747749       0.708979   \n",
       "1      0.4362  15.977107       0.000012   4000   0.725706       0.746072   \n",
       "2      0.2439  19.795322       0.000006   7500   0.864792       0.760342   \n",
       "3         NaN        NaN            NaN  10527   0.886392       0.765901   \n",
       "\n",
       "       eval_runtime  eval_samples_per_second  eval_steps_per_second  \\\n",
       "epoch                                                                 \n",
       "0           55.7392                  335.671                 20.991   \n",
       "1           55.9190                  334.591                 20.923   \n",
       "2           55.9597                  334.348                 20.908   \n",
       "3           55.7675                  335.500                 20.980   \n",
       "\n",
       "       train_runtime  train_samples_per_second  train_steps_per_second  \\\n",
       "epoch                                                                    \n",
       "0                NaN                       NaN                     NaN   \n",
       "1                NaN                       NaN                     NaN   \n",
       "2                NaN                       NaN                     NaN   \n",
       "3          2168.9288                    77.639                   4.854   \n",
       "\n",
       "         total_flos  train_loss  \n",
       "epoch                            \n",
       "0               NaN         NaN  \n",
       "1               NaN         NaN  \n",
       "2               NaN         NaN  \n",
       "3      1.892858e+16    0.441827  "
      ]
     },
     "execution_count": 16,
     "metadata": {},
     "output_type": "execute_result"
    }
   ],
   "source": [
    "import pandas as pd\n",
    "training_history_bert_base = pd.DataFrame(trainer.state.log_history)\n",
    "training_history_bert_base.epoch = training_history_bert_base.epoch.astype(int)\n",
    "training_history_bert_base.groupby(\"epoch\").first()"
   ]
  },
  {
   "cell_type": "code",
   "execution_count": 17,
   "id": "8b6fde42-b5bb-439f-9e3a-63b4c00d5bb6",
   "metadata": {},
   "outputs": [
    {
     "data": {
      "text/plain": [
       "{'test_loss': 0.8953481316566467,\n",
       " 'test_accuracy': 0.7613703012466431,\n",
       " 'test_runtime': 57.0514,\n",
       " 'test_samples_per_second': 327.967,\n",
       " 'test_steps_per_second': 20.508}"
      ]
     },
     "execution_count": 17,
     "metadata": {},
     "output_type": "execute_result"
    }
   ],
   "source": [
    "test_pred = trainer.predict(encoded_datasets[\"test\"])\n",
    "test_pred.metrics"
   ]
  },
  {
   "cell_type": "code",
   "execution_count": 21,
   "id": "ff18bc1f-04f0-4382-8766-08d5a3df38eb",
   "metadata": {},
   "outputs": [
    {
     "data": {
      "image/png": "[encoded data removed]",
      "text/plain": [
       "<Figure size 1000x600 with 1 Axes>"
      ]
     },
     "metadata": {},
     "output_type": "display_data"
    }
   ],
   "source": [
    "import matplotlib.pyplot as plt\n",
    "import pandas as pd\n",
    "\n",
    "# Prepare the data\n",
    "data = training_history_bert_base[[\"loss\", \"eval_loss\", \"step\", \"eval_accuracy\"]]\n",
    "data.columns = [\"Train. Loss\", \"Eval. Loss\", \"Training Steps\", \"Accuracy\"]\n",
    "data = data[:-1]  # drop last row\n",
    "data = pd.melt(data, ['Training Steps']).dropna()\n",
    "\n",
    "# Plot using Matplotlib\n",
    "plt.figure(figsize=(10, 6))\n",
    "\n",
    "# Plot each variable separately without using groupby\n",
    "train_loss = data[data['variable'] == \"Train. Loss\"]\n",
    "eval_loss = data[data['variable'] == \"Eval. Loss\"]\n",
    "acc = data[data['variable'] == \"Accuracy\"]\n",
    "\n",
    "plt.plot(train_loss[\"Training Steps\"], train_loss[\"value\"], marker='o', label=\"Train. Loss\")\n",
    "plt.plot(eval_loss[\"Training Steps\"], eval_loss[\"value\"], marker='o', label=\"Eval. Loss\")\n",
    "plt.plot(acc[\"Training Steps\"], acc[\"value\"], marker='o', label=\"Accuracy\")\n",
    "\n",
    "# Labels and Title\n",
    "plt.ylabel('Accuarcy/Loss')\n",
    "plt.xlabel('Step')\n",
    "plt.title('Training Accuarcy vs Evaluation Accuarcy')\n",
    "plt.legend()\n",
    "plt.grid(True)\n",
    "\n",
    "# Show plot\n",
    "plt.savefig('bert_base_swag_finetuned.png')\n"
   ]
  },
  {
   "cell_type": "code",
   "execution_count": 38,
   "id": "07d9d36c-f657-4ae3-927b-eb4375482ecd",
   "metadata": {},
   "outputs": [
    {
     "data": {
      "image/png": "[encoded data removed]",
      "text/plain": [
       "<Figure size 800x600 with 2 Axes>"
      ]
     },
     "metadata": {},
     "output_type": "display_data"
    }
   ],
   "source": [
    "import seaborn as sns\n",
    "import matplotlib.pyplot as plt\n",
    "\n",
    "import evaluate\n",
    "\n",
    "metric = evaluate.load(\"confusion_matrix\")\n",
    "\n",
    "predictions = np.argmax(test_pred.predictions, axis=-1)\n",
    "metric.add_batch(predictions=predictions, references=datasets[\"test\"][\"label\"])\n",
    "\n",
    "# Compute confusion matrix\n",
    "conf_matrix = metric.compute()['confusion_matrix']\n",
    "\n",
    "# Define class labels manually (adjust as needed)\n",
    "labels = [\"1\", \"2\", \"3\", \"4\"]\n",
    "\n",
    "# Plotting the confusion matrix\n",
    "plt.figure(figsize=(8, 6))\n",
    "sns.heatmap(conf_matrix, annot=True, fmt='d', cmap='Blues',\n",
    "            xticklabels=labels, yticklabels=labels)\n",
    "plt.xlabel('Predicted Labels')\n",
    "plt.ylabel('True Labels')\n",
    "plt.title('Confusion Matrix')\n",
    "plt.savefig('swag_bert_base_confusion_matrix.png')\n"
   ]
  }
 ],
 "metadata": {
  "kernelspec": {
   "display_name": "Python (newest)",
   "language": "python",
   "name": "myenv"
  },
  "language_info": {
   "codemirror_mode": {
    "name": "ipython",
    "version": 3
   },
   "file_extension": ".py",
   "mimetype": "text/x-python",
   "name": "python",
   "nbconvert_exporter": "python",
   "pygments_lexer": "ipython3",
   "version": "3.11.10"
  }
 },
 "nbformat": 4,
 "nbformat_minor": 5
}
