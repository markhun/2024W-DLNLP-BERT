{
 "cells": [
  {
   "cell_type": "markdown",
   "metadata": {},
   "source": [
    "# Fine-Tuning BERT on GLUE - CoLA"
   ]
  },
  {
   "cell_type": "markdown",
   "metadata": {},
   "source": [
    "From [NYU-MLL GLUE/CoLA](https://nyu-mll.github.io/CoLA/):\n",
    "\n",
    "The Corpus of Linguistic Acceptability (CoLA) in its full form consists of 10657 sentences from 23 linguistics publications, expertly annotated for acceptability (grammaticality) by their original authors. The public version provided here contains 9594 sentences belonging to training and development sets, and excludes 1063 sentences belonging to a held out test set."
   ]
  },
  {
   "cell_type": "markdown",
   "metadata": {},
   "source": [
    "## 0. Configuration"
   ]
  },
  {
   "cell_type": "code",
   "execution_count": 1,
   "metadata": {},
   "outputs": [],
   "source": [
    "import os\n",
    "\n",
    "# Where to store the huggingface data. On the provided Jupyterlab instance that should be within the shared group folder.\n",
    "os.environ['HF_HOME'] = '../groups/192.039-2024W/bert/huggingface/cache'"
   ]
  },
  {
   "cell_type": "code",
   "execution_count": 2,
   "metadata": {},
   "outputs": [],
   "source": [
    "from pathlib import Path\n",
    "\n",
    "from transformers import set_seed\n",
    "\n",
    "# RANDOMNESS SEED\n",
    "SEED = 42\n",
    "set_seed(SEED)\n",
    "\n",
    "# Which dataset to load\n",
    "DATASET_NAME = \"glue\"\n",
    "DATASET_TASK = \"cola\"\n",
    "\n",
    "TRAIN_OUTPUT_DIR = (\n",
    "    Path(\"../groups/192.039-2024W/bert\") / \"training\" / f\"{DATASET_NAME}-{DATASET_TASK}\"\n",
    ")\n",
    "\n",
    "BATCH_SIZE = 32  # Original Paper claims to use 32 for GLUE tasks\n",
    "NUM_EPOCHS = 5  # Original Paper claims to use 3 fine-tuning epochs for GLUE tasks"
   ]
  },
  {
   "cell_type": "code",
   "execution_count": 3,
   "metadata": {},
   "outputs": [
    {
     "name": "stdout",
     "output_type": "stream",
     "text": [
      "There are 1 GPU(s) available.\n",
      "GPU used: NVIDIA GeForce RTX 4060 Ti\n",
      "\n",
      "==============NVSMI LOG==============\n",
      "\n",
      "Timestamp                                 : Sat Jan 11 22:30:18 2025\n",
      "Driver Version                            : 550.135\n",
      "CUDA Version                              : 12.4\n",
      "\n",
      "Attached GPUs                             : 1\n",
      "GPU 00000000:07:00.0\n",
      "    FB Memory Usage\n",
      "        Total                             : 16380 MiB\n",
      "        Reserved                          : 307 MiB\n",
      "        Used                              : 1080 MiB\n",
      "        Free                              : 14994 MiB\n",
      "    BAR1 Memory Usage\n",
      "        Total                             : 256 MiB\n",
      "        Used                              : 24 MiB\n",
      "        Free                              : 232 MiB\n",
      "    Conf Compute Protected Memory Usage\n",
      "        Total                             : 0 MiB\n",
      "        Used                              : 0 MiB\n",
      "        Free                              : 0 MiB\n",
      "    Compute Mode                          : Default\n",
      "\n"
     ]
    }
   ],
   "source": [
    "import torch\n",
    "\n",
    "if torch.cuda.is_available():\n",
    "  device = torch.device(\"cuda\")\n",
    "  device_count = torch.cuda.device_count()\n",
    "  device_name = torch.cuda.get_device_name(0)\n",
    "\n",
    "  print(f\"There are {device_count} GPU(s) available.\")\n",
    "  print(f\"GPU used: {device_name}\")\n",
    "  ! nvidia-smi -q --display=MEMORY,COMPUTE\n",
    "\n",
    "else:\n",
    "  print(\"No GPU available, using CPU.\")\n",
    "  device = torch.device(\"cpu\")"
   ]
  },
  {
   "cell_type": "markdown",
   "metadata": {},
   "source": [
    "## Dataset"
   ]
  },
  {
   "cell_type": "code",
   "execution_count": 4,
   "metadata": {},
   "outputs": [],
   "source": [
    "# In the GLUE dataset different tasks have different accessor keys\n",
    "_task_to_keys = {\n",
    "    \"cola\": (\"sentence\", None),\n",
    "    \"mnli\": (\"premise\", \"hypothesis\"),\n",
    "    \"mnli-mm\": (\"premise\", \"hypothesis\"),\n",
    "    \"mrpc\": (\"sentence1\", \"sentence2\"),\n",
    "    \"qnli\": (\"question\", \"sentence\"),\n",
    "    \"qqp\": (\"question1\", \"question2\"),\n",
    "    \"rte\": (\"sentence1\", \"sentence2\"),\n",
    "    \"sst2\": (\"sentence\", None),\n",
    "    \"stsb\": (\"sentence1\", \"sentence2\"),\n",
    "}"
   ]
  },
  {
   "cell_type": "code",
   "execution_count": 5,
   "metadata": {},
   "outputs": [
    {
     "data": {
      "text/plain": [
       "DatasetDict({\n",
       "    train: Dataset({\n",
       "        features: ['sentence', 'label', 'idx'],\n",
       "        num_rows: 8551\n",
       "    })\n",
       "    validation: Dataset({\n",
       "        features: ['sentence', 'label', 'idx'],\n",
       "        num_rows: 1043\n",
       "    })\n",
       "    test: Dataset({\n",
       "        features: ['sentence', 'label', 'idx'],\n",
       "        num_rows: 1063\n",
       "    })\n",
       "})"
      ]
     },
     "execution_count": 5,
     "metadata": {},
     "output_type": "execute_result"
    }
   ],
   "source": [
    "from datasets import load_dataset\n",
    "import pandas as pd\n",
    "\n",
    "dataset = load_dataset(DATASET_NAME, DATASET_TASK)\n",
    "dataset"
   ]
  },
  {
   "cell_type": "code",
   "execution_count": 6,
   "metadata": {},
   "outputs": [
    {
     "data": {
      "text/html": [
       "<div>\n",
       "<style scoped>\n",
       "    .dataframe tbody tr th:only-of-type {\n",
       "        vertical-align: middle;\n",
       "    }\n",
       "\n",
       "    .dataframe tbody tr th {\n",
       "        vertical-align: top;\n",
       "    }\n",
       "\n",
       "    .dataframe thead th {\n",
       "        text-align: right;\n",
       "    }\n",
       "</style>\n",
       "<table border=\"1\" class=\"dataframe\">\n",
       "  <thead>\n",
       "    <tr style=\"text-align: right;\">\n",
       "      <th></th>\n",
       "      <th>sentence</th>\n",
       "      <th>label</th>\n",
       "      <th>idx</th>\n",
       "    </tr>\n",
       "  </thead>\n",
       "  <tbody>\n",
       "    <tr>\n",
       "      <th>2389</th>\n",
       "      <td>Angela characterized Shelly as a lifesaver.</td>\n",
       "      <td>1</td>\n",
       "      <td>2389</td>\n",
       "    </tr>\n",
       "    <tr>\n",
       "      <th>5048</th>\n",
       "      <td>They're not finding it a stress being in the s...</td>\n",
       "      <td>1</td>\n",
       "      <td>5048</td>\n",
       "    </tr>\n",
       "    <tr>\n",
       "      <th>3133</th>\n",
       "      <td>Paul exhaled on Mary.</td>\n",
       "      <td>0</td>\n",
       "      <td>3133</td>\n",
       "    </tr>\n",
       "    <tr>\n",
       "      <th>5955</th>\n",
       "      <td>I ordered if John drink his beer.</td>\n",
       "      <td>0</td>\n",
       "      <td>5955</td>\n",
       "    </tr>\n",
       "    <tr>\n",
       "      <th>625</th>\n",
       "      <td>Press the stamp against the pad completely.</td>\n",
       "      <td>1</td>\n",
       "      <td>625</td>\n",
       "    </tr>\n",
       "    <tr>\n",
       "      <th>3542</th>\n",
       "      <td>They can very.</td>\n",
       "      <td>0</td>\n",
       "      <td>3542</td>\n",
       "    </tr>\n",
       "    <tr>\n",
       "      <th>6915</th>\n",
       "      <td>This arch is supporting the weight of the tower.</td>\n",
       "      <td>1</td>\n",
       "      <td>6915</td>\n",
       "    </tr>\n",
       "    <tr>\n",
       "      <th>2908</th>\n",
       "      <td>That new handle detaches easily.</td>\n",
       "      <td>1</td>\n",
       "      <td>2908</td>\n",
       "    </tr>\n",
       "    <tr>\n",
       "      <th>5857</th>\n",
       "      <td>The Brazilians pumped the oil across the river.</td>\n",
       "      <td>1</td>\n",
       "      <td>5857</td>\n",
       "    </tr>\n",
       "    <tr>\n",
       "      <th>4191</th>\n",
       "      <td>It is a wooden desk.</td>\n",
       "      <td>1</td>\n",
       "      <td>4191</td>\n",
       "    </tr>\n",
       "  </tbody>\n",
       "</table>\n",
       "</div>"
      ],
      "text/plain": [
       "                                               sentence  label   idx\n",
       "2389        Angela characterized Shelly as a lifesaver.      1  2389\n",
       "5048  They're not finding it a stress being in the s...      1  5048\n",
       "3133                              Paul exhaled on Mary.      0  3133\n",
       "5955                  I ordered if John drink his beer.      0  5955\n",
       "625         Press the stamp against the pad completely.      1   625\n",
       "3542                                     They can very.      0  3542\n",
       "6915   This arch is supporting the weight of the tower.      1  6915\n",
       "2908                   That new handle detaches easily.      1  2908\n",
       "5857    The Brazilians pumped the oil across the river.      1  5857\n",
       "4191                               It is a wooden desk.      1  4191"
      ]
     },
     "execution_count": 6,
     "metadata": {},
     "output_type": "execute_result"
    }
   ],
   "source": [
    "pd.DataFrame(dataset[\"train\"]).sample(10)"
   ]
  },
  {
   "cell_type": "code",
   "execution_count": 7,
   "metadata": {},
   "outputs": [
    {
     "name": "stdout",
     "output_type": "stream",
     "text": [
      "unique_lables_in_dataset=array([1, 0])\n",
      "num_labels=2\n"
     ]
    }
   ],
   "source": [
    "unique_lables_in_dataset = pd.DataFrame(dataset[\"train\"])[\"label\"].unique()\n",
    "num_labels = len(unique_lables_in_dataset)\n",
    "\n",
    "print(f\"{unique_lables_in_dataset=}\")\n",
    "print(f\"{num_labels=}\")"
   ]
  },
  {
   "cell_type": "markdown",
   "metadata": {},
   "source": [
    "The GLUE benchmark suite keeps the labels for its test dataset secret. This is a common practice in many machine learning benchmarks. By withholding the labels for the test set, it is ensured that the test set is used solely for evaluating the performance of models and models may not be trained on it. This encourages researchers to focus on developing models that generalize well, rather than optimizing for achieving a high score on the specific test set."
   ]
  },
  {
   "cell_type": "code",
   "execution_count": 8,
   "metadata": {},
   "outputs": [
    {
     "data": {
      "text/html": [
       "<div>\n",
       "<style scoped>\n",
       "    .dataframe tbody tr th:only-of-type {\n",
       "        vertical-align: middle;\n",
       "    }\n",
       "\n",
       "    .dataframe tbody tr th {\n",
       "        vertical-align: top;\n",
       "    }\n",
       "\n",
       "    .dataframe thead th {\n",
       "        text-align: right;\n",
       "    }\n",
       "</style>\n",
       "<table border=\"1\" class=\"dataframe\">\n",
       "  <thead>\n",
       "    <tr style=\"text-align: right;\">\n",
       "      <th></th>\n",
       "      <th>sentence</th>\n",
       "      <th>label</th>\n",
       "      <th>idx</th>\n",
       "    </tr>\n",
       "  </thead>\n",
       "  <tbody>\n",
       "    <tr>\n",
       "      <th>435</th>\n",
       "      <td>Golfer has a pretty powerful swing.</td>\n",
       "      <td>-1</td>\n",
       "      <td>435</td>\n",
       "    </tr>\n",
       "    <tr>\n",
       "      <th>581</th>\n",
       "      <td>What sense is this theory right in?</td>\n",
       "      <td>-1</td>\n",
       "      <td>581</td>\n",
       "    </tr>\n",
       "    <tr>\n",
       "      <th>677</th>\n",
       "      <td>I was astounded by Sam's stunning defeat of Ir...</td>\n",
       "      <td>-1</td>\n",
       "      <td>677</td>\n",
       "    </tr>\n",
       "    <tr>\n",
       "      <th>354</th>\n",
       "      <td>He offers so much that we feel he is over qual...</td>\n",
       "      <td>-1</td>\n",
       "      <td>354</td>\n",
       "    </tr>\n",
       "    <tr>\n",
       "      <th>494</th>\n",
       "      <td>She intended Jenny to be there</td>\n",
       "      <td>-1</td>\n",
       "      <td>494</td>\n",
       "    </tr>\n",
       "    <tr>\n",
       "      <th>734</th>\n",
       "      <td>The only person for us to visit whose kids Dan...</td>\n",
       "      <td>-1</td>\n",
       "      <td>734</td>\n",
       "    </tr>\n",
       "    <tr>\n",
       "      <th>0</th>\n",
       "      <td>Bill whistled past the house.</td>\n",
       "      <td>-1</td>\n",
       "      <td>0</td>\n",
       "    </tr>\n",
       "    <tr>\n",
       "      <th>880</th>\n",
       "      <td>Despite their average age, the Charge boasts a...</td>\n",
       "      <td>-1</td>\n",
       "      <td>880</td>\n",
       "    </tr>\n",
       "    <tr>\n",
       "      <th>274</th>\n",
       "      <td>Pat was persuaded to be examined by the dentist.</td>\n",
       "      <td>-1</td>\n",
       "      <td>274</td>\n",
       "    </tr>\n",
       "    <tr>\n",
       "      <th>116</th>\n",
       "      <td>Jack will have the hole in his pocket.</td>\n",
       "      <td>-1</td>\n",
       "      <td>116</td>\n",
       "    </tr>\n",
       "  </tbody>\n",
       "</table>\n",
       "</div>"
      ],
      "text/plain": [
       "                                              sentence  label  idx\n",
       "435                Golfer has a pretty powerful swing.     -1  435\n",
       "581                What sense is this theory right in?     -1  581\n",
       "677  I was astounded by Sam's stunning defeat of Ir...     -1  677\n",
       "354  He offers so much that we feel he is over qual...     -1  354\n",
       "494                     She intended Jenny to be there     -1  494\n",
       "734  The only person for us to visit whose kids Dan...     -1  734\n",
       "0                        Bill whistled past the house.     -1    0\n",
       "880  Despite their average age, the Charge boasts a...     -1  880\n",
       "274   Pat was persuaded to be examined by the dentist.     -1  274\n",
       "116             Jack will have the hole in his pocket.     -1  116"
      ]
     },
     "execution_count": 8,
     "metadata": {},
     "output_type": "execute_result"
    }
   ],
   "source": [
    "pd.DataFrame(dataset[\"test\"]).sample(10)"
   ]
  },
  {
   "cell_type": "markdown",
   "metadata": {},
   "source": [
    "The only way to get an evaluation on the testing dataset is to train a model and sent it to the University of New York - which maintains the GLUE benchmark leaderboard - for evaluation. However this option only exists for researches about to publish a paper, therefore we can't do that.\n",
    "\n",
    "Instead, we will split the training dataset to create a custom test dataset for our experiment. We will keep the validation split as it is."
   ]
  },
  {
   "cell_type": "code",
   "execution_count": null,
   "metadata": {},
   "outputs": [
    {
     "data": {
      "text/plain": [
       "DatasetDict({\n",
       "    train: Dataset({\n",
       "        features: ['sentence', 'label', 'idx'],\n",
       "        num_rows: 7695\n",
       "    })\n",
       "    test: Dataset({\n",
       "        features: ['sentence', 'label', 'idx'],\n",
       "        num_rows: 856\n",
       "    })\n",
       "})"
      ]
     },
     "execution_count": 9,
     "metadata": {},
     "output_type": "execute_result"
    }
   ],
   "source": [
    "new_train_test_split = dataset['train'].train_test_split(test_size=0.1)\n",
    "new_train_test_split"
   ]
  },
  {
   "cell_type": "code",
   "execution_count": 10,
   "metadata": {},
   "outputs": [
    {
     "data": {
      "text/plain": [
       "DatasetDict({\n",
       "    train: Dataset({\n",
       "        features: ['sentence', 'label', 'idx'],\n",
       "        num_rows: 7695\n",
       "    })\n",
       "    validation: Dataset({\n",
       "        features: ['sentence', 'label', 'idx'],\n",
       "        num_rows: 1043\n",
       "    })\n",
       "    test: Dataset({\n",
       "        features: ['sentence', 'label', 'idx'],\n",
       "        num_rows: 856\n",
       "    })\n",
       "})"
      ]
     },
     "execution_count": 10,
     "metadata": {},
     "output_type": "execute_result"
    }
   ],
   "source": [
    "dataset['train'] = new_train_test_split['train']\n",
    "dataset['test'] = new_train_test_split['test']\n",
    "dataset"
   ]
  },
  {
   "cell_type": "markdown",
   "metadata": {},
   "source": [
    "We now have a test dataset with labels, which is __not__ part of our training data:"
   ]
  },
  {
   "cell_type": "code",
   "execution_count": 11,
   "metadata": {},
   "outputs": [
    {
     "data": {
      "text/html": [
       "<div>\n",
       "<style scoped>\n",
       "    .dataframe tbody tr th:only-of-type {\n",
       "        vertical-align: middle;\n",
       "    }\n",
       "\n",
       "    .dataframe tbody tr th {\n",
       "        vertical-align: top;\n",
       "    }\n",
       "\n",
       "    .dataframe thead th {\n",
       "        text-align: right;\n",
       "    }\n",
       "</style>\n",
       "<table border=\"1\" class=\"dataframe\">\n",
       "  <thead>\n",
       "    <tr style=\"text-align: right;\">\n",
       "      <th></th>\n",
       "      <th>sentence</th>\n",
       "      <th>label</th>\n",
       "      <th>idx</th>\n",
       "    </tr>\n",
       "  </thead>\n",
       "  <tbody>\n",
       "    <tr>\n",
       "      <th>608</th>\n",
       "      <td>Which girl did he give my binoculars?</td>\n",
       "      <td>0</td>\n",
       "      <td>1924</td>\n",
       "    </tr>\n",
       "    <tr>\n",
       "      <th>743</th>\n",
       "      <td>Mary claimed that eat cabbage, Holly wants to.</td>\n",
       "      <td>1</td>\n",
       "      <td>866</td>\n",
       "    </tr>\n",
       "    <tr>\n",
       "      <th>644</th>\n",
       "      <td>The ball rolled into the gutter.</td>\n",
       "      <td>1</td>\n",
       "      <td>3375</td>\n",
       "    </tr>\n",
       "    <tr>\n",
       "      <th>593</th>\n",
       "      <td>John doesn't eat enough.</td>\n",
       "      <td>1</td>\n",
       "      <td>5374</td>\n",
       "    </tr>\n",
       "    <tr>\n",
       "      <th>11</th>\n",
       "      <td>Carrie touched him on the shoulder.</td>\n",
       "      <td>1</td>\n",
       "      <td>2845</td>\n",
       "    </tr>\n",
       "    <tr>\n",
       "      <th>128</th>\n",
       "      <td>How did Julie ask if Jenny left?</td>\n",
       "      <td>1</td>\n",
       "      <td>8520</td>\n",
       "    </tr>\n",
       "    <tr>\n",
       "      <th>49</th>\n",
       "      <td>I made John easy to get along with.</td>\n",
       "      <td>1</td>\n",
       "      <td>1814</td>\n",
       "    </tr>\n",
       "    <tr>\n",
       "      <th>389</th>\n",
       "      <td>Is it possible for everyone to to pledge $1000?</td>\n",
       "      <td>1</td>\n",
       "      <td>6493</td>\n",
       "    </tr>\n",
       "    <tr>\n",
       "      <th>612</th>\n",
       "      <td>I asked which city which king invaded.</td>\n",
       "      <td>1</td>\n",
       "      <td>8235</td>\n",
       "    </tr>\n",
       "    <tr>\n",
       "      <th>260</th>\n",
       "      <td>She tried to may leave</td>\n",
       "      <td>0</td>\n",
       "      <td>8356</td>\n",
       "    </tr>\n",
       "  </tbody>\n",
       "</table>\n",
       "</div>"
      ],
      "text/plain": [
       "                                            sentence  label   idx\n",
       "608            Which girl did he give my binoculars?      0  1924\n",
       "743   Mary claimed that eat cabbage, Holly wants to.      1   866\n",
       "644                 The ball rolled into the gutter.      1  3375\n",
       "593                         John doesn't eat enough.      1  5374\n",
       "11               Carrie touched him on the shoulder.      1  2845\n",
       "128                 How did Julie ask if Jenny left?      1  8520\n",
       "49               I made John easy to get along with.      1  1814\n",
       "389  Is it possible for everyone to to pledge $1000?      1  6493\n",
       "612           I asked which city which king invaded.      1  8235\n",
       "260                           She tried to may leave      0  8356"
      ]
     },
     "execution_count": 11,
     "metadata": {},
     "output_type": "execute_result"
    }
   ],
   "source": [
    "pd.DataFrame(dataset[\"test\"]).sample(10)"
   ]
  },
  {
   "cell_type": "markdown",
   "metadata": {},
   "source": [
    "## 2. BERT-base"
   ]
  },
  {
   "cell_type": "code",
   "execution_count": 12,
   "metadata": {},
   "outputs": [],
   "source": [
    "PRE_TRAINED_CHECKPOINT = \"google-bert/bert-base-uncased\""
   ]
  },
  {
   "cell_type": "markdown",
   "metadata": {},
   "source": [
    "### 2.1 Tokenization"
   ]
  },
  {
   "cell_type": "code",
   "execution_count": 13,
   "metadata": {},
   "outputs": [],
   "source": [
    "from transformers import AutoTokenizer\n",
    "\n",
    "tokenizer = AutoTokenizer.from_pretrained(PRE_TRAINED_CHECKPOINT, do_lower_case=\"uncased\" in PRE_TRAINED_CHECKPOINT)"
   ]
  },
  {
   "cell_type": "markdown",
   "metadata": {},
   "source": [
    "BERT has a maximum sequence length of 512. We can check the sequence lengths resulting from tokenizing our dataset to see if our dataset exceeds this restriction of BERT:"
   ]
  },
  {
   "cell_type": "code",
   "execution_count": 14,
   "metadata": {},
   "outputs": [
    {
     "name": "stdout",
     "output_type": "stream",
     "text": [
      "Max length in split='train': 47\n",
      "Max length in split='validation': 35\n",
      "Max length in split='test': 32\n"
     ]
    }
   ],
   "source": [
    "first_sentence_key, second_sentence_key = _task_to_keys[DATASET_TASK]\n",
    "\n",
    "if second_sentence_key == None:  # Simply tokenize sentence\n",
    "\n",
    "    for split in dataset.keys():\n",
    "        max_len = 0\n",
    "        for sentence in dataset[split][first_sentence_key]:\n",
    "            # Tokenize the text and add `[CLS]` and `[SEP]` tokens.\n",
    "            input_ids = tokenizer.encode(sentence, add_special_tokens=True)\n",
    "            \n",
    "            max_len = max(max_len, len(input_ids))\n",
    "        \n",
    "\n",
    "        print(f\"Max length in {split=}: {max_len}\")\n",
    "\n",
    "else:  # Append both sentences via [SEP] and tokenize\n",
    "\n",
    "    for split in dataset.keys():\n",
    "        max_len = 0\n",
    "        for sentence1, sentence2 in zip(dataset[split][first_sentence_key], dataset[split][second_sentence_key]):\n",
    "            # Tokenize the text and add `[CLS]` and `[SEP]` tokens.\n",
    "            input_ids = tokenizer.encode(sentence1, sentence2,  add_special_tokens=True)\n",
    "            \n",
    "            max_len = max(max_len, len(input_ids))\n",
    "        \n",
    "\n",
    "        print(f\"Max length in {split=}: {max_len}\")\n"
   ]
  },
  {
   "cell_type": "code",
   "execution_count": 15,
   "metadata": {},
   "outputs": [
    {
     "data": {
      "application/vnd.jupyter.widget-view+json": {
       "model_id": "5aa9140149704210bb1001ff96bde595",
       "version_major": 2,
       "version_minor": 0
      },
      "text/plain": [
       "Map:   0%|          | 0/856 [00:00<?, ? examples/s]"
      ]
     },
     "metadata": {},
     "output_type": "display_data"
    }
   ],
   "source": [
    "def tokenize_func(item):\n",
    "    \"\"\"Tokenize passed item. \n",
    "    \n",
    "    Depending on dataset task the passed item will either contain one sentence or two sentences.\n",
    "    In the last case the two sentences will be appended via a [SEP] token.\n",
    "    \"\"\"\n",
    "    if second_sentence_key is None:\n",
    "        return tokenizer(item[first_sentence_key], add_special_tokens=True, truncation=True)\n",
    "    else:\n",
    "        return tokenizer(item[first_sentence_key], item[second_sentence_key], add_special_tokens=True, truncation=True)\n",
    "\n",
    "tokenized_dataset = dataset.map(tokenize_func, batched=True)"
   ]
  },
  {
   "cell_type": "markdown",
   "metadata": {},
   "source": [
    "Here is an example of a tokenized dataset item:"
   ]
  },
  {
   "cell_type": "code",
   "execution_count": 16,
   "metadata": {},
   "outputs": [
    {
     "data": {
      "text/html": [
       "<div>\n",
       "<style scoped>\n",
       "    .dataframe tbody tr th:only-of-type {\n",
       "        vertical-align: middle;\n",
       "    }\n",
       "\n",
       "    .dataframe tbody tr th {\n",
       "        vertical-align: top;\n",
       "    }\n",
       "\n",
       "    .dataframe thead th {\n",
       "        text-align: right;\n",
       "    }\n",
       "</style>\n",
       "<table border=\"1\" class=\"dataframe\">\n",
       "  <thead>\n",
       "    <tr style=\"text-align: right;\">\n",
       "      <th></th>\n",
       "      <th>0</th>\n",
       "    </tr>\n",
       "  </thead>\n",
       "  <tbody>\n",
       "    <tr>\n",
       "      <th>sentence</th>\n",
       "      <td>Eleanor and Marianne travelled from Shropshire.</td>\n",
       "    </tr>\n",
       "    <tr>\n",
       "      <th>label</th>\n",
       "      <td>1</td>\n",
       "    </tr>\n",
       "    <tr>\n",
       "      <th>idx</th>\n",
       "      <td>6895</td>\n",
       "    </tr>\n",
       "    <tr>\n",
       "      <th>input_ids</th>\n",
       "      <td>[101, 10508, 1998, 19887, 7837, 2013, 19322, 1012, 102]</td>\n",
       "    </tr>\n",
       "    <tr>\n",
       "      <th>token_type_ids</th>\n",
       "      <td>[0, 0, 0, 0, 0, 0, 0, 0, 0]</td>\n",
       "    </tr>\n",
       "    <tr>\n",
       "      <th>attention_mask</th>\n",
       "      <td>[1, 1, 1, 1, 1, 1, 1, 1, 1]</td>\n",
       "    </tr>\n",
       "  </tbody>\n",
       "</table>\n",
       "</div>"
      ],
      "text/plain": [
       "                                                                      0\n",
       "sentence                Eleanor and Marianne travelled from Shropshire.\n",
       "label                                                                 1\n",
       "idx                                                                6895\n",
       "input_ids       [101, 10508, 1998, 19887, 7837, 2013, 19322, 1012, 102]\n",
       "token_type_ids                              [0, 0, 0, 0, 0, 0, 0, 0, 0]\n",
       "attention_mask                              [1, 1, 1, 1, 1, 1, 1, 1, 1]"
      ]
     },
     "metadata": {},
     "output_type": "display_data"
    }
   ],
   "source": [
    "with pd.option_context('display.max_colwidth', 400):\n",
    "    display(pd.DataFrame(tokenized_dataset[\"train\"][:1]).transpose())"
   ]
  },
  {
   "cell_type": "markdown",
   "metadata": {},
   "source": [
    "Tokenization added the `input_ids` field, which contains the tokenized sentence with a `[CLS]`(101) and a `[SEP]`(102) token added. A `token_type_ids` field which indicates first and second portion of the inputs, if necessary. And an `attention_mask` for the given input."
   ]
  },
  {
   "cell_type": "markdown",
   "metadata": {},
   "source": [
    "#### Dealing with Padding"
   ]
  },
  {
   "cell_type": "markdown",
   "metadata": {},
   "source": [
    "Huggingface's `transformers` library provides a `DataCollatorWithPadding` class, which allows us to use dynamic padding.  \n",
    "Dynamic padding will add `[PAD]` tokens to the length of the longest sequence within a batch, instead of padding to the maximum sequence length within the entire dataset.  \n",
    "This will avoid unnecessary padding and therefore improve execution efficiency."
   ]
  },
  {
   "cell_type": "code",
   "execution_count": 17,
   "metadata": {},
   "outputs": [
    {
     "data": {
      "text/html": [
       "<div>\n",
       "<style scoped>\n",
       "    .dataframe tbody tr th:only-of-type {\n",
       "        vertical-align: middle;\n",
       "    }\n",
       "\n",
       "    .dataframe tbody tr th {\n",
       "        vertical-align: top;\n",
       "    }\n",
       "\n",
       "    .dataframe thead th {\n",
       "        text-align: right;\n",
       "    }\n",
       "</style>\n",
       "<table border=\"1\" class=\"dataframe\">\n",
       "  <thead>\n",
       "    <tr style=\"text-align: right;\">\n",
       "      <th></th>\n",
       "      <th>0</th>\n",
       "      <th>1</th>\n",
       "      <th>2</th>\n",
       "      <th>3</th>\n",
       "      <th>4</th>\n",
       "      <th>5</th>\n",
       "      <th>6</th>\n",
       "      <th>7</th>\n",
       "      <th>8</th>\n",
       "      <th>9</th>\n",
       "    </tr>\n",
       "  </thead>\n",
       "  <tbody>\n",
       "    <tr>\n",
       "      <th>0</th>\n",
       "      <td>101</td>\n",
       "      <td>10508</td>\n",
       "      <td>1998</td>\n",
       "      <td>19887</td>\n",
       "      <td>7837</td>\n",
       "      <td>2013</td>\n",
       "      <td>19322</td>\n",
       "      <td>1012</td>\n",
       "      <td>102</td>\n",
       "      <td>NaN</td>\n",
       "    </tr>\n",
       "    <tr>\n",
       "      <th>1</th>\n",
       "      <td>101</td>\n",
       "      <td>2129</td>\n",
       "      <td>2172</td>\n",
       "      <td>26991</td>\n",
       "      <td>2106</td>\n",
       "      <td>1996</td>\n",
       "      <td>7186</td>\n",
       "      <td>4053</td>\n",
       "      <td>1029</td>\n",
       "      <td>102.0</td>\n",
       "    </tr>\n",
       "    <tr>\n",
       "      <th>2</th>\n",
       "      <td>101</td>\n",
       "      <td>1045</td>\n",
       "      <td>5136</td>\n",
       "      <td>2198</td>\n",
       "      <td>1996</td>\n",
       "      <td>2190</td>\n",
       "      <td>4018</td>\n",
       "      <td>1012</td>\n",
       "      <td>102</td>\n",
       "      <td>NaN</td>\n",
       "    </tr>\n",
       "  </tbody>\n",
       "</table>\n",
       "</div>"
      ],
      "text/plain": [
       "     0      1     2      3     4     5      6     7     8      9\n",
       "0  101  10508  1998  19887  7837  2013  19322  1012   102    NaN\n",
       "1  101   2129  2172  26991  2106  1996   7186  4053  1029  102.0\n",
       "2  101   1045  5136   2198  1996  2190   4018  1012   102    NaN"
      ]
     },
     "execution_count": 17,
     "metadata": {},
     "output_type": "execute_result"
    }
   ],
   "source": [
    "from transformers import DataCollatorWithPadding\n",
    "\n",
    "data_collator = DataCollatorWithPadding(tokenizer=tokenizer)\n",
    "\n",
    "# Example: Select a few samples from the training set\n",
    "samples = tokenized_dataset[\"train\"][:3]\n",
    "samples = {k: v for k, v in samples.items() if k not in [\"idx\", first_sentence_key, second_sentence_key]}  # Drop `idx` and `sentence` columns, as DataCollator can't process those.\n",
    "pd.DataFrame(samples[\"input_ids\"])"
   ]
  },
  {
   "cell_type": "code",
   "execution_count": 18,
   "metadata": {},
   "outputs": [
    {
     "data": {
      "text/html": [
       "<div>\n",
       "<style scoped>\n",
       "    .dataframe tbody tr th:only-of-type {\n",
       "        vertical-align: middle;\n",
       "    }\n",
       "\n",
       "    .dataframe tbody tr th {\n",
       "        vertical-align: top;\n",
       "    }\n",
       "\n",
       "    .dataframe thead th {\n",
       "        text-align: right;\n",
       "    }\n",
       "</style>\n",
       "<table border=\"1\" class=\"dataframe\">\n",
       "  <thead>\n",
       "    <tr style=\"text-align: right;\">\n",
       "      <th></th>\n",
       "      <th>0</th>\n",
       "      <th>1</th>\n",
       "      <th>2</th>\n",
       "      <th>3</th>\n",
       "      <th>4</th>\n",
       "      <th>5</th>\n",
       "      <th>6</th>\n",
       "      <th>7</th>\n",
       "      <th>8</th>\n",
       "      <th>9</th>\n",
       "    </tr>\n",
       "  </thead>\n",
       "  <tbody>\n",
       "    <tr>\n",
       "      <th>0</th>\n",
       "      <td>101</td>\n",
       "      <td>10508</td>\n",
       "      <td>1998</td>\n",
       "      <td>19887</td>\n",
       "      <td>7837</td>\n",
       "      <td>2013</td>\n",
       "      <td>19322</td>\n",
       "      <td>1012</td>\n",
       "      <td>102</td>\n",
       "      <td>0</td>\n",
       "    </tr>\n",
       "    <tr>\n",
       "      <th>1</th>\n",
       "      <td>101</td>\n",
       "      <td>2129</td>\n",
       "      <td>2172</td>\n",
       "      <td>26991</td>\n",
       "      <td>2106</td>\n",
       "      <td>1996</td>\n",
       "      <td>7186</td>\n",
       "      <td>4053</td>\n",
       "      <td>1029</td>\n",
       "      <td>102</td>\n",
       "    </tr>\n",
       "    <tr>\n",
       "      <th>2</th>\n",
       "      <td>101</td>\n",
       "      <td>1045</td>\n",
       "      <td>5136</td>\n",
       "      <td>2198</td>\n",
       "      <td>1996</td>\n",
       "      <td>2190</td>\n",
       "      <td>4018</td>\n",
       "      <td>1012</td>\n",
       "      <td>102</td>\n",
       "      <td>0</td>\n",
       "    </tr>\n",
       "  </tbody>\n",
       "</table>\n",
       "</div>"
      ],
      "text/plain": [
       "     0      1     2      3     4     5      6     7     8    9\n",
       "0  101  10508  1998  19887  7837  2013  19322  1012   102    0\n",
       "1  101   2129  2172  26991  2106  1996   7186  4053  1029  102\n",
       "2  101   1045  5136   2198  1996  2190   4018  1012   102    0"
      ]
     },
     "execution_count": 18,
     "metadata": {},
     "output_type": "execute_result"
    }
   ],
   "source": [
    "# Apply padding using data_collator\n",
    "batch = data_collator(samples)\n",
    "pd.DataFrame(batch[\"input_ids\"])\n"
   ]
  },
  {
   "cell_type": "markdown",
   "metadata": {},
   "source": [
    "We can see that `data_collator` will insert `[PAD]` (0) tokens to the maximum length of the passed batch of data items."
   ]
  },
  {
   "cell_type": "markdown",
   "metadata": {},
   "source": [
    "### 2.2 Metrics"
   ]
  },
  {
   "cell_type": "markdown",
   "metadata": {},
   "source": [
    "The GLUE dataset specifies one or more evaluation metrics depending on the selected task."
   ]
  },
  {
   "cell_type": "code",
   "execution_count": 19,
   "metadata": {},
   "outputs": [
    {
     "data": {
      "text/plain": [
       "EvaluationModule(name: \"glue\", module_type: \"metric\", features: {'predictions': Value(dtype='int64', id=None), 'references': Value(dtype='int64', id=None)}, usage: \"\"\"\n",
       "Compute GLUE evaluation metric associated to each GLUE dataset.\n",
       "Args:\n",
       "    predictions: list of predictions to score.\n",
       "        Each translation should be tokenized into a list of tokens.\n",
       "    references: list of lists of references for each translation.\n",
       "        Each reference should be tokenized into a list of tokens.\n",
       "Returns: depending on the GLUE subset, one or several of:\n",
       "    \"accuracy\": Accuracy\n",
       "    \"f1\": F1 score\n",
       "    \"pearson\": Pearson Correlation\n",
       "    \"spearmanr\": Spearman Correlation\n",
       "    \"matthews_correlation\": Matthew Correlation\n",
       "Examples:\n",
       "\n",
       "    >>> glue_metric = evaluate.load('glue', 'sst2')  # 'sst2' or any of [\"mnli\", \"mnli_mismatched\", \"mnli_matched\", \"qnli\", \"rte\", \"wnli\", \"hans\"]\n",
       "    >>> references = [0, 1]\n",
       "    >>> predictions = [0, 1]\n",
       "    >>> results = glue_metric.compute(predictions=predictions, references=references)\n",
       "    >>> print(results)\n",
       "    {'accuracy': 1.0}\n",
       "\n",
       "    >>> glue_metric = evaluate.load('glue', 'mrpc')  # 'mrpc' or 'qqp'\n",
       "    >>> references = [0, 1]\n",
       "    >>> predictions = [0, 1]\n",
       "    >>> results = glue_metric.compute(predictions=predictions, references=references)\n",
       "    >>> print(results)\n",
       "    {'accuracy': 1.0, 'f1': 1.0}\n",
       "\n",
       "    >>> glue_metric = evaluate.load('glue', 'stsb')\n",
       "    >>> references = [0., 1., 2., 3., 4., 5.]\n",
       "    >>> predictions = [0., 1., 2., 3., 4., 5.]\n",
       "    >>> results = glue_metric.compute(predictions=predictions, references=references)\n",
       "    >>> print({\"pearson\": round(results[\"pearson\"], 2), \"spearmanr\": round(results[\"spearmanr\"], 2)})\n",
       "    {'pearson': 1.0, 'spearmanr': 1.0}\n",
       "\n",
       "    >>> glue_metric = evaluate.load('glue', 'cola')\n",
       "    >>> references = [0, 1]\n",
       "    >>> predictions = [0, 1]\n",
       "    >>> results = glue_metric.compute(predictions=predictions, references=references)\n",
       "    >>> print(results)\n",
       "    {'matthews_correlation': 1.0}\n",
       "\"\"\", stored examples: 0)"
      ]
     },
     "execution_count": 19,
     "metadata": {},
     "output_type": "execute_result"
    }
   ],
   "source": [
    "import numpy as np\n",
    "import evaluate\n",
    "\n",
    "metric = evaluate.load(DATASET_NAME, DATASET_TASK)\n",
    "metric"
   ]
  },
  {
   "cell_type": "markdown",
   "metadata": {},
   "source": [
    "Depending on the selected GLUE task we optimize for different evaluation metrics. See BERT paper p.6:\n",
    "\n",
    "> F1 scores are reported for QQP and MRPC, Spearman correlations are reported for STS-B, and accuracy scores are reported for the other tasks. We exclude entries that use BERT as one of their components."
   ]
  },
  {
   "cell_type": "code",
   "execution_count": 20,
   "metadata": {},
   "outputs": [],
   "source": [
    "_task_to_metric = {\n",
    "    \"cola\": \"matthews_correlation\",\n",
    "    \"mnli\": \"accuracy\",\n",
    "    \"mnli-mm\": \"accuracy\",\n",
    "    \"mrpc\": \"f1\",\n",
    "    \"qnli\": \"accuracy\",\n",
    "    \"qqp\": \"f1\",\n",
    "    \"rte\": \"accuracy\",\n",
    "    \"sst2\": \"accuracy\",\n",
    "    \"stsb\": \"spearmanr\",\n",
    "}\n",
    "\n",
    "metric_for_best_model = _task_to_metric[DATASET_TASK]"
   ]
  },
  {
   "cell_type": "code",
   "execution_count": 21,
   "metadata": {},
   "outputs": [
    {
     "name": "stdout",
     "output_type": "stream",
     "text": [
      "We will use \"['matthews_correlation']\" as an evaluation metric for the task cola\n"
     ]
    }
   ],
   "source": [
    "def get_metric_name_for_specific_task():\n",
    "    \"\"\"Helper function to derive the evaluation metric name for the specified GLUE task.\n",
    "\n",
    "    The tasks specified by the GLUE benchmark use different evaluation metrics.\n",
    "    Unfortunatly there is no easy way to derive there name after loading the corresponding metric function via HuggingFace's `evaluate` library.\n",
    "    However we can simply do a \"trial run\" and expect the name key of its output.\n",
    "    \"\"\"\n",
    "    output = metric.compute(\n",
    "        predictions=[1, 0], references=[1, 1]\n",
    "    )  # dummy input - we just want to inspect the returned dictionary.\n",
    "    metric_names = output.keys()\n",
    "    \n",
    "    return list(metric_names)\n",
    "\n",
    "\n",
    "metric_names = get_metric_name_for_specific_task()\n",
    "print(f'We will use \"{metric_names}\" as an evaluation metric for the task {DATASET_TASK}')"
   ]
  },
  {
   "cell_type": "code",
   "execution_count": 22,
   "metadata": {},
   "outputs": [],
   "source": [
    "assert metric_for_best_model in metric_names, \"Metric to optimize for not found in evaluation metrics provided by GLUE\""
   ]
  },
  {
   "cell_type": "markdown",
   "metadata": {},
   "source": [
    "### 2.3 Training"
   ]
  },
  {
   "cell_type": "code",
   "execution_count": 23,
   "metadata": {},
   "outputs": [
    {
     "name": "stderr",
     "output_type": "stream",
     "text": [
      "Some weights of BertForSequenceClassification were not initialized from the model checkpoint at google-bert/bert-base-uncased and are newly initialized: ['classifier.bias', 'classifier.weight']\n",
      "You should probably TRAIN this model on a down-stream task to be able to use it for predictions and inference.\n"
     ]
    }
   ],
   "source": [
    "from transformers import AutoModelForSequenceClassification\n",
    "\n",
    "model = AutoModelForSequenceClassification.from_pretrained(\n",
    "    PRE_TRAINED_CHECKPOINT,\n",
    "    num_labels=num_labels,\n",
    "    torch_dtype=\"auto\",\n",
    ")"
   ]
  },
  {
   "cell_type": "code",
   "execution_count": 24,
   "metadata": {},
   "outputs": [],
   "source": [
    "from transformers import TrainingArguments\n",
    "\n",
    "training_arguments = TrainingArguments(\n",
    "    output_dir=(TRAIN_OUTPUT_DIR / PRE_TRAINED_CHECKPOINT.replace(\"/\", \"_\")).resolve(),\n",
    "    per_device_train_batch_size=BATCH_SIZE,\n",
    "    per_device_eval_batch_size=BATCH_SIZE,\n",
    "    eval_strategy=\"epoch\",\n",
    "    save_strategy=\"epoch\",\n",
    "    logging_strategy=\"epoch\",\n",
    "    num_train_epochs=NUM_EPOCHS,\n",
    "    learning_rate=2e-5,  # Original paper uses best out of  5e-5, 4e-5, 3e-5, and 2e-5\n",
    "    weight_decay=0.01,  # Original paper uses 0.01 on pre-training\n",
    "    save_total_limit = 3,  # Keep at most the three checkpoints (latest + best one)\n",
    "    load_best_model_at_end=True,\n",
    "    metric_for_best_model=metric_for_best_model,\n",
    ")"
   ]
  },
  {
   "cell_type": "code",
   "execution_count": 25,
   "metadata": {},
   "outputs": [],
   "source": [
    "def compute_metrics(eval_pred):\n",
    "    predictions, labels = eval_pred\n",
    "    if DATASET_TASK != \"stsb\":\n",
    "        predictions = np.argmax(predictions, axis=1)\n",
    "    else:\n",
    "        predictions = predictions[:, 0]\n",
    "    return metric.compute(predictions=predictions, references=labels)"
   ]
  },
  {
   "cell_type": "code",
   "execution_count": 26,
   "metadata": {},
   "outputs": [],
   "source": [
    "from transformers import Trainer\n",
    "\n",
    "validation_key = \"validation_mismatched\" if DATASET_TASK == \"mnli-mm\" else \"validation_matched\" if DATASET_TASK == \"mnli\" else \"validation\"\n",
    "\n",
    "trainer = Trainer(\n",
    "    model=model,\n",
    "    args=training_arguments,\n",
    "    train_dataset=tokenized_dataset[\"train\"],\n",
    "    eval_dataset=tokenized_dataset[validation_key],\n",
    "    data_collator=data_collator,\n",
    "    processing_class=tokenizer,\n",
    "    compute_metrics=compute_metrics\n",
    ")"
   ]
  },
  {
   "cell_type": "code",
   "execution_count": 27,
   "metadata": {},
   "outputs": [
    {
     "name": "stdout",
     "output_type": "stream",
     "text": [
      "--- training_arguments.output_dir='/home/markhun/Development/groups/192.039-2024W/bert/training/glue-cola/google-bert_bert-base-uncased'\n",
      "--- training_arguments.metric_for_best_model='matthews_correlation'\n"
     ]
    },
    {
     "data": {
      "text/html": [
       "\n",
       "    <div>\n",
       "      \n",
       "      <progress value='1205' max='1205' style='width:300px; height:20px; vertical-align: middle;'></progress>\n",
       "      [1205/1205 02:09, Epoch 5/5]\n",
       "    </div>\n",
       "    <table border=\"1\" class=\"dataframe\">\n",
       "  <thead>\n",
       " <tr style=\"text-align: left;\">\n",
       "      <th>Epoch</th>\n",
       "      <th>Training Loss</th>\n",
       "      <th>Validation Loss</th>\n",
       "      <th>Matthews Correlation</th>\n",
       "    </tr>\n",
       "  </thead>\n",
       "  <tbody>\n",
       "    <tr>\n",
       "      <td>1</td>\n",
       "      <td>0.496800</td>\n",
       "      <td>0.440948</td>\n",
       "      <td>0.539195</td>\n",
       "    </tr>\n",
       "    <tr>\n",
       "      <td>2</td>\n",
       "      <td>0.292000</td>\n",
       "      <td>0.537489</td>\n",
       "      <td>0.525823</td>\n",
       "    </tr>\n",
       "    <tr>\n",
       "      <td>3</td>\n",
       "      <td>0.180900</td>\n",
       "      <td>0.629666</td>\n",
       "      <td>0.523502</td>\n",
       "    </tr>\n",
       "    <tr>\n",
       "      <td>4</td>\n",
       "      <td>0.124600</td>\n",
       "      <td>0.695556</td>\n",
       "      <td>0.554753</td>\n",
       "    </tr>\n",
       "    <tr>\n",
       "      <td>5</td>\n",
       "      <td>0.099100</td>\n",
       "      <td>0.733613</td>\n",
       "      <td>0.559852</td>\n",
       "    </tr>\n",
       "  </tbody>\n",
       "</table><p>"
      ],
      "text/plain": [
       "<IPython.core.display.HTML object>"
      ]
     },
     "metadata": {},
     "output_type": "display_data"
    }
   ],
   "source": [
    "torch.cuda.empty_cache()\n",
    "\n",
    "print(f\"--- {training_arguments.output_dir=}\")\n",
    "print(f\"--- {training_arguments.metric_for_best_model=}\")\n",
    "training_summary_bert_base = trainer.train()"
   ]
  },
  {
   "cell_type": "code",
   "execution_count": 28,
   "metadata": {},
   "outputs": [
    {
     "data": {
      "text/plain": [
       "TrainOutput(global_step=1205, training_loss=0.2386780576587218, metrics={'train_runtime': 129.7127, 'train_samples_per_second': 296.617, 'train_steps_per_second': 9.29, 'total_flos': 455043375802200.0, 'train_loss': 0.2386780576587218, 'epoch': 5.0})"
      ]
     },
     "execution_count": 28,
     "metadata": {},
     "output_type": "execute_result"
    }
   ],
   "source": [
    "training_summary_bert_base"
   ]
  },
  {
   "cell_type": "markdown",
   "metadata": {},
   "source": [
    "We can call `trainer.evaluate()` to check that the `trainer` instance did indeed reload the model checkpoint with the highest evaluation score:"
   ]
  },
  {
   "cell_type": "code",
   "execution_count": 29,
   "metadata": {},
   "outputs": [
    {
     "data": {
      "text/html": [
       "\n",
       "    <div>\n",
       "      \n",
       "      <progress value='1' max='33' style='width:300px; height:20px; vertical-align: middle;'></progress>\n",
       "      [ 1/33 : < :]\n",
       "    </div>\n",
       "    "
      ],
      "text/plain": [
       "<IPython.core.display.HTML object>"
      ]
     },
     "metadata": {},
     "output_type": "display_data"
    },
    {
     "data": {
      "text/plain": [
       "{'eval_loss': 0.7336127758026123,\n",
       " 'eval_matthews_correlation': 0.5598518369499322,\n",
       " 'eval_runtime': 0.5878,\n",
       " 'eval_samples_per_second': 1774.331,\n",
       " 'eval_steps_per_second': 56.139,\n",
       " 'epoch': 5.0}"
      ]
     },
     "execution_count": 29,
     "metadata": {},
     "output_type": "execute_result"
    }
   ],
   "source": [
    "best_model_evaluation = trainer.evaluate()\n",
    "best_model_evaluation"
   ]
  },
  {
   "cell_type": "code",
   "execution_count": 30,
   "metadata": {},
   "outputs": [
    {
     "data": {
      "text/html": [
       "<div>\n",
       "<style scoped>\n",
       "    .dataframe tbody tr th:only-of-type {\n",
       "        vertical-align: middle;\n",
       "    }\n",
       "\n",
       "    .dataframe tbody tr th {\n",
       "        vertical-align: top;\n",
       "    }\n",
       "\n",
       "    .dataframe thead th {\n",
       "        text-align: right;\n",
       "    }\n",
       "</style>\n",
       "<table border=\"1\" class=\"dataframe\">\n",
       "  <thead>\n",
       "    <tr style=\"text-align: right;\">\n",
       "      <th></th>\n",
       "      <th>loss</th>\n",
       "      <th>grad_norm</th>\n",
       "      <th>learning_rate</th>\n",
       "      <th>step</th>\n",
       "      <th>eval_loss</th>\n",
       "      <th>eval_matthews_correlation</th>\n",
       "      <th>eval_runtime</th>\n",
       "      <th>eval_samples_per_second</th>\n",
       "      <th>eval_steps_per_second</th>\n",
       "      <th>train_runtime</th>\n",
       "      <th>train_samples_per_second</th>\n",
       "      <th>train_steps_per_second</th>\n",
       "      <th>total_flos</th>\n",
       "      <th>train_loss</th>\n",
       "    </tr>\n",
       "    <tr>\n",
       "      <th>epoch</th>\n",
       "      <th></th>\n",
       "      <th></th>\n",
       "      <th></th>\n",
       "      <th></th>\n",
       "      <th></th>\n",
       "      <th></th>\n",
       "      <th></th>\n",
       "      <th></th>\n",
       "      <th></th>\n",
       "      <th></th>\n",
       "      <th></th>\n",
       "      <th></th>\n",
       "      <th></th>\n",
       "      <th></th>\n",
       "    </tr>\n",
       "  </thead>\n",
       "  <tbody>\n",
       "    <tr>\n",
       "      <th>1</th>\n",
       "      <td>0.4968</td>\n",
       "      <td>7.195827</td>\n",
       "      <td>0.000016</td>\n",
       "      <td>241</td>\n",
       "      <td>0.440948</td>\n",
       "      <td>0.539195</td>\n",
       "      <td>0.6132</td>\n",
       "      <td>1700.875</td>\n",
       "      <td>53.815</td>\n",
       "      <td>NaN</td>\n",
       "      <td>NaN</td>\n",
       "      <td>NaN</td>\n",
       "      <td>NaN</td>\n",
       "      <td>NaN</td>\n",
       "    </tr>\n",
       "    <tr>\n",
       "      <th>2</th>\n",
       "      <td>0.2920</td>\n",
       "      <td>14.490007</td>\n",
       "      <td>0.000012</td>\n",
       "      <td>482</td>\n",
       "      <td>0.537489</td>\n",
       "      <td>0.525823</td>\n",
       "      <td>0.5861</td>\n",
       "      <td>1779.412</td>\n",
       "      <td>56.300</td>\n",
       "      <td>NaN</td>\n",
       "      <td>NaN</td>\n",
       "      <td>NaN</td>\n",
       "      <td>NaN</td>\n",
       "      <td>NaN</td>\n",
       "    </tr>\n",
       "    <tr>\n",
       "      <th>3</th>\n",
       "      <td>0.1809</td>\n",
       "      <td>0.863385</td>\n",
       "      <td>0.000008</td>\n",
       "      <td>723</td>\n",
       "      <td>0.629666</td>\n",
       "      <td>0.523502</td>\n",
       "      <td>0.5972</td>\n",
       "      <td>1746.574</td>\n",
       "      <td>55.261</td>\n",
       "      <td>NaN</td>\n",
       "      <td>NaN</td>\n",
       "      <td>NaN</td>\n",
       "      <td>NaN</td>\n",
       "      <td>NaN</td>\n",
       "    </tr>\n",
       "    <tr>\n",
       "      <th>4</th>\n",
       "      <td>0.1246</td>\n",
       "      <td>1.135741</td>\n",
       "      <td>0.000004</td>\n",
       "      <td>964</td>\n",
       "      <td>0.695556</td>\n",
       "      <td>0.554753</td>\n",
       "      <td>0.5841</td>\n",
       "      <td>1785.658</td>\n",
       "      <td>56.497</td>\n",
       "      <td>NaN</td>\n",
       "      <td>NaN</td>\n",
       "      <td>NaN</td>\n",
       "      <td>NaN</td>\n",
       "      <td>NaN</td>\n",
       "    </tr>\n",
       "    <tr>\n",
       "      <th>5</th>\n",
       "      <td>0.0991</td>\n",
       "      <td>17.842649</td>\n",
       "      <td>0.000000</td>\n",
       "      <td>1205</td>\n",
       "      <td>0.733613</td>\n",
       "      <td>0.559852</td>\n",
       "      <td>0.6681</td>\n",
       "      <td>1561.163</td>\n",
       "      <td>49.394</td>\n",
       "      <td>129.7127</td>\n",
       "      <td>296.617</td>\n",
       "      <td>9.29</td>\n",
       "      <td>4.550434e+14</td>\n",
       "      <td>0.238678</td>\n",
       "    </tr>\n",
       "  </tbody>\n",
       "</table>\n",
       "</div>"
      ],
      "text/plain": [
       "         loss  grad_norm  learning_rate  step  eval_loss  \\\n",
       "epoch                                                      \n",
       "1      0.4968   7.195827       0.000016   241   0.440948   \n",
       "2      0.2920  14.490007       0.000012   482   0.537489   \n",
       "3      0.1809   0.863385       0.000008   723   0.629666   \n",
       "4      0.1246   1.135741       0.000004   964   0.695556   \n",
       "5      0.0991  17.842649       0.000000  1205   0.733613   \n",
       "\n",
       "       eval_matthews_correlation  eval_runtime  eval_samples_per_second  \\\n",
       "epoch                                                                     \n",
       "1                       0.539195        0.6132                 1700.875   \n",
       "2                       0.525823        0.5861                 1779.412   \n",
       "3                       0.523502        0.5972                 1746.574   \n",
       "4                       0.554753        0.5841                 1785.658   \n",
       "5                       0.559852        0.6681                 1561.163   \n",
       "\n",
       "       eval_steps_per_second  train_runtime  train_samples_per_second  \\\n",
       "epoch                                                                   \n",
       "1                     53.815            NaN                       NaN   \n",
       "2                     56.300            NaN                       NaN   \n",
       "3                     55.261            NaN                       NaN   \n",
       "4                     56.497            NaN                       NaN   \n",
       "5                     49.394       129.7127                   296.617   \n",
       "\n",
       "       train_steps_per_second    total_flos  train_loss  \n",
       "epoch                                                    \n",
       "1                         NaN           NaN         NaN  \n",
       "2                         NaN           NaN         NaN  \n",
       "3                         NaN           NaN         NaN  \n",
       "4                         NaN           NaN         NaN  \n",
       "5                        9.29  4.550434e+14    0.238678  "
      ]
     },
     "execution_count": 30,
     "metadata": {},
     "output_type": "execute_result"
    }
   ],
   "source": [
    "training_history_bert_base = pd.DataFrame(trainer.state.log_history)\n",
    "training_history_bert_base.epoch = training_history_bert_base.epoch.astype(int)\n",
    "training_history_bert_base.groupby(\"epoch\").first()"
   ]
  },
  {
   "cell_type": "code",
   "execution_count": 31,
   "metadata": {},
   "outputs": [
    {
     "data": {
      "text/markdown": [
       "### Loss and Evaluation Metrics over Training Steps"
      ],
      "text/plain": [
       "<IPython.core.display.Markdown object>"
      ]
     },
     "metadata": {},
     "output_type": "display_data"
    },
    {
     "data": {
      "image/png": "[encoded data removed]",
      "text/plain": [
       "<Figure size 640x480 with 1 Axes>"
      ]
     },
     "metadata": {},
     "output_type": "display_data"
    }
   ],
   "source": [
    "import seaborn as sns\n",
    "\n",
    "data = training_history_bert_base[[\"loss\", \"eval_loss\", \"step\", f\"eval_{metric_for_best_model}\"]]\n",
    "data.columns = [\"Train. Loss\", \"Eval. Loss\", \"Training Steps\", \"Matthew's Corr.\"]\n",
    "data = data[:-1]  # drop last row, as this row just contains the values for the best checkpoint again\n",
    "data = pd.melt(data, ['Training Steps']).dropna()\n",
    "\n",
    "\n",
    "plot = sns.lineplot(data=data, x=\"Training Steps\", y=\"value\", hue=\"variable\", style=\"variable\", markers=True)\n",
    "plot.set_ylabel(\"\")\n",
    "plot.set(xticks=list(set(training_history_bert_base.epoch)))\n",
    "plot.set_ylim((0, plot.get_ylim()[1]))\n",
    "plot.legend(title=\"\")\n",
    "\n",
    "from IPython.display import Markdown, display\n",
    "display(Markdown(\"### Loss and Evaluation Metrics over Training Steps\"))"
   ]
  },
  {
   "cell_type": "markdown",
   "metadata": {},
   "source": [
    "### 2.4 Evaluation"
   ]
  },
  {
   "cell_type": "code",
   "execution_count": 32,
   "metadata": {},
   "outputs": [
    {
     "data": {
      "text/markdown": [
       "### Label frequency in test dataset"
      ],
      "text/plain": [
       "<IPython.core.display.Markdown object>"
      ]
     },
     "metadata": {},
     "output_type": "display_data"
    },
    {
     "data": {
      "image/png": "[encoded data removed]",
      "text/plain": [
       "<Figure size 640x480 with 1 Axes>"
      ]
     },
     "metadata": {},
     "output_type": "display_data"
    }
   ],
   "source": [
    "import seaborn as sns\n",
    "\n",
    "sns.countplot(x='label', data=pd.DataFrame(tokenized_dataset[\"test\"]))\n",
    "\n",
    "from IPython.display import Markdown, display\n",
    "display(Markdown(\"### Label frequency in test dataset\"))"
   ]
  },
  {
   "cell_type": "markdown",
   "metadata": {},
   "source": [
    "The dataset classes seem to be unbalanced."
   ]
  },
  {
   "cell_type": "code",
   "execution_count": 33,
   "metadata": {},
   "outputs": [],
   "source": [
    "predictions = trainer.predict(tokenized_dataset[\"test\"])"
   ]
  },
  {
   "cell_type": "code",
   "execution_count": 34,
   "metadata": {},
   "outputs": [
    {
     "data": {
      "text/markdown": [
       "### Prediction Confusion Matrix (google-bert/bert-base-uncased)"
      ],
      "text/plain": [
       "<IPython.core.display.Markdown object>"
      ]
     },
     "metadata": {},
     "output_type": "display_data"
    },
    {
     "data": {
      "image/png": "[encoded data removed]",
      "text/plain": [
       "<Figure size 640x480 with 2 Axes>"
      ]
     },
     "metadata": {},
     "output_type": "display_data"
    }
   ],
   "source": [
    "import sklearn.metrics\n",
    "\n",
    "bert_base_cm = sklearn.metrics.confusion_matrix(tokenized_dataset[\"test\"]['label'], predictions.predictions.argmax(-1))\n",
    "plot = sns.heatmap(bert_base_cm, annot=True, fmt='d')\n",
    "plot.set_xlabel(\"True label\")\n",
    "plot.set_ylabel(\"Predicted label\")\n",
    "\n",
    "from IPython.display import Markdown, display\n",
    "display(Markdown(f\"### Prediction Confusion Matrix ({PRE_TRAINED_CHECKPOINT})\"))"
   ]
  },
  {
   "cell_type": "code",
   "execution_count": 35,
   "metadata": {},
   "outputs": [
    {
     "data": {
      "text/plain": [
       "{'test_loss': 0.7569385170936584,\n",
       " 'test_matthews_correlation': 0.531966419917982,\n",
       " 'test_runtime': 0.5725,\n",
       " 'test_samples_per_second': 1495.177,\n",
       " 'test_steps_per_second': 47.161}"
      ]
     },
     "execution_count": 35,
     "metadata": {},
     "output_type": "execute_result"
    }
   ],
   "source": [
    "predictions.metrics"
   ]
  },
  {
   "cell_type": "code",
   "execution_count": 36,
   "metadata": {},
   "outputs": [
    {
     "data": {
      "text/markdown": [
       "### Best Model performance:"
      ],
      "text/plain": [
       "<IPython.core.display.Markdown object>"
      ]
     },
     "metadata": {},
     "output_type": "display_data"
    },
    {
     "name": "stdout",
     "output_type": "stream",
     "text": [
      "\"BERT_BASE\" and \"BERT_LARGE\" performance on GLUE testing data as reported in original paper.\n"
     ]
    },
    {
     "data": {
      "text/html": [
       "<div>\n",
       "<style scoped>\n",
       "    .dataframe tbody tr th:only-of-type {\n",
       "        vertical-align: middle;\n",
       "    }\n",
       "\n",
       "    .dataframe tbody tr th {\n",
       "        vertical-align: top;\n",
       "    }\n",
       "\n",
       "    .dataframe thead th {\n",
       "        text-align: right;\n",
       "    }\n",
       "</style>\n",
       "<table border=\"1\" class=\"dataframe\">\n",
       "  <thead>\n",
       "    <tr style=\"text-align: right;\">\n",
       "      <th></th>\n",
       "      <th>our BERT_BASE</th>\n",
       "      <th>original BERT_BASE</th>\n",
       "      <th>original BERT_LARGE</th>\n",
       "    </tr>\n",
       "  </thead>\n",
       "  <tbody>\n",
       "    <tr>\n",
       "      <th>train_runtime_s</th>\n",
       "      <td>129.712700</td>\n",
       "      <td>-</td>\n",
       "      <td>-</td>\n",
       "    </tr>\n",
       "    <tr>\n",
       "      <th>eval_loss</th>\n",
       "      <td>0.733613</td>\n",
       "      <td>-</td>\n",
       "      <td>-</td>\n",
       "    </tr>\n",
       "    <tr>\n",
       "      <th>eval_matthews_correlation</th>\n",
       "      <td>0.559852</td>\n",
       "      <td>-</td>\n",
       "      <td>-</td>\n",
       "    </tr>\n",
       "    <tr>\n",
       "      <th>test_matthews_correlation</th>\n",
       "      <td>0.531966</td>\n",
       "      <td>0.521</td>\n",
       "      <td>0.605</td>\n",
       "    </tr>\n",
       "  </tbody>\n",
       "</table>\n",
       "</div>"
      ],
      "text/plain": [
       "                           our BERT_BASE original BERT_BASE  \\\n",
       "train_runtime_s               129.712700                  -   \n",
       "eval_loss                       0.733613                  -   \n",
       "eval_matthews_correlation       0.559852                  -   \n",
       "test_matthews_correlation       0.531966              0.521   \n",
       "\n",
       "                          original BERT_LARGE  \n",
       "train_runtime_s                             -  \n",
       "eval_loss                                   -  \n",
       "eval_matthews_correlation                   -  \n",
       "test_matthews_correlation               0.605  "
      ]
     },
     "execution_count": 36,
     "metadata": {},
     "output_type": "execute_result"
    }
   ],
   "source": [
    "display(Markdown(f\"### Best Model performance:\"))\n",
    "results = pd.DataFrame(\n",
    "    [training_summary_bert_base.metrics[\"train_runtime\"]]\n",
    "    + list(best_model_evaluation.values())\n",
    "    + [predictions.metrics[\"test_matthews_correlation\"]],\n",
    "    index=[\"train_runtime_s\"] + list(best_model_evaluation.keys()) + [\"test_matthews_correlation\"],\n",
    "    columns=[\"our BERT_BASE\"],\n",
    ").drop(\n",
    "    # Drop runtime measurements\n",
    "    index=[\"eval_runtime\", \"eval_samples_per_second\", \"eval_steps_per_second\", \"epoch\"]\n",
    ")\n",
    "# Achieved scores from original BERT paper:\n",
    "results[\"original BERT_BASE\"] = [\"-\", \"-\", \"-\", 0.521]\n",
    "results[\"original BERT_LARGE\"] = [\"-\", \"-\", \"-\", 0.605]\n",
    "print(\n",
    "    '\"BERT_BASE\" and \"BERT_LARGE\" performance on GLUE testing data as reported in original paper.'\n",
    ")\n",
    "results"
   ]
  },
  {
   "cell_type": "markdown",
   "metadata": {},
   "source": [
    "## 3. BERT-Large"
   ]
  },
  {
   "cell_type": "code",
   "execution_count": 37,
   "metadata": {},
   "outputs": [],
   "source": [
    "PRE_TRAINED_CHECKPOINT = \"google-bert/bert-large-uncased\""
   ]
  },
  {
   "cell_type": "markdown",
   "metadata": {},
   "source": [
    "### 3.1 Tokenization"
   ]
  },
  {
   "cell_type": "code",
   "execution_count": 38,
   "metadata": {},
   "outputs": [
    {
     "data": {
      "application/vnd.jupyter.widget-view+json": {
       "model_id": "008dc9d1018e4541a28efba8119a7f57",
       "version_major": 2,
       "version_minor": 0
      },
      "text/plain": [
       "Map:   0%|          | 0/856 [00:00<?, ? examples/s]"
      ]
     },
     "metadata": {},
     "output_type": "display_data"
    }
   ],
   "source": [
    "from transformers import AutoTokenizer\n",
    "\n",
    "tokenizer = AutoTokenizer.from_pretrained(PRE_TRAINED_CHECKPOINT, do_lower_case=\"uncased\" in PRE_TRAINED_CHECKPOINT)\n",
    "\n",
    "def tokenize_func(item):\n",
    "    \"\"\"Tokenize passed item. \n",
    "    \n",
    "    Depending on dataset task the passed item will either contain one sentence or two sentences.\n",
    "    In the last case the two sentences will be appended via a [SEP] token.\n",
    "    \"\"\"\n",
    "    if second_sentence_key is None:\n",
    "        return tokenizer(item[first_sentence_key], add_special_tokens=True, truncation=True)\n",
    "    else:\n",
    "        return tokenizer(item[first_sentence_key], item[second_sentence_key], add_special_tokens=True, truncation=True)\n",
    "\n",
    "tokenized_dataset = dataset.map(tokenize_func, batched=True)"
   ]
  },
  {
   "cell_type": "code",
   "execution_count": 39,
   "metadata": {},
   "outputs": [],
   "source": [
    "from transformers import DataCollatorWithPadding\n",
    "\n",
    "data_collator = DataCollatorWithPadding(tokenizer=tokenizer)"
   ]
  },
  {
   "cell_type": "markdown",
   "metadata": {},
   "source": [
    "### 3.2 Metrics"
   ]
  },
  {
   "cell_type": "code",
   "execution_count": 40,
   "metadata": {},
   "outputs": [
    {
     "name": "stdout",
     "output_type": "stream",
     "text": [
      "We will use \"['matthews_correlation']\" as an evaluation metric for the task cola\n"
     ]
    }
   ],
   "source": [
    "import evaluate\n",
    "\n",
    "metric = evaluate.load(DATASET_NAME, DATASET_TASK)\n",
    "\n",
    "metric_for_best_model = _task_to_metric[DATASET_TASK]\n",
    "metric_names = get_metric_name_for_specific_task()\n",
    "print(f'We will use \"{metric_names}\" as an evaluation metric for the task {DATASET_TASK}')"
   ]
  },
  {
   "cell_type": "code",
   "execution_count": 41,
   "metadata": {},
   "outputs": [],
   "source": [
    "assert metric_for_best_model in metric_names, \"Metric to optimize for not found in evaluation metrics provided by GLUE\""
   ]
  },
  {
   "cell_type": "markdown",
   "metadata": {},
   "source": [
    "### 3.3 Training"
   ]
  },
  {
   "cell_type": "code",
   "execution_count": 42,
   "metadata": {},
   "outputs": [],
   "source": [
    "BATCH_SIZE = 32  # BERT-large might need a smaller batch size"
   ]
  },
  {
   "cell_type": "code",
   "execution_count": 43,
   "metadata": {},
   "outputs": [
    {
     "data": {
      "text/plain": [
       "5598"
      ]
     },
     "execution_count": 43,
     "metadata": {},
     "output_type": "execute_result"
    }
   ],
   "source": [
    "import gc\n",
    "\n",
    "try:\n",
    "    del model\n",
    "    del trainer\n",
    "except:\n",
    "    pass\n",
    "\n",
    "\n",
    "gc.collect()"
   ]
  },
  {
   "cell_type": "code",
   "execution_count": 44,
   "metadata": {},
   "outputs": [
    {
     "name": "stderr",
     "output_type": "stream",
     "text": [
      "Some weights of BertForSequenceClassification were not initialized from the model checkpoint at google-bert/bert-large-uncased and are newly initialized: ['classifier.bias', 'classifier.weight']\n",
      "You should probably TRAIN this model on a down-stream task to be able to use it for predictions and inference.\n"
     ]
    }
   ],
   "source": [
    "from transformers import AutoModelForSequenceClassification\n",
    "\n",
    "model = AutoModelForSequenceClassification.from_pretrained(\n",
    "    PRE_TRAINED_CHECKPOINT,\n",
    "    num_labels=num_labels,\n",
    "    torch_dtype=\"auto\",\n",
    ")\n",
    "\n",
    "from transformers import TrainingArguments\n",
    "\n",
    "training_arguments = TrainingArguments(\n",
    "    output_dir=(TRAIN_OUTPUT_DIR / PRE_TRAINED_CHECKPOINT.replace(\"/\", \"_\")).resolve(),\n",
    "    per_device_train_batch_size=BATCH_SIZE,\n",
    "    per_device_eval_batch_size=BATCH_SIZE,\n",
    "    eval_strategy=\"epoch\",\n",
    "    save_strategy=\"epoch\",\n",
    "    logging_strategy=\"epoch\",\n",
    "    num_train_epochs=NUM_EPOCHS,\n",
    "    learning_rate=2e-5,  # Original paper uses best out of  5e-5, 4e-5, 3e-5, and 2e-5\n",
    "    weight_decay=0.01,  # Original paper uses 0.01 on pre-training\n",
    "    save_total_limit = 3,  # Keep at most the three checkpoints (latest + best one)\n",
    "    load_best_model_at_end=True,\n",
    "    metric_for_best_model=metric_for_best_model,\n",
    ")\n",
    "\n",
    "from transformers import Trainer\n",
    "\n",
    "validation_key = \"validation_mismatched\" if DATASET_TASK == \"mnli-mm\" else \"validation_matched\" if DATASET_TASK == \"mnli\" else \"validation\"\n",
    "\n",
    "trainer = Trainer(\n",
    "    model=model,\n",
    "    args=training_arguments,\n",
    "    train_dataset=tokenized_dataset[\"train\"],\n",
    "    eval_dataset=tokenized_dataset[validation_key],\n",
    "    data_collator=data_collator,\n",
    "    processing_class=tokenizer,\n",
    "    compute_metrics=compute_metrics\n",
    ")"
   ]
  },
  {
   "cell_type": "code",
   "execution_count": 45,
   "metadata": {},
   "outputs": [
    {
     "name": "stdout",
     "output_type": "stream",
     "text": [
      "--- training_arguments.output_dir='/home/markhun/Development/groups/192.039-2024W/bert/training/glue-cola/google-bert_bert-large-uncased'\n",
      "--- training_arguments.metric_for_best_model='matthews_correlation'\n"
     ]
    },
    {
     "data": {
      "text/html": [
       "\n",
       "    <div>\n",
       "      \n",
       "      <progress value='1205' max='1205' style='width:300px; height:20px; vertical-align: middle;'></progress>\n",
       "      [1205/1205 06:28, Epoch 5/5]\n",
       "    </div>\n",
       "    <table border=\"1\" class=\"dataframe\">\n",
       "  <thead>\n",
       " <tr style=\"text-align: left;\">\n",
       "      <th>Epoch</th>\n",
       "      <th>Training Loss</th>\n",
       "      <th>Validation Loss</th>\n",
       "      <th>Matthews Correlation</th>\n",
       "    </tr>\n",
       "  </thead>\n",
       "  <tbody>\n",
       "    <tr>\n",
       "      <td>1</td>\n",
       "      <td>0.599100</td>\n",
       "      <td>0.565477</td>\n",
       "      <td>0.325641</td>\n",
       "    </tr>\n",
       "    <tr>\n",
       "      <td>2</td>\n",
       "      <td>0.421100</td>\n",
       "      <td>0.587231</td>\n",
       "      <td>0.414116</td>\n",
       "    </tr>\n",
       "    <tr>\n",
       "      <td>3</td>\n",
       "      <td>0.260300</td>\n",
       "      <td>0.546297</td>\n",
       "      <td>0.507428</td>\n",
       "    </tr>\n",
       "    <tr>\n",
       "      <td>4</td>\n",
       "      <td>0.176000</td>\n",
       "      <td>0.728361</td>\n",
       "      <td>0.515967</td>\n",
       "    </tr>\n",
       "    <tr>\n",
       "      <td>5</td>\n",
       "      <td>0.128500</td>\n",
       "      <td>0.748384</td>\n",
       "      <td>0.531249</td>\n",
       "    </tr>\n",
       "  </tbody>\n",
       "</table><p>"
      ],
      "text/plain": [
       "<IPython.core.display.HTML object>"
      ]
     },
     "metadata": {},
     "output_type": "display_data"
    }
   ],
   "source": [
    "torch.cuda.empty_cache()\n",
    "\n",
    "print(f\"--- {training_arguments.output_dir=}\")\n",
    "print(f\"--- {training_arguments.metric_for_best_model=}\")\n",
    "training_summary_bert_large = trainer.train()"
   ]
  },
  {
   "cell_type": "code",
   "execution_count": 46,
   "metadata": {},
   "outputs": [
    {
     "data": {
      "text/plain": [
       "TrainOutput(global_step=1205, training_loss=0.31699898114342906, metrics={'train_runtime': 389.1041, 'train_samples_per_second': 98.881, 'train_steps_per_second': 3.097, 'total_flos': 1611749810377560.0, 'train_loss': 0.31699898114342906, 'epoch': 5.0})"
      ]
     },
     "execution_count": 46,
     "metadata": {},
     "output_type": "execute_result"
    }
   ],
   "source": [
    "training_summary_bert_large"
   ]
  },
  {
   "cell_type": "code",
   "execution_count": 47,
   "metadata": {},
   "outputs": [
    {
     "data": {
      "text/html": [],
      "text/plain": [
       "<IPython.core.display.HTML object>"
      ]
     },
     "metadata": {},
     "output_type": "display_data"
    },
    {
     "data": {
      "text/plain": [
       "{'eval_loss': 0.7483837008476257,\n",
       " 'eval_matthews_correlation': 0.5312491014766616,\n",
       " 'eval_runtime': 1.5862,\n",
       " 'eval_samples_per_second': 657.537,\n",
       " 'eval_steps_per_second': 20.804,\n",
       " 'epoch': 5.0}"
      ]
     },
     "execution_count": 47,
     "metadata": {},
     "output_type": "execute_result"
    }
   ],
   "source": [
    "best_model_evaluation = trainer.evaluate()\n",
    "best_model_evaluation"
   ]
  },
  {
   "cell_type": "code",
   "execution_count": 48,
   "metadata": {},
   "outputs": [
    {
     "data": {
      "text/html": [
       "<div>\n",
       "<style scoped>\n",
       "    .dataframe tbody tr th:only-of-type {\n",
       "        vertical-align: middle;\n",
       "    }\n",
       "\n",
       "    .dataframe tbody tr th {\n",
       "        vertical-align: top;\n",
       "    }\n",
       "\n",
       "    .dataframe thead th {\n",
       "        text-align: right;\n",
       "    }\n",
       "</style>\n",
       "<table border=\"1\" class=\"dataframe\">\n",
       "  <thead>\n",
       "    <tr style=\"text-align: right;\">\n",
       "      <th></th>\n",
       "      <th>loss</th>\n",
       "      <th>grad_norm</th>\n",
       "      <th>learning_rate</th>\n",
       "      <th>step</th>\n",
       "      <th>eval_loss</th>\n",
       "      <th>eval_matthews_correlation</th>\n",
       "      <th>eval_runtime</th>\n",
       "      <th>eval_samples_per_second</th>\n",
       "      <th>eval_steps_per_second</th>\n",
       "      <th>train_runtime</th>\n",
       "      <th>train_samples_per_second</th>\n",
       "      <th>train_steps_per_second</th>\n",
       "      <th>total_flos</th>\n",
       "      <th>train_loss</th>\n",
       "    </tr>\n",
       "    <tr>\n",
       "      <th>epoch</th>\n",
       "      <th></th>\n",
       "      <th></th>\n",
       "      <th></th>\n",
       "      <th></th>\n",
       "      <th></th>\n",
       "      <th></th>\n",
       "      <th></th>\n",
       "      <th></th>\n",
       "      <th></th>\n",
       "      <th></th>\n",
       "      <th></th>\n",
       "      <th></th>\n",
       "      <th></th>\n",
       "      <th></th>\n",
       "    </tr>\n",
       "  </thead>\n",
       "  <tbody>\n",
       "    <tr>\n",
       "      <th>1</th>\n",
       "      <td>0.5991</td>\n",
       "      <td>5.091761</td>\n",
       "      <td>0.000016</td>\n",
       "      <td>241</td>\n",
       "      <td>0.565477</td>\n",
       "      <td>0.325641</td>\n",
       "      <td>1.6085</td>\n",
       "      <td>648.441</td>\n",
       "      <td>20.516</td>\n",
       "      <td>NaN</td>\n",
       "      <td>NaN</td>\n",
       "      <td>NaN</td>\n",
       "      <td>NaN</td>\n",
       "      <td>NaN</td>\n",
       "    </tr>\n",
       "    <tr>\n",
       "      <th>2</th>\n",
       "      <td>0.4211</td>\n",
       "      <td>7.395658</td>\n",
       "      <td>0.000012</td>\n",
       "      <td>482</td>\n",
       "      <td>0.587231</td>\n",
       "      <td>0.414116</td>\n",
       "      <td>1.5957</td>\n",
       "      <td>653.618</td>\n",
       "      <td>20.680</td>\n",
       "      <td>NaN</td>\n",
       "      <td>NaN</td>\n",
       "      <td>NaN</td>\n",
       "      <td>NaN</td>\n",
       "      <td>NaN</td>\n",
       "    </tr>\n",
       "    <tr>\n",
       "      <th>3</th>\n",
       "      <td>0.2603</td>\n",
       "      <td>3.727734</td>\n",
       "      <td>0.000008</td>\n",
       "      <td>723</td>\n",
       "      <td>0.546297</td>\n",
       "      <td>0.507428</td>\n",
       "      <td>1.5939</td>\n",
       "      <td>654.389</td>\n",
       "      <td>20.705</td>\n",
       "      <td>NaN</td>\n",
       "      <td>NaN</td>\n",
       "      <td>NaN</td>\n",
       "      <td>NaN</td>\n",
       "      <td>NaN</td>\n",
       "    </tr>\n",
       "    <tr>\n",
       "      <th>4</th>\n",
       "      <td>0.1760</td>\n",
       "      <td>0.983720</td>\n",
       "      <td>0.000004</td>\n",
       "      <td>964</td>\n",
       "      <td>0.728361</td>\n",
       "      <td>0.515967</td>\n",
       "      <td>1.6046</td>\n",
       "      <td>650.016</td>\n",
       "      <td>20.566</td>\n",
       "      <td>NaN</td>\n",
       "      <td>NaN</td>\n",
       "      <td>NaN</td>\n",
       "      <td>NaN</td>\n",
       "      <td>NaN</td>\n",
       "    </tr>\n",
       "    <tr>\n",
       "      <th>5</th>\n",
       "      <td>0.1285</td>\n",
       "      <td>0.700912</td>\n",
       "      <td>0.000000</td>\n",
       "      <td>1205</td>\n",
       "      <td>0.748384</td>\n",
       "      <td>0.531249</td>\n",
       "      <td>1.5843</td>\n",
       "      <td>658.343</td>\n",
       "      <td>20.830</td>\n",
       "      <td>389.1041</td>\n",
       "      <td>98.881</td>\n",
       "      <td>3.097</td>\n",
       "      <td>1.611750e+15</td>\n",
       "      <td>0.316999</td>\n",
       "    </tr>\n",
       "  </tbody>\n",
       "</table>\n",
       "</div>"
      ],
      "text/plain": [
       "         loss  grad_norm  learning_rate  step  eval_loss  \\\n",
       "epoch                                                      \n",
       "1      0.5991   5.091761       0.000016   241   0.565477   \n",
       "2      0.4211   7.395658       0.000012   482   0.587231   \n",
       "3      0.2603   3.727734       0.000008   723   0.546297   \n",
       "4      0.1760   0.983720       0.000004   964   0.728361   \n",
       "5      0.1285   0.700912       0.000000  1205   0.748384   \n",
       "\n",
       "       eval_matthews_correlation  eval_runtime  eval_samples_per_second  \\\n",
       "epoch                                                                     \n",
       "1                       0.325641        1.6085                  648.441   \n",
       "2                       0.414116        1.5957                  653.618   \n",
       "3                       0.507428        1.5939                  654.389   \n",
       "4                       0.515967        1.6046                  650.016   \n",
       "5                       0.531249        1.5843                  658.343   \n",
       "\n",
       "       eval_steps_per_second  train_runtime  train_samples_per_second  \\\n",
       "epoch                                                                   \n",
       "1                     20.516            NaN                       NaN   \n",
       "2                     20.680            NaN                       NaN   \n",
       "3                     20.705            NaN                       NaN   \n",
       "4                     20.566            NaN                       NaN   \n",
       "5                     20.830       389.1041                    98.881   \n",
       "\n",
       "       train_steps_per_second    total_flos  train_loss  \n",
       "epoch                                                    \n",
       "1                         NaN           NaN         NaN  \n",
       "2                         NaN           NaN         NaN  \n",
       "3                         NaN           NaN         NaN  \n",
       "4                         NaN           NaN         NaN  \n",
       "5                       3.097  1.611750e+15    0.316999  "
      ]
     },
     "execution_count": 48,
     "metadata": {},
     "output_type": "execute_result"
    }
   ],
   "source": [
    "training_history_bert_large = pd.DataFrame(trainer.state.log_history)\n",
    "training_history_bert_large.epoch = training_history_bert_large.epoch.astype(int)\n",
    "training_history_bert_large.groupby(\"epoch\").first()"
   ]
  },
  {
   "cell_type": "code",
   "execution_count": 49,
   "metadata": {},
   "outputs": [
    {
     "data": {
      "text/markdown": [
       "### Loss and Evaluation Metrics over Training Epochs (google-bert/bert-large-uncased)"
      ],
      "text/plain": [
       "<IPython.core.display.Markdown object>"
      ]
     },
     "metadata": {},
     "output_type": "display_data"
    },
    {
     "data": {
      "image/png": "[encoded data removed]",
      "text/plain": [
       "<Figure size 640x480 with 1 Axes>"
      ]
     },
     "metadata": {},
     "output_type": "display_data"
    }
   ],
   "source": [
    "import seaborn as sns\n",
    "\n",
    "data = training_history_bert_large[[\"loss\", \"eval_loss\", \"epoch\", f\"eval_{metric_for_best_model}\"]]\n",
    "data.columns = [\"Train. Loss\", \"Eval. Loss\", \"Training Epoch\", \"Matthew's Corr.\"]\n",
    "data = data[:-1]\n",
    "data = pd.melt(data, ['Training Epoch']).dropna()\n",
    "\n",
    "plot = sns.lineplot(data=data, x=\"Training Epoch\", y=\"value\", hue=\"variable\", style=\"variable\", markers=True)\n",
    "plot.set_ylabel(\"\")\n",
    "plot.set(xticks=list(set(training_history_bert_large.epoch)))\n",
    "plot.set_ylim((0, plot.get_ylim()[1]))\n",
    "plot.legend(title=\"\")\n",
    "\n",
    "\n",
    "from IPython.display import Markdown, display\n",
    "display(Markdown(f\"### Loss and Evaluation Metrics over Training Epochs ({PRE_TRAINED_CHECKPOINT})\"))"
   ]
  },
  {
   "cell_type": "markdown",
   "metadata": {},
   "source": [
    "### 3.4 Evaluation"
   ]
  },
  {
   "cell_type": "code",
   "execution_count": 50,
   "metadata": {},
   "outputs": [],
   "source": [
    "predictions = trainer.predict(tokenized_dataset[\"test\"])"
   ]
  },
  {
   "cell_type": "code",
   "execution_count": 51,
   "metadata": {},
   "outputs": [
    {
     "data": {
      "text/markdown": [
       "### Prediction Confusion Matrix (google-bert/bert-large-uncased)"
      ],
      "text/plain": [
       "<IPython.core.display.Markdown object>"
      ]
     },
     "metadata": {},
     "output_type": "display_data"
    },
    {
     "data": {
      "image/png": "[encoded data removed]",
      "text/plain": [
       "<Figure size 640x480 with 2 Axes>"
      ]
     },
     "metadata": {},
     "output_type": "display_data"
    }
   ],
   "source": [
    "import sklearn.metrics\n",
    "\n",
    "bert_large_cm = sklearn.metrics.confusion_matrix(tokenized_dataset[\"test\"]['label'], predictions.predictions.argmax(-1))\n",
    "plot = sns.heatmap(bert_large_cm, annot=True, fmt='d')\n",
    "plot.set_xlabel(\"True label\")\n",
    "plot.set_ylabel(\"Predicted label\")\n",
    "\n",
    "from IPython.display import Markdown, display\n",
    "display(Markdown(f\"### Prediction Confusion Matrix ({PRE_TRAINED_CHECKPOINT})\"))"
   ]
  },
  {
   "cell_type": "code",
   "execution_count": 52,
   "metadata": {},
   "outputs": [
    {
     "data": {
      "text/plain": [
       "{'test_loss': 0.7270972728729248,\n",
       " 'test_matthews_correlation': 0.5110836138237886,\n",
       " 'test_runtime': 1.4873,\n",
       " 'test_samples_per_second': 575.526,\n",
       " 'test_steps_per_second': 18.153}"
      ]
     },
     "execution_count": 52,
     "metadata": {},
     "output_type": "execute_result"
    }
   ],
   "source": [
    "predictions.metrics"
   ]
  },
  {
   "cell_type": "code",
   "execution_count": 53,
   "metadata": {},
   "outputs": [
    {
     "data": {
      "text/markdown": [
       "### Best Model performance:"
      ],
      "text/plain": [
       "<IPython.core.display.Markdown object>"
      ]
     },
     "metadata": {},
     "output_type": "display_data"
    },
    {
     "name": "stdout",
     "output_type": "stream",
     "text": [
      "\"BERT_BASE\" and \"BERT_LARGE\" performance on GLUE testing data as reported in original paper.\n"
     ]
    },
    {
     "data": {
      "text/html": [
       "<div>\n",
       "<style scoped>\n",
       "    .dataframe tbody tr th:only-of-type {\n",
       "        vertical-align: middle;\n",
       "    }\n",
       "\n",
       "    .dataframe tbody tr th {\n",
       "        vertical-align: top;\n",
       "    }\n",
       "\n",
       "    .dataframe thead th {\n",
       "        text-align: right;\n",
       "    }\n",
       "</style>\n",
       "<table border=\"1\" class=\"dataframe\">\n",
       "  <thead>\n",
       "    <tr style=\"text-align: right;\">\n",
       "      <th></th>\n",
       "      <th>our BERT_BASE</th>\n",
       "      <th>original BERT_BASE</th>\n",
       "      <th>our BERT_LARGE</th>\n",
       "      <th>original BERT_LARGE</th>\n",
       "    </tr>\n",
       "  </thead>\n",
       "  <tbody>\n",
       "    <tr>\n",
       "      <th>train_runtime_s</th>\n",
       "      <td>129.712700</td>\n",
       "      <td>-</td>\n",
       "      <td>389.104100</td>\n",
       "      <td>-</td>\n",
       "    </tr>\n",
       "    <tr>\n",
       "      <th>eval_loss</th>\n",
       "      <td>0.733613</td>\n",
       "      <td>-</td>\n",
       "      <td>0.748384</td>\n",
       "      <td>-</td>\n",
       "    </tr>\n",
       "    <tr>\n",
       "      <th>eval_matthews_correlation</th>\n",
       "      <td>0.559852</td>\n",
       "      <td>-</td>\n",
       "      <td>0.531249</td>\n",
       "      <td>-</td>\n",
       "    </tr>\n",
       "    <tr>\n",
       "      <th>test_matthews_correlation</th>\n",
       "      <td>0.531966</td>\n",
       "      <td>0.521</td>\n",
       "      <td>0.511084</td>\n",
       "      <td>0.605</td>\n",
       "    </tr>\n",
       "  </tbody>\n",
       "</table>\n",
       "</div>"
      ],
      "text/plain": [
       "                           our BERT_BASE original BERT_BASE  our BERT_LARGE  \\\n",
       "train_runtime_s               129.712700                  -      389.104100   \n",
       "eval_loss                       0.733613                  -        0.748384   \n",
       "eval_matthews_correlation       0.559852                  -        0.531249   \n",
       "test_matthews_correlation       0.531966              0.521        0.511084   \n",
       "\n",
       "                          original BERT_LARGE  \n",
       "train_runtime_s                             -  \n",
       "eval_loss                                   -  \n",
       "eval_matthews_correlation                   -  \n",
       "test_matthews_correlation               0.605  "
      ]
     },
     "execution_count": 53,
     "metadata": {},
     "output_type": "execute_result"
    }
   ],
   "source": [
    "display(Markdown(f\"### Best Model performance:\"))\n",
    "results[\"our BERT_LARGE\"] = [\n",
    "    training_summary_bert_large.metrics[\"train_runtime\"],\n",
    "    best_model_evaluation[\"eval_loss\"],\n",
    "    best_model_evaluation[\"eval_matthews_correlation\"],\n",
    "    predictions.metrics[\"test_matthews_correlation\"],\n",
    "]\n",
    "results = results[\n",
    "    [\n",
    "        \"our BERT_BASE\",\n",
    "        \"original BERT_BASE\",\n",
    "        \"our BERT_LARGE\",\n",
    "        \"original BERT_LARGE\",\n",
    "    ]\n",
    "]\n",
    "print('\"BERT_BASE\" and \"BERT_LARGE\" performance on GLUE testing data as reported in original paper.')\n",
    "results"
   ]
  },
  {
   "cell_type": "markdown",
   "metadata": {},
   "source": [
    "## 4. ModernBERT-base"
   ]
  },
  {
   "cell_type": "code",
   "execution_count": 54,
   "metadata": {},
   "outputs": [],
   "source": [
    "PRE_TRAINED_CHECKPOINT = \"answerdotai/ModernBERT-base\" "
   ]
  },
  {
   "cell_type": "markdown",
   "metadata": {},
   "source": [
    "### 4.1 Tokenization"
   ]
  },
  {
   "cell_type": "code",
   "execution_count": 55,
   "metadata": {},
   "outputs": [
    {
     "data": {
      "application/vnd.jupyter.widget-view+json": {
       "model_id": "61d4906d60b347b680620086878187aa",
       "version_major": 2,
       "version_minor": 0
      },
      "text/plain": [
       "Map:   0%|          | 0/7695 [00:00<?, ? examples/s]"
      ]
     },
     "metadata": {},
     "output_type": "display_data"
    },
    {
     "name": "stderr",
     "output_type": "stream",
     "text": [
      "Asking to truncate to max_length but no maximum length is provided and the model has no predefined maximum length. Default to no truncation.\n"
     ]
    },
    {
     "data": {
      "application/vnd.jupyter.widget-view+json": {
       "model_id": "96678aa4cd0e47348443095371c37c92",
       "version_major": 2,
       "version_minor": 0
      },
      "text/plain": [
       "Map:   0%|          | 0/1043 [00:00<?, ? examples/s]"
      ]
     },
     "metadata": {},
     "output_type": "display_data"
    },
    {
     "data": {
      "application/vnd.jupyter.widget-view+json": {
       "model_id": "47be695a13274b129d0f71f67b304452",
       "version_major": 2,
       "version_minor": 0
      },
      "text/plain": [
       "Map:   0%|          | 0/856 [00:00<?, ? examples/s]"
      ]
     },
     "metadata": {},
     "output_type": "display_data"
    }
   ],
   "source": [
    "from transformers import AutoTokenizer\n",
    "\n",
    "tokenizer = AutoTokenizer.from_pretrained(PRE_TRAINED_CHECKPOINT, do_lower_case=\"uncased\" in PRE_TRAINED_CHECKPOINT)\n",
    "\n",
    "def tokenize_func(item):\n",
    "    \"\"\"Tokenize passed item. \n",
    "    \n",
    "    Depending on dataset task the passed item will either contain one sentence or two sentences.\n",
    "    In the last case the two sentences will be appended via a [SEP] token.\n",
    "    \"\"\"\n",
    "    if second_sentence_key is None:\n",
    "        return tokenizer(item[first_sentence_key], add_special_tokens=True, truncation=True)\n",
    "    else:\n",
    "        return tokenizer(item[first_sentence_key], item[second_sentence_key], add_special_tokens=True, truncation=True)\n",
    "\n",
    "tokenized_dataset = dataset.map(tokenize_func, batched=True)"
   ]
  },
  {
   "cell_type": "code",
   "execution_count": 56,
   "metadata": {},
   "outputs": [],
   "source": [
    "from transformers import DataCollatorWithPadding\n",
    "\n",
    "data_collator = DataCollatorWithPadding(tokenizer=tokenizer)"
   ]
  },
  {
   "cell_type": "markdown",
   "metadata": {},
   "source": [
    "### 4.2 Metrics"
   ]
  },
  {
   "cell_type": "code",
   "execution_count": 57,
   "metadata": {},
   "outputs": [
    {
     "name": "stdout",
     "output_type": "stream",
     "text": [
      "We will use \"['matthews_correlation']\" as an evaluation metric for the task cola\n"
     ]
    }
   ],
   "source": [
    "import evaluate\n",
    "\n",
    "metric = evaluate.load(DATASET_NAME, DATASET_TASK)\n",
    "\n",
    "metric_for_best_model = _task_to_metric[DATASET_TASK]\n",
    "metric_names = get_metric_name_for_specific_task()\n",
    "print(f'We will use \"{metric_names}\" as an evaluation metric for the task {DATASET_TASK}')"
   ]
  },
  {
   "cell_type": "code",
   "execution_count": 58,
   "metadata": {},
   "outputs": [],
   "source": [
    "assert metric_for_best_model in metric_names, \"Metric to optimize for not found in evaluation metrics provided by GLUE\""
   ]
  },
  {
   "cell_type": "markdown",
   "metadata": {},
   "source": [
    "### 4.3 Training"
   ]
  },
  {
   "cell_type": "code",
   "execution_count": 59,
   "metadata": {},
   "outputs": [],
   "source": [
    "BATCH_SIZE = 32"
   ]
  },
  {
   "cell_type": "code",
   "execution_count": 60,
   "metadata": {},
   "outputs": [
    {
     "data": {
      "text/plain": [
       "5138"
      ]
     },
     "execution_count": 60,
     "metadata": {},
     "output_type": "execute_result"
    }
   ],
   "source": [
    "import gc\n",
    "\n",
    "try:\n",
    "    del model\n",
    "    del trainer\n",
    "except:\n",
    "    pass\n",
    "\n",
    "\n",
    "gc.collect()"
   ]
  },
  {
   "cell_type": "code",
   "execution_count": 61,
   "metadata": {},
   "outputs": [
    {
     "name": "stderr",
     "output_type": "stream",
     "text": [
      "Some weights of ModernBertForSequenceClassification were not initialized from the model checkpoint at answerdotai/ModernBERT-base and are newly initialized: ['classifier.bias', 'classifier.weight']\n",
      "You should probably TRAIN this model on a down-stream task to be able to use it for predictions and inference.\n"
     ]
    }
   ],
   "source": [
    "from transformers import AutoModelForSequenceClassification\n",
    "\n",
    "model = AutoModelForSequenceClassification.from_pretrained(\n",
    "    PRE_TRAINED_CHECKPOINT,\n",
    "    num_labels=num_labels,\n",
    "    reference_compile=False\n",
    ")\n",
    "\n",
    "from transformers import TrainingArguments\n",
    "\n",
    "training_arguments = TrainingArguments(\n",
    "    output_dir=(TRAIN_OUTPUT_DIR / PRE_TRAINED_CHECKPOINT.replace(\"/\", \"_\")).resolve(),\n",
    "    per_device_train_batch_size=BATCH_SIZE,\n",
    "    per_device_eval_batch_size=BATCH_SIZE,\n",
    "    eval_strategy=\"epoch\",\n",
    "    save_strategy=\"epoch\",\n",
    "    logging_strategy=\"epoch\",\n",
    "    num_train_epochs=NUM_EPOCHS,\n",
    "    lr_scheduler_type=\"linear\",\n",
    "    optim=\"adamw_torch\",\n",
    "    adam_beta1=0.9,\n",
    "    adam_beta2=0.98,\n",
    "    adam_epsilon=1e-6,\n",
    "    learning_rate=8e-5,  # Original paper recommends 8e-5\n",
    "    weight_decay=0.01,  # Original paper uses 0.01 on pre-training\n",
    "    save_total_limit = 3,  # Keep at most the three checkpoints (latest + best one)\n",
    "    load_best_model_at_end=True,\n",
    "    metric_for_best_model=metric_for_best_model,\n",
    "    bf16=True,\n",
    "    bf16_full_eval=True,\n",
    ")\n",
    "\n",
    "from transformers import Trainer\n",
    "\n",
    "validation_key = \"validation_mismatched\" if DATASET_TASK == \"mnli-mm\" else \"validation_matched\" if DATASET_TASK == \"mnli\" else \"validation\"\n",
    "\n",
    "trainer = Trainer(\n",
    "    model=model,\n",
    "    args=training_arguments,\n",
    "    train_dataset=tokenized_dataset[\"train\"],\n",
    "    eval_dataset=tokenized_dataset[validation_key],\n",
    "    data_collator=data_collator,\n",
    "    processing_class=tokenizer,\n",
    "    compute_metrics=compute_metrics\n",
    ")"
   ]
  },
  {
   "cell_type": "code",
   "execution_count": 62,
   "metadata": {},
   "outputs": [
    {
     "name": "stdout",
     "output_type": "stream",
     "text": [
      "--- training_arguments.output_dir='/home/markhun/Development/groups/192.039-2024W/bert/training/glue-cola/answerdotai_ModernBERT-base'\n",
      "--- training_arguments.metric_for_best_model='matthews_correlation'\n"
     ]
    },
    {
     "data": {
      "text/html": [
       "\n",
       "    <div>\n",
       "      \n",
       "      <progress value='1205' max='1205' style='width:300px; height:20px; vertical-align: middle;'></progress>\n",
       "      [1205/1205 02:58, Epoch 5/5]\n",
       "    </div>\n",
       "    <table border=\"1\" class=\"dataframe\">\n",
       "  <thead>\n",
       " <tr style=\"text-align: left;\">\n",
       "      <th>Epoch</th>\n",
       "      <th>Training Loss</th>\n",
       "      <th>Validation Loss</th>\n",
       "      <th>Matthews Correlation</th>\n",
       "    </tr>\n",
       "  </thead>\n",
       "  <tbody>\n",
       "    <tr>\n",
       "      <td>1</td>\n",
       "      <td>0.628300</td>\n",
       "      <td>0.637483</td>\n",
       "      <td>0.000000</td>\n",
       "    </tr>\n",
       "    <tr>\n",
       "      <td>2</td>\n",
       "      <td>0.538500</td>\n",
       "      <td>0.435168</td>\n",
       "      <td>0.544352</td>\n",
       "    </tr>\n",
       "    <tr>\n",
       "      <td>3</td>\n",
       "      <td>0.290700</td>\n",
       "      <td>0.394954</td>\n",
       "      <td>0.586494</td>\n",
       "    </tr>\n",
       "    <tr>\n",
       "      <td>4</td>\n",
       "      <td>0.125700</td>\n",
       "      <td>0.587729</td>\n",
       "      <td>0.592008</td>\n",
       "    </tr>\n",
       "    <tr>\n",
       "      <td>5</td>\n",
       "      <td>0.050200</td>\n",
       "      <td>0.795942</td>\n",
       "      <td>0.597332</td>\n",
       "    </tr>\n",
       "  </tbody>\n",
       "</table><p>"
      ],
      "text/plain": [
       "<IPython.core.display.HTML object>"
      ]
     },
     "metadata": {},
     "output_type": "display_data"
    }
   ],
   "source": [
    "torch.cuda.empty_cache()\n",
    "\n",
    "print(f\"--- {training_arguments.output_dir=}\")\n",
    "print(f\"--- {training_arguments.metric_for_best_model=}\")\n",
    "training_summary_modernbert_base = trainer.train()"
   ]
  },
  {
   "cell_type": "code",
   "execution_count": 63,
   "metadata": {},
   "outputs": [
    {
     "data": {
      "text/plain": [
       "TrainOutput(global_step=1205, training_loss=0.32667524567283535, metrics={'train_runtime': 178.9546, 'train_samples_per_second': 214.999, 'train_steps_per_second': 6.734, 'total_flos': 589014578777352.0, 'train_loss': 0.32667524567283535, 'epoch': 5.0})"
      ]
     },
     "execution_count": 63,
     "metadata": {},
     "output_type": "execute_result"
    }
   ],
   "source": [
    "training_summary_modernbert_base"
   ]
  },
  {
   "cell_type": "code",
   "execution_count": 64,
   "metadata": {},
   "outputs": [
    {
     "data": {
      "text/html": [],
      "text/plain": [
       "<IPython.core.display.HTML object>"
      ]
     },
     "metadata": {},
     "output_type": "display_data"
    },
    {
     "data": {
      "text/plain": [
       "{'eval_loss': 0.7970409393310547,\n",
       " 'eval_matthews_correlation': 0.594786450396496,\n",
       " 'eval_runtime': 0.8947,\n",
       " 'eval_samples_per_second': 1165.71,\n",
       " 'eval_steps_per_second': 36.882,\n",
       " 'epoch': 5.0}"
      ]
     },
     "execution_count": 64,
     "metadata": {},
     "output_type": "execute_result"
    }
   ],
   "source": [
    "best_model_evaluation = trainer.evaluate()\n",
    "best_model_evaluation"
   ]
  },
  {
   "cell_type": "code",
   "execution_count": 65,
   "metadata": {},
   "outputs": [
    {
     "data": {
      "text/html": [
       "<div>\n",
       "<style scoped>\n",
       "    .dataframe tbody tr th:only-of-type {\n",
       "        vertical-align: middle;\n",
       "    }\n",
       "\n",
       "    .dataframe tbody tr th {\n",
       "        vertical-align: top;\n",
       "    }\n",
       "\n",
       "    .dataframe thead th {\n",
       "        text-align: right;\n",
       "    }\n",
       "</style>\n",
       "<table border=\"1\" class=\"dataframe\">\n",
       "  <thead>\n",
       "    <tr style=\"text-align: right;\">\n",
       "      <th></th>\n",
       "      <th>loss</th>\n",
       "      <th>grad_norm</th>\n",
       "      <th>learning_rate</th>\n",
       "      <th>step</th>\n",
       "      <th>eval_loss</th>\n",
       "      <th>eval_matthews_correlation</th>\n",
       "      <th>eval_runtime</th>\n",
       "      <th>eval_samples_per_second</th>\n",
       "      <th>eval_steps_per_second</th>\n",
       "      <th>train_runtime</th>\n",
       "      <th>train_samples_per_second</th>\n",
       "      <th>train_steps_per_second</th>\n",
       "      <th>total_flos</th>\n",
       "      <th>train_loss</th>\n",
       "    </tr>\n",
       "    <tr>\n",
       "      <th>epoch</th>\n",
       "      <th></th>\n",
       "      <th></th>\n",
       "      <th></th>\n",
       "      <th></th>\n",
       "      <th></th>\n",
       "      <th></th>\n",
       "      <th></th>\n",
       "      <th></th>\n",
       "      <th></th>\n",
       "      <th></th>\n",
       "      <th></th>\n",
       "      <th></th>\n",
       "      <th></th>\n",
       "      <th></th>\n",
       "    </tr>\n",
       "  </thead>\n",
       "  <tbody>\n",
       "    <tr>\n",
       "      <th>1</th>\n",
       "      <td>0.6283</td>\n",
       "      <td>3.765641</td>\n",
       "      <td>0.000064</td>\n",
       "      <td>241</td>\n",
       "      <td>0.637483</td>\n",
       "      <td>0.000000</td>\n",
       "      <td>1.0182</td>\n",
       "      <td>1024.401</td>\n",
       "      <td>32.412</td>\n",
       "      <td>NaN</td>\n",
       "      <td>NaN</td>\n",
       "      <td>NaN</td>\n",
       "      <td>NaN</td>\n",
       "      <td>NaN</td>\n",
       "    </tr>\n",
       "    <tr>\n",
       "      <th>2</th>\n",
       "      <td>0.5385</td>\n",
       "      <td>5.765023</td>\n",
       "      <td>0.000048</td>\n",
       "      <td>482</td>\n",
       "      <td>0.435168</td>\n",
       "      <td>0.544352</td>\n",
       "      <td>1.3170</td>\n",
       "      <td>791.942</td>\n",
       "      <td>25.057</td>\n",
       "      <td>NaN</td>\n",
       "      <td>NaN</td>\n",
       "      <td>NaN</td>\n",
       "      <td>NaN</td>\n",
       "      <td>NaN</td>\n",
       "    </tr>\n",
       "    <tr>\n",
       "      <th>3</th>\n",
       "      <td>0.2907</td>\n",
       "      <td>5.128100</td>\n",
       "      <td>0.000032</td>\n",
       "      <td>723</td>\n",
       "      <td>0.394954</td>\n",
       "      <td>0.586494</td>\n",
       "      <td>1.0118</td>\n",
       "      <td>1030.817</td>\n",
       "      <td>32.615</td>\n",
       "      <td>NaN</td>\n",
       "      <td>NaN</td>\n",
       "      <td>NaN</td>\n",
       "      <td>NaN</td>\n",
       "      <td>NaN</td>\n",
       "    </tr>\n",
       "    <tr>\n",
       "      <th>4</th>\n",
       "      <td>0.1257</td>\n",
       "      <td>1.263393</td>\n",
       "      <td>0.000016</td>\n",
       "      <td>964</td>\n",
       "      <td>0.587729</td>\n",
       "      <td>0.592008</td>\n",
       "      <td>0.8928</td>\n",
       "      <td>1168.269</td>\n",
       "      <td>36.963</td>\n",
       "      <td>NaN</td>\n",
       "      <td>NaN</td>\n",
       "      <td>NaN</td>\n",
       "      <td>NaN</td>\n",
       "      <td>NaN</td>\n",
       "    </tr>\n",
       "    <tr>\n",
       "      <th>5</th>\n",
       "      <td>0.0502</td>\n",
       "      <td>0.565986</td>\n",
       "      <td>0.000000</td>\n",
       "      <td>1205</td>\n",
       "      <td>0.795942</td>\n",
       "      <td>0.597332</td>\n",
       "      <td>0.9043</td>\n",
       "      <td>1153.415</td>\n",
       "      <td>36.493</td>\n",
       "      <td>178.9546</td>\n",
       "      <td>214.999</td>\n",
       "      <td>6.734</td>\n",
       "      <td>5.890146e+14</td>\n",
       "      <td>0.326675</td>\n",
       "    </tr>\n",
       "  </tbody>\n",
       "</table>\n",
       "</div>"
      ],
      "text/plain": [
       "         loss  grad_norm  learning_rate  step  eval_loss  \\\n",
       "epoch                                                      \n",
       "1      0.6283   3.765641       0.000064   241   0.637483   \n",
       "2      0.5385   5.765023       0.000048   482   0.435168   \n",
       "3      0.2907   5.128100       0.000032   723   0.394954   \n",
       "4      0.1257   1.263393       0.000016   964   0.587729   \n",
       "5      0.0502   0.565986       0.000000  1205   0.795942   \n",
       "\n",
       "       eval_matthews_correlation  eval_runtime  eval_samples_per_second  \\\n",
       "epoch                                                                     \n",
       "1                       0.000000        1.0182                 1024.401   \n",
       "2                       0.544352        1.3170                  791.942   \n",
       "3                       0.586494        1.0118                 1030.817   \n",
       "4                       0.592008        0.8928                 1168.269   \n",
       "5                       0.597332        0.9043                 1153.415   \n",
       "\n",
       "       eval_steps_per_second  train_runtime  train_samples_per_second  \\\n",
       "epoch                                                                   \n",
       "1                     32.412            NaN                       NaN   \n",
       "2                     25.057            NaN                       NaN   \n",
       "3                     32.615            NaN                       NaN   \n",
       "4                     36.963            NaN                       NaN   \n",
       "5                     36.493       178.9546                   214.999   \n",
       "\n",
       "       train_steps_per_second    total_flos  train_loss  \n",
       "epoch                                                    \n",
       "1                         NaN           NaN         NaN  \n",
       "2                         NaN           NaN         NaN  \n",
       "3                         NaN           NaN         NaN  \n",
       "4                         NaN           NaN         NaN  \n",
       "5                       6.734  5.890146e+14    0.326675  "
      ]
     },
     "execution_count": 65,
     "metadata": {},
     "output_type": "execute_result"
    }
   ],
   "source": [
    "training_history_modernbert_base = pd.DataFrame(trainer.state.log_history)\n",
    "training_history_modernbert_base.epoch = training_history_modernbert_base.epoch.astype(int)\n",
    "training_history_modernbert_base.groupby(\"epoch\").first()"
   ]
  },
  {
   "cell_type": "code",
   "execution_count": 66,
   "metadata": {},
   "outputs": [
    {
     "data": {
      "text/markdown": [
       "### Loss and Evaluation Metrics over Training Epochs (answerdotai/ModernBERT-base)"
      ],
      "text/plain": [
       "<IPython.core.display.Markdown object>"
      ]
     },
     "metadata": {},
     "output_type": "display_data"
    },
    {
     "data": {
      "image/png": "[encoded data removed]",
      "text/plain": [
       "<Figure size 640x480 with 1 Axes>"
      ]
     },
     "metadata": {},
     "output_type": "display_data"
    }
   ],
   "source": [
    "import seaborn as sns\n",
    "\n",
    "data = training_history_modernbert_base[[\"loss\", \"eval_loss\", \"epoch\", f\"eval_{metric_for_best_model}\"]]\n",
    "data.columns = [\"Train. Loss\", \"Eval. Loss\", \"Training Epoch\", \"Matthew's Corr.\"]\n",
    "data = data[:-1]\n",
    "data = pd.melt(data, ['Training Epoch']).dropna()\n",
    "\n",
    "plot = sns.lineplot(data=data, x=\"Training Epoch\", y=\"value\", hue=\"variable\", style=\"variable\", markers=True)\n",
    "plot.set_ylabel(\"\")\n",
    "plot.set(xticks=list(set(training_history_modernbert_base.epoch)))\n",
    "plot.set_ylim((0, plot.get_ylim()[1]))\n",
    "plot.legend(title=\"\")\n",
    "\n",
    "\n",
    "from IPython.display import Markdown, display\n",
    "display(Markdown(f\"### Loss and Evaluation Metrics over Training Epochs ({PRE_TRAINED_CHECKPOINT})\"))"
   ]
  },
  {
   "cell_type": "markdown",
   "metadata": {},
   "source": [
    "### 3.4 Evaluation"
   ]
  },
  {
   "cell_type": "code",
   "execution_count": 67,
   "metadata": {},
   "outputs": [],
   "source": [
    "predictions = trainer.predict(tokenized_dataset[\"test\"])"
   ]
  },
  {
   "cell_type": "code",
   "execution_count": 68,
   "metadata": {},
   "outputs": [
    {
     "data": {
      "text/markdown": [
       "### Prediction Confusion Matrix (answerdotai/ModernBERT-base)"
      ],
      "text/plain": [
       "<IPython.core.display.Markdown object>"
      ]
     },
     "metadata": {},
     "output_type": "display_data"
    },
    {
     "data": {
      "image/png": "[encoded data removed]",
      "text/plain": [
       "<Figure size 640x480 with 2 Axes>"
      ]
     },
     "metadata": {},
     "output_type": "display_data"
    }
   ],
   "source": [
    "import sklearn.metrics\n",
    "\n",
    "modernbert_base_cm = sklearn.metrics.confusion_matrix(tokenized_dataset[\"test\"]['label'], predictions.predictions.argmax(-1))\n",
    "plot = sns.heatmap(modernbert_base_cm, annot=True, fmt='d')\n",
    "plot.set_xlabel(\"True label\")\n",
    "plot.set_ylabel(\"Predicted label\")\n",
    "\n",
    "from IPython.display import Markdown, display\n",
    "display(Markdown(f\"### Prediction Confusion Matrix ({PRE_TRAINED_CHECKPOINT})\"))"
   ]
  },
  {
   "cell_type": "code",
   "execution_count": 69,
   "metadata": {},
   "outputs": [
    {
     "data": {
      "text/plain": [
       "{'test_loss': 0.8084178566932678,\n",
       " 'test_matthews_correlation': 0.621066650657669,\n",
       " 'test_runtime': 0.8085,\n",
       " 'test_samples_per_second': 1058.688,\n",
       " 'test_steps_per_second': 33.393}"
      ]
     },
     "execution_count": 69,
     "metadata": {},
     "output_type": "execute_result"
    }
   ],
   "source": [
    "predictions.metrics"
   ]
  },
  {
   "cell_type": "code",
   "execution_count": 70,
   "metadata": {},
   "outputs": [
    {
     "data": {
      "text/markdown": [
       "### Best Model performance:"
      ],
      "text/plain": [
       "<IPython.core.display.Markdown object>"
      ]
     },
     "metadata": {},
     "output_type": "display_data"
    },
    {
     "name": "stdout",
     "output_type": "stream",
     "text": [
      "\"BERT_BASE\" and \"BERT_LARGE\" performance on GLUE testing data as reported in original paper.\n"
     ]
    },
    {
     "name": "stderr",
     "output_type": "stream",
     "text": [
      "/tmp/ipykernel_612376/843800445.py:2: SettingWithCopyWarning: \n",
      "A value is trying to be set on a copy of a slice from a DataFrame.\n",
      "Try using .loc[row_indexer,col_indexer] = value instead\n",
      "\n",
      "See the caveats in the documentation: https://pandas.pydata.org/pandas-docs/stable/user_guide/indexing.html#returning-a-view-versus-a-copy\n",
      "  results[\"our ModernBERT_BASE\"] = [\n"
     ]
    },
    {
     "data": {
      "text/html": [
       "<div>\n",
       "<style scoped>\n",
       "    .dataframe tbody tr th:only-of-type {\n",
       "        vertical-align: middle;\n",
       "    }\n",
       "\n",
       "    .dataframe tbody tr th {\n",
       "        vertical-align: top;\n",
       "    }\n",
       "\n",
       "    .dataframe thead th {\n",
       "        text-align: right;\n",
       "    }\n",
       "</style>\n",
       "<table border=\"1\" class=\"dataframe\">\n",
       "  <thead>\n",
       "    <tr style=\"text-align: right;\">\n",
       "      <th></th>\n",
       "      <th>our BERT_BASE</th>\n",
       "      <th>original BERT_BASE</th>\n",
       "      <th>our ModernBERT_BASE</th>\n",
       "      <th>our BERT_LARGE</th>\n",
       "      <th>original BERT_LARGE</th>\n",
       "    </tr>\n",
       "  </thead>\n",
       "  <tbody>\n",
       "    <tr>\n",
       "      <th>train_runtime_s</th>\n",
       "      <td>129.712700</td>\n",
       "      <td>-</td>\n",
       "      <td>178.954600</td>\n",
       "      <td>389.104100</td>\n",
       "      <td>-</td>\n",
       "    </tr>\n",
       "    <tr>\n",
       "      <th>eval_loss</th>\n",
       "      <td>0.733613</td>\n",
       "      <td>-</td>\n",
       "      <td>0.797041</td>\n",
       "      <td>0.748384</td>\n",
       "      <td>-</td>\n",
       "    </tr>\n",
       "    <tr>\n",
       "      <th>eval_matthews_correlation</th>\n",
       "      <td>0.559852</td>\n",
       "      <td>-</td>\n",
       "      <td>0.594786</td>\n",
       "      <td>0.531249</td>\n",
       "      <td>-</td>\n",
       "    </tr>\n",
       "    <tr>\n",
       "      <th>test_matthews_correlation</th>\n",
       "      <td>0.531966</td>\n",
       "      <td>0.521</td>\n",
       "      <td>0.621067</td>\n",
       "      <td>0.511084</td>\n",
       "      <td>0.605</td>\n",
       "    </tr>\n",
       "  </tbody>\n",
       "</table>\n",
       "</div>"
      ],
      "text/plain": [
       "                           our BERT_BASE original BERT_BASE  \\\n",
       "train_runtime_s               129.712700                  -   \n",
       "eval_loss                       0.733613                  -   \n",
       "eval_matthews_correlation       0.559852                  -   \n",
       "test_matthews_correlation       0.531966              0.521   \n",
       "\n",
       "                           our ModernBERT_BASE  our BERT_LARGE  \\\n",
       "train_runtime_s                     178.954600      389.104100   \n",
       "eval_loss                             0.797041        0.748384   \n",
       "eval_matthews_correlation             0.594786        0.531249   \n",
       "test_matthews_correlation             0.621067        0.511084   \n",
       "\n",
       "                          original BERT_LARGE  \n",
       "train_runtime_s                             -  \n",
       "eval_loss                                   -  \n",
       "eval_matthews_correlation                   -  \n",
       "test_matthews_correlation               0.605  "
      ]
     },
     "execution_count": 70,
     "metadata": {},
     "output_type": "execute_result"
    }
   ],
   "source": [
    "display(Markdown(f\"### Best Model performance:\"))\n",
    "results[\"our ModernBERT_BASE\"] = [\n",
    "    training_summary_modernbert_base.metrics[\"train_runtime\"],\n",
    "    best_model_evaluation[\"eval_loss\"],\n",
    "    best_model_evaluation[\"eval_matthews_correlation\"],\n",
    "    predictions.metrics[\"test_matthews_correlation\"],\n",
    "]\n",
    "results = results[\n",
    "    [\n",
    "        \"our BERT_BASE\",\n",
    "        \"original BERT_BASE\",\n",
    "        \"our ModernBERT_BASE\",\n",
    "        \"our BERT_LARGE\",\n",
    "        \"original BERT_LARGE\",\n",
    "    ]\n",
    "]\n",
    "print('\"BERT_BASE\" and \"BERT_LARGE\" performance on GLUE testing data as reported in original paper.')\n",
    "results"
   ]
  },
  {
   "cell_type": "markdown",
   "metadata": {},
   "source": [
    "## 5. ModernBERT-Large"
   ]
  },
  {
   "cell_type": "code",
   "execution_count": 71,
   "metadata": {},
   "outputs": [],
   "source": [
    "PRE_TRAINED_CHECKPOINT = \"answerdotai/ModernBERT-large\" "
   ]
  },
  {
   "cell_type": "markdown",
   "metadata": {},
   "source": [
    "### 4.1 Tokenization"
   ]
  },
  {
   "cell_type": "code",
   "execution_count": 72,
   "metadata": {},
   "outputs": [
    {
     "data": {
      "application/vnd.jupyter.widget-view+json": {
       "model_id": "48b4df340b8443268f46dedafe8bf547",
       "version_major": 2,
       "version_minor": 0
      },
      "text/plain": [
       "Map:   0%|          | 0/7695 [00:00<?, ? examples/s]"
      ]
     },
     "metadata": {},
     "output_type": "display_data"
    },
    {
     "name": "stderr",
     "output_type": "stream",
     "text": [
      "Asking to truncate to max_length but no maximum length is provided and the model has no predefined maximum length. Default to no truncation.\n"
     ]
    },
    {
     "data": {
      "application/vnd.jupyter.widget-view+json": {
       "model_id": "fdeb05ac811e467c86491636d3d3537f",
       "version_major": 2,
       "version_minor": 0
      },
      "text/plain": [
       "Map:   0%|          | 0/1043 [00:00<?, ? examples/s]"
      ]
     },
     "metadata": {},
     "output_type": "display_data"
    },
    {
     "data": {
      "application/vnd.jupyter.widget-view+json": {
       "model_id": "c7414adb61954946adac880c7fd012bd",
       "version_major": 2,
       "version_minor": 0
      },
      "text/plain": [
       "Map:   0%|          | 0/856 [00:00<?, ? examples/s]"
      ]
     },
     "metadata": {},
     "output_type": "display_data"
    }
   ],
   "source": [
    "from transformers import AutoTokenizer\n",
    "\n",
    "tokenizer = AutoTokenizer.from_pretrained(PRE_TRAINED_CHECKPOINT, do_lower_case=\"uncased\" in PRE_TRAINED_CHECKPOINT)\n",
    "\n",
    "def tokenize_func(item):\n",
    "    \"\"\"Tokenize passed item. \n",
    "    \n",
    "    Depending on dataset task the passed item will either contain one sentence or two sentences.\n",
    "    In the last case the two sentences will be appended via a [SEP] token.\n",
    "    \"\"\"\n",
    "    if second_sentence_key is None:\n",
    "        return tokenizer(item[first_sentence_key], add_special_tokens=True, truncation=True)\n",
    "    else:\n",
    "        return tokenizer(item[first_sentence_key], item[second_sentence_key], add_special_tokens=True, truncation=True)\n",
    "\n",
    "tokenized_dataset = dataset.map(tokenize_func, batched=True)"
   ]
  },
  {
   "cell_type": "code",
   "execution_count": 73,
   "metadata": {},
   "outputs": [],
   "source": [
    "from transformers import DataCollatorWithPadding\n",
    "\n",
    "data_collator = DataCollatorWithPadding(tokenizer=tokenizer)"
   ]
  },
  {
   "cell_type": "markdown",
   "metadata": {},
   "source": [
    "### 4.2 Metrics"
   ]
  },
  {
   "cell_type": "code",
   "execution_count": 74,
   "metadata": {},
   "outputs": [
    {
     "name": "stdout",
     "output_type": "stream",
     "text": [
      "We will use \"['matthews_correlation']\" as an evaluation metric for the task cola\n"
     ]
    }
   ],
   "source": [
    "import evaluate\n",
    "\n",
    "metric = evaluate.load(DATASET_NAME, DATASET_TASK)\n",
    "\n",
    "metric_for_best_model = _task_to_metric[DATASET_TASK]\n",
    "metric_names = get_metric_name_for_specific_task()\n",
    "print(f'We will use \"{metric_names}\" as an evaluation metric for the task {DATASET_TASK}')"
   ]
  },
  {
   "cell_type": "code",
   "execution_count": 75,
   "metadata": {},
   "outputs": [],
   "source": [
    "assert metric_for_best_model in metric_names, \"Metric to optimize for not found in evaluation metrics provided by GLUE\""
   ]
  },
  {
   "cell_type": "markdown",
   "metadata": {},
   "source": [
    "### 4.3 Training"
   ]
  },
  {
   "cell_type": "code",
   "execution_count": 76,
   "metadata": {},
   "outputs": [],
   "source": [
    "BATCH_SIZE = 16"
   ]
  },
  {
   "cell_type": "code",
   "execution_count": 77,
   "metadata": {},
   "outputs": [],
   "source": [
    "import gc\n",
    "\n",
    "try:\n",
    "    del model\n",
    "    del trainer\n",
    "except:\n",
    "    pass\n",
    "\n",
    "\n",
    "gc.collect()\n",
    "torch.cuda.empty_cache()"
   ]
  },
  {
   "cell_type": "code",
   "execution_count": 78,
   "metadata": {},
   "outputs": [
    {
     "name": "stderr",
     "output_type": "stream",
     "text": [
      "Some weights of ModernBertForSequenceClassification were not initialized from the model checkpoint at answerdotai/ModernBERT-large and are newly initialized: ['classifier.bias', 'classifier.weight']\n",
      "You should probably TRAIN this model on a down-stream task to be able to use it for predictions and inference.\n"
     ]
    }
   ],
   "source": [
    "from transformers import AutoModelForSequenceClassification\n",
    "\n",
    "model = AutoModelForSequenceClassification.from_pretrained(\n",
    "    PRE_TRAINED_CHECKPOINT,\n",
    "    num_labels=num_labels,\n",
    "    reference_compile=False\n",
    ")\n",
    "\n",
    "from transformers import TrainingArguments\n",
    "\n",
    "training_arguments = TrainingArguments(\n",
    "    output_dir=(TRAIN_OUTPUT_DIR / PRE_TRAINED_CHECKPOINT.replace(\"/\", \"_\")).resolve(),\n",
    "    per_device_train_batch_size=BATCH_SIZE,\n",
    "    per_device_eval_batch_size=BATCH_SIZE,\n",
    "    eval_strategy=\"epoch\",\n",
    "    save_strategy=\"epoch\",\n",
    "    logging_strategy=\"epoch\",\n",
    "    num_train_epochs=NUM_EPOCHS,\n",
    "    lr_scheduler_type=\"linear\",\n",
    "    optim=\"adamw_torch\",\n",
    "    adam_beta1=0.9,\n",
    "    adam_beta2=0.98,\n",
    "    adam_epsilon=1e-6,\n",
    "    learning_rate=8e-5,  # Original paper recommends 8e-5\n",
    "    weight_decay=0.01,  # Original paper uses 0.01 on pre-training\n",
    "    save_total_limit = 3,  # Keep at most the three checkpoints (latest + best one)\n",
    "    load_best_model_at_end=True,\n",
    "    metric_for_best_model=metric_for_best_model,\n",
    "    bf16=True,\n",
    "    bf16_full_eval=True,\n",
    ")\n",
    "\n",
    "from transformers import Trainer\n",
    "\n",
    "validation_key = \"validation_mismatched\" if DATASET_TASK == \"mnli-mm\" else \"validation_matched\" if DATASET_TASK == \"mnli\" else \"validation\"\n",
    "\n",
    "trainer = Trainer(\n",
    "    model=model,\n",
    "    args=training_arguments,\n",
    "    train_dataset=tokenized_dataset[\"train\"],\n",
    "    eval_dataset=tokenized_dataset[validation_key],\n",
    "    data_collator=data_collator,\n",
    "    processing_class=tokenizer,\n",
    "    compute_metrics=compute_metrics\n",
    ")"
   ]
  },
  {
   "cell_type": "code",
   "execution_count": 79,
   "metadata": {},
   "outputs": [
    {
     "name": "stdout",
     "output_type": "stream",
     "text": [
      "--- training_arguments.output_dir='/home/markhun/Development/groups/192.039-2024W/bert/training/glue-cola/answerdotai_ModernBERT-large'\n",
      "--- training_arguments.metric_for_best_model='matthews_correlation'\n"
     ]
    },
    {
     "data": {
      "text/html": [
       "\n",
       "    <div>\n",
       "      \n",
       "      <progress value='2405' max='2405' style='width:300px; height:20px; vertical-align: middle;'></progress>\n",
       "      [2405/2405 10:43, Epoch 5/5]\n",
       "    </div>\n",
       "    <table border=\"1\" class=\"dataframe\">\n",
       "  <thead>\n",
       " <tr style=\"text-align: left;\">\n",
       "      <th>Epoch</th>\n",
       "      <th>Training Loss</th>\n",
       "      <th>Validation Loss</th>\n",
       "      <th>Matthews Correlation</th>\n",
       "    </tr>\n",
       "  </thead>\n",
       "  <tbody>\n",
       "    <tr>\n",
       "      <td>1</td>\n",
       "      <td>0.530300</td>\n",
       "      <td>0.476717</td>\n",
       "      <td>0.523254</td>\n",
       "    </tr>\n",
       "    <tr>\n",
       "      <td>2</td>\n",
       "      <td>0.301700</td>\n",
       "      <td>0.480895</td>\n",
       "      <td>0.575366</td>\n",
       "    </tr>\n",
       "    <tr>\n",
       "      <td>3</td>\n",
       "      <td>0.163900</td>\n",
       "      <td>0.493717</td>\n",
       "      <td>0.586147</td>\n",
       "    </tr>\n",
       "    <tr>\n",
       "      <td>4</td>\n",
       "      <td>0.088400</td>\n",
       "      <td>0.824535</td>\n",
       "      <td>0.579227</td>\n",
       "    </tr>\n",
       "    <tr>\n",
       "      <td>5</td>\n",
       "      <td>0.036800</td>\n",
       "      <td>0.860127</td>\n",
       "      <td>0.620798</td>\n",
       "    </tr>\n",
       "  </tbody>\n",
       "</table><p>"
      ],
      "text/plain": [
       "<IPython.core.display.HTML object>"
      ]
     },
     "metadata": {},
     "output_type": "display_data"
    }
   ],
   "source": [
    "torch.cuda.empty_cache()\n",
    "\n",
    "print(f\"--- {training_arguments.output_dir=}\")\n",
    "print(f\"--- {training_arguments.metric_for_best_model=}\")\n",
    "training_summary_modernbert_large = trainer.train()"
   ]
  },
  {
   "cell_type": "code",
   "execution_count": 80,
   "metadata": {},
   "outputs": [
    {
     "data": {
      "text/plain": [
       "TrainOutput(global_step=2405, training_loss=0.22422587341181702, metrics={'train_runtime': 643.6831, 'train_samples_per_second': 59.773, 'train_steps_per_second': 3.736, 'total_flos': 1637009952398856.0, 'train_loss': 0.22422587341181702, 'epoch': 5.0})"
      ]
     },
     "execution_count": 80,
     "metadata": {},
     "output_type": "execute_result"
    }
   ],
   "source": [
    "training_summary_modernbert_large"
   ]
  },
  {
   "cell_type": "code",
   "execution_count": 81,
   "metadata": {},
   "outputs": [
    {
     "data": {
      "text/html": [],
      "text/plain": [
       "<IPython.core.display.HTML object>"
      ]
     },
     "metadata": {},
     "output_type": "display_data"
    },
    {
     "data": {
      "text/plain": [
       "{'eval_loss': 0.8602145314216614,\n",
       " 'eval_matthews_correlation': 0.6207979529065394,\n",
       " 'eval_runtime': 2.3038,\n",
       " 'eval_samples_per_second': 452.734,\n",
       " 'eval_steps_per_second': 28.649,\n",
       " 'epoch': 5.0}"
      ]
     },
     "execution_count": 81,
     "metadata": {},
     "output_type": "execute_result"
    }
   ],
   "source": [
    "best_model_evaluation = trainer.evaluate()\n",
    "best_model_evaluation"
   ]
  },
  {
   "cell_type": "code",
   "execution_count": 82,
   "metadata": {},
   "outputs": [
    {
     "data": {
      "text/html": [
       "<div>\n",
       "<style scoped>\n",
       "    .dataframe tbody tr th:only-of-type {\n",
       "        vertical-align: middle;\n",
       "    }\n",
       "\n",
       "    .dataframe tbody tr th {\n",
       "        vertical-align: top;\n",
       "    }\n",
       "\n",
       "    .dataframe thead th {\n",
       "        text-align: right;\n",
       "    }\n",
       "</style>\n",
       "<table border=\"1\" class=\"dataframe\">\n",
       "  <thead>\n",
       "    <tr style=\"text-align: right;\">\n",
       "      <th></th>\n",
       "      <th>loss</th>\n",
       "      <th>grad_norm</th>\n",
       "      <th>learning_rate</th>\n",
       "      <th>step</th>\n",
       "      <th>eval_loss</th>\n",
       "      <th>eval_matthews_correlation</th>\n",
       "      <th>eval_runtime</th>\n",
       "      <th>eval_samples_per_second</th>\n",
       "      <th>eval_steps_per_second</th>\n",
       "      <th>train_runtime</th>\n",
       "      <th>train_samples_per_second</th>\n",
       "      <th>train_steps_per_second</th>\n",
       "      <th>total_flos</th>\n",
       "      <th>train_loss</th>\n",
       "    </tr>\n",
       "    <tr>\n",
       "      <th>epoch</th>\n",
       "      <th></th>\n",
       "      <th></th>\n",
       "      <th></th>\n",
       "      <th></th>\n",
       "      <th></th>\n",
       "      <th></th>\n",
       "      <th></th>\n",
       "      <th></th>\n",
       "      <th></th>\n",
       "      <th></th>\n",
       "      <th></th>\n",
       "      <th></th>\n",
       "      <th></th>\n",
       "      <th></th>\n",
       "    </tr>\n",
       "  </thead>\n",
       "  <tbody>\n",
       "    <tr>\n",
       "      <th>1</th>\n",
       "      <td>0.5303</td>\n",
       "      <td>1.151275</td>\n",
       "      <td>0.000064</td>\n",
       "      <td>481</td>\n",
       "      <td>0.476717</td>\n",
       "      <td>0.523254</td>\n",
       "      <td>2.2828</td>\n",
       "      <td>456.905</td>\n",
       "      <td>28.912</td>\n",
       "      <td>NaN</td>\n",
       "      <td>NaN</td>\n",
       "      <td>NaN</td>\n",
       "      <td>NaN</td>\n",
       "      <td>NaN</td>\n",
       "    </tr>\n",
       "    <tr>\n",
       "      <th>2</th>\n",
       "      <td>0.3017</td>\n",
       "      <td>13.303311</td>\n",
       "      <td>0.000048</td>\n",
       "      <td>962</td>\n",
       "      <td>0.480895</td>\n",
       "      <td>0.575366</td>\n",
       "      <td>2.2087</td>\n",
       "      <td>472.219</td>\n",
       "      <td>29.882</td>\n",
       "      <td>NaN</td>\n",
       "      <td>NaN</td>\n",
       "      <td>NaN</td>\n",
       "      <td>NaN</td>\n",
       "      <td>NaN</td>\n",
       "    </tr>\n",
       "    <tr>\n",
       "      <th>3</th>\n",
       "      <td>0.1639</td>\n",
       "      <td>0.604715</td>\n",
       "      <td>0.000032</td>\n",
       "      <td>1443</td>\n",
       "      <td>0.493717</td>\n",
       "      <td>0.586147</td>\n",
       "      <td>2.2260</td>\n",
       "      <td>468.554</td>\n",
       "      <td>29.650</td>\n",
       "      <td>NaN</td>\n",
       "      <td>NaN</td>\n",
       "      <td>NaN</td>\n",
       "      <td>NaN</td>\n",
       "      <td>NaN</td>\n",
       "    </tr>\n",
       "    <tr>\n",
       "      <th>4</th>\n",
       "      <td>0.0884</td>\n",
       "      <td>0.338852</td>\n",
       "      <td>0.000016</td>\n",
       "      <td>1924</td>\n",
       "      <td>0.824535</td>\n",
       "      <td>0.579227</td>\n",
       "      <td>2.2967</td>\n",
       "      <td>454.122</td>\n",
       "      <td>28.736</td>\n",
       "      <td>NaN</td>\n",
       "      <td>NaN</td>\n",
       "      <td>NaN</td>\n",
       "      <td>NaN</td>\n",
       "      <td>NaN</td>\n",
       "    </tr>\n",
       "    <tr>\n",
       "      <th>5</th>\n",
       "      <td>0.0368</td>\n",
       "      <td>0.039510</td>\n",
       "      <td>0.000000</td>\n",
       "      <td>2405</td>\n",
       "      <td>0.860127</td>\n",
       "      <td>0.620798</td>\n",
       "      <td>2.3341</td>\n",
       "      <td>446.851</td>\n",
       "      <td>28.276</td>\n",
       "      <td>643.6831</td>\n",
       "      <td>59.773</td>\n",
       "      <td>3.736</td>\n",
       "      <td>1.637010e+15</td>\n",
       "      <td>0.224226</td>\n",
       "    </tr>\n",
       "  </tbody>\n",
       "</table>\n",
       "</div>"
      ],
      "text/plain": [
       "         loss  grad_norm  learning_rate  step  eval_loss  \\\n",
       "epoch                                                      \n",
       "1      0.5303   1.151275       0.000064   481   0.476717   \n",
       "2      0.3017  13.303311       0.000048   962   0.480895   \n",
       "3      0.1639   0.604715       0.000032  1443   0.493717   \n",
       "4      0.0884   0.338852       0.000016  1924   0.824535   \n",
       "5      0.0368   0.039510       0.000000  2405   0.860127   \n",
       "\n",
       "       eval_matthews_correlation  eval_runtime  eval_samples_per_second  \\\n",
       "epoch                                                                     \n",
       "1                       0.523254        2.2828                  456.905   \n",
       "2                       0.575366        2.2087                  472.219   \n",
       "3                       0.586147        2.2260                  468.554   \n",
       "4                       0.579227        2.2967                  454.122   \n",
       "5                       0.620798        2.3341                  446.851   \n",
       "\n",
       "       eval_steps_per_second  train_runtime  train_samples_per_second  \\\n",
       "epoch                                                                   \n",
       "1                     28.912            NaN                       NaN   \n",
       "2                     29.882            NaN                       NaN   \n",
       "3                     29.650            NaN                       NaN   \n",
       "4                     28.736            NaN                       NaN   \n",
       "5                     28.276       643.6831                    59.773   \n",
       "\n",
       "       train_steps_per_second    total_flos  train_loss  \n",
       "epoch                                                    \n",
       "1                         NaN           NaN         NaN  \n",
       "2                         NaN           NaN         NaN  \n",
       "3                         NaN           NaN         NaN  \n",
       "4                         NaN           NaN         NaN  \n",
       "5                       3.736  1.637010e+15    0.224226  "
      ]
     },
     "execution_count": 82,
     "metadata": {},
     "output_type": "execute_result"
    }
   ],
   "source": [
    "training_history_modernbert_large = pd.DataFrame(trainer.state.log_history)\n",
    "training_history_modernbert_large.epoch = training_history_modernbert_large.epoch.astype(int)\n",
    "training_history_modernbert_large.groupby(\"epoch\").first()"
   ]
  },
  {
   "cell_type": "code",
   "execution_count": 83,
   "metadata": {},
   "outputs": [
    {
     "data": {
      "text/markdown": [
       "### Loss and Evaluation Metrics over Training Epochs (answerdotai/ModernBERT-large)"
      ],
      "text/plain": [
       "<IPython.core.display.Markdown object>"
      ]
     },
     "metadata": {},
     "output_type": "display_data"
    },
    {
     "data": {
      "image/png": "[encoded data removed]",
      "text/plain": [
       "<Figure size 640x480 with 1 Axes>"
      ]
     },
     "metadata": {},
     "output_type": "display_data"
    }
   ],
   "source": [
    "import seaborn as sns\n",
    "\n",
    "data = training_history_modernbert_large[[\"loss\", \"eval_loss\", \"epoch\", f\"eval_{metric_for_best_model}\"]]\n",
    "data.columns = [\"Train. Loss\", \"Eval. Loss\", \"Training Epoch\", \"Matthew's Corr.\"]\n",
    "data = data[:-1]\n",
    "data = pd.melt(data, ['Training Epoch']).dropna()\n",
    "\n",
    "plot = sns.lineplot(data=data, x=\"Training Epoch\", y=\"value\", hue=\"variable\", style=\"variable\", markers=True)\n",
    "plot.set_ylabel(\"\")\n",
    "plot.set(xticks=list(set(training_history_modernbert_large.epoch)))\n",
    "plot.set_ylim((0, plot.get_ylim()[1]))\n",
    "plot.legend(title=\"\")\n",
    "\n",
    "\n",
    "from IPython.display import Markdown, display\n",
    "display(Markdown(f\"### Loss and Evaluation Metrics over Training Epochs ({PRE_TRAINED_CHECKPOINT})\"))"
   ]
  },
  {
   "cell_type": "markdown",
   "metadata": {},
   "source": [
    "### 3.4 Evaluation"
   ]
  },
  {
   "cell_type": "code",
   "execution_count": 84,
   "metadata": {},
   "outputs": [],
   "source": [
    "predictions = trainer.predict(tokenized_dataset[\"test\"])"
   ]
  },
  {
   "cell_type": "code",
   "execution_count": 85,
   "metadata": {},
   "outputs": [
    {
     "data": {
      "text/markdown": [
       "### Prediction Confusion Matrix (answerdotai/ModernBERT-large)"
      ],
      "text/plain": [
       "<IPython.core.display.Markdown object>"
      ]
     },
     "metadata": {},
     "output_type": "display_data"
    },
    {
     "data": {
      "image/png": "[encoded data removed]",
      "text/plain": [
       "<Figure size 640x480 with 2 Axes>"
      ]
     },
     "metadata": {},
     "output_type": "display_data"
    }
   ],
   "source": [
    "import sklearn.metrics\n",
    "\n",
    "modernbert_large_cm = sklearn.metrics.confusion_matrix(tokenized_dataset[\"test\"]['label'], predictions.predictions.argmax(-1))\n",
    "plot = sns.heatmap(modernbert_large_cm, annot=True, fmt='d')\n",
    "plot.set_xlabel(\"True label\")\n",
    "plot.set_ylabel(\"Predicted label\")\n",
    "\n",
    "from IPython.display import Markdown, display\n",
    "display(Markdown(f\"### Prediction Confusion Matrix ({PRE_TRAINED_CHECKPOINT})\"))"
   ]
  },
  {
   "cell_type": "code",
   "execution_count": 86,
   "metadata": {},
   "outputs": [
    {
     "data": {
      "text/plain": [
       "{'test_loss': 0.9474121332168579,\n",
       " 'test_matthews_correlation': 0.5932367360570151,\n",
       " 'test_runtime': 2.0791,\n",
       " 'test_samples_per_second': 411.723,\n",
       " 'test_steps_per_second': 25.973}"
      ]
     },
     "execution_count": 86,
     "metadata": {},
     "output_type": "execute_result"
    }
   ],
   "source": [
    "predictions.metrics"
   ]
  },
  {
   "cell_type": "code",
   "execution_count": 87,
   "metadata": {},
   "outputs": [
    {
     "data": {
      "text/markdown": [
       "### Best Model performance:"
      ],
      "text/plain": [
       "<IPython.core.display.Markdown object>"
      ]
     },
     "metadata": {},
     "output_type": "display_data"
    },
    {
     "name": "stdout",
     "output_type": "stream",
     "text": [
      "\"BERT_BASE\" and \"BERT_LARGE\" performance on GLUE testing data as reported in original paper.\n"
     ]
    },
    {
     "name": "stderr",
     "output_type": "stream",
     "text": [
      "/tmp/ipykernel_612376/3329205711.py:2: SettingWithCopyWarning: \n",
      "A value is trying to be set on a copy of a slice from a DataFrame.\n",
      "Try using .loc[row_indexer,col_indexer] = value instead\n",
      "\n",
      "See the caveats in the documentation: https://pandas.pydata.org/pandas-docs/stable/user_guide/indexing.html#returning-a-view-versus-a-copy\n",
      "  results[\"our ModernBERT_LARGE\"] = [\n"
     ]
    },
    {
     "data": {
      "text/html": [
       "<div>\n",
       "<style scoped>\n",
       "    .dataframe tbody tr th:only-of-type {\n",
       "        vertical-align: middle;\n",
       "    }\n",
       "\n",
       "    .dataframe tbody tr th {\n",
       "        vertical-align: top;\n",
       "    }\n",
       "\n",
       "    .dataframe thead th {\n",
       "        text-align: right;\n",
       "    }\n",
       "</style>\n",
       "<table border=\"1\" class=\"dataframe\">\n",
       "  <thead>\n",
       "    <tr style=\"text-align: right;\">\n",
       "      <th></th>\n",
       "      <th>our BERT_BASE</th>\n",
       "      <th>original BERT_BASE</th>\n",
       "      <th>our ModernBERT_BASE</th>\n",
       "      <th>our BERT_LARGE</th>\n",
       "      <th>original BERT_LARGE</th>\n",
       "      <th>our ModernBERT_LARGE</th>\n",
       "    </tr>\n",
       "  </thead>\n",
       "  <tbody>\n",
       "    <tr>\n",
       "      <th>train_runtime_s</th>\n",
       "      <td>129.712700</td>\n",
       "      <td>-</td>\n",
       "      <td>178.954600</td>\n",
       "      <td>389.104100</td>\n",
       "      <td>-</td>\n",
       "      <td>643.683100</td>\n",
       "    </tr>\n",
       "    <tr>\n",
       "      <th>eval_loss</th>\n",
       "      <td>0.733613</td>\n",
       "      <td>-</td>\n",
       "      <td>0.797041</td>\n",
       "      <td>0.748384</td>\n",
       "      <td>-</td>\n",
       "      <td>0.860215</td>\n",
       "    </tr>\n",
       "    <tr>\n",
       "      <th>eval_matthews_correlation</th>\n",
       "      <td>0.559852</td>\n",
       "      <td>-</td>\n",
       "      <td>0.594786</td>\n",
       "      <td>0.531249</td>\n",
       "      <td>-</td>\n",
       "      <td>0.620798</td>\n",
       "    </tr>\n",
       "    <tr>\n",
       "      <th>test_matthews_correlation</th>\n",
       "      <td>0.531966</td>\n",
       "      <td>0.521</td>\n",
       "      <td>0.621067</td>\n",
       "      <td>0.511084</td>\n",
       "      <td>0.605</td>\n",
       "      <td>0.593237</td>\n",
       "    </tr>\n",
       "  </tbody>\n",
       "</table>\n",
       "</div>"
      ],
      "text/plain": [
       "                           our BERT_BASE original BERT_BASE  \\\n",
       "train_runtime_s               129.712700                  -   \n",
       "eval_loss                       0.733613                  -   \n",
       "eval_matthews_correlation       0.559852                  -   \n",
       "test_matthews_correlation       0.531966              0.521   \n",
       "\n",
       "                           our ModernBERT_BASE  our BERT_LARGE  \\\n",
       "train_runtime_s                     178.954600      389.104100   \n",
       "eval_loss                             0.797041        0.748384   \n",
       "eval_matthews_correlation             0.594786        0.531249   \n",
       "test_matthews_correlation             0.621067        0.511084   \n",
       "\n",
       "                          original BERT_LARGE  our ModernBERT_LARGE  \n",
       "train_runtime_s                             -            643.683100  \n",
       "eval_loss                                   -              0.860215  \n",
       "eval_matthews_correlation                   -              0.620798  \n",
       "test_matthews_correlation               0.605              0.593237  "
      ]
     },
     "execution_count": 87,
     "metadata": {},
     "output_type": "execute_result"
    }
   ],
   "source": [
    "display(Markdown(f\"### Best Model performance:\"))\n",
    "results[\"our ModernBERT_LARGE\"] = [\n",
    "    training_summary_modernbert_large.metrics[\"train_runtime\"],\n",
    "    best_model_evaluation[\"eval_loss\"],\n",
    "    best_model_evaluation[\"eval_matthews_correlation\"],\n",
    "    predictions.metrics[\"test_matthews_correlation\"],\n",
    "]\n",
    "results = results[\n",
    "    [\n",
    "        \"our BERT_BASE\",\n",
    "        \"original BERT_BASE\",\n",
    "        \"our ModernBERT_BASE\",\n",
    "        \"our BERT_LARGE\",\n",
    "        \"original BERT_LARGE\",\n",
    "        \"our ModernBERT_LARGE\",\n",
    "    ]\n",
    "]\n",
    "print('\"BERT_BASE\" and \"BERT_LARGE\" performance on GLUE testing data as reported in original paper.')\n",
    "results"
   ]
  },
  {
   "cell_type": "markdown",
   "metadata": {},
   "source": [
    "# Summary"
   ]
  },
  {
   "cell_type": "code",
   "execution_count": 88,
   "metadata": {},
   "outputs": [
    {
     "data": {
      "image/png": "[encoded data removed]",
      "text/plain": [
       "<Figure size 2000x480 with 4 Axes>"
      ]
     },
     "metadata": {},
     "output_type": "display_data"
    }
   ],
   "source": [
    "import matplotlib.pyplot as plt\n",
    "\n",
    "titles = [\"BERT-base\", \"BERT-large\", \"ModernBERT-base\", \"ModernBERT-large\"]\n",
    "training_histories = [training_history_bert_base, training_history_bert_large, training_history_modernbert_base, training_history_modernbert_large]\n",
    "\n",
    "fig, axes = plt.subplots(ncols=len(training_histories), sharey=True)\n",
    "\n",
    "def draw_loss_eval_plot(title, history, ax):\n",
    "    data = history[[\"loss\", \"eval_loss\", \"epoch\", f\"eval_{metric_for_best_model}\"]]\n",
    "    data.columns = [\"Train. Loss\", \"Eval. Loss\", \"Training Epoch\", \"F1\"]\n",
    "    data = data[:-1]\n",
    "    data = pd.melt(data, ['Training Epoch']).dropna()\n",
    "\n",
    "    plot = sns.lineplot(data=data, x=\"Training Epoch\", y=\"value\", hue=\"variable\", style=\"variable\", markers=True, ax=ax)\n",
    "    plot.set_ylabel(\"\")\n",
    "    plot.set(xticks=list(set(history.epoch)))\n",
    "    plot.legend(title=\"\", loc='upper left')\n",
    "    plot.set_title(title)\n",
    "\n",
    "for title, history, ax in zip(titles, training_histories, axes):\n",
    "    draw_loss_eval_plot(title, history, ax)\n",
    "\n",
    "for ax in axes[1:]:\n",
    "    ax.get_legend().remove()\n",
    "\n",
    "fig.set_figwidth(20)\n",
    "fig.tight_layout()"
   ]
  },
  {
   "cell_type": "code",
   "execution_count": 89,
   "metadata": {},
   "outputs": [
    {
     "data": {
      "image/png": "[encoded data removed]",
      "text/plain": [
       "<Figure size 1700x300 with 5 Axes>"
      ]
     },
     "metadata": {},
     "output_type": "display_data"
    }
   ],
   "source": [
    "titles = [\"BERT-base\", \"BERT-large\", \"ModernBERT-base\", \"ModernBERT-large\"]\n",
    "titles = [title + \" - \" + f\"F1: {acc:.2f}\" for title, acc in zip(titles, results.loc[\"test_matthews_correlation\"])]\n",
    "cms = [bert_base_cm, bert_large_cm, modernbert_base_cm, modernbert_large_cm]\n",
    "\n",
    "fig, axes = plt.subplots(ncols=len(cms),  figsize=(3,3))\n",
    "\n",
    "def draw_confusion_matrix_plot(title, cm, ax):\n",
    "    include_cbar = title == titles[-1]\n",
    "    plot = sns.heatmap(cm, annot=True, fmt='d', square=True, cmap=\"viridis\", cbar=include_cbar, ax=ax)\n",
    "    plot.set_xlabel(\"True label\")\n",
    "    plot.set_ylabel(\"Predicted label\")\n",
    "    plot.set_title(title)\n",
    "\n",
    "for title, history, ax in zip(titles, cms, axes):\n",
    "    draw_confusion_matrix_plot(title, history, ax)\n",
    "\n",
    "fig.set_figwidth(17)"
   ]
  },
  {
   "cell_type": "code",
   "execution_count": 90,
   "metadata": {},
   "outputs": [
    {
     "data": {
      "text/html": [
       "<div>\n",
       "<style scoped>\n",
       "    .dataframe tbody tr th:only-of-type {\n",
       "        vertical-align: middle;\n",
       "    }\n",
       "\n",
       "    .dataframe tbody tr th {\n",
       "        vertical-align: top;\n",
       "    }\n",
       "\n",
       "    .dataframe thead th {\n",
       "        text-align: right;\n",
       "    }\n",
       "</style>\n",
       "<table border=\"1\" class=\"dataframe\">\n",
       "  <thead>\n",
       "    <tr style=\"text-align: right;\">\n",
       "      <th></th>\n",
       "      <th>our BERT_BASE</th>\n",
       "      <th>original BERT_BASE</th>\n",
       "      <th>our ModernBERT_BASE</th>\n",
       "      <th>our BERT_LARGE</th>\n",
       "      <th>original BERT_LARGE</th>\n",
       "      <th>our ModernBERT_LARGE</th>\n",
       "    </tr>\n",
       "  </thead>\n",
       "  <tbody>\n",
       "    <tr>\n",
       "      <th>train_runtime_s</th>\n",
       "      <td>129.712700</td>\n",
       "      <td>-</td>\n",
       "      <td>178.954600</td>\n",
       "      <td>389.104100</td>\n",
       "      <td>-</td>\n",
       "      <td>643.683100</td>\n",
       "    </tr>\n",
       "    <tr>\n",
       "      <th>eval_loss</th>\n",
       "      <td>0.733613</td>\n",
       "      <td>-</td>\n",
       "      <td>0.797041</td>\n",
       "      <td>0.748384</td>\n",
       "      <td>-</td>\n",
       "      <td>0.860215</td>\n",
       "    </tr>\n",
       "    <tr>\n",
       "      <th>eval_matthews_correlation</th>\n",
       "      <td>0.559852</td>\n",
       "      <td>-</td>\n",
       "      <td>0.594786</td>\n",
       "      <td>0.531249</td>\n",
       "      <td>-</td>\n",
       "      <td>0.620798</td>\n",
       "    </tr>\n",
       "    <tr>\n",
       "      <th>test_matthews_correlation</th>\n",
       "      <td>0.531966</td>\n",
       "      <td>0.521</td>\n",
       "      <td>0.621067</td>\n",
       "      <td>0.511084</td>\n",
       "      <td>0.605</td>\n",
       "      <td>0.593237</td>\n",
       "    </tr>\n",
       "  </tbody>\n",
       "</table>\n",
       "</div>"
      ],
      "text/plain": [
       "                           our BERT_BASE original BERT_BASE  \\\n",
       "train_runtime_s               129.712700                  -   \n",
       "eval_loss                       0.733613                  -   \n",
       "eval_matthews_correlation       0.559852                  -   \n",
       "test_matthews_correlation       0.531966              0.521   \n",
       "\n",
       "                           our ModernBERT_BASE  our BERT_LARGE  \\\n",
       "train_runtime_s                     178.954600      389.104100   \n",
       "eval_loss                             0.797041        0.748384   \n",
       "eval_matthews_correlation             0.594786        0.531249   \n",
       "test_matthews_correlation             0.621067        0.511084   \n",
       "\n",
       "                          original BERT_LARGE  our ModernBERT_LARGE  \n",
       "train_runtime_s                             -            643.683100  \n",
       "eval_loss                                   -              0.860215  \n",
       "eval_matthews_correlation                   -              0.620798  \n",
       "test_matthews_correlation               0.605              0.593237  "
      ]
     },
     "execution_count": 90,
     "metadata": {},
     "output_type": "execute_result"
    }
   ],
   "source": [
    "results"
   ]
  },
  {
   "cell_type": "code",
   "execution_count": 91,
   "metadata": {},
   "outputs": [
    {
     "data": {
      "text/plain": [
       "np.float64(0.7248357963416421)"
      ]
     },
     "execution_count": 91,
     "metadata": {},
     "output_type": "execute_result"
    }
   ],
   "source": [
    "speedup = results[\"our BERT_BASE\"][\"train_runtime_s\"] / results[\"our ModernBERT_BASE\"][\"train_runtime_s\"] \n",
    "speedup"
   ]
  },
  {
   "cell_type": "markdown",
   "metadata": {},
   "source": [
    "For this GLUE task `ModernBERT-base` even exceeds the prediction performance of `BERT-large`. However - contrary to other GLUE tasks - its runtime performance is not better than `BERT-base` with a speedup smaller than: `0.72`"
   ]
  },
  {
   "cell_type": "markdown",
   "metadata": {},
   "source": []
  }
 ],
 "metadata": {
  "kernelspec": {
   "display_name": ".venv",
   "language": "python",
   "name": "python3"
  },
  "language_info": {
   "codemirror_mode": {
    "name": "ipython",
    "version": 3
   },
   "file_extension": ".py",
   "mimetype": "text/x-python",
   "name": "python",
   "nbconvert_exporter": "python",
   "pygments_lexer": "ipython3",
   "version": "3.11.11"
  }
 },
 "nbformat": 4,
 "nbformat_minor": 2
}
