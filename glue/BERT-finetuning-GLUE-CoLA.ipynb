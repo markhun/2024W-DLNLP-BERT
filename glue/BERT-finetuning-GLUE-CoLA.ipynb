{
 "cells": [
  {
   "cell_type": "markdown",
   "metadata": {},
   "source": [
    "The code in this notebook is based on:\n",
    "\n",
    "- [Huggingface notebook: Text Classification on GLUE](https://colab.research.google.com/github/huggingface/notebooks/blob/master/examples/text_classification.ipynb)\n",
    "- [Answer.AI notebook: Finetune ModernBERT on GLUE](https://colab.research.google.com/github/AnswerDotAI/ModernBERT/blob/main/examples/finetune_modernbert_on_glue.ipynb)\n",
    "- [Huggingface `transformers`: `run_glue.py` script](https://github.com/huggingface/transformers/blob/main/examples/pytorch/text-classification/run_glue.py)\n",
    "- [BERT Fine-Tuning Tutorial with PyTorch by Chris McCormick](https://mccormickml.com/2019/07/22/BERT-fine-tuning/)"
   ]
  },
  {
   "cell_type": "markdown",
   "metadata": {},
   "source": [
    "# Fine-Tuning BERT on GLUE - CoLA"
   ]
  },
  {
   "cell_type": "markdown",
   "metadata": {},
   "source": [
    "From [NYU-MLL GLUE/CoLA](https://nyu-mll.github.io/CoLA/):\n",
    "\n",
    "The Corpus of Linguistic Acceptability (CoLA) in its full form consists of 10657 sentences from 23 linguistics publications, expertly annotated for acceptability (grammaticality) by their original authors. The public version provided here contains 9594 sentences belonging to training and development sets, and excludes 1063 sentences belonging to a held out test set."
   ]
  },
  {
   "cell_type": "markdown",
   "metadata": {},
   "source": [
    "## 0. Configuration"
   ]
  },
  {
   "cell_type": "code",
   "execution_count": 1,
   "metadata": {
    "execution": {
     "iopub.execute_input": "2025-01-15T22:00:39.547670Z",
     "iopub.status.busy": "2025-01-15T22:00:39.547517Z",
     "iopub.status.idle": "2025-01-15T22:00:39.552659Z",
     "shell.execute_reply": "2025-01-15T22:00:39.552266Z"
    }
   },
   "outputs": [],
   "source": [
    "import os\n",
    "\n",
    "# Where to store the huggingface data. On the provided Jupyterlab instance that should be within the shared group folder.\n",
    "os.environ['HF_HOME'] = '../../groups/192.039-2024W/bert/huggingface/cache'"
   ]
  },
  {
   "cell_type": "code",
   "execution_count": 2,
   "metadata": {
    "execution": {
     "iopub.execute_input": "2025-01-15T22:00:39.553943Z",
     "iopub.status.busy": "2025-01-15T22:00:39.553808Z",
     "iopub.status.idle": "2025-01-15T22:00:39.901279Z",
     "shell.execute_reply": "2025-01-15T22:00:39.900665Z"
    }
   },
   "outputs": [],
   "source": [
    "import pandas as pd\n",
    "\n",
    "pd.options.mode.chained_assignment = None"
   ]
  },
  {
   "cell_type": "code",
   "execution_count": 3,
   "metadata": {
    "execution": {
     "iopub.execute_input": "2025-01-15T22:00:39.902995Z",
     "iopub.status.busy": "2025-01-15T22:00:39.902768Z",
     "iopub.status.idle": "2025-01-15T22:00:41.503328Z",
     "shell.execute_reply": "2025-01-15T22:00:41.502678Z"
    }
   },
   "outputs": [],
   "source": [
    "from pathlib import Path\n",
    "\n",
    "import numpy as np\n",
    "from transformers import set_seed\n",
    "\n",
    "# RANDOMNESS SEED\n",
    "SEED = 42\n",
    "set_seed(SEED)\n",
    "np.random.seed(SEED)\n",
    "\n",
    "# Which dataset to load\n",
    "DATASET_NAME = \"glue\"\n",
    "DATASET_TASK = \"cola\"\n",
    "\n",
    "TRAIN_OUTPUT_DIR = (\n",
    "    Path(\"../groups/192.039-2024W/bert\") / \"training\" / f\"{DATASET_NAME}-{DATASET_TASK}\"\n",
    ")\n",
    "\n",
    "BATCH_SIZE = 32  # Original Paper claims to use 32 for GLUE tasks\n",
    "NUM_EPOCHS = 5  # Original Paper claims to use 3 fine-tuning epochs for GLUE tasks"
   ]
  },
  {
   "cell_type": "code",
   "execution_count": 4,
   "metadata": {
    "execution": {
     "iopub.execute_input": "2025-01-15T22:00:41.505525Z",
     "iopub.status.busy": "2025-01-15T22:00:41.505088Z",
     "iopub.status.idle": "2025-01-15T22:00:41.742214Z",
     "shell.execute_reply": "2025-01-15T22:00:41.741472Z"
    }
   },
   "outputs": [
    {
     "name": "stdout",
     "output_type": "stream",
     "text": [
      "There are 1 GPU(s) available.\n",
      "GPU used: NVIDIA A40\n",
      "\r\n",
      "==============NVSMI LOG==============\r\n",
      "\r\n",
      "Timestamp                                 : Wed Jan 15 22:00:41 2025\r\n",
      "Driver Version                            : 550.90.07\r\n",
      "CUDA Version                              : 12.4\r\n",
      "\r\n",
      "Attached GPUs                             : 1\r\n",
      "GPU 00000000:08:00.0\r\n",
      "    FB Memory Usage\r\n",
      "        Total                             : 46068 MiB\r\n",
      "        Reserved                          : 665 MiB\r\n",
      "        Used                              : 13365 MiB\r\n",
      "        Free                              : 32039 MiB\r\n",
      "    BAR1 Memory Usage\r\n",
      "        Total                             : 65536 MiB\r\n",
      "        Used                              : 4 MiB\r\n",
      "        Free                              : 65532 MiB\r\n",
      "    Conf Compute Protected Memory Usage\r\n",
      "        Total                             : 0 MiB\r\n",
      "        Used                              : 0 MiB\r\n",
      "        Free                              : 0 MiB\r\n",
      "    Compute Mode                          : Default\r\n",
      "\r\n"
     ]
    }
   ],
   "source": [
    "import torch\n",
    "\n",
    "if torch.cuda.is_available():\n",
    "  device = torch.device(\"cuda\")\n",
    "  device_count = torch.cuda.device_count()\n",
    "  device_name = torch.cuda.get_device_name(0)\n",
    "\n",
    "  print(f\"There are {device_count} GPU(s) available.\")\n",
    "  print(f\"GPU used: {device_name}\")\n",
    "  ! nvidia-smi -q --display=MEMORY,COMPUTE\n",
    "\n",
    "else:\n",
    "  print(\"No GPU available, using CPU.\")\n",
    "  device = torch.device(\"cpu\")"
   ]
  },
  {
   "cell_type": "markdown",
   "metadata": {},
   "source": [
    "## Dataset"
   ]
  },
  {
   "cell_type": "code",
   "execution_count": 5,
   "metadata": {
    "execution": {
     "iopub.execute_input": "2025-01-15T22:00:41.745262Z",
     "iopub.status.busy": "2025-01-15T22:00:41.744705Z",
     "iopub.status.idle": "2025-01-15T22:00:41.785331Z",
     "shell.execute_reply": "2025-01-15T22:00:41.784741Z"
    }
   },
   "outputs": [],
   "source": [
    "# In the GLUE dataset different tasks have different accessor keys\n",
    "_task_to_keys = {\n",
    "    \"cola\": (\"sentence\", None),\n",
    "    \"mnli\": (\"premise\", \"hypothesis\"),\n",
    "    \"mnli-mm\": (\"premise\", \"hypothesis\"),\n",
    "    \"mrpc\": (\"sentence1\", \"sentence2\"),\n",
    "    \"qnli\": (\"question\", \"sentence\"),\n",
    "    \"qqp\": (\"question1\", \"question2\"),\n",
    "    \"rte\": (\"sentence1\", \"sentence2\"),\n",
    "    \"sst2\": (\"sentence\", None),\n",
    "    \"stsb\": (\"sentence1\", \"sentence2\"),\n",
    "}"
   ]
  },
  {
   "cell_type": "code",
   "execution_count": 6,
   "metadata": {
    "execution": {
     "iopub.execute_input": "2025-01-15T22:00:41.786892Z",
     "iopub.status.busy": "2025-01-15T22:00:41.786592Z",
     "iopub.status.idle": "2025-01-15T22:00:46.503175Z",
     "shell.execute_reply": "2025-01-15T22:00:46.502569Z"
    }
   },
   "outputs": [
    {
     "data": {
      "text/plain": [
       "DatasetDict({\n",
       "    train: Dataset({\n",
       "        features: ['sentence', 'label', 'idx'],\n",
       "        num_rows: 8551\n",
       "    })\n",
       "    validation: Dataset({\n",
       "        features: ['sentence', 'label', 'idx'],\n",
       "        num_rows: 1043\n",
       "    })\n",
       "    test: Dataset({\n",
       "        features: ['sentence', 'label', 'idx'],\n",
       "        num_rows: 1063\n",
       "    })\n",
       "})"
      ]
     },
     "execution_count": 6,
     "metadata": {},
     "output_type": "execute_result"
    }
   ],
   "source": [
    "from datasets import load_dataset\n",
    "import pandas as pd\n",
    "\n",
    "dataset = load_dataset(DATASET_NAME, DATASET_TASK)\n",
    "dataset"
   ]
  },
  {
   "cell_type": "code",
   "execution_count": 7,
   "metadata": {
    "execution": {
     "iopub.execute_input": "2025-01-15T22:00:46.505021Z",
     "iopub.status.busy": "2025-01-15T22:00:46.504775Z",
     "iopub.status.idle": "2025-01-15T22:00:46.688771Z",
     "shell.execute_reply": "2025-01-15T22:00:46.688330Z"
    }
   },
   "outputs": [
    {
     "data": {
      "text/html": [
       "<div>\n",
       "<style scoped>\n",
       "    .dataframe tbody tr th:only-of-type {\n",
       "        vertical-align: middle;\n",
       "    }\n",
       "\n",
       "    .dataframe tbody tr th {\n",
       "        vertical-align: top;\n",
       "    }\n",
       "\n",
       "    .dataframe thead th {\n",
       "        text-align: right;\n",
       "    }\n",
       "</style>\n",
       "<table border=\"1\" class=\"dataframe\">\n",
       "  <thead>\n",
       "    <tr style=\"text-align: right;\">\n",
       "      <th></th>\n",
       "      <th>sentence</th>\n",
       "      <th>label</th>\n",
       "      <th>idx</th>\n",
       "    </tr>\n",
       "  </thead>\n",
       "  <tbody>\n",
       "    <tr>\n",
       "      <th>2389</th>\n",
       "      <td>Angela characterized Shelly as a lifesaver.</td>\n",
       "      <td>1</td>\n",
       "      <td>2389</td>\n",
       "    </tr>\n",
       "    <tr>\n",
       "      <th>5048</th>\n",
       "      <td>They're not finding it a stress being in the s...</td>\n",
       "      <td>1</td>\n",
       "      <td>5048</td>\n",
       "    </tr>\n",
       "    <tr>\n",
       "      <th>3133</th>\n",
       "      <td>Paul exhaled on Mary.</td>\n",
       "      <td>0</td>\n",
       "      <td>3133</td>\n",
       "    </tr>\n",
       "    <tr>\n",
       "      <th>5955</th>\n",
       "      <td>I ordered if John drink his beer.</td>\n",
       "      <td>0</td>\n",
       "      <td>5955</td>\n",
       "    </tr>\n",
       "    <tr>\n",
       "      <th>625</th>\n",
       "      <td>Press the stamp against the pad completely.</td>\n",
       "      <td>1</td>\n",
       "      <td>625</td>\n",
       "    </tr>\n",
       "    <tr>\n",
       "      <th>3542</th>\n",
       "      <td>They can very.</td>\n",
       "      <td>0</td>\n",
       "      <td>3542</td>\n",
       "    </tr>\n",
       "    <tr>\n",
       "      <th>6915</th>\n",
       "      <td>This arch is supporting the weight of the tower.</td>\n",
       "      <td>1</td>\n",
       "      <td>6915</td>\n",
       "    </tr>\n",
       "    <tr>\n",
       "      <th>2908</th>\n",
       "      <td>That new handle detaches easily.</td>\n",
       "      <td>1</td>\n",
       "      <td>2908</td>\n",
       "    </tr>\n",
       "    <tr>\n",
       "      <th>5857</th>\n",
       "      <td>The Brazilians pumped the oil across the river.</td>\n",
       "      <td>1</td>\n",
       "      <td>5857</td>\n",
       "    </tr>\n",
       "    <tr>\n",
       "      <th>4191</th>\n",
       "      <td>It is a wooden desk.</td>\n",
       "      <td>1</td>\n",
       "      <td>4191</td>\n",
       "    </tr>\n",
       "  </tbody>\n",
       "</table>\n",
       "</div>"
      ],
      "text/plain": [
       "                                               sentence  label   idx\n",
       "2389        Angela characterized Shelly as a lifesaver.      1  2389\n",
       "5048  They're not finding it a stress being in the s...      1  5048\n",
       "3133                              Paul exhaled on Mary.      0  3133\n",
       "5955                  I ordered if John drink his beer.      0  5955\n",
       "625         Press the stamp against the pad completely.      1   625\n",
       "3542                                     They can very.      0  3542\n",
       "6915   This arch is supporting the weight of the tower.      1  6915\n",
       "2908                   That new handle detaches easily.      1  2908\n",
       "5857    The Brazilians pumped the oil across the river.      1  5857\n",
       "4191                               It is a wooden desk.      1  4191"
      ]
     },
     "execution_count": 7,
     "metadata": {},
     "output_type": "execute_result"
    }
   ],
   "source": [
    "pd.DataFrame(dataset[\"train\"]).sample(10)"
   ]
  },
  {
   "cell_type": "code",
   "execution_count": 8,
   "metadata": {
    "execution": {
     "iopub.execute_input": "2025-01-15T22:00:46.690247Z",
     "iopub.status.busy": "2025-01-15T22:00:46.689973Z",
     "iopub.status.idle": "2025-01-15T22:00:46.852755Z",
     "shell.execute_reply": "2025-01-15T22:00:46.852292Z"
    }
   },
   "outputs": [
    {
     "name": "stdout",
     "output_type": "stream",
     "text": [
      "unique_lables_in_dataset=array([1, 0])\n",
      "num_labels=2\n"
     ]
    }
   ],
   "source": [
    "unique_lables_in_dataset = pd.DataFrame(dataset[\"train\"])[\"label\"].unique()\n",
    "num_labels = len(unique_lables_in_dataset)\n",
    "\n",
    "print(f\"{unique_lables_in_dataset=}\")\n",
    "print(f\"{num_labels=}\")"
   ]
  },
  {
   "cell_type": "markdown",
   "metadata": {},
   "source": [
    "The GLUE benchmark suite keeps the labels for its test dataset secret. This is a common practice in many machine learning benchmarks. By withholding the labels for the test set, it is ensured that the test set is used solely for evaluating the performance of models and models may not be trained on it. This encourages researchers to focus on developing models that generalize well, rather than optimizing for achieving a high score on the specific test set."
   ]
  },
  {
   "cell_type": "code",
   "execution_count": 9,
   "metadata": {
    "execution": {
     "iopub.execute_input": "2025-01-15T22:00:46.854306Z",
     "iopub.status.busy": "2025-01-15T22:00:46.854003Z",
     "iopub.status.idle": "2025-01-15T22:00:46.880113Z",
     "shell.execute_reply": "2025-01-15T22:00:46.879677Z"
    }
   },
   "outputs": [
    {
     "data": {
      "text/html": [
       "<div>\n",
       "<style scoped>\n",
       "    .dataframe tbody tr th:only-of-type {\n",
       "        vertical-align: middle;\n",
       "    }\n",
       "\n",
       "    .dataframe tbody tr th {\n",
       "        vertical-align: top;\n",
       "    }\n",
       "\n",
       "    .dataframe thead th {\n",
       "        text-align: right;\n",
       "    }\n",
       "</style>\n",
       "<table border=\"1\" class=\"dataframe\">\n",
       "  <thead>\n",
       "    <tr style=\"text-align: right;\">\n",
       "      <th></th>\n",
       "      <th>sentence</th>\n",
       "      <th>label</th>\n",
       "      <th>idx</th>\n",
       "    </tr>\n",
       "  </thead>\n",
       "  <tbody>\n",
       "    <tr>\n",
       "      <th>435</th>\n",
       "      <td>Golfer has a pretty powerful swing.</td>\n",
       "      <td>-1</td>\n",
       "      <td>435</td>\n",
       "    </tr>\n",
       "    <tr>\n",
       "      <th>581</th>\n",
       "      <td>What sense is this theory right in?</td>\n",
       "      <td>-1</td>\n",
       "      <td>581</td>\n",
       "    </tr>\n",
       "    <tr>\n",
       "      <th>677</th>\n",
       "      <td>I was astounded by Sam's stunning defeat of Ir...</td>\n",
       "      <td>-1</td>\n",
       "      <td>677</td>\n",
       "    </tr>\n",
       "    <tr>\n",
       "      <th>354</th>\n",
       "      <td>He offers so much that we feel he is over qual...</td>\n",
       "      <td>-1</td>\n",
       "      <td>354</td>\n",
       "    </tr>\n",
       "    <tr>\n",
       "      <th>494</th>\n",
       "      <td>She intended Jenny to be there</td>\n",
       "      <td>-1</td>\n",
       "      <td>494</td>\n",
       "    </tr>\n",
       "    <tr>\n",
       "      <th>734</th>\n",
       "      <td>The only person for us to visit whose kids Dan...</td>\n",
       "      <td>-1</td>\n",
       "      <td>734</td>\n",
       "    </tr>\n",
       "    <tr>\n",
       "      <th>0</th>\n",
       "      <td>Bill whistled past the house.</td>\n",
       "      <td>-1</td>\n",
       "      <td>0</td>\n",
       "    </tr>\n",
       "    <tr>\n",
       "      <th>880</th>\n",
       "      <td>Despite their average age, the Charge boasts a...</td>\n",
       "      <td>-1</td>\n",
       "      <td>880</td>\n",
       "    </tr>\n",
       "    <tr>\n",
       "      <th>274</th>\n",
       "      <td>Pat was persuaded to be examined by the dentist.</td>\n",
       "      <td>-1</td>\n",
       "      <td>274</td>\n",
       "    </tr>\n",
       "    <tr>\n",
       "      <th>116</th>\n",
       "      <td>Jack will have the hole in his pocket.</td>\n",
       "      <td>-1</td>\n",
       "      <td>116</td>\n",
       "    </tr>\n",
       "  </tbody>\n",
       "</table>\n",
       "</div>"
      ],
      "text/plain": [
       "                                              sentence  label  idx\n",
       "435                Golfer has a pretty powerful swing.     -1  435\n",
       "581                What sense is this theory right in?     -1  581\n",
       "677  I was astounded by Sam's stunning defeat of Ir...     -1  677\n",
       "354  He offers so much that we feel he is over qual...     -1  354\n",
       "494                     She intended Jenny to be there     -1  494\n",
       "734  The only person for us to visit whose kids Dan...     -1  734\n",
       "0                        Bill whistled past the house.     -1    0\n",
       "880  Despite their average age, the Charge boasts a...     -1  880\n",
       "274   Pat was persuaded to be examined by the dentist.     -1  274\n",
       "116             Jack will have the hole in his pocket.     -1  116"
      ]
     },
     "execution_count": 9,
     "metadata": {},
     "output_type": "execute_result"
    }
   ],
   "source": [
    "pd.DataFrame(dataset[\"test\"]).sample(10)"
   ]
  },
  {
   "cell_type": "markdown",
   "metadata": {},
   "source": [
    "The only way to get an evaluation on the testing dataset is to train a model and sent it to the University of New York - which maintains the GLUE benchmark leaderboard - for evaluation. However this option only exists for researches about to publish a paper, therefore we can't do that.\n",
    "\n",
    "Instead, we will split the training dataset to create a custom test dataset for our experiment. We will keep the validation split as it is."
   ]
  },
  {
   "cell_type": "code",
   "execution_count": 10,
   "metadata": {
    "execution": {
     "iopub.execute_input": "2025-01-15T22:00:46.881616Z",
     "iopub.status.busy": "2025-01-15T22:00:46.881337Z",
     "iopub.status.idle": "2025-01-15T22:00:46.887957Z",
     "shell.execute_reply": "2025-01-15T22:00:46.887532Z"
    }
   },
   "outputs": [
    {
     "data": {
      "text/plain": [
       "DatasetDict({\n",
       "    train: Dataset({\n",
       "        features: ['sentence', 'label', 'idx'],\n",
       "        num_rows: 7695\n",
       "    })\n",
       "    test: Dataset({\n",
       "        features: ['sentence', 'label', 'idx'],\n",
       "        num_rows: 856\n",
       "    })\n",
       "})"
      ]
     },
     "execution_count": 10,
     "metadata": {},
     "output_type": "execute_result"
    }
   ],
   "source": [
    "new_train_test_split = dataset['train'].train_test_split(test_size=0.1)\n",
    "new_train_test_split"
   ]
  },
  {
   "cell_type": "code",
   "execution_count": 11,
   "metadata": {
    "execution": {
     "iopub.execute_input": "2025-01-15T22:00:46.889406Z",
     "iopub.status.busy": "2025-01-15T22:00:46.889113Z",
     "iopub.status.idle": "2025-01-15T22:00:46.898249Z",
     "shell.execute_reply": "2025-01-15T22:00:46.897808Z"
    }
   },
   "outputs": [
    {
     "data": {
      "text/plain": [
       "DatasetDict({\n",
       "    train: Dataset({\n",
       "        features: ['sentence', 'label', 'idx'],\n",
       "        num_rows: 7695\n",
       "    })\n",
       "    validation: Dataset({\n",
       "        features: ['sentence', 'label', 'idx'],\n",
       "        num_rows: 1043\n",
       "    })\n",
       "    test: Dataset({\n",
       "        features: ['sentence', 'label', 'idx'],\n",
       "        num_rows: 856\n",
       "    })\n",
       "})"
      ]
     },
     "execution_count": 11,
     "metadata": {},
     "output_type": "execute_result"
    }
   ],
   "source": [
    "dataset['train'] = new_train_test_split['train']\n",
    "dataset['test'] = new_train_test_split['test']\n",
    "dataset"
   ]
  },
  {
   "cell_type": "markdown",
   "metadata": {},
   "source": [
    "We now have a test dataset with labels, which is __not__ part of our training data:"
   ]
  },
  {
   "cell_type": "code",
   "execution_count": 12,
   "metadata": {
    "execution": {
     "iopub.execute_input": "2025-01-15T22:00:46.899722Z",
     "iopub.status.busy": "2025-01-15T22:00:46.899439Z",
     "iopub.status.idle": "2025-01-15T22:00:46.951359Z",
     "shell.execute_reply": "2025-01-15T22:00:46.950951Z"
    }
   },
   "outputs": [
    {
     "data": {
      "text/html": [
       "<div>\n",
       "<style scoped>\n",
       "    .dataframe tbody tr th:only-of-type {\n",
       "        vertical-align: middle;\n",
       "    }\n",
       "\n",
       "    .dataframe tbody tr th {\n",
       "        vertical-align: top;\n",
       "    }\n",
       "\n",
       "    .dataframe thead th {\n",
       "        text-align: right;\n",
       "    }\n",
       "</style>\n",
       "<table border=\"1\" class=\"dataframe\">\n",
       "  <thead>\n",
       "    <tr style=\"text-align: right;\">\n",
       "      <th></th>\n",
       "      <th>sentence</th>\n",
       "      <th>label</th>\n",
       "      <th>idx</th>\n",
       "    </tr>\n",
       "  </thead>\n",
       "  <tbody>\n",
       "    <tr>\n",
       "      <th>608</th>\n",
       "      <td>Which girl did he give my binoculars?</td>\n",
       "      <td>0</td>\n",
       "      <td>1924</td>\n",
       "    </tr>\n",
       "    <tr>\n",
       "      <th>743</th>\n",
       "      <td>Mary claimed that eat cabbage, Holly wants to.</td>\n",
       "      <td>1</td>\n",
       "      <td>866</td>\n",
       "    </tr>\n",
       "    <tr>\n",
       "      <th>644</th>\n",
       "      <td>The ball rolled into the gutter.</td>\n",
       "      <td>1</td>\n",
       "      <td>3375</td>\n",
       "    </tr>\n",
       "    <tr>\n",
       "      <th>593</th>\n",
       "      <td>John doesn't eat enough.</td>\n",
       "      <td>1</td>\n",
       "      <td>5374</td>\n",
       "    </tr>\n",
       "    <tr>\n",
       "      <th>11</th>\n",
       "      <td>Carrie touched him on the shoulder.</td>\n",
       "      <td>1</td>\n",
       "      <td>2845</td>\n",
       "    </tr>\n",
       "    <tr>\n",
       "      <th>128</th>\n",
       "      <td>How did Julie ask if Jenny left?</td>\n",
       "      <td>1</td>\n",
       "      <td>8520</td>\n",
       "    </tr>\n",
       "    <tr>\n",
       "      <th>49</th>\n",
       "      <td>I made John easy to get along with.</td>\n",
       "      <td>1</td>\n",
       "      <td>1814</td>\n",
       "    </tr>\n",
       "    <tr>\n",
       "      <th>389</th>\n",
       "      <td>Is it possible for everyone to to pledge $1000?</td>\n",
       "      <td>1</td>\n",
       "      <td>6493</td>\n",
       "    </tr>\n",
       "    <tr>\n",
       "      <th>612</th>\n",
       "      <td>I asked which city which king invaded.</td>\n",
       "      <td>1</td>\n",
       "      <td>8235</td>\n",
       "    </tr>\n",
       "    <tr>\n",
       "      <th>260</th>\n",
       "      <td>She tried to may leave</td>\n",
       "      <td>0</td>\n",
       "      <td>8356</td>\n",
       "    </tr>\n",
       "  </tbody>\n",
       "</table>\n",
       "</div>"
      ],
      "text/plain": [
       "                                            sentence  label   idx\n",
       "608            Which girl did he give my binoculars?      0  1924\n",
       "743   Mary claimed that eat cabbage, Holly wants to.      1   866\n",
       "644                 The ball rolled into the gutter.      1  3375\n",
       "593                         John doesn't eat enough.      1  5374\n",
       "11               Carrie touched him on the shoulder.      1  2845\n",
       "128                 How did Julie ask if Jenny left?      1  8520\n",
       "49               I made John easy to get along with.      1  1814\n",
       "389  Is it possible for everyone to to pledge $1000?      1  6493\n",
       "612           I asked which city which king invaded.      1  8235\n",
       "260                           She tried to may leave      0  8356"
      ]
     },
     "execution_count": 12,
     "metadata": {},
     "output_type": "execute_result"
    }
   ],
   "source": [
    "pd.DataFrame(dataset[\"test\"]).sample(10)"
   ]
  },
  {
   "cell_type": "markdown",
   "metadata": {},
   "source": [
    "## 2. BERT-base"
   ]
  },
  {
   "cell_type": "code",
   "execution_count": 13,
   "metadata": {
    "execution": {
     "iopub.execute_input": "2025-01-15T22:00:46.952879Z",
     "iopub.status.busy": "2025-01-15T22:00:46.952504Z",
     "iopub.status.idle": "2025-01-15T22:00:46.954798Z",
     "shell.execute_reply": "2025-01-15T22:00:46.954371Z"
    }
   },
   "outputs": [],
   "source": [
    "PRE_TRAINED_CHECKPOINT = \"google-bert/bert-base-uncased\""
   ]
  },
  {
   "cell_type": "markdown",
   "metadata": {},
   "source": [
    "### 2.1 Tokenization"
   ]
  },
  {
   "cell_type": "code",
   "execution_count": 14,
   "metadata": {
    "execution": {
     "iopub.execute_input": "2025-01-15T22:00:46.956542Z",
     "iopub.status.busy": "2025-01-15T22:00:46.956124Z",
     "iopub.status.idle": "2025-01-15T22:00:48.652725Z",
     "shell.execute_reply": "2025-01-15T22:00:48.652155Z"
    }
   },
   "outputs": [],
   "source": [
    "from transformers import AutoTokenizer\n",
    "\n",
    "tokenizer = AutoTokenizer.from_pretrained(PRE_TRAINED_CHECKPOINT, do_lower_case=\"uncased\" in PRE_TRAINED_CHECKPOINT)"
   ]
  },
  {
   "cell_type": "markdown",
   "metadata": {},
   "source": [
    "BERT has a maximum sequence length of 512. We can check the sequence lengths resulting from tokenizing our dataset to see if our dataset exceeds this restriction of BERT:"
   ]
  },
  {
   "cell_type": "code",
   "execution_count": 15,
   "metadata": {
    "execution": {
     "iopub.execute_input": "2025-01-15T22:00:48.655244Z",
     "iopub.status.busy": "2025-01-15T22:00:48.654956Z",
     "iopub.status.idle": "2025-01-15T22:00:49.106592Z",
     "shell.execute_reply": "2025-01-15T22:00:49.105948Z"
    }
   },
   "outputs": [
    {
     "name": "stdout",
     "output_type": "stream",
     "text": [
      "Max length in split='train': 47\n",
      "Max length in split='validation': 35\n",
      "Max length in split='test': 32\n"
     ]
    }
   ],
   "source": [
    "first_sentence_key, second_sentence_key = _task_to_keys[DATASET_TASK]\n",
    "\n",
    "if second_sentence_key == None:  # Simply tokenize sentence\n",
    "\n",
    "    for split in dataset.keys():\n",
    "        max_len = 0\n",
    "        for sentence in dataset[split][first_sentence_key]:\n",
    "            # Tokenize the text and add `[CLS]` and `[SEP]` tokens.\n",
    "            input_ids = tokenizer.encode(sentence, add_special_tokens=True)\n",
    "            \n",
    "            max_len = max(max_len, len(input_ids))\n",
    "        \n",
    "\n",
    "        print(f\"Max length in {split=}: {max_len}\")\n",
    "\n",
    "else:  # Append both sentences via [SEP] and tokenize\n",
    "\n",
    "    for split in dataset.keys():\n",
    "        max_len = 0\n",
    "        for sentence1, sentence2 in zip(dataset[split][first_sentence_key], dataset[split][second_sentence_key]):\n",
    "            # Tokenize the text and add `[CLS]` and `[SEP]` tokens.\n",
    "            input_ids = tokenizer.encode(sentence1, sentence2,  add_special_tokens=True)\n",
    "            \n",
    "            max_len = max(max_len, len(input_ids))\n",
    "        \n",
    "\n",
    "        print(f\"Max length in {split=}: {max_len}\")\n"
   ]
  },
  {
   "cell_type": "code",
   "execution_count": 16,
   "metadata": {
    "execution": {
     "iopub.execute_input": "2025-01-15T22:00:49.108296Z",
     "iopub.status.busy": "2025-01-15T22:00:49.107976Z",
     "iopub.status.idle": "2025-01-15T22:00:49.126603Z",
     "shell.execute_reply": "2025-01-15T22:00:49.126139Z"
    }
   },
   "outputs": [],
   "source": [
    "def tokenize_func(item):\n",
    "    \"\"\"Tokenize passed item. \n",
    "    \n",
    "    Depending on dataset task the passed item will either contain one sentence or two sentences.\n",
    "    In the last case the two sentences will be appended via a [SEP] token.\n",
    "    \"\"\"\n",
    "    if second_sentence_key is None:\n",
    "        return tokenizer(item[first_sentence_key], add_special_tokens=True, truncation=True)\n",
    "    else:\n",
    "        return tokenizer(item[first_sentence_key], item[second_sentence_key], add_special_tokens=True, truncation=True)\n",
    "\n",
    "tokenized_dataset = dataset.map(tokenize_func, batched=True)"
   ]
  },
  {
   "cell_type": "markdown",
   "metadata": {},
   "source": [
    "Here is an example of a tokenized dataset item:"
   ]
  },
  {
   "cell_type": "code",
   "execution_count": 17,
   "metadata": {
    "execution": {
     "iopub.execute_input": "2025-01-15T22:00:49.128181Z",
     "iopub.status.busy": "2025-01-15T22:00:49.127905Z",
     "iopub.status.idle": "2025-01-15T22:00:49.134932Z",
     "shell.execute_reply": "2025-01-15T22:00:49.134493Z"
    }
   },
   "outputs": [
    {
     "data": {
      "text/html": [
       "<div>\n",
       "<style scoped>\n",
       "    .dataframe tbody tr th:only-of-type {\n",
       "        vertical-align: middle;\n",
       "    }\n",
       "\n",
       "    .dataframe tbody tr th {\n",
       "        vertical-align: top;\n",
       "    }\n",
       "\n",
       "    .dataframe thead th {\n",
       "        text-align: right;\n",
       "    }\n",
       "</style>\n",
       "<table border=\"1\" class=\"dataframe\">\n",
       "  <thead>\n",
       "    <tr style=\"text-align: right;\">\n",
       "      <th></th>\n",
       "      <th>0</th>\n",
       "    </tr>\n",
       "  </thead>\n",
       "  <tbody>\n",
       "    <tr>\n",
       "      <th>sentence</th>\n",
       "      <td>Eleanor and Marianne travelled from Shropshire.</td>\n",
       "    </tr>\n",
       "    <tr>\n",
       "      <th>label</th>\n",
       "      <td>1</td>\n",
       "    </tr>\n",
       "    <tr>\n",
       "      <th>idx</th>\n",
       "      <td>6895</td>\n",
       "    </tr>\n",
       "    <tr>\n",
       "      <th>input_ids</th>\n",
       "      <td>[101, 10508, 1998, 19887, 7837, 2013, 19322, 1012, 102]</td>\n",
       "    </tr>\n",
       "    <tr>\n",
       "      <th>token_type_ids</th>\n",
       "      <td>[0, 0, 0, 0, 0, 0, 0, 0, 0]</td>\n",
       "    </tr>\n",
       "    <tr>\n",
       "      <th>attention_mask</th>\n",
       "      <td>[1, 1, 1, 1, 1, 1, 1, 1, 1]</td>\n",
       "    </tr>\n",
       "  </tbody>\n",
       "</table>\n",
       "</div>"
      ],
      "text/plain": [
       "                                                                      0\n",
       "sentence                Eleanor and Marianne travelled from Shropshire.\n",
       "label                                                                 1\n",
       "idx                                                                6895\n",
       "input_ids       [101, 10508, 1998, 19887, 7837, 2013, 19322, 1012, 102]\n",
       "token_type_ids                              [0, 0, 0, 0, 0, 0, 0, 0, 0]\n",
       "attention_mask                              [1, 1, 1, 1, 1, 1, 1, 1, 1]"
      ]
     },
     "metadata": {},
     "output_type": "display_data"
    }
   ],
   "source": [
    "with pd.option_context('display.max_colwidth', 400):\n",
    "    display(pd.DataFrame(tokenized_dataset[\"train\"][:1]).transpose())"
   ]
  },
  {
   "cell_type": "markdown",
   "metadata": {},
   "source": [
    "Tokenization added the `input_ids` field, which contains the tokenized sentence with a `[CLS]`(101) and a `[SEP]`(102) token added. A `token_type_ids` field which indicates first and second portion of the inputs, if necessary. And an `attention_mask` for the given input."
   ]
  },
  {
   "cell_type": "markdown",
   "metadata": {},
   "source": [
    "#### Dealing with Padding"
   ]
  },
  {
   "cell_type": "markdown",
   "metadata": {},
   "source": [
    "Huggingface's `transformers` library provides a `DataCollatorWithPadding` class, which allows us to use dynamic padding.  \n",
    "Dynamic padding will add `[PAD]` tokens to the length of the longest sequence within a batch, instead of padding to the maximum sequence length within the entire dataset.  \n",
    "This will avoid unnecessary padding and therefore improve execution efficiency."
   ]
  },
  {
   "cell_type": "code",
   "execution_count": 18,
   "metadata": {
    "execution": {
     "iopub.execute_input": "2025-01-15T22:00:49.136382Z",
     "iopub.status.busy": "2025-01-15T22:00:49.136101Z",
     "iopub.status.idle": "2025-01-15T22:00:49.162951Z",
     "shell.execute_reply": "2025-01-15T22:00:49.162523Z"
    }
   },
   "outputs": [
    {
     "data": {
      "text/html": [
       "<div>\n",
       "<style scoped>\n",
       "    .dataframe tbody tr th:only-of-type {\n",
       "        vertical-align: middle;\n",
       "    }\n",
       "\n",
       "    .dataframe tbody tr th {\n",
       "        vertical-align: top;\n",
       "    }\n",
       "\n",
       "    .dataframe thead th {\n",
       "        text-align: right;\n",
       "    }\n",
       "</style>\n",
       "<table border=\"1\" class=\"dataframe\">\n",
       "  <thead>\n",
       "    <tr style=\"text-align: right;\">\n",
       "      <th></th>\n",
       "      <th>0</th>\n",
       "      <th>1</th>\n",
       "      <th>2</th>\n",
       "      <th>3</th>\n",
       "      <th>4</th>\n",
       "      <th>5</th>\n",
       "      <th>6</th>\n",
       "      <th>7</th>\n",
       "      <th>8</th>\n",
       "      <th>9</th>\n",
       "    </tr>\n",
       "  </thead>\n",
       "  <tbody>\n",
       "    <tr>\n",
       "      <th>0</th>\n",
       "      <td>101</td>\n",
       "      <td>10508</td>\n",
       "      <td>1998</td>\n",
       "      <td>19887</td>\n",
       "      <td>7837</td>\n",
       "      <td>2013</td>\n",
       "      <td>19322</td>\n",
       "      <td>1012</td>\n",
       "      <td>102</td>\n",
       "      <td>NaN</td>\n",
       "    </tr>\n",
       "    <tr>\n",
       "      <th>1</th>\n",
       "      <td>101</td>\n",
       "      <td>2129</td>\n",
       "      <td>2172</td>\n",
       "      <td>26991</td>\n",
       "      <td>2106</td>\n",
       "      <td>1996</td>\n",
       "      <td>7186</td>\n",
       "      <td>4053</td>\n",
       "      <td>1029</td>\n",
       "      <td>102.0</td>\n",
       "    </tr>\n",
       "    <tr>\n",
       "      <th>2</th>\n",
       "      <td>101</td>\n",
       "      <td>1045</td>\n",
       "      <td>5136</td>\n",
       "      <td>2198</td>\n",
       "      <td>1996</td>\n",
       "      <td>2190</td>\n",
       "      <td>4018</td>\n",
       "      <td>1012</td>\n",
       "      <td>102</td>\n",
       "      <td>NaN</td>\n",
       "    </tr>\n",
       "  </tbody>\n",
       "</table>\n",
       "</div>"
      ],
      "text/plain": [
       "     0      1     2      3     4     5      6     7     8      9\n",
       "0  101  10508  1998  19887  7837  2013  19322  1012   102    NaN\n",
       "1  101   2129  2172  26991  2106  1996   7186  4053  1029  102.0\n",
       "2  101   1045  5136   2198  1996  2190   4018  1012   102    NaN"
      ]
     },
     "execution_count": 18,
     "metadata": {},
     "output_type": "execute_result"
    }
   ],
   "source": [
    "from transformers import DataCollatorWithPadding\n",
    "\n",
    "data_collator = DataCollatorWithPadding(tokenizer=tokenizer)\n",
    "\n",
    "# Example: Select a few samples from the training set\n",
    "samples = tokenized_dataset[\"train\"][:3]\n",
    "samples = {k: v for k, v in samples.items() if k not in [\"idx\", first_sentence_key, second_sentence_key]}  # Drop `idx` and `sentence` columns, as DataCollator can't process those.\n",
    "pd.DataFrame(samples[\"input_ids\"])"
   ]
  },
  {
   "cell_type": "code",
   "execution_count": 19,
   "metadata": {
    "execution": {
     "iopub.execute_input": "2025-01-15T22:00:49.164347Z",
     "iopub.status.busy": "2025-01-15T22:00:49.164063Z",
     "iopub.status.idle": "2025-01-15T22:00:49.170789Z",
     "shell.execute_reply": "2025-01-15T22:00:49.170301Z"
    }
   },
   "outputs": [
    {
     "data": {
      "text/html": [
       "<div>\n",
       "<style scoped>\n",
       "    .dataframe tbody tr th:only-of-type {\n",
       "        vertical-align: middle;\n",
       "    }\n",
       "\n",
       "    .dataframe tbody tr th {\n",
       "        vertical-align: top;\n",
       "    }\n",
       "\n",
       "    .dataframe thead th {\n",
       "        text-align: right;\n",
       "    }\n",
       "</style>\n",
       "<table border=\"1\" class=\"dataframe\">\n",
       "  <thead>\n",
       "    <tr style=\"text-align: right;\">\n",
       "      <th></th>\n",
       "      <th>0</th>\n",
       "      <th>1</th>\n",
       "      <th>2</th>\n",
       "      <th>3</th>\n",
       "      <th>4</th>\n",
       "      <th>5</th>\n",
       "      <th>6</th>\n",
       "      <th>7</th>\n",
       "      <th>8</th>\n",
       "      <th>9</th>\n",
       "    </tr>\n",
       "  </thead>\n",
       "  <tbody>\n",
       "    <tr>\n",
       "      <th>0</th>\n",
       "      <td>101</td>\n",
       "      <td>10508</td>\n",
       "      <td>1998</td>\n",
       "      <td>19887</td>\n",
       "      <td>7837</td>\n",
       "      <td>2013</td>\n",
       "      <td>19322</td>\n",
       "      <td>1012</td>\n",
       "      <td>102</td>\n",
       "      <td>0</td>\n",
       "    </tr>\n",
       "    <tr>\n",
       "      <th>1</th>\n",
       "      <td>101</td>\n",
       "      <td>2129</td>\n",
       "      <td>2172</td>\n",
       "      <td>26991</td>\n",
       "      <td>2106</td>\n",
       "      <td>1996</td>\n",
       "      <td>7186</td>\n",
       "      <td>4053</td>\n",
       "      <td>1029</td>\n",
       "      <td>102</td>\n",
       "    </tr>\n",
       "    <tr>\n",
       "      <th>2</th>\n",
       "      <td>101</td>\n",
       "      <td>1045</td>\n",
       "      <td>5136</td>\n",
       "      <td>2198</td>\n",
       "      <td>1996</td>\n",
       "      <td>2190</td>\n",
       "      <td>4018</td>\n",
       "      <td>1012</td>\n",
       "      <td>102</td>\n",
       "      <td>0</td>\n",
       "    </tr>\n",
       "  </tbody>\n",
       "</table>\n",
       "</div>"
      ],
      "text/plain": [
       "     0      1     2      3     4     5      6     7     8    9\n",
       "0  101  10508  1998  19887  7837  2013  19322  1012   102    0\n",
       "1  101   2129  2172  26991  2106  1996   7186  4053  1029  102\n",
       "2  101   1045  5136   2198  1996  2190   4018  1012   102    0"
      ]
     },
     "execution_count": 19,
     "metadata": {},
     "output_type": "execute_result"
    }
   ],
   "source": [
    "# Apply padding using data_collator\n",
    "batch = data_collator(samples)\n",
    "pd.DataFrame(batch[\"input_ids\"])\n"
   ]
  },
  {
   "cell_type": "markdown",
   "metadata": {},
   "source": [
    "We can see that `data_collator` will insert `[PAD]` (0) tokens to the maximum length of the passed batch of data items."
   ]
  },
  {
   "cell_type": "markdown",
   "metadata": {},
   "source": [
    "### 2.2 Metrics"
   ]
  },
  {
   "cell_type": "markdown",
   "metadata": {},
   "source": [
    "The GLUE dataset specifies one or more evaluation metrics depending on the selected task."
   ]
  },
  {
   "cell_type": "code",
   "execution_count": 20,
   "metadata": {
    "execution": {
     "iopub.execute_input": "2025-01-15T22:00:49.172217Z",
     "iopub.status.busy": "2025-01-15T22:00:49.171994Z",
     "iopub.status.idle": "2025-01-15T22:00:49.884835Z",
     "shell.execute_reply": "2025-01-15T22:00:49.884363Z"
    }
   },
   "outputs": [
    {
     "data": {
      "text/plain": [
       "EvaluationModule(name: \"glue\", module_type: \"metric\", features: {'predictions': Value(dtype='int64', id=None), 'references': Value(dtype='int64', id=None)}, usage: \"\"\"\n",
       "Compute GLUE evaluation metric associated to each GLUE dataset.\n",
       "Args:\n",
       "    predictions: list of predictions to score.\n",
       "        Each translation should be tokenized into a list of tokens.\n",
       "    references: list of lists of references for each translation.\n",
       "        Each reference should be tokenized into a list of tokens.\n",
       "Returns: depending on the GLUE subset, one or several of:\n",
       "    \"accuracy\": Accuracy\n",
       "    \"f1\": F1 score\n",
       "    \"pearson\": Pearson Correlation\n",
       "    \"spearmanr\": Spearman Correlation\n",
       "    \"matthews_correlation\": Matthew Correlation\n",
       "Examples:\n",
       "\n",
       "    >>> glue_metric = evaluate.load('glue', 'sst2')  # 'sst2' or any of [\"mnli\", \"mnli_mismatched\", \"mnli_matched\", \"qnli\", \"rte\", \"wnli\", \"hans\"]\n",
       "    >>> references = [0, 1]\n",
       "    >>> predictions = [0, 1]\n",
       "    >>> results = glue_metric.compute(predictions=predictions, references=references)\n",
       "    >>> print(results)\n",
       "    {'accuracy': 1.0}\n",
       "\n",
       "    >>> glue_metric = evaluate.load('glue', 'mrpc')  # 'mrpc' or 'qqp'\n",
       "    >>> references = [0, 1]\n",
       "    >>> predictions = [0, 1]\n",
       "    >>> results = glue_metric.compute(predictions=predictions, references=references)\n",
       "    >>> print(results)\n",
       "    {'accuracy': 1.0, 'f1': 1.0}\n",
       "\n",
       "    >>> glue_metric = evaluate.load('glue', 'stsb')\n",
       "    >>> references = [0., 1., 2., 3., 4., 5.]\n",
       "    >>> predictions = [0., 1., 2., 3., 4., 5.]\n",
       "    >>> results = glue_metric.compute(predictions=predictions, references=references)\n",
       "    >>> print({\"pearson\": round(results[\"pearson\"], 2), \"spearmanr\": round(results[\"spearmanr\"], 2)})\n",
       "    {'pearson': 1.0, 'spearmanr': 1.0}\n",
       "\n",
       "    >>> glue_metric = evaluate.load('glue', 'cola')\n",
       "    >>> references = [0, 1]\n",
       "    >>> predictions = [0, 1]\n",
       "    >>> results = glue_metric.compute(predictions=predictions, references=references)\n",
       "    >>> print(results)\n",
       "    {'matthews_correlation': 1.0}\n",
       "\"\"\", stored examples: 0)"
      ]
     },
     "execution_count": 20,
     "metadata": {},
     "output_type": "execute_result"
    }
   ],
   "source": [
    "import numpy as np\n",
    "import evaluate\n",
    "\n",
    "metric = evaluate.load(DATASET_NAME, DATASET_TASK)\n",
    "metric"
   ]
  },
  {
   "cell_type": "markdown",
   "metadata": {},
   "source": [
    "Depending on the selected GLUE task we optimize for different evaluation metrics. See BERT paper p.6:\n",
    "\n",
    "> F1 scores are reported for QQP and MRPC, Spearman correlations are reported for STS-B, and accuracy scores are reported for the other tasks. We exclude entries that use BERT as one of their components."
   ]
  },
  {
   "cell_type": "code",
   "execution_count": 21,
   "metadata": {
    "execution": {
     "iopub.execute_input": "2025-01-15T22:00:49.886351Z",
     "iopub.status.busy": "2025-01-15T22:00:49.886100Z",
     "iopub.status.idle": "2025-01-15T22:00:49.889072Z",
     "shell.execute_reply": "2025-01-15T22:00:49.888530Z"
    }
   },
   "outputs": [],
   "source": [
    "_task_to_metric = {\n",
    "    \"cola\": \"matthews_correlation\",\n",
    "    \"mnli\": \"accuracy\",\n",
    "    \"mnli-mm\": \"accuracy\",\n",
    "    \"mrpc\": \"f1\",\n",
    "    \"qnli\": \"accuracy\",\n",
    "    \"qqp\": \"f1\",\n",
    "    \"rte\": \"accuracy\",\n",
    "    \"sst2\": \"accuracy\",\n",
    "    \"stsb\": \"spearmanr\",\n",
    "}\n",
    "\n",
    "metric_for_best_model = _task_to_metric[DATASET_TASK]"
   ]
  },
  {
   "cell_type": "code",
   "execution_count": 22,
   "metadata": {
    "execution": {
     "iopub.execute_input": "2025-01-15T22:00:49.890445Z",
     "iopub.status.busy": "2025-01-15T22:00:49.890212Z",
     "iopub.status.idle": "2025-01-15T22:00:49.906803Z",
     "shell.execute_reply": "2025-01-15T22:00:49.906312Z"
    }
   },
   "outputs": [
    {
     "name": "stdout",
     "output_type": "stream",
     "text": [
      "We will use \"['matthews_correlation']\" as an evaluation metric for the task cola\n"
     ]
    }
   ],
   "source": [
    "def get_metric_name_for_specific_task():\n",
    "    \"\"\"Helper function to derive the evaluation metric name for the specified GLUE task.\n",
    "\n",
    "    The tasks specified by the GLUE benchmark use different evaluation metrics.\n",
    "    Unfortunatly there is no easy way to derive there name after loading the corresponding metric function via HuggingFace's `evaluate` library.\n",
    "    However we can simply do a \"trial run\" and expect the name key of its output.\n",
    "    \"\"\"\n",
    "    output = metric.compute(\n",
    "        predictions=[1, 0], references=[1, 1]\n",
    "    )  # dummy input - we just want to inspect the returned dictionary.\n",
    "    metric_names = output.keys()\n",
    "    \n",
    "    return list(metric_names)\n",
    "\n",
    "\n",
    "metric_names = get_metric_name_for_specific_task()\n",
    "print(f'We will use \"{metric_names}\" as an evaluation metric for the task {DATASET_TASK}')"
   ]
  },
  {
   "cell_type": "code",
   "execution_count": 23,
   "metadata": {
    "execution": {
     "iopub.execute_input": "2025-01-15T22:00:49.908173Z",
     "iopub.status.busy": "2025-01-15T22:00:49.907942Z",
     "iopub.status.idle": "2025-01-15T22:00:49.910632Z",
     "shell.execute_reply": "2025-01-15T22:00:49.910107Z"
    }
   },
   "outputs": [],
   "source": [
    "assert metric_for_best_model in metric_names, \"Metric to optimize for not found in evaluation metrics provided by GLUE\""
   ]
  },
  {
   "cell_type": "markdown",
   "metadata": {},
   "source": [
    "### 2.3 Training"
   ]
  },
  {
   "cell_type": "code",
   "execution_count": 24,
   "metadata": {
    "execution": {
     "iopub.execute_input": "2025-01-15T22:00:49.912022Z",
     "iopub.status.busy": "2025-01-15T22:00:49.911794Z",
     "iopub.status.idle": "2025-01-15T22:00:50.107457Z",
     "shell.execute_reply": "2025-01-15T22:00:50.106979Z"
    }
   },
   "outputs": [
    {
     "name": "stderr",
     "output_type": "stream",
     "text": [
      "Some weights of BertForSequenceClassification were not initialized from the model checkpoint at google-bert/bert-base-uncased and are newly initialized: ['classifier.bias', 'classifier.weight']\n",
      "You should probably TRAIN this model on a down-stream task to be able to use it for predictions and inference.\n"
     ]
    }
   ],
   "source": [
    "from transformers import AutoModelForSequenceClassification\n",
    "\n",
    "model = AutoModelForSequenceClassification.from_pretrained(\n",
    "    PRE_TRAINED_CHECKPOINT,\n",
    "    num_labels=num_labels,\n",
    "    torch_dtype=\"auto\",\n",
    ")"
   ]
  },
  {
   "cell_type": "code",
   "execution_count": 25,
   "metadata": {
    "execution": {
     "iopub.execute_input": "2025-01-15T22:00:50.109076Z",
     "iopub.status.busy": "2025-01-15T22:00:50.108671Z",
     "iopub.status.idle": "2025-01-15T22:00:50.138683Z",
     "shell.execute_reply": "2025-01-15T22:00:50.138194Z"
    }
   },
   "outputs": [],
   "source": [
    "from transformers import TrainingArguments\n",
    "\n",
    "training_arguments = TrainingArguments(\n",
    "    output_dir=(TRAIN_OUTPUT_DIR / PRE_TRAINED_CHECKPOINT.replace(\"/\", \"_\")).resolve(),\n",
    "    per_device_train_batch_size=BATCH_SIZE,\n",
    "    per_device_eval_batch_size=BATCH_SIZE,\n",
    "    eval_strategy=\"epoch\",\n",
    "    save_strategy=\"epoch\",\n",
    "    logging_strategy=\"epoch\",\n",
    "    num_train_epochs=NUM_EPOCHS,\n",
    "    learning_rate=2e-5,  # Original paper uses best out of  5e-5, 4e-5, 3e-5, and 2e-5\n",
    "    weight_decay=0.01,  # Original paper uses 0.01 on pre-training\n",
    "    save_total_limit = 3,  # Keep at most the three checkpoints (latest + best one)\n",
    "    load_best_model_at_end=True,\n",
    "    metric_for_best_model=metric_for_best_model,\n",
    ")"
   ]
  },
  {
   "cell_type": "code",
   "execution_count": 26,
   "metadata": {
    "execution": {
     "iopub.execute_input": "2025-01-15T22:00:50.140179Z",
     "iopub.status.busy": "2025-01-15T22:00:50.139942Z",
     "iopub.status.idle": "2025-01-15T22:00:50.143499Z",
     "shell.execute_reply": "2025-01-15T22:00:50.142973Z"
    }
   },
   "outputs": [],
   "source": [
    "def compute_metrics(eval_pred):\n",
    "    predictions, labels = eval_pred\n",
    "    if DATASET_TASK != \"stsb\":\n",
    "        predictions = np.argmax(predictions, axis=1)\n",
    "    else:\n",
    "        predictions = predictions[:, 0]\n",
    "    return metric.compute(predictions=predictions, references=labels)"
   ]
  },
  {
   "cell_type": "code",
   "execution_count": 27,
   "metadata": {
    "execution": {
     "iopub.execute_input": "2025-01-15T22:00:50.144923Z",
     "iopub.status.busy": "2025-01-15T22:00:50.144674Z",
     "iopub.status.idle": "2025-01-15T22:00:50.608236Z",
     "shell.execute_reply": "2025-01-15T22:00:50.607656Z"
    }
   },
   "outputs": [],
   "source": [
    "from transformers import Trainer\n",
    "\n",
    "validation_key = \"validation_mismatched\" if DATASET_TASK == \"mnli-mm\" else \"validation_matched\" if DATASET_TASK == \"mnli\" else \"validation\"\n",
    "\n",
    "trainer = Trainer(\n",
    "    model=model,\n",
    "    args=training_arguments,\n",
    "    train_dataset=tokenized_dataset[\"train\"],\n",
    "    eval_dataset=tokenized_dataset[validation_key],\n",
    "    data_collator=data_collator,\n",
    "    processing_class=tokenizer,\n",
    "    compute_metrics=compute_metrics\n",
    ")"
   ]
  },
  {
   "cell_type": "code",
   "execution_count": 28,
   "metadata": {
    "execution": {
     "iopub.execute_input": "2025-01-15T22:00:50.610187Z",
     "iopub.status.busy": "2025-01-15T22:00:50.609880Z",
     "iopub.status.idle": "2025-01-15T22:02:04.994338Z",
     "shell.execute_reply": "2025-01-15T22:02:04.993705Z"
    }
   },
   "outputs": [
    {
     "name": "stdout",
     "output_type": "stream",
     "text": [
      "--- training_arguments.output_dir='/home/e01503441/groups/192.039-2024W/bert/training/glue-cola/google-bert_bert-base-uncased'\n",
      "--- training_arguments.metric_for_best_model='matthews_correlation'\n"
     ]
    },
    {
     "data": {
      "text/html": [
       "\n",
       "    <div>\n",
       "      \n",
       "      <progress value='1205' max='1205' style='width:300px; height:20px; vertical-align: middle;'></progress>\n",
       "      [1205/1205 01:13, Epoch 5/5]\n",
       "    </div>\n",
       "    <table border=\"1\" class=\"dataframe\">\n",
       "  <thead>\n",
       " <tr style=\"text-align: left;\">\n",
       "      <th>Epoch</th>\n",
       "      <th>Training Loss</th>\n",
       "      <th>Validation Loss</th>\n",
       "      <th>Matthews Correlation</th>\n",
       "    </tr>\n",
       "  </thead>\n",
       "  <tbody>\n",
       "    <tr>\n",
       "      <td>1</td>\n",
       "      <td>0.489300</td>\n",
       "      <td>0.437799</td>\n",
       "      <td>0.555443</td>\n",
       "    </tr>\n",
       "    <tr>\n",
       "      <td>2</td>\n",
       "      <td>0.288300</td>\n",
       "      <td>0.500988</td>\n",
       "      <td>0.547105</td>\n",
       "    </tr>\n",
       "    <tr>\n",
       "      <td>3</td>\n",
       "      <td>0.184400</td>\n",
       "      <td>0.562513</td>\n",
       "      <td>0.557245</td>\n",
       "    </tr>\n",
       "    <tr>\n",
       "      <td>4</td>\n",
       "      <td>0.122000</td>\n",
       "      <td>0.691362</td>\n",
       "      <td>0.585449</td>\n",
       "    </tr>\n",
       "    <tr>\n",
       "      <td>5</td>\n",
       "      <td>0.090500</td>\n",
       "      <td>0.736532</td>\n",
       "      <td>0.564981</td>\n",
       "    </tr>\n",
       "  </tbody>\n",
       "</table><p>"
      ],
      "text/plain": [
       "<IPython.core.display.HTML object>"
      ]
     },
     "metadata": {},
     "output_type": "display_data"
    }
   ],
   "source": [
    "torch.cuda.empty_cache()\n",
    "\n",
    "print(f\"--- {training_arguments.output_dir=}\")\n",
    "print(f\"--- {training_arguments.metric_for_best_model=}\")\n",
    "training_summary_bert_base = trainer.train()"
   ]
  },
  {
   "cell_type": "code",
   "execution_count": 29,
   "metadata": {
    "execution": {
     "iopub.execute_input": "2025-01-15T22:02:04.996065Z",
     "iopub.status.busy": "2025-01-15T22:02:04.995757Z",
     "iopub.status.idle": "2025-01-15T22:02:04.999288Z",
     "shell.execute_reply": "2025-01-15T22:02:04.998909Z"
    }
   },
   "outputs": [
    {
     "data": {
      "text/plain": [
       "TrainOutput(global_step=1205, training_loss=0.23490035504226367, metrics={'train_runtime': 74.2121, 'train_samples_per_second': 518.447, 'train_steps_per_second': 16.237, 'total_flos': 455043375802200.0, 'train_loss': 0.23490035504226367, 'epoch': 5.0})"
      ]
     },
     "execution_count": 29,
     "metadata": {},
     "output_type": "execute_result"
    }
   ],
   "source": [
    "training_summary_bert_base"
   ]
  },
  {
   "cell_type": "markdown",
   "metadata": {},
   "source": [
    "We can call `trainer.evaluate()` to check that the `trainer` instance did indeed reload the model checkpoint with the highest evaluation score:"
   ]
  },
  {
   "cell_type": "code",
   "execution_count": 30,
   "metadata": {
    "execution": {
     "iopub.execute_input": "2025-01-15T22:02:05.000866Z",
     "iopub.status.busy": "2025-01-15T22:02:05.000474Z",
     "iopub.status.idle": "2025-01-15T22:02:05.388458Z",
     "shell.execute_reply": "2025-01-15T22:02:05.388065Z"
    }
   },
   "outputs": [
    {
     "data": {
      "text/html": [],
      "text/plain": [
       "<IPython.core.display.HTML object>"
      ]
     },
     "metadata": {},
     "output_type": "display_data"
    },
    {
     "data": {
      "text/plain": [
       "{'eval_loss': 0.6913617849349976,\n",
       " 'eval_matthews_correlation': 0.5854493301728642,\n",
       " 'eval_runtime': 0.3766,\n",
       " 'eval_samples_per_second': 2769.867,\n",
       " 'eval_steps_per_second': 87.637,\n",
       " 'epoch': 5.0}"
      ]
     },
     "execution_count": 30,
     "metadata": {},
     "output_type": "execute_result"
    }
   ],
   "source": [
    "best_model_evaluation = trainer.evaluate()\n",
    "best_model_evaluation"
   ]
  },
  {
   "cell_type": "code",
   "execution_count": 31,
   "metadata": {
    "execution": {
     "iopub.execute_input": "2025-01-15T22:02:05.389838Z",
     "iopub.status.busy": "2025-01-15T22:02:05.389590Z",
     "iopub.status.idle": "2025-01-15T22:02:05.402965Z",
     "shell.execute_reply": "2025-01-15T22:02:05.402588Z"
    }
   },
   "outputs": [
    {
     "data": {
      "text/html": [
       "<div>\n",
       "<style scoped>\n",
       "    .dataframe tbody tr th:only-of-type {\n",
       "        vertical-align: middle;\n",
       "    }\n",
       "\n",
       "    .dataframe tbody tr th {\n",
       "        vertical-align: top;\n",
       "    }\n",
       "\n",
       "    .dataframe thead th {\n",
       "        text-align: right;\n",
       "    }\n",
       "</style>\n",
       "<table border=\"1\" class=\"dataframe\">\n",
       "  <thead>\n",
       "    <tr style=\"text-align: right;\">\n",
       "      <th></th>\n",
       "      <th>loss</th>\n",
       "      <th>grad_norm</th>\n",
       "      <th>learning_rate</th>\n",
       "      <th>step</th>\n",
       "      <th>eval_loss</th>\n",
       "      <th>eval_matthews_correlation</th>\n",
       "      <th>eval_runtime</th>\n",
       "      <th>eval_samples_per_second</th>\n",
       "      <th>eval_steps_per_second</th>\n",
       "      <th>train_runtime</th>\n",
       "      <th>train_samples_per_second</th>\n",
       "      <th>train_steps_per_second</th>\n",
       "      <th>total_flos</th>\n",
       "      <th>train_loss</th>\n",
       "    </tr>\n",
       "    <tr>\n",
       "      <th>epoch</th>\n",
       "      <th></th>\n",
       "      <th></th>\n",
       "      <th></th>\n",
       "      <th></th>\n",
       "      <th></th>\n",
       "      <th></th>\n",
       "      <th></th>\n",
       "      <th></th>\n",
       "      <th></th>\n",
       "      <th></th>\n",
       "      <th></th>\n",
       "      <th></th>\n",
       "      <th></th>\n",
       "      <th></th>\n",
       "    </tr>\n",
       "  </thead>\n",
       "  <tbody>\n",
       "    <tr>\n",
       "      <th>1</th>\n",
       "      <td>0.4893</td>\n",
       "      <td>3.144727</td>\n",
       "      <td>0.000016</td>\n",
       "      <td>241</td>\n",
       "      <td>0.437799</td>\n",
       "      <td>0.555443</td>\n",
       "      <td>0.3822</td>\n",
       "      <td>2729.253</td>\n",
       "      <td>86.352</td>\n",
       "      <td>NaN</td>\n",
       "      <td>NaN</td>\n",
       "      <td>NaN</td>\n",
       "      <td>NaN</td>\n",
       "      <td>NaN</td>\n",
       "    </tr>\n",
       "    <tr>\n",
       "      <th>2</th>\n",
       "      <td>0.2883</td>\n",
       "      <td>12.339314</td>\n",
       "      <td>0.000012</td>\n",
       "      <td>482</td>\n",
       "      <td>0.500988</td>\n",
       "      <td>0.547105</td>\n",
       "      <td>0.3862</td>\n",
       "      <td>2700.560</td>\n",
       "      <td>85.444</td>\n",
       "      <td>NaN</td>\n",
       "      <td>NaN</td>\n",
       "      <td>NaN</td>\n",
       "      <td>NaN</td>\n",
       "      <td>NaN</td>\n",
       "    </tr>\n",
       "    <tr>\n",
       "      <th>3</th>\n",
       "      <td>0.1844</td>\n",
       "      <td>3.757241</td>\n",
       "      <td>0.000008</td>\n",
       "      <td>723</td>\n",
       "      <td>0.562513</td>\n",
       "      <td>0.557245</td>\n",
       "      <td>0.3957</td>\n",
       "      <td>2636.072</td>\n",
       "      <td>83.404</td>\n",
       "      <td>NaN</td>\n",
       "      <td>NaN</td>\n",
       "      <td>NaN</td>\n",
       "      <td>NaN</td>\n",
       "      <td>NaN</td>\n",
       "    </tr>\n",
       "    <tr>\n",
       "      <th>4</th>\n",
       "      <td>0.1220</td>\n",
       "      <td>2.059593</td>\n",
       "      <td>0.000004</td>\n",
       "      <td>964</td>\n",
       "      <td>0.691362</td>\n",
       "      <td>0.585449</td>\n",
       "      <td>0.3789</td>\n",
       "      <td>2753.010</td>\n",
       "      <td>87.104</td>\n",
       "      <td>NaN</td>\n",
       "      <td>NaN</td>\n",
       "      <td>NaN</td>\n",
       "      <td>NaN</td>\n",
       "      <td>NaN</td>\n",
       "    </tr>\n",
       "    <tr>\n",
       "      <th>5</th>\n",
       "      <td>0.0905</td>\n",
       "      <td>43.068893</td>\n",
       "      <td>0.000000</td>\n",
       "      <td>1205</td>\n",
       "      <td>0.736532</td>\n",
       "      <td>0.564981</td>\n",
       "      <td>0.3804</td>\n",
       "      <td>2741.645</td>\n",
       "      <td>86.744</td>\n",
       "      <td>74.2121</td>\n",
       "      <td>518.447</td>\n",
       "      <td>16.237</td>\n",
       "      <td>4.550434e+14</td>\n",
       "      <td>0.2349</td>\n",
       "    </tr>\n",
       "  </tbody>\n",
       "</table>\n",
       "</div>"
      ],
      "text/plain": [
       "         loss  grad_norm  learning_rate  step  eval_loss  \\\n",
       "epoch                                                      \n",
       "1      0.4893   3.144727       0.000016   241   0.437799   \n",
       "2      0.2883  12.339314       0.000012   482   0.500988   \n",
       "3      0.1844   3.757241       0.000008   723   0.562513   \n",
       "4      0.1220   2.059593       0.000004   964   0.691362   \n",
       "5      0.0905  43.068893       0.000000  1205   0.736532   \n",
       "\n",
       "       eval_matthews_correlation  eval_runtime  eval_samples_per_second  \\\n",
       "epoch                                                                     \n",
       "1                       0.555443        0.3822                 2729.253   \n",
       "2                       0.547105        0.3862                 2700.560   \n",
       "3                       0.557245        0.3957                 2636.072   \n",
       "4                       0.585449        0.3789                 2753.010   \n",
       "5                       0.564981        0.3804                 2741.645   \n",
       "\n",
       "       eval_steps_per_second  train_runtime  train_samples_per_second  \\\n",
       "epoch                                                                   \n",
       "1                     86.352            NaN                       NaN   \n",
       "2                     85.444            NaN                       NaN   \n",
       "3                     83.404            NaN                       NaN   \n",
       "4                     87.104            NaN                       NaN   \n",
       "5                     86.744        74.2121                   518.447   \n",
       "\n",
       "       train_steps_per_second    total_flos  train_loss  \n",
       "epoch                                                    \n",
       "1                         NaN           NaN         NaN  \n",
       "2                         NaN           NaN         NaN  \n",
       "3                         NaN           NaN         NaN  \n",
       "4                         NaN           NaN         NaN  \n",
       "5                      16.237  4.550434e+14      0.2349  "
      ]
     },
     "execution_count": 31,
     "metadata": {},
     "output_type": "execute_result"
    }
   ],
   "source": [
    "training_history_bert_base = pd.DataFrame(trainer.state.log_history)\n",
    "training_history_bert_base.epoch = training_history_bert_base.epoch.astype(int)\n",
    "training_history_bert_base.groupby(\"epoch\").first()"
   ]
  },
  {
   "cell_type": "code",
   "execution_count": 32,
   "metadata": {
    "execution": {
     "iopub.execute_input": "2025-01-15T22:02:05.404304Z",
     "iopub.status.busy": "2025-01-15T22:02:05.404035Z",
     "iopub.status.idle": "2025-01-15T22:02:05.848048Z",
     "shell.execute_reply": "2025-01-15T22:02:05.847660Z"
    }
   },
   "outputs": [
    {
     "data": {
      "text/markdown": [
       "### Loss and Evaluation Metrics over Training Steps"
      ],
      "text/plain": [
       "<IPython.core.display.Markdown object>"
      ]
     },
     "metadata": {},
     "output_type": "display_data"
    },
    {
     "data": {
      "image/png": "[encoded data removed]",
      "text/plain": [
       "<Figure size 640x480 with 1 Axes>"
      ]
     },
     "metadata": {},
     "output_type": "display_data"
    }
   ],
   "source": [
    "import seaborn as sns\n",
    "\n",
    "data = training_history_bert_base[[\"loss\", \"eval_loss\", \"epoch\", f\"eval_{metric_for_best_model}\"]]\n",
    "data.columns = [\"Train. Loss\", \"Eval. Loss\", \"Training Epoch\", \"Matthew's Corr.\"]\n",
    "data = data[:-1]  # drop last row, as this row just contains the values for the best checkpoint again\n",
    "data = pd.melt(data, ['Training Epoch']).dropna()\n",
    "\n",
    "\n",
    "plot = sns.lineplot(data=data, x=\"Training Epoch\", y=\"value\", hue=\"variable\", style=\"variable\", markers=True)\n",
    "plot.set_ylabel(\"\")\n",
    "plot.set(xticks=list(set(training_history_bert_base.epoch)))\n",
    "plot.set_ylim((0, plot.get_ylim()[1]))\n",
    "plot.legend(title=\"\")\n",
    "\n",
    "from IPython.display import Markdown, display\n",
    "display(Markdown(\"### Loss and Evaluation Metrics over Training Epochs ({PRE_TRAINED_CHECKPOINT})\"))"
   ]
  },
  {
   "cell_type": "markdown",
   "metadata": {},
   "source": [
    "### 2.4 Evaluation"
   ]
  },
  {
   "cell_type": "code",
   "execution_count": 33,
   "metadata": {
    "execution": {
     "iopub.execute_input": "2025-01-15T22:02:05.849677Z",
     "iopub.status.busy": "2025-01-15T22:02:05.849319Z",
     "iopub.status.idle": "2025-01-15T22:02:05.964236Z",
     "shell.execute_reply": "2025-01-15T22:02:05.963866Z"
    }
   },
   "outputs": [
    {
     "data": {
      "text/markdown": [
       "### Label frequency in test dataset"
      ],
      "text/plain": [
       "<IPython.core.display.Markdown object>"
      ]
     },
     "metadata": {},
     "output_type": "display_data"
    },
    {
     "data": {
      "image/png": "[encoded data removed]",
      "text/plain": [
       "<Figure size 640x480 with 1 Axes>"
      ]
     },
     "metadata": {},
     "output_type": "display_data"
    }
   ],
   "source": [
    "import seaborn as sns\n",
    "\n",
    "sns.countplot(x='label', data=pd.DataFrame(tokenized_dataset[\"test\"]))\n",
    "\n",
    "from IPython.display import Markdown, display\n",
    "display(Markdown(\"### Label frequency in test dataset\"))"
   ]
  },
  {
   "cell_type": "markdown",
   "metadata": {},
   "source": [
    "The dataset classes seem to be unbalanced."
   ]
  },
  {
   "cell_type": "code",
   "execution_count": 34,
   "metadata": {
    "execution": {
     "iopub.execute_input": "2025-01-15T22:02:05.965706Z",
     "iopub.status.busy": "2025-01-15T22:02:05.965462Z",
     "iopub.status.idle": "2025-01-15T22:02:06.317499Z",
     "shell.execute_reply": "2025-01-15T22:02:06.317105Z"
    }
   },
   "outputs": [],
   "source": [
    "predictions = trainer.predict(tokenized_dataset[\"test\"])"
   ]
  },
  {
   "cell_type": "code",
   "execution_count": 35,
   "metadata": {
    "execution": {
     "iopub.execute_input": "2025-01-15T22:02:06.318982Z",
     "iopub.status.busy": "2025-01-15T22:02:06.318719Z",
     "iopub.status.idle": "2025-01-15T22:02:06.414730Z",
     "shell.execute_reply": "2025-01-15T22:02:06.414367Z"
    }
   },
   "outputs": [
    {
     "data": {
      "text/markdown": [
       "### Prediction Confusion Matrix (google-bert/bert-base-uncased)"
      ],
      "text/plain": [
       "<IPython.core.display.Markdown object>"
      ]
     },
     "metadata": {},
     "output_type": "display_data"
    },
    {
     "data": {
      "image/png": "[encoded data removed]",
      "text/plain": [
       "<Figure size 640x480 with 2 Axes>"
      ]
     },
     "metadata": {},
     "output_type": "display_data"
    }
   ],
   "source": [
    "import sklearn.metrics\n",
    "\n",
    "bert_base_cm = sklearn.metrics.confusion_matrix(tokenized_dataset[\"test\"]['label'], predictions.predictions.argmax(-1))\n",
    "plot = sns.heatmap(bert_base_cm, annot=True, fmt='d')\n",
    "plot.set_xlabel(\"True label\")\n",
    "plot.set_ylabel(\"Predicted label\")\n",
    "\n",
    "from IPython.display import Markdown, display\n",
    "display(Markdown(f\"### Prediction Confusion Matrix ({PRE_TRAINED_CHECKPOINT})\"))"
   ]
  },
  {
   "cell_type": "code",
   "execution_count": 36,
   "metadata": {
    "execution": {
     "iopub.execute_input": "2025-01-15T22:02:06.416164Z",
     "iopub.status.busy": "2025-01-15T22:02:06.415908Z",
     "iopub.status.idle": "2025-01-15T22:02:06.418828Z",
     "shell.execute_reply": "2025-01-15T22:02:06.418496Z"
    }
   },
   "outputs": [
    {
     "data": {
      "text/plain": [
       "{'test_loss': 0.7058145403862,\n",
       " 'test_matthews_correlation': 0.5484554670528832,\n",
       " 'test_runtime': 0.3474,\n",
       " 'test_samples_per_second': 2464.32,\n",
       " 'test_steps_per_second': 77.73}"
      ]
     },
     "execution_count": 36,
     "metadata": {},
     "output_type": "execute_result"
    }
   ],
   "source": [
    "predictions.metrics"
   ]
  },
  {
   "cell_type": "code",
   "execution_count": 37,
   "metadata": {
    "execution": {
     "iopub.execute_input": "2025-01-15T22:02:06.420305Z",
     "iopub.status.busy": "2025-01-15T22:02:06.419989Z",
     "iopub.status.idle": "2025-01-15T22:02:06.432306Z",
     "shell.execute_reply": "2025-01-15T22:02:06.431942Z"
    }
   },
   "outputs": [
    {
     "data": {
      "text/markdown": [
       "### Best Model performance:"
      ],
      "text/plain": [
       "<IPython.core.display.Markdown object>"
      ]
     },
     "metadata": {},
     "output_type": "display_data"
    },
    {
     "name": "stdout",
     "output_type": "stream",
     "text": [
      "\"BERT_BASE\" and \"BERT_LARGE\" performance on GLUE testing data as reported in original paper.\n"
     ]
    },
    {
     "data": {
      "text/html": [
       "<div>\n",
       "<style scoped>\n",
       "    .dataframe tbody tr th:only-of-type {\n",
       "        vertical-align: middle;\n",
       "    }\n",
       "\n",
       "    .dataframe tbody tr th {\n",
       "        vertical-align: top;\n",
       "    }\n",
       "\n",
       "    .dataframe thead th {\n",
       "        text-align: right;\n",
       "    }\n",
       "</style>\n",
       "<table border=\"1\" class=\"dataframe\">\n",
       "  <thead>\n",
       "    <tr style=\"text-align: right;\">\n",
       "      <th></th>\n",
       "      <th>our BERT_BASE</th>\n",
       "      <th>original BERT_BASE</th>\n",
       "      <th>original BERT_LARGE</th>\n",
       "    </tr>\n",
       "  </thead>\n",
       "  <tbody>\n",
       "    <tr>\n",
       "      <th>train_runtime_s</th>\n",
       "      <td>74.212100</td>\n",
       "      <td>-</td>\n",
       "      <td>-</td>\n",
       "    </tr>\n",
       "    <tr>\n",
       "      <th>eval_loss</th>\n",
       "      <td>0.691362</td>\n",
       "      <td>-</td>\n",
       "      <td>-</td>\n",
       "    </tr>\n",
       "    <tr>\n",
       "      <th>eval_matthews_correlation</th>\n",
       "      <td>0.585449</td>\n",
       "      <td>-</td>\n",
       "      <td>-</td>\n",
       "    </tr>\n",
       "    <tr>\n",
       "      <th>test_matthews_correlation</th>\n",
       "      <td>0.548455</td>\n",
       "      <td>0.521</td>\n",
       "      <td>0.605</td>\n",
       "    </tr>\n",
       "  </tbody>\n",
       "</table>\n",
       "</div>"
      ],
      "text/plain": [
       "                           our BERT_BASE original BERT_BASE  \\\n",
       "train_runtime_s                74.212100                  -   \n",
       "eval_loss                       0.691362                  -   \n",
       "eval_matthews_correlation       0.585449                  -   \n",
       "test_matthews_correlation       0.548455              0.521   \n",
       "\n",
       "                          original BERT_LARGE  \n",
       "train_runtime_s                             -  \n",
       "eval_loss                                   -  \n",
       "eval_matthews_correlation                   -  \n",
       "test_matthews_correlation               0.605  "
      ]
     },
     "execution_count": 37,
     "metadata": {},
     "output_type": "execute_result"
    }
   ],
   "source": [
    "display(Markdown(f\"### Best Model performance:\"))\n",
    "results = pd.DataFrame(\n",
    "    [training_summary_bert_base.metrics[\"train_runtime\"]]\n",
    "    + list(best_model_evaluation.values())\n",
    "    + [predictions.metrics[\"test_matthews_correlation\"]],\n",
    "    index=[\"train_runtime_s\"] + list(best_model_evaluation.keys()) + [\"test_matthews_correlation\"],\n",
    "    columns=[\"our BERT_BASE\"],\n",
    ").drop(\n",
    "    # Drop runtime measurements\n",
    "    index=[\"eval_runtime\", \"eval_samples_per_second\", \"eval_steps_per_second\", \"epoch\"]\n",
    ")\n",
    "# Achieved scores from original BERT paper:\n",
    "results[\"original BERT_BASE\"] = [\"-\", \"-\", \"-\", 0.521]\n",
    "results[\"original BERT_LARGE\"] = [\"-\", \"-\", \"-\", 0.605]\n",
    "print(\n",
    "    '\"BERT_BASE\" and \"BERT_LARGE\" performance on GLUE testing data as reported in original paper.'\n",
    ")\n",
    "results"
   ]
  },
  {
   "cell_type": "markdown",
   "metadata": {},
   "source": [
    "## 3. BERT-Large"
   ]
  },
  {
   "cell_type": "code",
   "execution_count": 38,
   "metadata": {
    "execution": {
     "iopub.execute_input": "2025-01-15T22:02:06.433718Z",
     "iopub.status.busy": "2025-01-15T22:02:06.433470Z",
     "iopub.status.idle": "2025-01-15T22:02:06.438552Z",
     "shell.execute_reply": "2025-01-15T22:02:06.438188Z"
    }
   },
   "outputs": [],
   "source": [
    "PRE_TRAINED_CHECKPOINT = \"google-bert/bert-large-uncased\""
   ]
  },
  {
   "cell_type": "markdown",
   "metadata": {},
   "source": [
    "### 3.1 Tokenization"
   ]
  },
  {
   "cell_type": "code",
   "execution_count": 39,
   "metadata": {
    "execution": {
     "iopub.execute_input": "2025-01-15T22:02:06.440131Z",
     "iopub.status.busy": "2025-01-15T22:02:06.439873Z",
     "iopub.status.idle": "2025-01-15T22:02:06.647328Z",
     "shell.execute_reply": "2025-01-15T22:02:06.646933Z"
    }
   },
   "outputs": [
    {
     "data": {
      "application/vnd.jupyter.widget-view+json": {
       "model_id": "c5ade6b395fa49c7bf354e6a24e01f98",
       "version_major": 2,
       "version_minor": 0
      },
      "text/plain": [
       "Map:   0%|          | 0/856 [00:00<?, ? examples/s]"
      ]
     },
     "metadata": {},
     "output_type": "display_data"
    }
   ],
   "source": [
    "from transformers import AutoTokenizer\n",
    "\n",
    "tokenizer = AutoTokenizer.from_pretrained(PRE_TRAINED_CHECKPOINT, do_lower_case=\"uncased\" in PRE_TRAINED_CHECKPOINT)\n",
    "\n",
    "def tokenize_func(item):\n",
    "    \"\"\"Tokenize passed item. \n",
    "    \n",
    "    Depending on dataset task the passed item will either contain one sentence or two sentences.\n",
    "    In the last case the two sentences will be appended via a [SEP] token.\n",
    "    \"\"\"\n",
    "    if second_sentence_key is None:\n",
    "        return tokenizer(item[first_sentence_key], add_special_tokens=True, truncation=True)\n",
    "    else:\n",
    "        return tokenizer(item[first_sentence_key], item[second_sentence_key], add_special_tokens=True, truncation=True)\n",
    "\n",
    "tokenized_dataset = dataset.map(tokenize_func, batched=True)"
   ]
  },
  {
   "cell_type": "code",
   "execution_count": 40,
   "metadata": {
    "execution": {
     "iopub.execute_input": "2025-01-15T22:02:06.648795Z",
     "iopub.status.busy": "2025-01-15T22:02:06.648527Z",
     "iopub.status.idle": "2025-01-15T22:02:06.650820Z",
     "shell.execute_reply": "2025-01-15T22:02:06.650475Z"
    }
   },
   "outputs": [],
   "source": [
    "from transformers import DataCollatorWithPadding\n",
    "\n",
    "data_collator = DataCollatorWithPadding(tokenizer=tokenizer)"
   ]
  },
  {
   "cell_type": "markdown",
   "metadata": {},
   "source": [
    "### 3.2 Metrics"
   ]
  },
  {
   "cell_type": "code",
   "execution_count": 41,
   "metadata": {
    "execution": {
     "iopub.execute_input": "2025-01-15T22:02:06.652294Z",
     "iopub.status.busy": "2025-01-15T22:02:06.651959Z",
     "iopub.status.idle": "2025-01-15T22:02:07.367359Z",
     "shell.execute_reply": "2025-01-15T22:02:07.366941Z"
    }
   },
   "outputs": [
    {
     "name": "stdout",
     "output_type": "stream",
     "text": [
      "We will use \"['matthews_correlation']\" as an evaluation metric for the task cola\n"
     ]
    }
   ],
   "source": [
    "import evaluate\n",
    "\n",
    "metric = evaluate.load(DATASET_NAME, DATASET_TASK)\n",
    "\n",
    "metric_for_best_model = _task_to_metric[DATASET_TASK]\n",
    "metric_names = get_metric_name_for_specific_task()\n",
    "print(f'We will use \"{metric_names}\" as an evaluation metric for the task {DATASET_TASK}')"
   ]
  },
  {
   "cell_type": "code",
   "execution_count": 42,
   "metadata": {
    "execution": {
     "iopub.execute_input": "2025-01-15T22:02:07.368860Z",
     "iopub.status.busy": "2025-01-15T22:02:07.368583Z",
     "iopub.status.idle": "2025-01-15T22:02:07.370851Z",
     "shell.execute_reply": "2025-01-15T22:02:07.370501Z"
    }
   },
   "outputs": [],
   "source": [
    "assert metric_for_best_model in metric_names, \"Metric to optimize for not found in evaluation metrics provided by GLUE\""
   ]
  },
  {
   "cell_type": "markdown",
   "metadata": {},
   "source": [
    "### 3.3 Training"
   ]
  },
  {
   "cell_type": "code",
   "execution_count": 43,
   "metadata": {
    "execution": {
     "iopub.execute_input": "2025-01-15T22:02:07.372440Z",
     "iopub.status.busy": "2025-01-15T22:02:07.372307Z",
     "iopub.status.idle": "2025-01-15T22:02:07.382042Z",
     "shell.execute_reply": "2025-01-15T22:02:07.381651Z"
    }
   },
   "outputs": [],
   "source": [
    "BATCH_SIZE = 32  # BERT-large might need a smaller batch size"
   ]
  },
  {
   "cell_type": "code",
   "execution_count": 44,
   "metadata": {
    "execution": {
     "iopub.execute_input": "2025-01-15T22:02:07.383554Z",
     "iopub.status.busy": "2025-01-15T22:02:07.383327Z",
     "iopub.status.idle": "2025-01-15T22:02:07.566632Z",
     "shell.execute_reply": "2025-01-15T22:02:07.566205Z"
    }
   },
   "outputs": [
    {
     "data": {
      "text/plain": [
       "5037"
      ]
     },
     "execution_count": 44,
     "metadata": {},
     "output_type": "execute_result"
    }
   ],
   "source": [
    "import gc\n",
    "\n",
    "try:\n",
    "    del model\n",
    "    del trainer\n",
    "except:\n",
    "    pass\n",
    "\n",
    "\n",
    "gc.collect()"
   ]
  },
  {
   "cell_type": "code",
   "execution_count": 45,
   "metadata": {
    "execution": {
     "iopub.execute_input": "2025-01-15T22:02:07.568375Z",
     "iopub.status.busy": "2025-01-15T22:02:07.568006Z",
     "iopub.status.idle": "2025-01-15T22:02:08.673189Z",
     "shell.execute_reply": "2025-01-15T22:02:08.672688Z"
    }
   },
   "outputs": [
    {
     "name": "stderr",
     "output_type": "stream",
     "text": [
      "Some weights of BertForSequenceClassification were not initialized from the model checkpoint at google-bert/bert-large-uncased and are newly initialized: ['classifier.bias', 'classifier.weight']\n",
      "You should probably TRAIN this model on a down-stream task to be able to use it for predictions and inference.\n"
     ]
    }
   ],
   "source": [
    "from transformers import AutoModelForSequenceClassification\n",
    "\n",
    "model = AutoModelForSequenceClassification.from_pretrained(\n",
    "    PRE_TRAINED_CHECKPOINT,\n",
    "    num_labels=num_labels,\n",
    "    torch_dtype=\"auto\",\n",
    ")\n",
    "\n",
    "from transformers import TrainingArguments\n",
    "\n",
    "training_arguments = TrainingArguments(\n",
    "    output_dir=(TRAIN_OUTPUT_DIR / PRE_TRAINED_CHECKPOINT.replace(\"/\", \"_\")).resolve(),\n",
    "    per_device_train_batch_size=BATCH_SIZE,\n",
    "    per_device_eval_batch_size=BATCH_SIZE,\n",
    "    eval_strategy=\"epoch\",\n",
    "    save_strategy=\"epoch\",\n",
    "    logging_strategy=\"epoch\",\n",
    "    num_train_epochs=NUM_EPOCHS,\n",
    "    learning_rate=2e-5,  # Original paper uses best out of  5e-5, 4e-5, 3e-5, and 2e-5\n",
    "    weight_decay=0.01,  # Original paper uses 0.01 on pre-training\n",
    "    save_total_limit = 3,  # Keep at most the three checkpoints (latest + best one)\n",
    "    load_best_model_at_end=True,\n",
    "    metric_for_best_model=metric_for_best_model,\n",
    ")\n",
    "\n",
    "from transformers import Trainer\n",
    "\n",
    "validation_key = \"validation_mismatched\" if DATASET_TASK == \"mnli-mm\" else \"validation_matched\" if DATASET_TASK == \"mnli\" else \"validation\"\n",
    "\n",
    "trainer = Trainer(\n",
    "    model=model,\n",
    "    args=training_arguments,\n",
    "    train_dataset=tokenized_dataset[\"train\"],\n",
    "    eval_dataset=tokenized_dataset[validation_key],\n",
    "    data_collator=data_collator,\n",
    "    processing_class=tokenizer,\n",
    "    compute_metrics=compute_metrics\n",
    ")"
   ]
  },
  {
   "cell_type": "code",
   "execution_count": 46,
   "metadata": {
    "execution": {
     "iopub.execute_input": "2025-01-15T22:02:08.675494Z",
     "iopub.status.busy": "2025-01-15T22:02:08.674980Z",
     "iopub.status.idle": "2025-01-15T22:05:52.530867Z",
     "shell.execute_reply": "2025-01-15T22:05:52.530337Z"
    }
   },
   "outputs": [
    {
     "name": "stdout",
     "output_type": "stream",
     "text": [
      "--- training_arguments.output_dir='/home/e01503441/groups/192.039-2024W/bert/training/glue-cola/google-bert_bert-large-uncased'\n",
      "--- training_arguments.metric_for_best_model='matthews_correlation'\n"
     ]
    },
    {
     "data": {
      "text/html": [
       "\n",
       "    <div>\n",
       "      \n",
       "      <progress value='1205' max='1205' style='width:300px; height:20px; vertical-align: middle;'></progress>\n",
       "      [1205/1205 03:43, Epoch 5/5]\n",
       "    </div>\n",
       "    <table border=\"1\" class=\"dataframe\">\n",
       "  <thead>\n",
       " <tr style=\"text-align: left;\">\n",
       "      <th>Epoch</th>\n",
       "      <th>Training Loss</th>\n",
       "      <th>Validation Loss</th>\n",
       "      <th>Matthews Correlation</th>\n",
       "    </tr>\n",
       "  </thead>\n",
       "  <tbody>\n",
       "    <tr>\n",
       "      <td>1</td>\n",
       "      <td>0.460000</td>\n",
       "      <td>0.467268</td>\n",
       "      <td>0.567661</td>\n",
       "    </tr>\n",
       "    <tr>\n",
       "      <td>2</td>\n",
       "      <td>0.263500</td>\n",
       "      <td>0.455612</td>\n",
       "      <td>0.610683</td>\n",
       "    </tr>\n",
       "    <tr>\n",
       "      <td>3</td>\n",
       "      <td>0.138100</td>\n",
       "      <td>0.587753</td>\n",
       "      <td>0.620829</td>\n",
       "    </tr>\n",
       "    <tr>\n",
       "      <td>4</td>\n",
       "      <td>0.077900</td>\n",
       "      <td>0.821341</td>\n",
       "      <td>0.598711</td>\n",
       "    </tr>\n",
       "    <tr>\n",
       "      <td>5</td>\n",
       "      <td>0.045900</td>\n",
       "      <td>0.910652</td>\n",
       "      <td>0.610874</td>\n",
       "    </tr>\n",
       "  </tbody>\n",
       "</table><p>"
      ],
      "text/plain": [
       "<IPython.core.display.HTML object>"
      ]
     },
     "metadata": {},
     "output_type": "display_data"
    }
   ],
   "source": [
    "torch.cuda.empty_cache()\n",
    "\n",
    "print(f\"--- {training_arguments.output_dir=}\")\n",
    "print(f\"--- {training_arguments.metric_for_best_model=}\")\n",
    "training_summary_bert_large = trainer.train()"
   ]
  },
  {
   "cell_type": "code",
   "execution_count": 47,
   "metadata": {
    "execution": {
     "iopub.execute_input": "2025-01-15T22:05:52.534227Z",
     "iopub.status.busy": "2025-01-15T22:05:52.534016Z",
     "iopub.status.idle": "2025-01-15T22:05:52.537765Z",
     "shell.execute_reply": "2025-01-15T22:05:52.537386Z"
    }
   },
   "outputs": [
    {
     "data": {
      "text/plain": [
       "TrainOutput(global_step=1205, training_loss=0.1970675472401979, metrics={'train_runtime': 223.6422, 'train_samples_per_second': 172.038, 'train_steps_per_second': 5.388, 'total_flos': 1611749810377560.0, 'train_loss': 0.1970675472401979, 'epoch': 5.0})"
      ]
     },
     "execution_count": 47,
     "metadata": {},
     "output_type": "execute_result"
    }
   ],
   "source": [
    "training_summary_bert_large"
   ]
  },
  {
   "cell_type": "code",
   "execution_count": 48,
   "metadata": {
    "execution": {
     "iopub.execute_input": "2025-01-15T22:05:52.539426Z",
     "iopub.status.busy": "2025-01-15T22:05:52.539172Z",
     "iopub.status.idle": "2025-01-15T22:05:53.624895Z",
     "shell.execute_reply": "2025-01-15T22:05:53.624504Z"
    }
   },
   "outputs": [
    {
     "data": {
      "text/html": [],
      "text/plain": [
       "<IPython.core.display.HTML object>"
      ]
     },
     "metadata": {},
     "output_type": "display_data"
    },
    {
     "data": {
      "text/plain": [
       "{'eval_loss': 0.5877532958984375,\n",
       " 'eval_matthews_correlation': 0.6208288813242873,\n",
       " 'eval_runtime': 1.0758,\n",
       " 'eval_samples_per_second': 969.544,\n",
       " 'eval_steps_per_second': 30.676,\n",
       " 'epoch': 5.0}"
      ]
     },
     "execution_count": 48,
     "metadata": {},
     "output_type": "execute_result"
    }
   ],
   "source": [
    "best_model_evaluation = trainer.evaluate()\n",
    "best_model_evaluation"
   ]
  },
  {
   "cell_type": "code",
   "execution_count": 49,
   "metadata": {
    "execution": {
     "iopub.execute_input": "2025-01-15T22:05:53.626332Z",
     "iopub.status.busy": "2025-01-15T22:05:53.626065Z",
     "iopub.status.idle": "2025-01-15T22:05:53.638465Z",
     "shell.execute_reply": "2025-01-15T22:05:53.638104Z"
    }
   },
   "outputs": [
    {
     "data": {
      "text/html": [
       "<div>\n",
       "<style scoped>\n",
       "    .dataframe tbody tr th:only-of-type {\n",
       "        vertical-align: middle;\n",
       "    }\n",
       "\n",
       "    .dataframe tbody tr th {\n",
       "        vertical-align: top;\n",
       "    }\n",
       "\n",
       "    .dataframe thead th {\n",
       "        text-align: right;\n",
       "    }\n",
       "</style>\n",
       "<table border=\"1\" class=\"dataframe\">\n",
       "  <thead>\n",
       "    <tr style=\"text-align: right;\">\n",
       "      <th></th>\n",
       "      <th>loss</th>\n",
       "      <th>grad_norm</th>\n",
       "      <th>learning_rate</th>\n",
       "      <th>step</th>\n",
       "      <th>eval_loss</th>\n",
       "      <th>eval_matthews_correlation</th>\n",
       "      <th>eval_runtime</th>\n",
       "      <th>eval_samples_per_second</th>\n",
       "      <th>eval_steps_per_second</th>\n",
       "      <th>train_runtime</th>\n",
       "      <th>train_samples_per_second</th>\n",
       "      <th>train_steps_per_second</th>\n",
       "      <th>total_flos</th>\n",
       "      <th>train_loss</th>\n",
       "    </tr>\n",
       "    <tr>\n",
       "      <th>epoch</th>\n",
       "      <th></th>\n",
       "      <th></th>\n",
       "      <th></th>\n",
       "      <th></th>\n",
       "      <th></th>\n",
       "      <th></th>\n",
       "      <th></th>\n",
       "      <th></th>\n",
       "      <th></th>\n",
       "      <th></th>\n",
       "      <th></th>\n",
       "      <th></th>\n",
       "      <th></th>\n",
       "      <th></th>\n",
       "    </tr>\n",
       "  </thead>\n",
       "  <tbody>\n",
       "    <tr>\n",
       "      <th>1</th>\n",
       "      <td>0.4600</td>\n",
       "      <td>6.745336</td>\n",
       "      <td>0.000016</td>\n",
       "      <td>241</td>\n",
       "      <td>0.467268</td>\n",
       "      <td>0.567661</td>\n",
       "      <td>1.0825</td>\n",
       "      <td>963.536</td>\n",
       "      <td>30.486</td>\n",
       "      <td>NaN</td>\n",
       "      <td>NaN</td>\n",
       "      <td>NaN</td>\n",
       "      <td>NaN</td>\n",
       "      <td>NaN</td>\n",
       "    </tr>\n",
       "    <tr>\n",
       "      <th>2</th>\n",
       "      <td>0.2635</td>\n",
       "      <td>11.883690</td>\n",
       "      <td>0.000012</td>\n",
       "      <td>482</td>\n",
       "      <td>0.455612</td>\n",
       "      <td>0.610683</td>\n",
       "      <td>1.1190</td>\n",
       "      <td>932.090</td>\n",
       "      <td>29.491</td>\n",
       "      <td>NaN</td>\n",
       "      <td>NaN</td>\n",
       "      <td>NaN</td>\n",
       "      <td>NaN</td>\n",
       "      <td>NaN</td>\n",
       "    </tr>\n",
       "    <tr>\n",
       "      <th>3</th>\n",
       "      <td>0.1381</td>\n",
       "      <td>0.704105</td>\n",
       "      <td>0.000008</td>\n",
       "      <td>723</td>\n",
       "      <td>0.587753</td>\n",
       "      <td>0.620829</td>\n",
       "      <td>1.0834</td>\n",
       "      <td>962.715</td>\n",
       "      <td>30.460</td>\n",
       "      <td>NaN</td>\n",
       "      <td>NaN</td>\n",
       "      <td>NaN</td>\n",
       "      <td>NaN</td>\n",
       "      <td>NaN</td>\n",
       "    </tr>\n",
       "    <tr>\n",
       "      <th>4</th>\n",
       "      <td>0.0779</td>\n",
       "      <td>1.143866</td>\n",
       "      <td>0.000004</td>\n",
       "      <td>964</td>\n",
       "      <td>0.821341</td>\n",
       "      <td>0.598711</td>\n",
       "      <td>1.0816</td>\n",
       "      <td>964.320</td>\n",
       "      <td>30.511</td>\n",
       "      <td>NaN</td>\n",
       "      <td>NaN</td>\n",
       "      <td>NaN</td>\n",
       "      <td>NaN</td>\n",
       "      <td>NaN</td>\n",
       "    </tr>\n",
       "    <tr>\n",
       "      <th>5</th>\n",
       "      <td>0.0459</td>\n",
       "      <td>0.268008</td>\n",
       "      <td>0.000000</td>\n",
       "      <td>1205</td>\n",
       "      <td>0.910652</td>\n",
       "      <td>0.610874</td>\n",
       "      <td>1.0742</td>\n",
       "      <td>970.978</td>\n",
       "      <td>30.721</td>\n",
       "      <td>223.6422</td>\n",
       "      <td>172.038</td>\n",
       "      <td>5.388</td>\n",
       "      <td>1.611750e+15</td>\n",
       "      <td>0.197068</td>\n",
       "    </tr>\n",
       "  </tbody>\n",
       "</table>\n",
       "</div>"
      ],
      "text/plain": [
       "         loss  grad_norm  learning_rate  step  eval_loss  \\\n",
       "epoch                                                      \n",
       "1      0.4600   6.745336       0.000016   241   0.467268   \n",
       "2      0.2635  11.883690       0.000012   482   0.455612   \n",
       "3      0.1381   0.704105       0.000008   723   0.587753   \n",
       "4      0.0779   1.143866       0.000004   964   0.821341   \n",
       "5      0.0459   0.268008       0.000000  1205   0.910652   \n",
       "\n",
       "       eval_matthews_correlation  eval_runtime  eval_samples_per_second  \\\n",
       "epoch                                                                     \n",
       "1                       0.567661        1.0825                  963.536   \n",
       "2                       0.610683        1.1190                  932.090   \n",
       "3                       0.620829        1.0834                  962.715   \n",
       "4                       0.598711        1.0816                  964.320   \n",
       "5                       0.610874        1.0742                  970.978   \n",
       "\n",
       "       eval_steps_per_second  train_runtime  train_samples_per_second  \\\n",
       "epoch                                                                   \n",
       "1                     30.486            NaN                       NaN   \n",
       "2                     29.491            NaN                       NaN   \n",
       "3                     30.460            NaN                       NaN   \n",
       "4                     30.511            NaN                       NaN   \n",
       "5                     30.721       223.6422                   172.038   \n",
       "\n",
       "       train_steps_per_second    total_flos  train_loss  \n",
       "epoch                                                    \n",
       "1                         NaN           NaN         NaN  \n",
       "2                         NaN           NaN         NaN  \n",
       "3                         NaN           NaN         NaN  \n",
       "4                         NaN           NaN         NaN  \n",
       "5                       5.388  1.611750e+15    0.197068  "
      ]
     },
     "execution_count": 49,
     "metadata": {},
     "output_type": "execute_result"
    }
   ],
   "source": [
    "training_history_bert_large = pd.DataFrame(trainer.state.log_history)\n",
    "training_history_bert_large.epoch = training_history_bert_large.epoch.astype(int)\n",
    "training_history_bert_large.groupby(\"epoch\").first()"
   ]
  },
  {
   "cell_type": "code",
   "execution_count": 50,
   "metadata": {
    "execution": {
     "iopub.execute_input": "2025-01-15T22:05:53.640129Z",
     "iopub.status.busy": "2025-01-15T22:05:53.639875Z",
     "iopub.status.idle": "2025-01-15T22:05:53.772910Z",
     "shell.execute_reply": "2025-01-15T22:05:53.772537Z"
    }
   },
   "outputs": [
    {
     "data": {
      "text/markdown": [
       "### Loss and Evaluation Metrics over Training Epochs (google-bert/bert-large-uncased)"
      ],
      "text/plain": [
       "<IPython.core.display.Markdown object>"
      ]
     },
     "metadata": {},
     "output_type": "display_data"
    },
    {
     "data": {
      "image/png": "[encoded data removed]",
      "text/plain": [
       "<Figure size 640x480 with 1 Axes>"
      ]
     },
     "metadata": {},
     "output_type": "display_data"
    }
   ],
   "source": [
    "import seaborn as sns\n",
    "\n",
    "data = training_history_bert_large[[\"loss\", \"eval_loss\", \"epoch\", f\"eval_{metric_for_best_model}\"]]\n",
    "data.columns = [\"Train. Loss\", \"Eval. Loss\", \"Training Epoch\", \"Matthew's Corr.\"]\n",
    "data = data[:-1]\n",
    "data = pd.melt(data, ['Training Epoch']).dropna()\n",
    "\n",
    "plot = sns.lineplot(data=data, x=\"Training Epoch\", y=\"value\", hue=\"variable\", style=\"variable\", markers=True)\n",
    "plot.set_ylabel(\"\")\n",
    "plot.set(xticks=list(set(training_history_bert_large.epoch)))\n",
    "plot.set_ylim((0, plot.get_ylim()[1]))\n",
    "plot.legend(title=\"\")\n",
    "\n",
    "\n",
    "from IPython.display import Markdown, display\n",
    "display(Markdown(f\"### Loss and Evaluation Metrics over Training Epochs ({PRE_TRAINED_CHECKPOINT})\"))"
   ]
  },
  {
   "cell_type": "markdown",
   "metadata": {},
   "source": [
    "### 3.4 Evaluation"
   ]
  },
  {
   "cell_type": "code",
   "execution_count": 51,
   "metadata": {
    "execution": {
     "iopub.execute_input": "2025-01-15T22:05:53.774493Z",
     "iopub.status.busy": "2025-01-15T22:05:53.774170Z",
     "iopub.status.idle": "2025-01-15T22:05:54.741356Z",
     "shell.execute_reply": "2025-01-15T22:05:54.740951Z"
    }
   },
   "outputs": [],
   "source": [
    "predictions = trainer.predict(tokenized_dataset[\"test\"])"
   ]
  },
  {
   "cell_type": "code",
   "execution_count": 52,
   "metadata": {
    "execution": {
     "iopub.execute_input": "2025-01-15T22:05:54.742970Z",
     "iopub.status.busy": "2025-01-15T22:05:54.742706Z",
     "iopub.status.idle": "2025-01-15T22:05:54.840557Z",
     "shell.execute_reply": "2025-01-15T22:05:54.840176Z"
    }
   },
   "outputs": [
    {
     "data": {
      "text/markdown": [
       "### Prediction Confusion Matrix (google-bert/bert-large-uncased)"
      ],
      "text/plain": [
       "<IPython.core.display.Markdown object>"
      ]
     },
     "metadata": {},
     "output_type": "display_data"
    },
    {
     "data": {
      "image/png": "[encoded data removed]",
      "text/plain": [
       "<Figure size 640x480 with 2 Axes>"
      ]
     },
     "metadata": {},
     "output_type": "display_data"
    }
   ],
   "source": [
    "import sklearn.metrics\n",
    "\n",
    "bert_large_cm = sklearn.metrics.confusion_matrix(tokenized_dataset[\"test\"]['label'], predictions.predictions.argmax(-1))\n",
    "plot = sns.heatmap(bert_large_cm, annot=True, fmt='d')\n",
    "plot.set_xlabel(\"True label\")\n",
    "plot.set_ylabel(\"Predicted label\")\n",
    "\n",
    "from IPython.display import Markdown, display\n",
    "display(Markdown(f\"### Prediction Confusion Matrix ({PRE_TRAINED_CHECKPOINT})\"))"
   ]
  },
  {
   "cell_type": "code",
   "execution_count": 53,
   "metadata": {
    "execution": {
     "iopub.execute_input": "2025-01-15T22:05:54.841937Z",
     "iopub.status.busy": "2025-01-15T22:05:54.841693Z",
     "iopub.status.idle": "2025-01-15T22:05:54.844646Z",
     "shell.execute_reply": "2025-01-15T22:05:54.844285Z"
    }
   },
   "outputs": [
    {
     "data": {
      "text/plain": [
       "{'test_loss': 0.5838845372200012,\n",
       " 'test_matthews_correlation': 0.5846171842182287,\n",
       " 'test_runtime': 0.9626,\n",
       " 'test_samples_per_second': 889.263,\n",
       " 'test_steps_per_second': 28.049}"
      ]
     },
     "execution_count": 53,
     "metadata": {},
     "output_type": "execute_result"
    }
   ],
   "source": [
    "predictions.metrics"
   ]
  },
  {
   "cell_type": "code",
   "execution_count": 54,
   "metadata": {
    "execution": {
     "iopub.execute_input": "2025-01-15T22:05:54.846082Z",
     "iopub.status.busy": "2025-01-15T22:05:54.845954Z",
     "iopub.status.idle": "2025-01-15T22:05:54.858100Z",
     "shell.execute_reply": "2025-01-15T22:05:54.857752Z"
    }
   },
   "outputs": [
    {
     "data": {
      "text/markdown": [
       "### Best Model performance:"
      ],
      "text/plain": [
       "<IPython.core.display.Markdown object>"
      ]
     },
     "metadata": {},
     "output_type": "display_data"
    },
    {
     "name": "stdout",
     "output_type": "stream",
     "text": [
      "\"BERT_BASE\" and \"BERT_LARGE\" performance on GLUE testing data as reported in original paper.\n"
     ]
    },
    {
     "data": {
      "text/html": [
       "<div>\n",
       "<style scoped>\n",
       "    .dataframe tbody tr th:only-of-type {\n",
       "        vertical-align: middle;\n",
       "    }\n",
       "\n",
       "    .dataframe tbody tr th {\n",
       "        vertical-align: top;\n",
       "    }\n",
       "\n",
       "    .dataframe thead th {\n",
       "        text-align: right;\n",
       "    }\n",
       "</style>\n",
       "<table border=\"1\" class=\"dataframe\">\n",
       "  <thead>\n",
       "    <tr style=\"text-align: right;\">\n",
       "      <th></th>\n",
       "      <th>our BERT_BASE</th>\n",
       "      <th>original BERT_BASE</th>\n",
       "      <th>our BERT_LARGE</th>\n",
       "      <th>original BERT_LARGE</th>\n",
       "    </tr>\n",
       "  </thead>\n",
       "  <tbody>\n",
       "    <tr>\n",
       "      <th>train_runtime_s</th>\n",
       "      <td>74.212100</td>\n",
       "      <td>-</td>\n",
       "      <td>223.642200</td>\n",
       "      <td>-</td>\n",
       "    </tr>\n",
       "    <tr>\n",
       "      <th>eval_loss</th>\n",
       "      <td>0.691362</td>\n",
       "      <td>-</td>\n",
       "      <td>0.587753</td>\n",
       "      <td>-</td>\n",
       "    </tr>\n",
       "    <tr>\n",
       "      <th>eval_matthews_correlation</th>\n",
       "      <td>0.585449</td>\n",
       "      <td>-</td>\n",
       "      <td>0.620829</td>\n",
       "      <td>-</td>\n",
       "    </tr>\n",
       "    <tr>\n",
       "      <th>test_matthews_correlation</th>\n",
       "      <td>0.548455</td>\n",
       "      <td>0.521</td>\n",
       "      <td>0.584617</td>\n",
       "      <td>0.605</td>\n",
       "    </tr>\n",
       "  </tbody>\n",
       "</table>\n",
       "</div>"
      ],
      "text/plain": [
       "                           our BERT_BASE original BERT_BASE  our BERT_LARGE  \\\n",
       "train_runtime_s                74.212100                  -      223.642200   \n",
       "eval_loss                       0.691362                  -        0.587753   \n",
       "eval_matthews_correlation       0.585449                  -        0.620829   \n",
       "test_matthews_correlation       0.548455              0.521        0.584617   \n",
       "\n",
       "                          original BERT_LARGE  \n",
       "train_runtime_s                             -  \n",
       "eval_loss                                   -  \n",
       "eval_matthews_correlation                   -  \n",
       "test_matthews_correlation               0.605  "
      ]
     },
     "execution_count": 54,
     "metadata": {},
     "output_type": "execute_result"
    }
   ],
   "source": [
    "display(Markdown(f\"### Best Model performance:\"))\n",
    "results[\"our BERT_LARGE\"] = [\n",
    "    training_summary_bert_large.metrics[\"train_runtime\"],\n",
    "    best_model_evaluation[\"eval_loss\"],\n",
    "    best_model_evaluation[\"eval_matthews_correlation\"],\n",
    "    predictions.metrics[\"test_matthews_correlation\"],\n",
    "]\n",
    "results = results[\n",
    "    [\n",
    "        \"our BERT_BASE\",\n",
    "        \"original BERT_BASE\",\n",
    "        \"our BERT_LARGE\",\n",
    "        \"original BERT_LARGE\",\n",
    "    ]\n",
    "]\n",
    "print('\"BERT_BASE\" and \"BERT_LARGE\" performance on GLUE testing data as reported in original paper.')\n",
    "results"
   ]
  },
  {
   "cell_type": "markdown",
   "metadata": {},
   "source": [
    "## 4. ModernBERT-base"
   ]
  },
  {
   "cell_type": "code",
   "execution_count": 55,
   "metadata": {
    "execution": {
     "iopub.execute_input": "2025-01-15T22:05:54.859535Z",
     "iopub.status.busy": "2025-01-15T22:05:54.859215Z",
     "iopub.status.idle": "2025-01-15T22:05:54.864554Z",
     "shell.execute_reply": "2025-01-15T22:05:54.864168Z"
    }
   },
   "outputs": [],
   "source": [
    "PRE_TRAINED_CHECKPOINT = \"answerdotai/ModernBERT-base\" "
   ]
  },
  {
   "cell_type": "markdown",
   "metadata": {},
   "source": [
    "### 4.1 Tokenization"
   ]
  },
  {
   "cell_type": "code",
   "execution_count": 56,
   "metadata": {
    "execution": {
     "iopub.execute_input": "2025-01-15T22:05:54.866198Z",
     "iopub.status.busy": "2025-01-15T22:05:54.865886Z",
     "iopub.status.idle": "2025-01-15T22:05:55.127427Z",
     "shell.execute_reply": "2025-01-15T22:05:55.127032Z"
    }
   },
   "outputs": [
    {
     "data": {
      "application/vnd.jupyter.widget-view+json": {
       "model_id": "82ee479bbf5b42debac1e2b82514ae8e",
       "version_major": 2,
       "version_minor": 0
      },
      "text/plain": [
       "Map:   0%|          | 0/856 [00:00<?, ? examples/s]"
      ]
     },
     "metadata": {},
     "output_type": "display_data"
    }
   ],
   "source": [
    "from transformers import AutoTokenizer\n",
    "\n",
    "tokenizer = AutoTokenizer.from_pretrained(PRE_TRAINED_CHECKPOINT, do_lower_case=\"uncased\" in PRE_TRAINED_CHECKPOINT)\n",
    "\n",
    "def tokenize_func(item):\n",
    "    \"\"\"Tokenize passed item. \n",
    "    \n",
    "    Depending on dataset task the passed item will either contain one sentence or two sentences.\n",
    "    In the last case the two sentences will be appended via a [SEP] token.\n",
    "    \"\"\"\n",
    "    if second_sentence_key is None:\n",
    "        return tokenizer(item[first_sentence_key], add_special_tokens=True, truncation=True)\n",
    "    else:\n",
    "        return tokenizer(item[first_sentence_key], item[second_sentence_key], add_special_tokens=True, truncation=True)\n",
    "\n",
    "tokenized_dataset = dataset.map(tokenize_func, batched=True)"
   ]
  },
  {
   "cell_type": "code",
   "execution_count": 57,
   "metadata": {
    "execution": {
     "iopub.execute_input": "2025-01-15T22:05:55.128885Z",
     "iopub.status.busy": "2025-01-15T22:05:55.128601Z",
     "iopub.status.idle": "2025-01-15T22:05:55.131008Z",
     "shell.execute_reply": "2025-01-15T22:05:55.130654Z"
    }
   },
   "outputs": [],
   "source": [
    "from transformers import DataCollatorWithPadding\n",
    "\n",
    "data_collator = DataCollatorWithPadding(tokenizer=tokenizer)"
   ]
  },
  {
   "cell_type": "markdown",
   "metadata": {},
   "source": [
    "### 4.2 Metrics"
   ]
  },
  {
   "cell_type": "code",
   "execution_count": 58,
   "metadata": {
    "execution": {
     "iopub.execute_input": "2025-01-15T22:05:55.132475Z",
     "iopub.status.busy": "2025-01-15T22:05:55.132345Z",
     "iopub.status.idle": "2025-01-15T22:05:55.868334Z",
     "shell.execute_reply": "2025-01-15T22:05:55.867941Z"
    }
   },
   "outputs": [
    {
     "name": "stdout",
     "output_type": "stream",
     "text": [
      "We will use \"['matthews_correlation']\" as an evaluation metric for the task cola\n"
     ]
    }
   ],
   "source": [
    "import evaluate\n",
    "\n",
    "metric = evaluate.load(DATASET_NAME, DATASET_TASK)\n",
    "\n",
    "metric_for_best_model = _task_to_metric[DATASET_TASK]\n",
    "metric_names = get_metric_name_for_specific_task()\n",
    "print(f'We will use \"{metric_names}\" as an evaluation metric for the task {DATASET_TASK}')"
   ]
  },
  {
   "cell_type": "code",
   "execution_count": 59,
   "metadata": {
    "execution": {
     "iopub.execute_input": "2025-01-15T22:05:55.869690Z",
     "iopub.status.busy": "2025-01-15T22:05:55.869439Z",
     "iopub.status.idle": "2025-01-15T22:05:55.871665Z",
     "shell.execute_reply": "2025-01-15T22:05:55.871318Z"
    }
   },
   "outputs": [],
   "source": [
    "assert metric_for_best_model in metric_names, \"Metric to optimize for not found in evaluation metrics provided by GLUE\""
   ]
  },
  {
   "cell_type": "markdown",
   "metadata": {},
   "source": [
    "### 4.3 Training"
   ]
  },
  {
   "cell_type": "code",
   "execution_count": 60,
   "metadata": {
    "execution": {
     "iopub.execute_input": "2025-01-15T22:05:55.873043Z",
     "iopub.status.busy": "2025-01-15T22:05:55.872914Z",
     "iopub.status.idle": "2025-01-15T22:05:55.881868Z",
     "shell.execute_reply": "2025-01-15T22:05:55.881492Z"
    }
   },
   "outputs": [],
   "source": [
    "BATCH_SIZE = 32"
   ]
  },
  {
   "cell_type": "code",
   "execution_count": 61,
   "metadata": {
    "execution": {
     "iopub.execute_input": "2025-01-15T22:05:55.883383Z",
     "iopub.status.busy": "2025-01-15T22:05:55.883118Z",
     "iopub.status.idle": "2025-01-15T22:05:56.076503Z",
     "shell.execute_reply": "2025-01-15T22:05:56.076072Z"
    }
   },
   "outputs": [
    {
     "data": {
      "text/plain": [
       "5090"
      ]
     },
     "execution_count": 61,
     "metadata": {},
     "output_type": "execute_result"
    }
   ],
   "source": [
    "import gc\n",
    "\n",
    "try:\n",
    "    del model\n",
    "    del trainer\n",
    "except:\n",
    "    pass\n",
    "\n",
    "\n",
    "gc.collect()"
   ]
  },
  {
   "cell_type": "code",
   "execution_count": 62,
   "metadata": {
    "execution": {
     "iopub.execute_input": "2025-01-15T22:05:56.078053Z",
     "iopub.status.busy": "2025-01-15T22:05:56.077780Z",
     "iopub.status.idle": "2025-01-15T22:05:57.073780Z",
     "shell.execute_reply": "2025-01-15T22:05:57.073327Z"
    }
   },
   "outputs": [
    {
     "name": "stderr",
     "output_type": "stream",
     "text": [
      "Some weights of ModernBertForSequenceClassification were not initialized from the model checkpoint at answerdotai/ModernBERT-base and are newly initialized: ['classifier.bias', 'classifier.weight']\n",
      "You should probably TRAIN this model on a down-stream task to be able to use it for predictions and inference.\n"
     ]
    }
   ],
   "source": [
    "from transformers import AutoModelForSequenceClassification\n",
    "\n",
    "model = AutoModelForSequenceClassification.from_pretrained(\n",
    "    PRE_TRAINED_CHECKPOINT,\n",
    "    num_labels=num_labels,\n",
    "    reference_compile=False\n",
    ")\n",
    "\n",
    "from transformers import TrainingArguments\n",
    "\n",
    "training_arguments = TrainingArguments(\n",
    "    output_dir=(TRAIN_OUTPUT_DIR / PRE_TRAINED_CHECKPOINT.replace(\"/\", \"_\")).resolve(),\n",
    "    per_device_train_batch_size=BATCH_SIZE,\n",
    "    per_device_eval_batch_size=BATCH_SIZE,\n",
    "    eval_strategy=\"epoch\",\n",
    "    save_strategy=\"epoch\",\n",
    "    logging_strategy=\"epoch\",\n",
    "    num_train_epochs=NUM_EPOCHS,\n",
    "    lr_scheduler_type=\"linear\",\n",
    "    optim=\"adamw_torch\",\n",
    "    adam_beta1=0.9,\n",
    "    adam_beta2=0.98,\n",
    "    adam_epsilon=1e-6,\n",
    "    learning_rate=8e-5,  # Original paper recommends 8e-5\n",
    "    weight_decay=0.01,  # Original paper uses 0.01 on pre-training\n",
    "    save_total_limit = 3,  # Keep at most the three checkpoints (latest + best one)\n",
    "    load_best_model_at_end=True,\n",
    "    metric_for_best_model=metric_for_best_model,\n",
    "    bf16=True,\n",
    "    bf16_full_eval=True,\n",
    ")\n",
    "\n",
    "from transformers import Trainer\n",
    "\n",
    "validation_key = \"validation_mismatched\" if DATASET_TASK == \"mnli-mm\" else \"validation_matched\" if DATASET_TASK == \"mnli\" else \"validation\"\n",
    "\n",
    "trainer = Trainer(\n",
    "    model=model,\n",
    "    args=training_arguments,\n",
    "    train_dataset=tokenized_dataset[\"train\"],\n",
    "    eval_dataset=tokenized_dataset[validation_key],\n",
    "    data_collator=data_collator,\n",
    "    processing_class=tokenizer,\n",
    "    compute_metrics=compute_metrics\n",
    ")"
   ]
  },
  {
   "cell_type": "code",
   "execution_count": 63,
   "metadata": {
    "execution": {
     "iopub.execute_input": "2025-01-15T22:05:57.075319Z",
     "iopub.status.busy": "2025-01-15T22:05:57.075160Z",
     "iopub.status.idle": "2025-01-15T22:07:35.582357Z",
     "shell.execute_reply": "2025-01-15T22:07:35.581718Z"
    }
   },
   "outputs": [
    {
     "name": "stdout",
     "output_type": "stream",
     "text": [
      "--- training_arguments.output_dir='/home/e01503441/groups/192.039-2024W/bert/training/glue-cola/answerdotai_ModernBERT-base'\n",
      "--- training_arguments.metric_for_best_model='matthews_correlation'\n"
     ]
    },
    {
     "data": {
      "text/html": [
       "\n",
       "    <div>\n",
       "      \n",
       "      <progress value='1205' max='1205' style='width:300px; height:20px; vertical-align: middle;'></progress>\n",
       "      [1205/1205 01:37, Epoch 5/5]\n",
       "    </div>\n",
       "    <table border=\"1\" class=\"dataframe\">\n",
       "  <thead>\n",
       " <tr style=\"text-align: left;\">\n",
       "      <th>Epoch</th>\n",
       "      <th>Training Loss</th>\n",
       "      <th>Validation Loss</th>\n",
       "      <th>Matthews Correlation</th>\n",
       "    </tr>\n",
       "  </thead>\n",
       "  <tbody>\n",
       "    <tr>\n",
       "      <td>1</td>\n",
       "      <td>0.525100</td>\n",
       "      <td>0.434676</td>\n",
       "      <td>0.567605</td>\n",
       "    </tr>\n",
       "    <tr>\n",
       "      <td>2</td>\n",
       "      <td>0.277400</td>\n",
       "      <td>0.484089</td>\n",
       "      <td>0.586692</td>\n",
       "    </tr>\n",
       "    <tr>\n",
       "      <td>3</td>\n",
       "      <td>0.121700</td>\n",
       "      <td>0.544513</td>\n",
       "      <td>0.604621</td>\n",
       "    </tr>\n",
       "    <tr>\n",
       "      <td>4</td>\n",
       "      <td>0.055500</td>\n",
       "      <td>0.786629</td>\n",
       "      <td>0.608284</td>\n",
       "    </tr>\n",
       "    <tr>\n",
       "      <td>5</td>\n",
       "      <td>0.022500</td>\n",
       "      <td>0.987298</td>\n",
       "      <td>0.601571</td>\n",
       "    </tr>\n",
       "  </tbody>\n",
       "</table><p>"
      ],
      "text/plain": [
       "<IPython.core.display.HTML object>"
      ]
     },
     "metadata": {},
     "output_type": "display_data"
    }
   ],
   "source": [
    "torch.cuda.empty_cache()\n",
    "\n",
    "print(f\"--- {training_arguments.output_dir=}\")\n",
    "print(f\"--- {training_arguments.metric_for_best_model=}\")\n",
    "training_summary_modernbert_base = trainer.train()"
   ]
  },
  {
   "cell_type": "code",
   "execution_count": 64,
   "metadata": {
    "execution": {
     "iopub.execute_input": "2025-01-15T22:07:35.583996Z",
     "iopub.status.busy": "2025-01-15T22:07:35.583832Z",
     "iopub.status.idle": "2025-01-15T22:07:35.587933Z",
     "shell.execute_reply": "2025-01-15T22:07:35.587373Z"
    }
   },
   "outputs": [
    {
     "data": {
      "text/plain": [
       "TrainOutput(global_step=1205, training_loss=0.2004378524558673, metrics={'train_runtime': 97.7461, 'train_samples_per_second': 393.622, 'train_steps_per_second': 12.328, 'total_flos': 589014578777352.0, 'train_loss': 0.2004378524558673, 'epoch': 5.0})"
      ]
     },
     "execution_count": 64,
     "metadata": {},
     "output_type": "execute_result"
    }
   ],
   "source": [
    "training_summary_modernbert_base"
   ]
  },
  {
   "cell_type": "code",
   "execution_count": 65,
   "metadata": {
    "execution": {
     "iopub.execute_input": "2025-01-15T22:07:35.589383Z",
     "iopub.status.busy": "2025-01-15T22:07:35.589245Z",
     "iopub.status.idle": "2025-01-15T22:07:36.236819Z",
     "shell.execute_reply": "2025-01-15T22:07:36.236445Z"
    }
   },
   "outputs": [
    {
     "data": {
      "text/html": [],
      "text/plain": [
       "<IPython.core.display.HTML object>"
      ]
     },
     "metadata": {},
     "output_type": "display_data"
    },
    {
     "data": {
      "text/plain": [
       "{'eval_loss': 0.7864938974380493,\n",
       " 'eval_matthews_correlation': 0.6033168402681877,\n",
       " 'eval_runtime': 0.6347,\n",
       " 'eval_samples_per_second': 1643.398,\n",
       " 'eval_steps_per_second': 51.996,\n",
       " 'epoch': 5.0}"
      ]
     },
     "execution_count": 65,
     "metadata": {},
     "output_type": "execute_result"
    }
   ],
   "source": [
    "best_model_evaluation = trainer.evaluate()\n",
    "best_model_evaluation"
   ]
  },
  {
   "cell_type": "code",
   "execution_count": 66,
   "metadata": {
    "execution": {
     "iopub.execute_input": "2025-01-15T22:07:36.238251Z",
     "iopub.status.busy": "2025-01-15T22:07:36.238100Z",
     "iopub.status.idle": "2025-01-15T22:07:36.250976Z",
     "shell.execute_reply": "2025-01-15T22:07:36.250552Z"
    }
   },
   "outputs": [
    {
     "data": {
      "text/html": [
       "<div>\n",
       "<style scoped>\n",
       "    .dataframe tbody tr th:only-of-type {\n",
       "        vertical-align: middle;\n",
       "    }\n",
       "\n",
       "    .dataframe tbody tr th {\n",
       "        vertical-align: top;\n",
       "    }\n",
       "\n",
       "    .dataframe thead th {\n",
       "        text-align: right;\n",
       "    }\n",
       "</style>\n",
       "<table border=\"1\" class=\"dataframe\">\n",
       "  <thead>\n",
       "    <tr style=\"text-align: right;\">\n",
       "      <th></th>\n",
       "      <th>loss</th>\n",
       "      <th>grad_norm</th>\n",
       "      <th>learning_rate</th>\n",
       "      <th>step</th>\n",
       "      <th>eval_loss</th>\n",
       "      <th>eval_matthews_correlation</th>\n",
       "      <th>eval_runtime</th>\n",
       "      <th>eval_samples_per_second</th>\n",
       "      <th>eval_steps_per_second</th>\n",
       "      <th>train_runtime</th>\n",
       "      <th>train_samples_per_second</th>\n",
       "      <th>train_steps_per_second</th>\n",
       "      <th>total_flos</th>\n",
       "      <th>train_loss</th>\n",
       "    </tr>\n",
       "    <tr>\n",
       "      <th>epoch</th>\n",
       "      <th></th>\n",
       "      <th></th>\n",
       "      <th></th>\n",
       "      <th></th>\n",
       "      <th></th>\n",
       "      <th></th>\n",
       "      <th></th>\n",
       "      <th></th>\n",
       "      <th></th>\n",
       "      <th></th>\n",
       "      <th></th>\n",
       "      <th></th>\n",
       "      <th></th>\n",
       "      <th></th>\n",
       "    </tr>\n",
       "  </thead>\n",
       "  <tbody>\n",
       "    <tr>\n",
       "      <th>1</th>\n",
       "      <td>0.5251</td>\n",
       "      <td>4.461945</td>\n",
       "      <td>0.000064</td>\n",
       "      <td>241</td>\n",
       "      <td>0.434676</td>\n",
       "      <td>0.567605</td>\n",
       "      <td>0.6491</td>\n",
       "      <td>1606.815</td>\n",
       "      <td>50.839</td>\n",
       "      <td>NaN</td>\n",
       "      <td>NaN</td>\n",
       "      <td>NaN</td>\n",
       "      <td>NaN</td>\n",
       "      <td>NaN</td>\n",
       "    </tr>\n",
       "    <tr>\n",
       "      <th>2</th>\n",
       "      <td>0.2774</td>\n",
       "      <td>16.284792</td>\n",
       "      <td>0.000048</td>\n",
       "      <td>482</td>\n",
       "      <td>0.484089</td>\n",
       "      <td>0.586692</td>\n",
       "      <td>0.6434</td>\n",
       "      <td>1621.197</td>\n",
       "      <td>51.294</td>\n",
       "      <td>NaN</td>\n",
       "      <td>NaN</td>\n",
       "      <td>NaN</td>\n",
       "      <td>NaN</td>\n",
       "      <td>NaN</td>\n",
       "    </tr>\n",
       "    <tr>\n",
       "      <th>3</th>\n",
       "      <td>0.1217</td>\n",
       "      <td>3.464060</td>\n",
       "      <td>0.000032</td>\n",
       "      <td>723</td>\n",
       "      <td>0.544513</td>\n",
       "      <td>0.604621</td>\n",
       "      <td>0.6464</td>\n",
       "      <td>1613.607</td>\n",
       "      <td>51.054</td>\n",
       "      <td>NaN</td>\n",
       "      <td>NaN</td>\n",
       "      <td>NaN</td>\n",
       "      <td>NaN</td>\n",
       "      <td>NaN</td>\n",
       "    </tr>\n",
       "    <tr>\n",
       "      <th>4</th>\n",
       "      <td>0.0555</td>\n",
       "      <td>7.721446</td>\n",
       "      <td>0.000016</td>\n",
       "      <td>964</td>\n",
       "      <td>0.786629</td>\n",
       "      <td>0.608284</td>\n",
       "      <td>0.6653</td>\n",
       "      <td>1567.601</td>\n",
       "      <td>49.598</td>\n",
       "      <td>NaN</td>\n",
       "      <td>NaN</td>\n",
       "      <td>NaN</td>\n",
       "      <td>NaN</td>\n",
       "      <td>NaN</td>\n",
       "    </tr>\n",
       "    <tr>\n",
       "      <th>5</th>\n",
       "      <td>0.0225</td>\n",
       "      <td>0.083300</td>\n",
       "      <td>0.000000</td>\n",
       "      <td>1205</td>\n",
       "      <td>0.987298</td>\n",
       "      <td>0.601571</td>\n",
       "      <td>0.6523</td>\n",
       "      <td>1599.060</td>\n",
       "      <td>50.593</td>\n",
       "      <td>97.7461</td>\n",
       "      <td>393.622</td>\n",
       "      <td>12.328</td>\n",
       "      <td>5.890146e+14</td>\n",
       "      <td>0.200438</td>\n",
       "    </tr>\n",
       "  </tbody>\n",
       "</table>\n",
       "</div>"
      ],
      "text/plain": [
       "         loss  grad_norm  learning_rate  step  eval_loss  \\\n",
       "epoch                                                      \n",
       "1      0.5251   4.461945       0.000064   241   0.434676   \n",
       "2      0.2774  16.284792       0.000048   482   0.484089   \n",
       "3      0.1217   3.464060       0.000032   723   0.544513   \n",
       "4      0.0555   7.721446       0.000016   964   0.786629   \n",
       "5      0.0225   0.083300       0.000000  1205   0.987298   \n",
       "\n",
       "       eval_matthews_correlation  eval_runtime  eval_samples_per_second  \\\n",
       "epoch                                                                     \n",
       "1                       0.567605        0.6491                 1606.815   \n",
       "2                       0.586692        0.6434                 1621.197   \n",
       "3                       0.604621        0.6464                 1613.607   \n",
       "4                       0.608284        0.6653                 1567.601   \n",
       "5                       0.601571        0.6523                 1599.060   \n",
       "\n",
       "       eval_steps_per_second  train_runtime  train_samples_per_second  \\\n",
       "epoch                                                                   \n",
       "1                     50.839            NaN                       NaN   \n",
       "2                     51.294            NaN                       NaN   \n",
       "3                     51.054            NaN                       NaN   \n",
       "4                     49.598            NaN                       NaN   \n",
       "5                     50.593        97.7461                   393.622   \n",
       "\n",
       "       train_steps_per_second    total_flos  train_loss  \n",
       "epoch                                                    \n",
       "1                         NaN           NaN         NaN  \n",
       "2                         NaN           NaN         NaN  \n",
       "3                         NaN           NaN         NaN  \n",
       "4                         NaN           NaN         NaN  \n",
       "5                      12.328  5.890146e+14    0.200438  "
      ]
     },
     "execution_count": 66,
     "metadata": {},
     "output_type": "execute_result"
    }
   ],
   "source": [
    "training_history_modernbert_base = pd.DataFrame(trainer.state.log_history)\n",
    "training_history_modernbert_base.epoch = training_history_modernbert_base.epoch.astype(int)\n",
    "training_history_modernbert_base.groupby(\"epoch\").first()"
   ]
  },
  {
   "cell_type": "code",
   "execution_count": 67,
   "metadata": {
    "execution": {
     "iopub.execute_input": "2025-01-15T22:07:36.252425Z",
     "iopub.status.busy": "2025-01-15T22:07:36.252285Z",
     "iopub.status.idle": "2025-01-15T22:07:36.389443Z",
     "shell.execute_reply": "2025-01-15T22:07:36.389061Z"
    }
   },
   "outputs": [
    {
     "data": {
      "text/markdown": [
       "### Loss and Evaluation Metrics over Training Epochs (answerdotai/ModernBERT-base)"
      ],
      "text/plain": [
       "<IPython.core.display.Markdown object>"
      ]
     },
     "metadata": {},
     "output_type": "display_data"
    },
    {
     "data": {
      "image/png": "[encoded data removed]",
      "text/plain": [
       "<Figure size 640x480 with 1 Axes>"
      ]
     },
     "metadata": {},
     "output_type": "display_data"
    }
   ],
   "source": [
    "import seaborn as sns\n",
    "\n",
    "data = training_history_modernbert_base[[\"loss\", \"eval_loss\", \"epoch\", f\"eval_{metric_for_best_model}\"]]\n",
    "data.columns = [\"Train. Loss\", \"Eval. Loss\", \"Training Epoch\", \"Matthew's Corr.\"]\n",
    "data = data[:-1]\n",
    "data = pd.melt(data, ['Training Epoch']).dropna()\n",
    "\n",
    "plot = sns.lineplot(data=data, x=\"Training Epoch\", y=\"value\", hue=\"variable\", style=\"variable\", markers=True)\n",
    "plot.set_ylabel(\"\")\n",
    "plot.set(xticks=list(set(training_history_modernbert_base.epoch)))\n",
    "plot.set_ylim((0, plot.get_ylim()[1]))\n",
    "plot.legend(title=\"\")\n",
    "\n",
    "\n",
    "from IPython.display import Markdown, display\n",
    "display(Markdown(f\"### Loss and Evaluation Metrics over Training Epochs ({PRE_TRAINED_CHECKPOINT})\"))"
   ]
  },
  {
   "cell_type": "markdown",
   "metadata": {},
   "source": [
    "### 3.4 Evaluation"
   ]
  },
  {
   "cell_type": "code",
   "execution_count": 68,
   "metadata": {
    "execution": {
     "iopub.execute_input": "2025-01-15T22:07:36.390830Z",
     "iopub.status.busy": "2025-01-15T22:07:36.390688Z",
     "iopub.status.idle": "2025-01-15T22:07:36.935557Z",
     "shell.execute_reply": "2025-01-15T22:07:36.935100Z"
    }
   },
   "outputs": [],
   "source": [
    "predictions = trainer.predict(tokenized_dataset[\"test\"])"
   ]
  },
  {
   "cell_type": "code",
   "execution_count": 69,
   "metadata": {
    "execution": {
     "iopub.execute_input": "2025-01-15T22:07:36.937022Z",
     "iopub.status.busy": "2025-01-15T22:07:36.936862Z",
     "iopub.status.idle": "2025-01-15T22:07:37.034452Z",
     "shell.execute_reply": "2025-01-15T22:07:37.034079Z"
    }
   },
   "outputs": [
    {
     "data": {
      "text/markdown": [
       "### Prediction Confusion Matrix (answerdotai/ModernBERT-base)"
      ],
      "text/plain": [
       "<IPython.core.display.Markdown object>"
      ]
     },
     "metadata": {},
     "output_type": "display_data"
    },
    {
     "data": {
      "image/png": "[encoded data removed]",
      "text/plain": [
       "<Figure size 640x480 with 2 Axes>"
      ]
     },
     "metadata": {},
     "output_type": "display_data"
    }
   ],
   "source": [
    "import sklearn.metrics\n",
    "\n",
    "modernbert_base_cm = sklearn.metrics.confusion_matrix(tokenized_dataset[\"test\"]['label'], predictions.predictions.argmax(-1))\n",
    "plot = sns.heatmap(modernbert_base_cm, annot=True, fmt='d')\n",
    "plot.set_xlabel(\"True label\")\n",
    "plot.set_ylabel(\"Predicted label\")\n",
    "\n",
    "from IPython.display import Markdown, display\n",
    "display(Markdown(f\"### Prediction Confusion Matrix ({PRE_TRAINED_CHECKPOINT})\"))"
   ]
  },
  {
   "cell_type": "code",
   "execution_count": 70,
   "metadata": {
    "execution": {
     "iopub.execute_input": "2025-01-15T22:07:37.035677Z",
     "iopub.status.busy": "2025-01-15T22:07:37.035535Z",
     "iopub.status.idle": "2025-01-15T22:07:37.038598Z",
     "shell.execute_reply": "2025-01-15T22:07:37.038259Z"
    }
   },
   "outputs": [
    {
     "data": {
      "text/plain": [
       "{'test_loss': 0.7526655793190002,\n",
       " 'test_matthews_correlation': 0.5886071158130033,\n",
       " 'test_runtime': 0.5398,\n",
       " 'test_samples_per_second': 1585.857,\n",
       " 'test_steps_per_second': 50.021}"
      ]
     },
     "execution_count": 70,
     "metadata": {},
     "output_type": "execute_result"
    }
   ],
   "source": [
    "predictions.metrics"
   ]
  },
  {
   "cell_type": "code",
   "execution_count": 71,
   "metadata": {
    "execution": {
     "iopub.execute_input": "2025-01-15T22:07:37.039862Z",
     "iopub.status.busy": "2025-01-15T22:07:37.039724Z",
     "iopub.status.idle": "2025-01-15T22:07:37.053235Z",
     "shell.execute_reply": "2025-01-15T22:07:37.052883Z"
    }
   },
   "outputs": [
    {
     "data": {
      "text/markdown": [
       "### Best Model performance:"
      ],
      "text/plain": [
       "<IPython.core.display.Markdown object>"
      ]
     },
     "metadata": {},
     "output_type": "display_data"
    },
    {
     "name": "stdout",
     "output_type": "stream",
     "text": [
      "\"BERT_BASE\" and \"BERT_LARGE\" performance on GLUE testing data as reported in original paper.\n"
     ]
    },
    {
     "data": {
      "text/html": [
       "<div>\n",
       "<style scoped>\n",
       "    .dataframe tbody tr th:only-of-type {\n",
       "        vertical-align: middle;\n",
       "    }\n",
       "\n",
       "    .dataframe tbody tr th {\n",
       "        vertical-align: top;\n",
       "    }\n",
       "\n",
       "    .dataframe thead th {\n",
       "        text-align: right;\n",
       "    }\n",
       "</style>\n",
       "<table border=\"1\" class=\"dataframe\">\n",
       "  <thead>\n",
       "    <tr style=\"text-align: right;\">\n",
       "      <th></th>\n",
       "      <th>our BERT_BASE</th>\n",
       "      <th>original BERT_BASE</th>\n",
       "      <th>our ModernBERT_BASE</th>\n",
       "      <th>our BERT_LARGE</th>\n",
       "      <th>original BERT_LARGE</th>\n",
       "    </tr>\n",
       "  </thead>\n",
       "  <tbody>\n",
       "    <tr>\n",
       "      <th>train_runtime_s</th>\n",
       "      <td>74.212100</td>\n",
       "      <td>-</td>\n",
       "      <td>97.746100</td>\n",
       "      <td>223.642200</td>\n",
       "      <td>-</td>\n",
       "    </tr>\n",
       "    <tr>\n",
       "      <th>eval_loss</th>\n",
       "      <td>0.691362</td>\n",
       "      <td>-</td>\n",
       "      <td>0.786494</td>\n",
       "      <td>0.587753</td>\n",
       "      <td>-</td>\n",
       "    </tr>\n",
       "    <tr>\n",
       "      <th>eval_matthews_correlation</th>\n",
       "      <td>0.585449</td>\n",
       "      <td>-</td>\n",
       "      <td>0.603317</td>\n",
       "      <td>0.620829</td>\n",
       "      <td>-</td>\n",
       "    </tr>\n",
       "    <tr>\n",
       "      <th>test_matthews_correlation</th>\n",
       "      <td>0.548455</td>\n",
       "      <td>0.521</td>\n",
       "      <td>0.588607</td>\n",
       "      <td>0.584617</td>\n",
       "      <td>0.605</td>\n",
       "    </tr>\n",
       "  </tbody>\n",
       "</table>\n",
       "</div>"
      ],
      "text/plain": [
       "                           our BERT_BASE original BERT_BASE  \\\n",
       "train_runtime_s                74.212100                  -   \n",
       "eval_loss                       0.691362                  -   \n",
       "eval_matthews_correlation       0.585449                  -   \n",
       "test_matthews_correlation       0.548455              0.521   \n",
       "\n",
       "                           our ModernBERT_BASE  our BERT_LARGE  \\\n",
       "train_runtime_s                      97.746100      223.642200   \n",
       "eval_loss                             0.786494        0.587753   \n",
       "eval_matthews_correlation             0.603317        0.620829   \n",
       "test_matthews_correlation             0.588607        0.584617   \n",
       "\n",
       "                          original BERT_LARGE  \n",
       "train_runtime_s                             -  \n",
       "eval_loss                                   -  \n",
       "eval_matthews_correlation                   -  \n",
       "test_matthews_correlation               0.605  "
      ]
     },
     "execution_count": 71,
     "metadata": {},
     "output_type": "execute_result"
    }
   ],
   "source": [
    "display(Markdown(f\"### Best Model performance:\"))\n",
    "results[\"our ModernBERT_BASE\"] = [\n",
    "    training_summary_modernbert_base.metrics[\"train_runtime\"],\n",
    "    best_model_evaluation[\"eval_loss\"],\n",
    "    best_model_evaluation[\"eval_matthews_correlation\"],\n",
    "    predictions.metrics[\"test_matthews_correlation\"],\n",
    "]\n",
    "results = results[\n",
    "    [\n",
    "        \"our BERT_BASE\",\n",
    "        \"original BERT_BASE\",\n",
    "        \"our ModernBERT_BASE\",\n",
    "        \"our BERT_LARGE\",\n",
    "        \"original BERT_LARGE\",\n",
    "    ]\n",
    "]\n",
    "print('\"BERT_BASE\" and \"BERT_LARGE\" performance on GLUE testing data as reported in original paper.')\n",
    "results"
   ]
  },
  {
   "cell_type": "markdown",
   "metadata": {},
   "source": [
    "## 5. ModernBERT-Large"
   ]
  },
  {
   "cell_type": "code",
   "execution_count": 72,
   "metadata": {
    "execution": {
     "iopub.execute_input": "2025-01-15T22:07:37.054462Z",
     "iopub.status.busy": "2025-01-15T22:07:37.054325Z",
     "iopub.status.idle": "2025-01-15T22:07:37.058890Z",
     "shell.execute_reply": "2025-01-15T22:07:37.058545Z"
    }
   },
   "outputs": [],
   "source": [
    "PRE_TRAINED_CHECKPOINT = \"answerdotai/ModernBERT-large\" "
   ]
  },
  {
   "cell_type": "markdown",
   "metadata": {},
   "source": [
    "### 4.1 Tokenization"
   ]
  },
  {
   "cell_type": "code",
   "execution_count": 73,
   "metadata": {
    "execution": {
     "iopub.execute_input": "2025-01-15T22:07:37.060278Z",
     "iopub.status.busy": "2025-01-15T22:07:37.060129Z",
     "iopub.status.idle": "2025-01-15T22:07:37.329249Z",
     "shell.execute_reply": "2025-01-15T22:07:37.328837Z"
    }
   },
   "outputs": [
    {
     "data": {
      "application/vnd.jupyter.widget-view+json": {
       "model_id": "58fa87a86e54472fb8c5cb7f45729b6a",
       "version_major": 2,
       "version_minor": 0
      },
      "text/plain": [
       "Map:   0%|          | 0/856 [00:00<?, ? examples/s]"
      ]
     },
     "metadata": {},
     "output_type": "display_data"
    }
   ],
   "source": [
    "from transformers import AutoTokenizer\n",
    "\n",
    "tokenizer = AutoTokenizer.from_pretrained(PRE_TRAINED_CHECKPOINT, do_lower_case=\"uncased\" in PRE_TRAINED_CHECKPOINT)\n",
    "\n",
    "def tokenize_func(item):\n",
    "    \"\"\"Tokenize passed item. \n",
    "    \n",
    "    Depending on dataset task the passed item will either contain one sentence or two sentences.\n",
    "    In the last case the two sentences will be appended via a [SEP] token.\n",
    "    \"\"\"\n",
    "    if second_sentence_key is None:\n",
    "        return tokenizer(item[first_sentence_key], add_special_tokens=True, truncation=True)\n",
    "    else:\n",
    "        return tokenizer(item[first_sentence_key], item[second_sentence_key], add_special_tokens=True, truncation=True)\n",
    "\n",
    "tokenized_dataset = dataset.map(tokenize_func, batched=True)"
   ]
  },
  {
   "cell_type": "code",
   "execution_count": 74,
   "metadata": {
    "execution": {
     "iopub.execute_input": "2025-01-15T22:07:37.335414Z",
     "iopub.status.busy": "2025-01-15T22:07:37.335125Z",
     "iopub.status.idle": "2025-01-15T22:07:37.337591Z",
     "shell.execute_reply": "2025-01-15T22:07:37.337242Z"
    }
   },
   "outputs": [],
   "source": [
    "from transformers import DataCollatorWithPadding\n",
    "\n",
    "data_collator = DataCollatorWithPadding(tokenizer=tokenizer)"
   ]
  },
  {
   "cell_type": "markdown",
   "metadata": {},
   "source": [
    "### 4.2 Metrics"
   ]
  },
  {
   "cell_type": "code",
   "execution_count": 75,
   "metadata": {
    "execution": {
     "iopub.execute_input": "2025-01-15T22:07:37.339017Z",
     "iopub.status.busy": "2025-01-15T22:07:37.338704Z",
     "iopub.status.idle": "2025-01-15T22:07:38.230534Z",
     "shell.execute_reply": "2025-01-15T22:07:38.230138Z"
    }
   },
   "outputs": [
    {
     "name": "stdout",
     "output_type": "stream",
     "text": [
      "We will use \"['matthews_correlation']\" as an evaluation metric for the task cola\n"
     ]
    }
   ],
   "source": [
    "import evaluate\n",
    "\n",
    "metric = evaluate.load(DATASET_NAME, DATASET_TASK)\n",
    "\n",
    "metric_for_best_model = _task_to_metric[DATASET_TASK]\n",
    "metric_names = get_metric_name_for_specific_task()\n",
    "print(f'We will use \"{metric_names}\" as an evaluation metric for the task {DATASET_TASK}')"
   ]
  },
  {
   "cell_type": "code",
   "execution_count": 76,
   "metadata": {
    "execution": {
     "iopub.execute_input": "2025-01-15T22:07:38.232179Z",
     "iopub.status.busy": "2025-01-15T22:07:38.231894Z",
     "iopub.status.idle": "2025-01-15T22:07:38.234307Z",
     "shell.execute_reply": "2025-01-15T22:07:38.233940Z"
    }
   },
   "outputs": [],
   "source": [
    "assert metric_for_best_model in metric_names, \"Metric to optimize for not found in evaluation metrics provided by GLUE\""
   ]
  },
  {
   "cell_type": "markdown",
   "metadata": {},
   "source": [
    "### 4.3 Training"
   ]
  },
  {
   "cell_type": "code",
   "execution_count": 77,
   "metadata": {
    "execution": {
     "iopub.execute_input": "2025-01-15T22:07:38.235559Z",
     "iopub.status.busy": "2025-01-15T22:07:38.235431Z",
     "iopub.status.idle": "2025-01-15T22:07:38.243704Z",
     "shell.execute_reply": "2025-01-15T22:07:38.243356Z"
    }
   },
   "outputs": [],
   "source": [
    "BATCH_SIZE = 32"
   ]
  },
  {
   "cell_type": "code",
   "execution_count": 78,
   "metadata": {
    "execution": {
     "iopub.execute_input": "2025-01-15T22:07:38.245034Z",
     "iopub.status.busy": "2025-01-15T22:07:38.244901Z",
     "iopub.status.idle": "2025-01-15T22:07:38.567069Z",
     "shell.execute_reply": "2025-01-15T22:07:38.566586Z"
    }
   },
   "outputs": [],
   "source": [
    "import gc\n",
    "\n",
    "try:\n",
    "    del model\n",
    "    del trainer\n",
    "except:\n",
    "    pass\n",
    "\n",
    "\n",
    "gc.collect()\n",
    "torch.cuda.empty_cache()"
   ]
  },
  {
   "cell_type": "code",
   "execution_count": 79,
   "metadata": {
    "execution": {
     "iopub.execute_input": "2025-01-15T22:07:38.569347Z",
     "iopub.status.busy": "2025-01-15T22:07:38.569008Z",
     "iopub.status.idle": "2025-01-15T22:07:38.971805Z",
     "shell.execute_reply": "2025-01-15T22:07:38.971386Z"
    }
   },
   "outputs": [
    {
     "name": "stderr",
     "output_type": "stream",
     "text": [
      "Some weights of ModernBertForSequenceClassification were not initialized from the model checkpoint at answerdotai/ModernBERT-large and are newly initialized: ['classifier.bias', 'classifier.weight']\n",
      "You should probably TRAIN this model on a down-stream task to be able to use it for predictions and inference.\n"
     ]
    }
   ],
   "source": [
    "from transformers import AutoModelForSequenceClassification\n",
    "\n",
    "model = AutoModelForSequenceClassification.from_pretrained(\n",
    "    PRE_TRAINED_CHECKPOINT,\n",
    "    num_labels=num_labels,\n",
    "    reference_compile=False\n",
    ")\n",
    "\n",
    "from transformers import TrainingArguments\n",
    "\n",
    "training_arguments = TrainingArguments(\n",
    "    output_dir=(TRAIN_OUTPUT_DIR / PRE_TRAINED_CHECKPOINT.replace(\"/\", \"_\")).resolve(),\n",
    "    per_device_train_batch_size=BATCH_SIZE,\n",
    "    per_device_eval_batch_size=BATCH_SIZE,\n",
    "    eval_strategy=\"epoch\",\n",
    "    save_strategy=\"epoch\",\n",
    "    logging_strategy=\"epoch\",\n",
    "    num_train_epochs=NUM_EPOCHS,\n",
    "    lr_scheduler_type=\"linear\",\n",
    "    optim=\"adamw_torch\",\n",
    "    adam_beta1=0.9,\n",
    "    adam_beta2=0.98,\n",
    "    adam_epsilon=1e-6,\n",
    "    learning_rate=8e-5,  # Original paper recommends 8e-5\n",
    "    weight_decay=0.01,  # Original paper uses 0.01 on pre-training\n",
    "    save_total_limit = 3,  # Keep at most the three checkpoints (latest + best one)\n",
    "    load_best_model_at_end=True,\n",
    "    metric_for_best_model=metric_for_best_model,\n",
    "    bf16=True,\n",
    "    bf16_full_eval=True,\n",
    ")\n",
    "\n",
    "from transformers import Trainer\n",
    "\n",
    "validation_key = \"validation_mismatched\" if DATASET_TASK == \"mnli-mm\" else \"validation_matched\" if DATASET_TASK == \"mnli\" else \"validation\"\n",
    "\n",
    "trainer = Trainer(\n",
    "    model=model,\n",
    "    args=training_arguments,\n",
    "    train_dataset=tokenized_dataset[\"train\"],\n",
    "    eval_dataset=tokenized_dataset[validation_key],\n",
    "    data_collator=data_collator,\n",
    "    processing_class=tokenizer,\n",
    "    compute_metrics=compute_metrics\n",
    ")"
   ]
  },
  {
   "cell_type": "code",
   "execution_count": 80,
   "metadata": {
    "execution": {
     "iopub.execute_input": "2025-01-15T22:07:38.973440Z",
     "iopub.status.busy": "2025-01-15T22:07:38.973303Z",
     "iopub.status.idle": "2025-01-15T22:10:46.719843Z",
     "shell.execute_reply": "2025-01-15T22:10:46.719264Z"
    }
   },
   "outputs": [
    {
     "name": "stdout",
     "output_type": "stream",
     "text": [
      "--- training_arguments.output_dir='/home/e01503441/groups/192.039-2024W/bert/training/glue-cola/answerdotai_ModernBERT-large'\n",
      "--- training_arguments.metric_for_best_model='matthews_correlation'\n"
     ]
    },
    {
     "data": {
      "text/html": [
       "\n",
       "    <div>\n",
       "      \n",
       "      <progress value='1205' max='1205' style='width:300px; height:20px; vertical-align: middle;'></progress>\n",
       "      [1205/1205 03:06, Epoch 5/5]\n",
       "    </div>\n",
       "    <table border=\"1\" class=\"dataframe\">\n",
       "  <thead>\n",
       " <tr style=\"text-align: left;\">\n",
       "      <th>Epoch</th>\n",
       "      <th>Training Loss</th>\n",
       "      <th>Validation Loss</th>\n",
       "      <th>Matthews Correlation</th>\n",
       "    </tr>\n",
       "  </thead>\n",
       "  <tbody>\n",
       "    <tr>\n",
       "      <td>1</td>\n",
       "      <td>0.480000</td>\n",
       "      <td>0.463961</td>\n",
       "      <td>0.546945</td>\n",
       "    </tr>\n",
       "    <tr>\n",
       "      <td>2</td>\n",
       "      <td>0.250600</td>\n",
       "      <td>0.425017</td>\n",
       "      <td>0.595665</td>\n",
       "    </tr>\n",
       "    <tr>\n",
       "      <td>3</td>\n",
       "      <td>0.120300</td>\n",
       "      <td>0.485153</td>\n",
       "      <td>0.651538</td>\n",
       "    </tr>\n",
       "    <tr>\n",
       "      <td>4</td>\n",
       "      <td>0.062100</td>\n",
       "      <td>0.619483</td>\n",
       "      <td>0.640855</td>\n",
       "    </tr>\n",
       "    <tr>\n",
       "      <td>5</td>\n",
       "      <td>0.025400</td>\n",
       "      <td>0.764097</td>\n",
       "      <td>0.656930</td>\n",
       "    </tr>\n",
       "  </tbody>\n",
       "</table><p>"
      ],
      "text/plain": [
       "<IPython.core.display.HTML object>"
      ]
     },
     "metadata": {},
     "output_type": "display_data"
    }
   ],
   "source": [
    "torch.cuda.empty_cache()\n",
    "\n",
    "print(f\"--- {training_arguments.output_dir=}\")\n",
    "print(f\"--- {training_arguments.metric_for_best_model=}\")\n",
    "training_summary_modernbert_large = trainer.train()"
   ]
  },
  {
   "cell_type": "code",
   "execution_count": 81,
   "metadata": {
    "execution": {
     "iopub.execute_input": "2025-01-15T22:10:46.721657Z",
     "iopub.status.busy": "2025-01-15T22:10:46.721472Z",
     "iopub.status.idle": "2025-01-15T22:10:46.725272Z",
     "shell.execute_reply": "2025-01-15T22:10:46.724827Z"
    }
   },
   "outputs": [
    {
     "data": {
      "text/plain": [
       "TrainOutput(global_step=1205, training_loss=0.18769916162451272, metrics={'train_runtime': 186.3582, 'train_samples_per_second': 206.457, 'train_steps_per_second': 6.466, 'total_flos': 1828031006887176.0, 'train_loss': 0.18769916162451272, 'epoch': 5.0})"
      ]
     },
     "execution_count": 81,
     "metadata": {},
     "output_type": "execute_result"
    }
   ],
   "source": [
    "training_summary_modernbert_large"
   ]
  },
  {
   "cell_type": "code",
   "execution_count": 82,
   "metadata": {
    "execution": {
     "iopub.execute_input": "2025-01-15T22:10:46.726561Z",
     "iopub.status.busy": "2025-01-15T22:10:46.726416Z",
     "iopub.status.idle": "2025-01-15T22:10:47.523828Z",
     "shell.execute_reply": "2025-01-15T22:10:47.523442Z"
    }
   },
   "outputs": [
    {
     "data": {
      "text/html": [],
      "text/plain": [
       "<IPython.core.display.HTML object>"
      ]
     },
     "metadata": {},
     "output_type": "display_data"
    },
    {
     "data": {
      "text/plain": [
       "{'eval_loss': 0.7628598809242249,\n",
       " 'eval_matthews_correlation': 0.6594129086788635,\n",
       " 'eval_runtime': 0.7841,\n",
       " 'eval_samples_per_second': 1330.263,\n",
       " 'eval_steps_per_second': 42.089,\n",
       " 'epoch': 5.0}"
      ]
     },
     "execution_count": 82,
     "metadata": {},
     "output_type": "execute_result"
    }
   ],
   "source": [
    "best_model_evaluation = trainer.evaluate()\n",
    "best_model_evaluation"
   ]
  },
  {
   "cell_type": "code",
   "execution_count": 83,
   "metadata": {
    "execution": {
     "iopub.execute_input": "2025-01-15T22:10:47.525339Z",
     "iopub.status.busy": "2025-01-15T22:10:47.524974Z",
     "iopub.status.idle": "2025-01-15T22:10:47.537347Z",
     "shell.execute_reply": "2025-01-15T22:10:47.536955Z"
    }
   },
   "outputs": [
    {
     "data": {
      "text/html": [
       "<div>\n",
       "<style scoped>\n",
       "    .dataframe tbody tr th:only-of-type {\n",
       "        vertical-align: middle;\n",
       "    }\n",
       "\n",
       "    .dataframe tbody tr th {\n",
       "        vertical-align: top;\n",
       "    }\n",
       "\n",
       "    .dataframe thead th {\n",
       "        text-align: right;\n",
       "    }\n",
       "</style>\n",
       "<table border=\"1\" class=\"dataframe\">\n",
       "  <thead>\n",
       "    <tr style=\"text-align: right;\">\n",
       "      <th></th>\n",
       "      <th>loss</th>\n",
       "      <th>grad_norm</th>\n",
       "      <th>learning_rate</th>\n",
       "      <th>step</th>\n",
       "      <th>eval_loss</th>\n",
       "      <th>eval_matthews_correlation</th>\n",
       "      <th>eval_runtime</th>\n",
       "      <th>eval_samples_per_second</th>\n",
       "      <th>eval_steps_per_second</th>\n",
       "      <th>train_runtime</th>\n",
       "      <th>train_samples_per_second</th>\n",
       "      <th>train_steps_per_second</th>\n",
       "      <th>total_flos</th>\n",
       "      <th>train_loss</th>\n",
       "    </tr>\n",
       "    <tr>\n",
       "      <th>epoch</th>\n",
       "      <th></th>\n",
       "      <th></th>\n",
       "      <th></th>\n",
       "      <th></th>\n",
       "      <th></th>\n",
       "      <th></th>\n",
       "      <th></th>\n",
       "      <th></th>\n",
       "      <th></th>\n",
       "      <th></th>\n",
       "      <th></th>\n",
       "      <th></th>\n",
       "      <th></th>\n",
       "      <th></th>\n",
       "    </tr>\n",
       "  </thead>\n",
       "  <tbody>\n",
       "    <tr>\n",
       "      <th>1</th>\n",
       "      <td>0.4800</td>\n",
       "      <td>3.065235</td>\n",
       "      <td>0.000064</td>\n",
       "      <td>241</td>\n",
       "      <td>0.463961</td>\n",
       "      <td>0.546945</td>\n",
       "      <td>0.8099</td>\n",
       "      <td>1287.867</td>\n",
       "      <td>40.747</td>\n",
       "      <td>NaN</td>\n",
       "      <td>NaN</td>\n",
       "      <td>NaN</td>\n",
       "      <td>NaN</td>\n",
       "      <td>NaN</td>\n",
       "    </tr>\n",
       "    <tr>\n",
       "      <th>2</th>\n",
       "      <td>0.2506</td>\n",
       "      <td>13.116028</td>\n",
       "      <td>0.000048</td>\n",
       "      <td>482</td>\n",
       "      <td>0.425017</td>\n",
       "      <td>0.595665</td>\n",
       "      <td>0.7982</td>\n",
       "      <td>1306.637</td>\n",
       "      <td>41.341</td>\n",
       "      <td>NaN</td>\n",
       "      <td>NaN</td>\n",
       "      <td>NaN</td>\n",
       "      <td>NaN</td>\n",
       "      <td>NaN</td>\n",
       "    </tr>\n",
       "    <tr>\n",
       "      <th>3</th>\n",
       "      <td>0.1203</td>\n",
       "      <td>2.912054</td>\n",
       "      <td>0.000032</td>\n",
       "      <td>723</td>\n",
       "      <td>0.485153</td>\n",
       "      <td>0.651538</td>\n",
       "      <td>0.9236</td>\n",
       "      <td>1129.315</td>\n",
       "      <td>35.731</td>\n",
       "      <td>NaN</td>\n",
       "      <td>NaN</td>\n",
       "      <td>NaN</td>\n",
       "      <td>NaN</td>\n",
       "      <td>NaN</td>\n",
       "    </tr>\n",
       "    <tr>\n",
       "      <th>4</th>\n",
       "      <td>0.0621</td>\n",
       "      <td>1.743495</td>\n",
       "      <td>0.000016</td>\n",
       "      <td>964</td>\n",
       "      <td>0.619483</td>\n",
       "      <td>0.640855</td>\n",
       "      <td>0.8157</td>\n",
       "      <td>1278.712</td>\n",
       "      <td>40.458</td>\n",
       "      <td>NaN</td>\n",
       "      <td>NaN</td>\n",
       "      <td>NaN</td>\n",
       "      <td>NaN</td>\n",
       "      <td>NaN</td>\n",
       "    </tr>\n",
       "    <tr>\n",
       "      <th>5</th>\n",
       "      <td>0.0254</td>\n",
       "      <td>0.302935</td>\n",
       "      <td>0.000000</td>\n",
       "      <td>1205</td>\n",
       "      <td>0.764097</td>\n",
       "      <td>0.656930</td>\n",
       "      <td>0.7984</td>\n",
       "      <td>1306.362</td>\n",
       "      <td>41.333</td>\n",
       "      <td>186.3582</td>\n",
       "      <td>206.457</td>\n",
       "      <td>6.466</td>\n",
       "      <td>1.828031e+15</td>\n",
       "      <td>0.187699</td>\n",
       "    </tr>\n",
       "  </tbody>\n",
       "</table>\n",
       "</div>"
      ],
      "text/plain": [
       "         loss  grad_norm  learning_rate  step  eval_loss  \\\n",
       "epoch                                                      \n",
       "1      0.4800   3.065235       0.000064   241   0.463961   \n",
       "2      0.2506  13.116028       0.000048   482   0.425017   \n",
       "3      0.1203   2.912054       0.000032   723   0.485153   \n",
       "4      0.0621   1.743495       0.000016   964   0.619483   \n",
       "5      0.0254   0.302935       0.000000  1205   0.764097   \n",
       "\n",
       "       eval_matthews_correlation  eval_runtime  eval_samples_per_second  \\\n",
       "epoch                                                                     \n",
       "1                       0.546945        0.8099                 1287.867   \n",
       "2                       0.595665        0.7982                 1306.637   \n",
       "3                       0.651538        0.9236                 1129.315   \n",
       "4                       0.640855        0.8157                 1278.712   \n",
       "5                       0.656930        0.7984                 1306.362   \n",
       "\n",
       "       eval_steps_per_second  train_runtime  train_samples_per_second  \\\n",
       "epoch                                                                   \n",
       "1                     40.747            NaN                       NaN   \n",
       "2                     41.341            NaN                       NaN   \n",
       "3                     35.731            NaN                       NaN   \n",
       "4                     40.458            NaN                       NaN   \n",
       "5                     41.333       186.3582                   206.457   \n",
       "\n",
       "       train_steps_per_second    total_flos  train_loss  \n",
       "epoch                                                    \n",
       "1                         NaN           NaN         NaN  \n",
       "2                         NaN           NaN         NaN  \n",
       "3                         NaN           NaN         NaN  \n",
       "4                         NaN           NaN         NaN  \n",
       "5                       6.466  1.828031e+15    0.187699  "
      ]
     },
     "execution_count": 83,
     "metadata": {},
     "output_type": "execute_result"
    }
   ],
   "source": [
    "training_history_modernbert_large = pd.DataFrame(trainer.state.log_history)\n",
    "training_history_modernbert_large.epoch = training_history_modernbert_large.epoch.astype(int)\n",
    "training_history_modernbert_large.groupby(\"epoch\").first()"
   ]
  },
  {
   "cell_type": "code",
   "execution_count": 84,
   "metadata": {
    "execution": {
     "iopub.execute_input": "2025-01-15T22:10:47.538860Z",
     "iopub.status.busy": "2025-01-15T22:10:47.538478Z",
     "iopub.status.idle": "2025-01-15T22:10:47.681358Z",
     "shell.execute_reply": "2025-01-15T22:10:47.680971Z"
    }
   },
   "outputs": [
    {
     "data": {
      "text/markdown": [
       "### Loss and Evaluation Metrics over Training Epochs (answerdotai/ModernBERT-large)"
      ],
      "text/plain": [
       "<IPython.core.display.Markdown object>"
      ]
     },
     "metadata": {},
     "output_type": "display_data"
    },
    {
     "data": {
      "image/png": "[encoded data removed]",
      "text/plain": [
       "<Figure size 640x480 with 1 Axes>"
      ]
     },
     "metadata": {},
     "output_type": "display_data"
    }
   ],
   "source": [
    "import seaborn as sns\n",
    "\n",
    "data = training_history_modernbert_large[[\"loss\", \"eval_loss\", \"epoch\", f\"eval_{metric_for_best_model}\"]]\n",
    "data.columns = [\"Train. Loss\", \"Eval. Loss\", \"Training Epoch\", \"Matthew's Corr.\"]\n",
    "data = data[:-1]\n",
    "data = pd.melt(data, ['Training Epoch']).dropna()\n",
    "\n",
    "plot = sns.lineplot(data=data, x=\"Training Epoch\", y=\"value\", hue=\"variable\", style=\"variable\", markers=True)\n",
    "plot.set_ylabel(\"\")\n",
    "plot.set(xticks=list(set(training_history_modernbert_large.epoch)))\n",
    "plot.set_ylim((0, plot.get_ylim()[1]))\n",
    "plot.legend(title=\"\")\n",
    "\n",
    "\n",
    "from IPython.display import Markdown, display\n",
    "display(Markdown(f\"### Loss and Evaluation Metrics over Training Epochs ({PRE_TRAINED_CHECKPOINT})\"))"
   ]
  },
  {
   "cell_type": "markdown",
   "metadata": {},
   "source": [
    "### 3.4 Evaluation"
   ]
  },
  {
   "cell_type": "code",
   "execution_count": 85,
   "metadata": {
    "execution": {
     "iopub.execute_input": "2025-01-15T22:10:47.682692Z",
     "iopub.status.busy": "2025-01-15T22:10:47.682550Z",
     "iopub.status.idle": "2025-01-15T22:10:48.347863Z",
     "shell.execute_reply": "2025-01-15T22:10:48.347492Z"
    }
   },
   "outputs": [],
   "source": [
    "predictions = trainer.predict(tokenized_dataset[\"test\"])"
   ]
  },
  {
   "cell_type": "code",
   "execution_count": 86,
   "metadata": {
    "execution": {
     "iopub.execute_input": "2025-01-15T22:10:48.349189Z",
     "iopub.status.busy": "2025-01-15T22:10:48.349049Z",
     "iopub.status.idle": "2025-01-15T22:10:48.445524Z",
     "shell.execute_reply": "2025-01-15T22:10:48.445138Z"
    }
   },
   "outputs": [
    {
     "data": {
      "text/markdown": [
       "### Prediction Confusion Matrix (answerdotai/ModernBERT-large)"
      ],
      "text/plain": [
       "<IPython.core.display.Markdown object>"
      ]
     },
     "metadata": {},
     "output_type": "display_data"
    },
    {
     "data": {
      "image/png": "[encoded data removed]",
      "text/plain": [
       "<Figure size 640x480 with 2 Axes>"
      ]
     },
     "metadata": {},
     "output_type": "display_data"
    }
   ],
   "source": [
    "import sklearn.metrics\n",
    "\n",
    "modernbert_large_cm = sklearn.metrics.confusion_matrix(tokenized_dataset[\"test\"]['label'], predictions.predictions.argmax(-1))\n",
    "plot = sns.heatmap(modernbert_large_cm, annot=True, fmt='d')\n",
    "plot.set_xlabel(\"True label\")\n",
    "plot.set_ylabel(\"Predicted label\")\n",
    "\n",
    "from IPython.display import Markdown, display\n",
    "display(Markdown(f\"### Prediction Confusion Matrix ({PRE_TRAINED_CHECKPOINT})\"))"
   ]
  },
  {
   "cell_type": "code",
   "execution_count": 87,
   "metadata": {
    "execution": {
     "iopub.execute_input": "2025-01-15T22:10:48.446798Z",
     "iopub.status.busy": "2025-01-15T22:10:48.446655Z",
     "iopub.status.idle": "2025-01-15T22:10:48.449723Z",
     "shell.execute_reply": "2025-01-15T22:10:48.449300Z"
    }
   },
   "outputs": [
    {
     "data": {
      "text/plain": [
       "{'test_loss': 0.8060334324836731,\n",
       " 'test_matthews_correlation': 0.6023285777507714,\n",
       " 'test_runtime': 0.6607,\n",
       " 'test_samples_per_second': 1295.592,\n",
       " 'test_steps_per_second': 40.866}"
      ]
     },
     "execution_count": 87,
     "metadata": {},
     "output_type": "execute_result"
    }
   ],
   "source": [
    "predictions.metrics"
   ]
  },
  {
   "cell_type": "code",
   "execution_count": 88,
   "metadata": {
    "execution": {
     "iopub.execute_input": "2025-01-15T22:10:48.451051Z",
     "iopub.status.busy": "2025-01-15T22:10:48.450912Z",
     "iopub.status.idle": "2025-01-15T22:10:48.464096Z",
     "shell.execute_reply": "2025-01-15T22:10:48.463742Z"
    }
   },
   "outputs": [
    {
     "data": {
      "text/markdown": [
       "### Best Model performance:"
      ],
      "text/plain": [
       "<IPython.core.display.Markdown object>"
      ]
     },
     "metadata": {},
     "output_type": "display_data"
    },
    {
     "name": "stdout",
     "output_type": "stream",
     "text": [
      "\"BERT_BASE\" and \"BERT_LARGE\" performance on GLUE testing data as reported in original paper.\n"
     ]
    },
    {
     "data": {
      "text/html": [
       "<div>\n",
       "<style scoped>\n",
       "    .dataframe tbody tr th:only-of-type {\n",
       "        vertical-align: middle;\n",
       "    }\n",
       "\n",
       "    .dataframe tbody tr th {\n",
       "        vertical-align: top;\n",
       "    }\n",
       "\n",
       "    .dataframe thead th {\n",
       "        text-align: right;\n",
       "    }\n",
       "</style>\n",
       "<table border=\"1\" class=\"dataframe\">\n",
       "  <thead>\n",
       "    <tr style=\"text-align: right;\">\n",
       "      <th></th>\n",
       "      <th>our BERT_BASE</th>\n",
       "      <th>original BERT_BASE</th>\n",
       "      <th>our ModernBERT_BASE</th>\n",
       "      <th>our BERT_LARGE</th>\n",
       "      <th>original BERT_LARGE</th>\n",
       "      <th>our ModernBERT_LARGE</th>\n",
       "    </tr>\n",
       "  </thead>\n",
       "  <tbody>\n",
       "    <tr>\n",
       "      <th>train_runtime_s</th>\n",
       "      <td>74.212100</td>\n",
       "      <td>-</td>\n",
       "      <td>97.746100</td>\n",
       "      <td>223.642200</td>\n",
       "      <td>-</td>\n",
       "      <td>186.358200</td>\n",
       "    </tr>\n",
       "    <tr>\n",
       "      <th>eval_loss</th>\n",
       "      <td>0.691362</td>\n",
       "      <td>-</td>\n",
       "      <td>0.786494</td>\n",
       "      <td>0.587753</td>\n",
       "      <td>-</td>\n",
       "      <td>0.762860</td>\n",
       "    </tr>\n",
       "    <tr>\n",
       "      <th>eval_matthews_correlation</th>\n",
       "      <td>0.585449</td>\n",
       "      <td>-</td>\n",
       "      <td>0.603317</td>\n",
       "      <td>0.620829</td>\n",
       "      <td>-</td>\n",
       "      <td>0.659413</td>\n",
       "    </tr>\n",
       "    <tr>\n",
       "      <th>test_matthews_correlation</th>\n",
       "      <td>0.548455</td>\n",
       "      <td>0.521</td>\n",
       "      <td>0.588607</td>\n",
       "      <td>0.584617</td>\n",
       "      <td>0.605</td>\n",
       "      <td>0.602329</td>\n",
       "    </tr>\n",
       "  </tbody>\n",
       "</table>\n",
       "</div>"
      ],
      "text/plain": [
       "                           our BERT_BASE original BERT_BASE  \\\n",
       "train_runtime_s                74.212100                  -   \n",
       "eval_loss                       0.691362                  -   \n",
       "eval_matthews_correlation       0.585449                  -   \n",
       "test_matthews_correlation       0.548455              0.521   \n",
       "\n",
       "                           our ModernBERT_BASE  our BERT_LARGE  \\\n",
       "train_runtime_s                      97.746100      223.642200   \n",
       "eval_loss                             0.786494        0.587753   \n",
       "eval_matthews_correlation             0.603317        0.620829   \n",
       "test_matthews_correlation             0.588607        0.584617   \n",
       "\n",
       "                          original BERT_LARGE  our ModernBERT_LARGE  \n",
       "train_runtime_s                             -            186.358200  \n",
       "eval_loss                                   -              0.762860  \n",
       "eval_matthews_correlation                   -              0.659413  \n",
       "test_matthews_correlation               0.605              0.602329  "
      ]
     },
     "execution_count": 88,
     "metadata": {},
     "output_type": "execute_result"
    }
   ],
   "source": [
    "display(Markdown(f\"### Best Model performance:\"))\n",
    "results[\"our ModernBERT_LARGE\"] = [\n",
    "    training_summary_modernbert_large.metrics[\"train_runtime\"],\n",
    "    best_model_evaluation[\"eval_loss\"],\n",
    "    best_model_evaluation[\"eval_matthews_correlation\"],\n",
    "    predictions.metrics[\"test_matthews_correlation\"],\n",
    "]\n",
    "results = results[\n",
    "    [\n",
    "        \"our BERT_BASE\",\n",
    "        \"original BERT_BASE\",\n",
    "        \"our ModernBERT_BASE\",\n",
    "        \"our BERT_LARGE\",\n",
    "        \"original BERT_LARGE\",\n",
    "        \"our ModernBERT_LARGE\",\n",
    "    ]\n",
    "]\n",
    "print('\"BERT_BASE\" and \"BERT_LARGE\" performance on GLUE testing data as reported in original paper.')\n",
    "results"
   ]
  },
  {
   "cell_type": "markdown",
   "metadata": {},
   "source": [
    "# Summary"
   ]
  },
  {
   "cell_type": "code",
   "execution_count": 89,
   "metadata": {
    "execution": {
     "iopub.execute_input": "2025-01-15T22:10:48.465362Z",
     "iopub.status.busy": "2025-01-15T22:10:48.465222Z",
     "iopub.status.idle": "2025-01-15T22:10:48.896814Z",
     "shell.execute_reply": "2025-01-15T22:10:48.896387Z"
    }
   },
   "outputs": [
    {
     "data": {
      "image/png": "[encoded data removed]",
      "text/plain": [
       "<Figure size 2000x480 with 4 Axes>"
      ]
     },
     "metadata": {},
     "output_type": "display_data"
    }
   ],
   "source": [
    "import matplotlib.pyplot as plt\n",
    "\n",
    "titles = [\"BERT-base\", \"BERT-large\", \"ModernBERT-base\", \"ModernBERT-large\"]\n",
    "training_histories = [training_history_bert_base, training_history_bert_large, training_history_modernbert_base, training_history_modernbert_large]\n",
    "\n",
    "fig, axes = plt.subplots(ncols=len(training_histories), sharey=True)\n",
    "\n",
    "def draw_loss_eval_plot(title, history, ax):\n",
    "    data = history[[\"loss\", \"eval_loss\", \"epoch\", f\"eval_{metric_for_best_model}\"]]\n",
    "    data.columns = [\"Train. Loss\", \"Eval. Loss\", \"Training Epoch\", \"F1\"]\n",
    "    data = data[:-1]\n",
    "    data = pd.melt(data, ['Training Epoch']).dropna()\n",
    "\n",
    "    plot = sns.lineplot(data=data, x=\"Training Epoch\", y=\"value\", hue=\"variable\", style=\"variable\", markers=True, ax=ax)\n",
    "    plot.set_ylabel(\"\")\n",
    "    plot.set(xticks=list(set(history.epoch)))\n",
    "    plot.legend(title=\"\", loc='upper left')\n",
    "    plot.set_title(title)\n",
    "\n",
    "for title, history, ax in zip(titles, training_histories, axes):\n",
    "    draw_loss_eval_plot(title, history, ax)\n",
    "\n",
    "for ax in axes[1:]:\n",
    "    ax.get_legend().remove()\n",
    "\n",
    "fig.set_figwidth(20)\n",
    "fig.tight_layout()"
   ]
  },
  {
   "cell_type": "code",
   "execution_count": 90,
   "metadata": {
    "execution": {
     "iopub.execute_input": "2025-01-15T22:10:48.898481Z",
     "iopub.status.busy": "2025-01-15T22:10:48.898336Z",
     "iopub.status.idle": "2025-01-15T22:10:49.267864Z",
     "shell.execute_reply": "2025-01-15T22:10:49.267477Z"
    }
   },
   "outputs": [
    {
     "data": {
      "image/png": "[encoded data removed]",
      "text/plain": [
       "<Figure size 1700x300 with 5 Axes>"
      ]
     },
     "metadata": {},
     "output_type": "display_data"
    }
   ],
   "source": [
    "titles = [\"BERT-base\", \"BERT-large\", \"ModernBERT-base\", \"ModernBERT-large\"]\n",
    "our_results = results.loc[\"test_matthews_correlation\"].drop(\"original BERT_BASE\").drop(\"original BERT_LARGE\")\n",
    "titles = [title + \" - \" + f\"F1: {acc:.2f}\" for title, acc in zip(titles, our_results)]\n",
    "cms = [bert_base_cm, bert_large_cm, modernbert_base_cm, modernbert_large_cm]\n",
    "\n",
    "fig, axes = plt.subplots(ncols=len(cms),  figsize=(3,3))\n",
    "\n",
    "def draw_confusion_matrix_plot(title, cm, ax):\n",
    "    include_cbar = title == titles[-1]\n",
    "    plot = sns.heatmap(cm, annot=True, fmt='d', square=True, cmap=\"viridis\", cbar=include_cbar, ax=ax)\n",
    "    plot.set_xlabel(\"True label\")\n",
    "    plot.set_ylabel(\"Predicted label\")\n",
    "    plot.set_title(title)\n",
    "\n",
    "for title, history, ax in zip(titles, cms, axes):\n",
    "    draw_confusion_matrix_plot(title, history, ax)\n",
    "\n",
    "fig.set_figwidth(17)"
   ]
  },
  {
   "cell_type": "code",
   "execution_count": 91,
   "metadata": {
    "execution": {
     "iopub.execute_input": "2025-01-15T22:10:49.269143Z",
     "iopub.status.busy": "2025-01-15T22:10:49.268997Z",
     "iopub.status.idle": "2025-01-15T22:10:49.275133Z",
     "shell.execute_reply": "2025-01-15T22:10:49.274703Z"
    }
   },
   "outputs": [
    {
     "data": {
      "text/html": [
       "<div>\n",
       "<style scoped>\n",
       "    .dataframe tbody tr th:only-of-type {\n",
       "        vertical-align: middle;\n",
       "    }\n",
       "\n",
       "    .dataframe tbody tr th {\n",
       "        vertical-align: top;\n",
       "    }\n",
       "\n",
       "    .dataframe thead th {\n",
       "        text-align: right;\n",
       "    }\n",
       "</style>\n",
       "<table border=\"1\" class=\"dataframe\">\n",
       "  <thead>\n",
       "    <tr style=\"text-align: right;\">\n",
       "      <th></th>\n",
       "      <th>our BERT_BASE</th>\n",
       "      <th>original BERT_BASE</th>\n",
       "      <th>our ModernBERT_BASE</th>\n",
       "      <th>our BERT_LARGE</th>\n",
       "      <th>original BERT_LARGE</th>\n",
       "      <th>our ModernBERT_LARGE</th>\n",
       "    </tr>\n",
       "  </thead>\n",
       "  <tbody>\n",
       "    <tr>\n",
       "      <th>train_runtime_s</th>\n",
       "      <td>74.212100</td>\n",
       "      <td>-</td>\n",
       "      <td>97.746100</td>\n",
       "      <td>223.642200</td>\n",
       "      <td>-</td>\n",
       "      <td>186.358200</td>\n",
       "    </tr>\n",
       "    <tr>\n",
       "      <th>eval_loss</th>\n",
       "      <td>0.691362</td>\n",
       "      <td>-</td>\n",
       "      <td>0.786494</td>\n",
       "      <td>0.587753</td>\n",
       "      <td>-</td>\n",
       "      <td>0.762860</td>\n",
       "    </tr>\n",
       "    <tr>\n",
       "      <th>eval_matthews_correlation</th>\n",
       "      <td>0.585449</td>\n",
       "      <td>-</td>\n",
       "      <td>0.603317</td>\n",
       "      <td>0.620829</td>\n",
       "      <td>-</td>\n",
       "      <td>0.659413</td>\n",
       "    </tr>\n",
       "    <tr>\n",
       "      <th>test_matthews_correlation</th>\n",
       "      <td>0.548455</td>\n",
       "      <td>0.521</td>\n",
       "      <td>0.588607</td>\n",
       "      <td>0.584617</td>\n",
       "      <td>0.605</td>\n",
       "      <td>0.602329</td>\n",
       "    </tr>\n",
       "  </tbody>\n",
       "</table>\n",
       "</div>"
      ],
      "text/plain": [
       "                           our BERT_BASE original BERT_BASE  \\\n",
       "train_runtime_s                74.212100                  -   \n",
       "eval_loss                       0.691362                  -   \n",
       "eval_matthews_correlation       0.585449                  -   \n",
       "test_matthews_correlation       0.548455              0.521   \n",
       "\n",
       "                           our ModernBERT_BASE  our BERT_LARGE  \\\n",
       "train_runtime_s                      97.746100      223.642200   \n",
       "eval_loss                             0.786494        0.587753   \n",
       "eval_matthews_correlation             0.603317        0.620829   \n",
       "test_matthews_correlation             0.588607        0.584617   \n",
       "\n",
       "                          original BERT_LARGE  our ModernBERT_LARGE  \n",
       "train_runtime_s                             -            186.358200  \n",
       "eval_loss                                   -              0.762860  \n",
       "eval_matthews_correlation                   -              0.659413  \n",
       "test_matthews_correlation               0.605              0.602329  "
      ]
     },
     "execution_count": 91,
     "metadata": {},
     "output_type": "execute_result"
    }
   ],
   "source": [
    "results"
   ]
  },
  {
   "cell_type": "code",
   "execution_count": 92,
   "metadata": {
    "execution": {
     "iopub.execute_input": "2025-01-15T22:10:49.276595Z",
     "iopub.status.busy": "2025-01-15T22:10:49.276451Z",
     "iopub.status.idle": "2025-01-15T22:10:49.285586Z",
     "shell.execute_reply": "2025-01-15T22:10:49.285147Z"
    }
   },
   "outputs": [
    {
     "data": {
      "text/plain": [
       "np.float64(0.7592333607172052)"
      ]
     },
     "execution_count": 92,
     "metadata": {},
     "output_type": "execute_result"
    }
   ],
   "source": [
    "speedup = results[\"our BERT_BASE\"][\"train_runtime_s\"] / results[\"our ModernBERT_BASE\"][\"train_runtime_s\"] \n",
    "speedup"
   ]
  },
  {
   "cell_type": "markdown",
   "metadata": {},
   "source": [
    "For this GLUE task `ModernBERT-base` even exceeds the prediction performance of `BERT-large`. However - contrary to other GLUE tasks - its runtime performance is not better than `BERT-base` with a speedup smaller than: `0.76`"
   ]
  },
  {
   "cell_type": "markdown",
   "metadata": {},
   "source": []
  }
 ],
 "metadata": {
  "kernelspec": {
   "display_name": ".venv",
   "language": "python",
   "name": "python3"
  },
  "language_info": {
   "codemirror_mode": {
    "name": "ipython",
    "version": 3
   },
   "file_extension": ".py",
   "mimetype": "text/x-python",
   "name": "python",
   "nbconvert_exporter": "python",
   "pygments_lexer": "ipython3",
   "version": "3.11.11"
  },
  "widgets": {
   "application/vnd.jupyter.widget-state+json": {
    "state": {
     "04899d54657a4663a3e39580fa7731d9": {
      "model_module": "@jupyter-widgets/controls",
      "model_module_version": "2.0.0",
      "model_name": "HTMLStyleModel",
      "state": {
       "_model_module": "@jupyter-widgets/controls",
       "_model_module_version": "2.0.0",
       "_model_name": "HTMLStyleModel",
       "_view_count": null,
       "_view_module": "@jupyter-widgets/base",
       "_view_module_version": "2.0.0",
       "_view_name": "StyleView",
       "background": null,
       "description_width": "",
       "font_size": null,
       "text_color": null
      }
     },
     "04bbdc1584d749d0afb61735e2d98437": {
      "model_module": "@jupyter-widgets/base",
      "model_module_version": "2.0.0",
      "model_name": "LayoutModel",
      "state": {
       "_model_module": "@jupyter-widgets/base",
       "_model_module_version": "2.0.0",
       "_model_name": "LayoutModel",
       "_view_count": null,
       "_view_module": "@jupyter-widgets/base",
       "_view_module_version": "2.0.0",
       "_view_name": "LayoutView",
       "align_content": null,
       "align_items": null,
       "align_self": null,
       "border_bottom": null,
       "border_left": null,
       "border_right": null,
       "border_top": null,
       "bottom": null,
       "display": null,
       "flex": null,
       "flex_flow": null,
       "grid_area": null,
       "grid_auto_columns": null,
       "grid_auto_flow": null,
       "grid_auto_rows": null,
       "grid_column": null,
       "grid_gap": null,
       "grid_row": null,
       "grid_template_areas": null,
       "grid_template_columns": null,
       "grid_template_rows": null,
       "height": null,
       "justify_content": null,
       "justify_items": null,
       "left": null,
       "margin": null,
       "max_height": null,
       "max_width": null,
       "min_height": null,
       "min_width": null,
       "object_fit": null,
       "object_position": null,
       "order": null,
       "overflow": null,
       "padding": null,
       "right": null,
       "top": null,
       "visibility": null,
       "width": null
      }
     },
     "06c137e5fcd943c99d99506431a4836e": {
      "model_module": "@jupyter-widgets/base",
      "model_module_version": "2.0.0",
      "model_name": "LayoutModel",
      "state": {
       "_model_module": "@jupyter-widgets/base",
       "_model_module_version": "2.0.0",
       "_model_name": "LayoutModel",
       "_view_count": null,
       "_view_module": "@jupyter-widgets/base",
       "_view_module_version": "2.0.0",
       "_view_name": "LayoutView",
       "align_content": null,
       "align_items": null,
       "align_self": null,
       "border_bottom": null,
       "border_left": null,
       "border_right": null,
       "border_top": null,
       "bottom": null,
       "display": null,
       "flex": null,
       "flex_flow": null,
       "grid_area": null,
       "grid_auto_columns": null,
       "grid_auto_flow": null,
       "grid_auto_rows": null,
       "grid_column": null,
       "grid_gap": null,
       "grid_row": null,
       "grid_template_areas": null,
       "grid_template_columns": null,
       "grid_template_rows": null,
       "height": null,
       "justify_content": null,
       "justify_items": null,
       "left": null,
       "margin": null,
       "max_height": null,
       "max_width": null,
       "min_height": null,
       "min_width": null,
       "object_fit": null,
       "object_position": null,
       "order": null,
       "overflow": null,
       "padding": null,
       "right": null,
       "top": null,
       "visibility": null,
       "width": null
      }
     },
     "07b9da57cab64e29a35caebebd6c21c8": {
      "model_module": "@jupyter-widgets/base",
      "model_module_version": "2.0.0",
      "model_name": "LayoutModel",
      "state": {
       "_model_module": "@jupyter-widgets/base",
       "_model_module_version": "2.0.0",
       "_model_name": "LayoutModel",
       "_view_count": null,
       "_view_module": "@jupyter-widgets/base",
       "_view_module_version": "2.0.0",
       "_view_name": "LayoutView",
       "align_content": null,
       "align_items": null,
       "align_self": null,
       "border_bottom": null,
       "border_left": null,
       "border_right": null,
       "border_top": null,
       "bottom": null,
       "display": null,
       "flex": null,
       "flex_flow": null,
       "grid_area": null,
       "grid_auto_columns": null,
       "grid_auto_flow": null,
       "grid_auto_rows": null,
       "grid_column": null,
       "grid_gap": null,
       "grid_row": null,
       "grid_template_areas": null,
       "grid_template_columns": null,
       "grid_template_rows": null,
       "height": null,
       "justify_content": null,
       "justify_items": null,
       "left": null,
       "margin": null,
       "max_height": null,
       "max_width": null,
       "min_height": null,
       "min_width": null,
       "object_fit": null,
       "object_position": null,
       "order": null,
       "overflow": null,
       "padding": null,
       "right": null,
       "top": null,
       "visibility": null,
       "width": null
      }
     },
     "105bfee0ce4545aeb280aa541fe3ddbb": {
      "model_module": "@jupyter-widgets/base",
      "model_module_version": "2.0.0",
      "model_name": "LayoutModel",
      "state": {
       "_model_module": "@jupyter-widgets/base",
       "_model_module_version": "2.0.0",
       "_model_name": "LayoutModel",
       "_view_count": null,
       "_view_module": "@jupyter-widgets/base",
       "_view_module_version": "2.0.0",
       "_view_name": "LayoutView",
       "align_content": null,
       "align_items": null,
       "align_self": null,
       "border_bottom": null,
       "border_left": null,
       "border_right": null,
       "border_top": null,
       "bottom": null,
       "display": null,
       "flex": null,
       "flex_flow": null,
       "grid_area": null,
       "grid_auto_columns": null,
       "grid_auto_flow": null,
       "grid_auto_rows": null,
       "grid_column": null,
       "grid_gap": null,
       "grid_row": null,
       "grid_template_areas": null,
       "grid_template_columns": null,
       "grid_template_rows": null,
       "height": null,
       "justify_content": null,
       "justify_items": null,
       "left": null,
       "margin": null,
       "max_height": null,
       "max_width": null,
       "min_height": null,
       "min_width": null,
       "object_fit": null,
       "object_position": null,
       "order": null,
       "overflow": null,
       "padding": null,
       "right": null,
       "top": null,
       "visibility": null,
       "width": null
      }
     },
     "115536ec901645509569b3605fd05cdd": {
      "model_module": "@jupyter-widgets/base",
      "model_module_version": "2.0.0",
      "model_name": "LayoutModel",
      "state": {
       "_model_module": "@jupyter-widgets/base",
       "_model_module_version": "2.0.0",
       "_model_name": "LayoutModel",
       "_view_count": null,
       "_view_module": "@jupyter-widgets/base",
       "_view_module_version": "2.0.0",
       "_view_name": "LayoutView",
       "align_content": null,
       "align_items": null,
       "align_self": null,
       "border_bottom": null,
       "border_left": null,
       "border_right": null,
       "border_top": null,
       "bottom": null,
       "display": null,
       "flex": null,
       "flex_flow": null,
       "grid_area": null,
       "grid_auto_columns": null,
       "grid_auto_flow": null,
       "grid_auto_rows": null,
       "grid_column": null,
       "grid_gap": null,
       "grid_row": null,
       "grid_template_areas": null,
       "grid_template_columns": null,
       "grid_template_rows": null,
       "height": null,
       "justify_content": null,
       "justify_items": null,
       "left": null,
       "margin": null,
       "max_height": null,
       "max_width": null,
       "min_height": null,
       "min_width": null,
       "object_fit": null,
       "object_position": null,
       "order": null,
       "overflow": null,
       "padding": null,
       "right": null,
       "top": null,
       "visibility": null,
       "width": null
      }
     },
     "1f9b71dc84114598a78fa21901c9445e": {
      "model_module": "@jupyter-widgets/base",
      "model_module_version": "2.0.0",
      "model_name": "LayoutModel",
      "state": {
       "_model_module": "@jupyter-widgets/base",
       "_model_module_version": "2.0.0",
       "_model_name": "LayoutModel",
       "_view_count": null,
       "_view_module": "@jupyter-widgets/base",
       "_view_module_version": "2.0.0",
       "_view_name": "LayoutView",
       "align_content": null,
       "align_items": null,
       "align_self": null,
       "border_bottom": null,
       "border_left": null,
       "border_right": null,
       "border_top": null,
       "bottom": null,
       "display": null,
       "flex": null,
       "flex_flow": null,
       "grid_area": null,
       "grid_auto_columns": null,
       "grid_auto_flow": null,
       "grid_auto_rows": null,
       "grid_column": null,
       "grid_gap": null,
       "grid_row": null,
       "grid_template_areas": null,
       "grid_template_columns": null,
       "grid_template_rows": null,
       "height": null,
       "justify_content": null,
       "justify_items": null,
       "left": null,
       "margin": null,
       "max_height": null,
       "max_width": null,
       "min_height": null,
       "min_width": null,
       "object_fit": null,
       "object_position": null,
       "order": null,
       "overflow": null,
       "padding": null,
       "right": null,
       "top": null,
       "visibility": null,
       "width": null
      }
     },
     "27755dc0a2ef443cbd68f210471b5849": {
      "model_module": "@jupyter-widgets/controls",
      "model_module_version": "2.0.0",
      "model_name": "HTMLModel",
      "state": {
       "_dom_classes": [],
       "_model_module": "@jupyter-widgets/controls",
       "_model_module_version": "2.0.0",
       "_model_name": "HTMLModel",
       "_view_count": null,
       "_view_module": "@jupyter-widgets/controls",
       "_view_module_version": "2.0.0",
       "_view_name": "HTMLView",
       "description": "",
       "description_allow_html": false,
       "layout": "IPY_MODEL_c97c80927bcb45f5bc021e8b34b2897a",
       "placeholder": "​",
       "style": "IPY_MODEL_50bb0f2ae7de44b3a0ccf51612ac8c26",
       "tabbable": null,
       "tooltip": null,
       "value": " 856/856 [00:00&lt;00:00, 29621.67 examples/s]"
      }
     },
     "2853ac06b17b4f9592af8933d5dc435a": {
      "model_module": "@jupyter-widgets/base",
      "model_module_version": "2.0.0",
      "model_name": "LayoutModel",
      "state": {
       "_model_module": "@jupyter-widgets/base",
       "_model_module_version": "2.0.0",
       "_model_name": "LayoutModel",
       "_view_count": null,
       "_view_module": "@jupyter-widgets/base",
       "_view_module_version": "2.0.0",
       "_view_name": "LayoutView",
       "align_content": null,
       "align_items": null,
       "align_self": null,
       "border_bottom": null,
       "border_left": null,
       "border_right": null,
       "border_top": null,
       "bottom": null,
       "display": null,
       "flex": null,
       "flex_flow": null,
       "grid_area": null,
       "grid_auto_columns": null,
       "grid_auto_flow": null,
       "grid_auto_rows": null,
       "grid_column": null,
       "grid_gap": null,
       "grid_row": null,
       "grid_template_areas": null,
       "grid_template_columns": null,
       "grid_template_rows": null,
       "height": null,
       "justify_content": null,
       "justify_items": null,
       "left": null,
       "margin": null,
       "max_height": null,
       "max_width": null,
       "min_height": null,
       "min_width": null,
       "object_fit": null,
       "object_position": null,
       "order": null,
       "overflow": null,
       "padding": null,
       "right": null,
       "top": null,
       "visibility": null,
       "width": null
      }
     },
     "2bbca2238c394734b54f17d4b230fddd": {
      "model_module": "@jupyter-widgets/controls",
      "model_module_version": "2.0.0",
      "model_name": "HTMLStyleModel",
      "state": {
       "_model_module": "@jupyter-widgets/controls",
       "_model_module_version": "2.0.0",
       "_model_name": "HTMLStyleModel",
       "_view_count": null,
       "_view_module": "@jupyter-widgets/base",
       "_view_module_version": "2.0.0",
       "_view_name": "StyleView",
       "background": null,
       "description_width": "",
       "font_size": null,
       "text_color": null
      }
     },
     "3e366885f8d0459cbbb868afa82fe590": {
      "model_module": "@jupyter-widgets/controls",
      "model_module_version": "2.0.0",
      "model_name": "HTMLModel",
      "state": {
       "_dom_classes": [],
       "_model_module": "@jupyter-widgets/controls",
       "_model_module_version": "2.0.0",
       "_model_name": "HTMLModel",
       "_view_count": null,
       "_view_module": "@jupyter-widgets/controls",
       "_view_module_version": "2.0.0",
       "_view_name": "HTMLView",
       "description": "",
       "description_allow_html": false,
       "layout": "IPY_MODEL_ce37ee0fca064ff4b9e139bf2a2c77dd",
       "placeholder": "​",
       "style": "IPY_MODEL_75102d779f254ddc97974e27457ba632",
       "tabbable": null,
       "tooltip": null,
       "value": "Map: 100%"
      }
     },
     "50bb0f2ae7de44b3a0ccf51612ac8c26": {
      "model_module": "@jupyter-widgets/controls",
      "model_module_version": "2.0.0",
      "model_name": "HTMLStyleModel",
      "state": {
       "_model_module": "@jupyter-widgets/controls",
       "_model_module_version": "2.0.0",
       "_model_name": "HTMLStyleModel",
       "_view_count": null,
       "_view_module": "@jupyter-widgets/base",
       "_view_module_version": "2.0.0",
       "_view_name": "StyleView",
       "background": null,
       "description_width": "",
       "font_size": null,
       "text_color": null
      }
     },
     "58fa87a86e54472fb8c5cb7f45729b6a": {
      "model_module": "@jupyter-widgets/controls",
      "model_module_version": "2.0.0",
      "model_name": "HBoxModel",
      "state": {
       "_dom_classes": [],
       "_model_module": "@jupyter-widgets/controls",
       "_model_module_version": "2.0.0",
       "_model_name": "HBoxModel",
       "_view_count": null,
       "_view_module": "@jupyter-widgets/controls",
       "_view_module_version": "2.0.0",
       "_view_name": "HBoxView",
       "box_style": "",
       "children": [
        "IPY_MODEL_3e366885f8d0459cbbb868afa82fe590",
        "IPY_MODEL_5fe7b3452da94a8287ab1fc9b37be7cd",
        "IPY_MODEL_a7fb54f0ad084abfa382aa8c7120c173"
       ],
       "layout": "IPY_MODEL_04bbdc1584d749d0afb61735e2d98437",
       "tabbable": null,
       "tooltip": null
      }
     },
     "5fe7b3452da94a8287ab1fc9b37be7cd": {
      "model_module": "@jupyter-widgets/controls",
      "model_module_version": "2.0.0",
      "model_name": "FloatProgressModel",
      "state": {
       "_dom_classes": [],
       "_model_module": "@jupyter-widgets/controls",
       "_model_module_version": "2.0.0",
       "_model_name": "FloatProgressModel",
       "_view_count": null,
       "_view_module": "@jupyter-widgets/controls",
       "_view_module_version": "2.0.0",
       "_view_name": "ProgressView",
       "bar_style": "success",
       "description": "",
       "description_allow_html": false,
       "layout": "IPY_MODEL_fa1e105bf3d34d63a4d671534c7b9d25",
       "max": 856,
       "min": 0,
       "orientation": "horizontal",
       "style": "IPY_MODEL_a765ec1b54ed4a3c973c12ddd2b7bbc7",
       "tabbable": null,
       "tooltip": null,
       "value": 856
      }
     },
     "6203c2d9d0a24a5b85759b7aef030758": {
      "model_module": "@jupyter-widgets/controls",
      "model_module_version": "2.0.0",
      "model_name": "HTMLModel",
      "state": {
       "_dom_classes": [],
       "_model_module": "@jupyter-widgets/controls",
       "_model_module_version": "2.0.0",
       "_model_name": "HTMLModel",
       "_view_count": null,
       "_view_module": "@jupyter-widgets/controls",
       "_view_module_version": "2.0.0",
       "_view_name": "HTMLView",
       "description": "",
       "description_allow_html": false,
       "layout": "IPY_MODEL_e12f305511a14c8c8af6adeef340bcc0",
       "placeholder": "​",
       "style": "IPY_MODEL_04899d54657a4663a3e39580fa7731d9",
       "tabbable": null,
       "tooltip": null,
       "value": " 856/856 [00:00&lt;00:00, 25025.09 examples/s]"
      }
     },
     "75102d779f254ddc97974e27457ba632": {
      "model_module": "@jupyter-widgets/controls",
      "model_module_version": "2.0.0",
      "model_name": "HTMLStyleModel",
      "state": {
       "_model_module": "@jupyter-widgets/controls",
       "_model_module_version": "2.0.0",
       "_model_name": "HTMLStyleModel",
       "_view_count": null,
       "_view_module": "@jupyter-widgets/base",
       "_view_module_version": "2.0.0",
       "_view_name": "StyleView",
       "background": null,
       "description_width": "",
       "font_size": null,
       "text_color": null
      }
     },
     "7618cb41e7204c12af53cda9c3714988": {
      "model_module": "@jupyter-widgets/controls",
      "model_module_version": "2.0.0",
      "model_name": "HTMLModel",
      "state": {
       "_dom_classes": [],
       "_model_module": "@jupyter-widgets/controls",
       "_model_module_version": "2.0.0",
       "_model_name": "HTMLModel",
       "_view_count": null,
       "_view_module": "@jupyter-widgets/controls",
       "_view_module_version": "2.0.0",
       "_view_name": "HTMLView",
       "description": "",
       "description_allow_html": false,
       "layout": "IPY_MODEL_1f9b71dc84114598a78fa21901c9445e",
       "placeholder": "​",
       "style": "IPY_MODEL_af40599f15384e4fa6b6079f92691159",
       "tabbable": null,
       "tooltip": null,
       "value": "Map: 100%"
      }
     },
     "82ee479bbf5b42debac1e2b82514ae8e": {
      "model_module": "@jupyter-widgets/controls",
      "model_module_version": "2.0.0",
      "model_name": "HBoxModel",
      "state": {
       "_dom_classes": [],
       "_model_module": "@jupyter-widgets/controls",
       "_model_module_version": "2.0.0",
       "_model_name": "HBoxModel",
       "_view_count": null,
       "_view_module": "@jupyter-widgets/controls",
       "_view_module_version": "2.0.0",
       "_view_name": "HBoxView",
       "box_style": "",
       "children": [
        "IPY_MODEL_e7e6b52c49794759a2d8ee524a613b45",
        "IPY_MODEL_9274e4251c114da8bc31d75a3e2b8467",
        "IPY_MODEL_27755dc0a2ef443cbd68f210471b5849"
       ],
       "layout": "IPY_MODEL_07b9da57cab64e29a35caebebd6c21c8",
       "tabbable": null,
       "tooltip": null
      }
     },
     "87cdefcdfbd74fe38fb356cfd99a00dc": {
      "model_module": "@jupyter-widgets/controls",
      "model_module_version": "2.0.0",
      "model_name": "ProgressStyleModel",
      "state": {
       "_model_module": "@jupyter-widgets/controls",
       "_model_module_version": "2.0.0",
       "_model_name": "ProgressStyleModel",
       "_view_count": null,
       "_view_module": "@jupyter-widgets/base",
       "_view_module_version": "2.0.0",
       "_view_name": "StyleView",
       "bar_color": null,
       "description_width": ""
      }
     },
     "9274e4251c114da8bc31d75a3e2b8467": {
      "model_module": "@jupyter-widgets/controls",
      "model_module_version": "2.0.0",
      "model_name": "FloatProgressModel",
      "state": {
       "_dom_classes": [],
       "_model_module": "@jupyter-widgets/controls",
       "_model_module_version": "2.0.0",
       "_model_name": "FloatProgressModel",
       "_view_count": null,
       "_view_module": "@jupyter-widgets/controls",
       "_view_module_version": "2.0.0",
       "_view_name": "ProgressView",
       "bar_style": "success",
       "description": "",
       "description_allow_html": false,
       "layout": "IPY_MODEL_2853ac06b17b4f9592af8933d5dc435a",
       "max": 856,
       "min": 0,
       "orientation": "horizontal",
       "style": "IPY_MODEL_87cdefcdfbd74fe38fb356cfd99a00dc",
       "tabbable": null,
       "tooltip": null,
       "value": 856
      }
     },
     "a765ec1b54ed4a3c973c12ddd2b7bbc7": {
      "model_module": "@jupyter-widgets/controls",
      "model_module_version": "2.0.0",
      "model_name": "ProgressStyleModel",
      "state": {
       "_model_module": "@jupyter-widgets/controls",
       "_model_module_version": "2.0.0",
       "_model_name": "ProgressStyleModel",
       "_view_count": null,
       "_view_module": "@jupyter-widgets/base",
       "_view_module_version": "2.0.0",
       "_view_name": "StyleView",
       "bar_color": null,
       "description_width": ""
      }
     },
     "a7ae48deb98e4147a83497a126598e18": {
      "model_module": "@jupyter-widgets/controls",
      "model_module_version": "2.0.0",
      "model_name": "HTMLStyleModel",
      "state": {
       "_model_module": "@jupyter-widgets/controls",
       "_model_module_version": "2.0.0",
       "_model_name": "HTMLStyleModel",
       "_view_count": null,
       "_view_module": "@jupyter-widgets/base",
       "_view_module_version": "2.0.0",
       "_view_name": "StyleView",
       "background": null,
       "description_width": "",
       "font_size": null,
       "text_color": null
      }
     },
     "a7fb54f0ad084abfa382aa8c7120c173": {
      "model_module": "@jupyter-widgets/controls",
      "model_module_version": "2.0.0",
      "model_name": "HTMLModel",
      "state": {
       "_dom_classes": [],
       "_model_module": "@jupyter-widgets/controls",
       "_model_module_version": "2.0.0",
       "_model_name": "HTMLModel",
       "_view_count": null,
       "_view_module": "@jupyter-widgets/controls",
       "_view_module_version": "2.0.0",
       "_view_name": "HTMLView",
       "description": "",
       "description_allow_html": false,
       "layout": "IPY_MODEL_115536ec901645509569b3605fd05cdd",
       "placeholder": "​",
       "style": "IPY_MODEL_a7ae48deb98e4147a83497a126598e18",
       "tabbable": null,
       "tooltip": null,
       "value": " 856/856 [00:00&lt;00:00, 27510.17 examples/s]"
      }
     },
     "af40599f15384e4fa6b6079f92691159": {
      "model_module": "@jupyter-widgets/controls",
      "model_module_version": "2.0.0",
      "model_name": "HTMLStyleModel",
      "state": {
       "_model_module": "@jupyter-widgets/controls",
       "_model_module_version": "2.0.0",
       "_model_name": "HTMLStyleModel",
       "_view_count": null,
       "_view_module": "@jupyter-widgets/base",
       "_view_module_version": "2.0.0",
       "_view_name": "StyleView",
       "background": null,
       "description_width": "",
       "font_size": null,
       "text_color": null
      }
     },
     "c5ade6b395fa49c7bf354e6a24e01f98": {
      "model_module": "@jupyter-widgets/controls",
      "model_module_version": "2.0.0",
      "model_name": "HBoxModel",
      "state": {
       "_dom_classes": [],
       "_model_module": "@jupyter-widgets/controls",
       "_model_module_version": "2.0.0",
       "_model_name": "HBoxModel",
       "_view_count": null,
       "_view_module": "@jupyter-widgets/controls",
       "_view_module_version": "2.0.0",
       "_view_name": "HBoxView",
       "box_style": "",
       "children": [
        "IPY_MODEL_7618cb41e7204c12af53cda9c3714988",
        "IPY_MODEL_cb3a06a6fa104198a90a7dbfb609b765",
        "IPY_MODEL_6203c2d9d0a24a5b85759b7aef030758"
       ],
       "layout": "IPY_MODEL_06c137e5fcd943c99d99506431a4836e",
       "tabbable": null,
       "tooltip": null
      }
     },
     "c97c80927bcb45f5bc021e8b34b2897a": {
      "model_module": "@jupyter-widgets/base",
      "model_module_version": "2.0.0",
      "model_name": "LayoutModel",
      "state": {
       "_model_module": "@jupyter-widgets/base",
       "_model_module_version": "2.0.0",
       "_model_name": "LayoutModel",
       "_view_count": null,
       "_view_module": "@jupyter-widgets/base",
       "_view_module_version": "2.0.0",
       "_view_name": "LayoutView",
       "align_content": null,
       "align_items": null,
       "align_self": null,
       "border_bottom": null,
       "border_left": null,
       "border_right": null,
       "border_top": null,
       "bottom": null,
       "display": null,
       "flex": null,
       "flex_flow": null,
       "grid_area": null,
       "grid_auto_columns": null,
       "grid_auto_flow": null,
       "grid_auto_rows": null,
       "grid_column": null,
       "grid_gap": null,
       "grid_row": null,
       "grid_template_areas": null,
       "grid_template_columns": null,
       "grid_template_rows": null,
       "height": null,
       "justify_content": null,
       "justify_items": null,
       "left": null,
       "margin": null,
       "max_height": null,
       "max_width": null,
       "min_height": null,
       "min_width": null,
       "object_fit": null,
       "object_position": null,
       "order": null,
       "overflow": null,
       "padding": null,
       "right": null,
       "top": null,
       "visibility": null,
       "width": null
      }
     },
     "cb3a06a6fa104198a90a7dbfb609b765": {
      "model_module": "@jupyter-widgets/controls",
      "model_module_version": "2.0.0",
      "model_name": "FloatProgressModel",
      "state": {
       "_dom_classes": [],
       "_model_module": "@jupyter-widgets/controls",
       "_model_module_version": "2.0.0",
       "_model_name": "FloatProgressModel",
       "_view_count": null,
       "_view_module": "@jupyter-widgets/controls",
       "_view_module_version": "2.0.0",
       "_view_name": "ProgressView",
       "bar_style": "success",
       "description": "",
       "description_allow_html": false,
       "layout": "IPY_MODEL_e82f82628d644ce798370c23eb9ce327",
       "max": 856,
       "min": 0,
       "orientation": "horizontal",
       "style": "IPY_MODEL_f39261898b4942428b60d5deb05ecb6e",
       "tabbable": null,
       "tooltip": null,
       "value": 856
      }
     },
     "ce37ee0fca064ff4b9e139bf2a2c77dd": {
      "model_module": "@jupyter-widgets/base",
      "model_module_version": "2.0.0",
      "model_name": "LayoutModel",
      "state": {
       "_model_module": "@jupyter-widgets/base",
       "_model_module_version": "2.0.0",
       "_model_name": "LayoutModel",
       "_view_count": null,
       "_view_module": "@jupyter-widgets/base",
       "_view_module_version": "2.0.0",
       "_view_name": "LayoutView",
       "align_content": null,
       "align_items": null,
       "align_self": null,
       "border_bottom": null,
       "border_left": null,
       "border_right": null,
       "border_top": null,
       "bottom": null,
       "display": null,
       "flex": null,
       "flex_flow": null,
       "grid_area": null,
       "grid_auto_columns": null,
       "grid_auto_flow": null,
       "grid_auto_rows": null,
       "grid_column": null,
       "grid_gap": null,
       "grid_row": null,
       "grid_template_areas": null,
       "grid_template_columns": null,
       "grid_template_rows": null,
       "height": null,
       "justify_content": null,
       "justify_items": null,
       "left": null,
       "margin": null,
       "max_height": null,
       "max_width": null,
       "min_height": null,
       "min_width": null,
       "object_fit": null,
       "object_position": null,
       "order": null,
       "overflow": null,
       "padding": null,
       "right": null,
       "top": null,
       "visibility": null,
       "width": null
      }
     },
     "e12f305511a14c8c8af6adeef340bcc0": {
      "model_module": "@jupyter-widgets/base",
      "model_module_version": "2.0.0",
      "model_name": "LayoutModel",
      "state": {
       "_model_module": "@jupyter-widgets/base",
       "_model_module_version": "2.0.0",
       "_model_name": "LayoutModel",
       "_view_count": null,
       "_view_module": "@jupyter-widgets/base",
       "_view_module_version": "2.0.0",
       "_view_name": "LayoutView",
       "align_content": null,
       "align_items": null,
       "align_self": null,
       "border_bottom": null,
       "border_left": null,
       "border_right": null,
       "border_top": null,
       "bottom": null,
       "display": null,
       "flex": null,
       "flex_flow": null,
       "grid_area": null,
       "grid_auto_columns": null,
       "grid_auto_flow": null,
       "grid_auto_rows": null,
       "grid_column": null,
       "grid_gap": null,
       "grid_row": null,
       "grid_template_areas": null,
       "grid_template_columns": null,
       "grid_template_rows": null,
       "height": null,
       "justify_content": null,
       "justify_items": null,
       "left": null,
       "margin": null,
       "max_height": null,
       "max_width": null,
       "min_height": null,
       "min_width": null,
       "object_fit": null,
       "object_position": null,
       "order": null,
       "overflow": null,
       "padding": null,
       "right": null,
       "top": null,
       "visibility": null,
       "width": null
      }
     },
     "e7e6b52c49794759a2d8ee524a613b45": {
      "model_module": "@jupyter-widgets/controls",
      "model_module_version": "2.0.0",
      "model_name": "HTMLModel",
      "state": {
       "_dom_classes": [],
       "_model_module": "@jupyter-widgets/controls",
       "_model_module_version": "2.0.0",
       "_model_name": "HTMLModel",
       "_view_count": null,
       "_view_module": "@jupyter-widgets/controls",
       "_view_module_version": "2.0.0",
       "_view_name": "HTMLView",
       "description": "",
       "description_allow_html": false,
       "layout": "IPY_MODEL_105bfee0ce4545aeb280aa541fe3ddbb",
       "placeholder": "​",
       "style": "IPY_MODEL_2bbca2238c394734b54f17d4b230fddd",
       "tabbable": null,
       "tooltip": null,
       "value": "Map: 100%"
      }
     },
     "e82f82628d644ce798370c23eb9ce327": {
      "model_module": "@jupyter-widgets/base",
      "model_module_version": "2.0.0",
      "model_name": "LayoutModel",
      "state": {
       "_model_module": "@jupyter-widgets/base",
       "_model_module_version": "2.0.0",
       "_model_name": "LayoutModel",
       "_view_count": null,
       "_view_module": "@jupyter-widgets/base",
       "_view_module_version": "2.0.0",
       "_view_name": "LayoutView",
       "align_content": null,
       "align_items": null,
       "align_self": null,
       "border_bottom": null,
       "border_left": null,
       "border_right": null,
       "border_top": null,
       "bottom": null,
       "display": null,
       "flex": null,
       "flex_flow": null,
       "grid_area": null,
       "grid_auto_columns": null,
       "grid_auto_flow": null,
       "grid_auto_rows": null,
       "grid_column": null,
       "grid_gap": null,
       "grid_row": null,
       "grid_template_areas": null,
       "grid_template_columns": null,
       "grid_template_rows": null,
       "height": null,
       "justify_content": null,
       "justify_items": null,
       "left": null,
       "margin": null,
       "max_height": null,
       "max_width": null,
       "min_height": null,
       "min_width": null,
       "object_fit": null,
       "object_position": null,
       "order": null,
       "overflow": null,
       "padding": null,
       "right": null,
       "top": null,
       "visibility": null,
       "width": null
      }
     },
     "f39261898b4942428b60d5deb05ecb6e": {
      "model_module": "@jupyter-widgets/controls",
      "model_module_version": "2.0.0",
      "model_name": "ProgressStyleModel",
      "state": {
       "_model_module": "@jupyter-widgets/controls",
       "_model_module_version": "2.0.0",
       "_model_name": "ProgressStyleModel",
       "_view_count": null,
       "_view_module": "@jupyter-widgets/base",
       "_view_module_version": "2.0.0",
       "_view_name": "StyleView",
       "bar_color": null,
       "description_width": ""
      }
     },
     "fa1e105bf3d34d63a4d671534c7b9d25": {
      "model_module": "@jupyter-widgets/base",
      "model_module_version": "2.0.0",
      "model_name": "LayoutModel",
      "state": {
       "_model_module": "@jupyter-widgets/base",
       "_model_module_version": "2.0.0",
       "_model_name": "LayoutModel",
       "_view_count": null,
       "_view_module": "@jupyter-widgets/base",
       "_view_module_version": "2.0.0",
       "_view_name": "LayoutView",
       "align_content": null,
       "align_items": null,
       "align_self": null,
       "border_bottom": null,
       "border_left": null,
       "border_right": null,
       "border_top": null,
       "bottom": null,
       "display": null,
       "flex": null,
       "flex_flow": null,
       "grid_area": null,
       "grid_auto_columns": null,
       "grid_auto_flow": null,
       "grid_auto_rows": null,
       "grid_column": null,
       "grid_gap": null,
       "grid_row": null,
       "grid_template_areas": null,
       "grid_template_columns": null,
       "grid_template_rows": null,
       "height": null,
       "justify_content": null,
       "justify_items": null,
       "left": null,
       "margin": null,
       "max_height": null,
       "max_width": null,
       "min_height": null,
       "min_width": null,
       "object_fit": null,
       "object_position": null,
       "order": null,
       "overflow": null,
       "padding": null,
       "right": null,
       "top": null,
       "visibility": null,
       "width": null
      }
     }
    },
    "version_major": 2,
    "version_minor": 0
   }
  }
 },
 "nbformat": 4,
 "nbformat_minor": 4
}
